{
  "nbformat": 4,
  "nbformat_minor": 0,
  "metadata": {
    "colab": {
      "provenance": [],
      "authorship_tag": "ABX9TyMM3SUo1MjGXqs4UYNO4X41",
      "include_colab_link": true
    },
    "kernelspec": {
      "name": "python3",
      "display_name": "Python 3"
    },
    "language_info": {
      "name": "python"
    }
  },
  "cells": [
    {
      "cell_type": "markdown",
      "metadata": {
        "id": "view-in-github",
        "colab_type": "text"
      },
      "source": [
        "<a href=\"https://colab.research.google.com/github/deveshhh3/bengaluru-house-price-prediction/blob/master/Python_Class.ipynb\" target=\"_parent\"><img src=\"https://colab.research.google.com/assets/colab-badge.svg\" alt=\"Open In Colab\"/></a>"
      ]
    },
    {
      "cell_type": "code",
      "execution_count": null,
      "metadata": {
        "id": "OC2SXkyjueDe"
      },
      "outputs": [],
      "source": [
        "my_var = \"Hello World!\""
      ]
    },
    {
      "cell_type": "code",
      "source": [
        "my_new_variable = \"Welcome to AMPBA\""
      ],
      "metadata": {
        "id": "3HqJ43uxvgcS"
      },
      "execution_count": 2,
      "outputs": []
    },
    {
      "cell_type": "code",
      "source": [],
      "metadata": {
        "id": "vd89DaqmxBnG"
      },
      "execution_count": null,
      "outputs": []
    }
  ]
}