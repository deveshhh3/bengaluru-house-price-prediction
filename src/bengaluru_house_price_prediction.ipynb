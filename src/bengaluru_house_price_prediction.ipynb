{
 "cells": [
  {
   "cell_type": "markdown",
   "metadata": {},
   "source": [
    "<b> Data: </b>\n",
    "\n",
    "The train and test data will consist of various features that describe that property in Bengaluru. This is an actual data set that is curated over months of primary & secondary research by our team. Each row contains fixed size object of features. There are 9 features and each feature can be accessed by its name.\n",
    "\n",
    "<b>Features:</b>\n",
    "\n",
    "- Area_type – describes the area\n",
    "- Availability – when it can be possessed or when it is ready(categorical and time-series)\n",
    "- Location – where it is located in Bengaluru\n",
    "- Price – Value of the property in lakhs(INR)\n",
    "- Size – in BHK or Bedroom (1-10 or more)\n",
    "- Society – to which society it belongs\n",
    "- Total_sqft – size of the property in sq.ft\n",
    "- Bath – No. of bathrooms\n",
    "- Balcony – No. of the balcony\n",
    "\n",
    "<b>Problem Statement:</b>\n",
    "\n",
    "With the given 9 features(categorical and continuous) build a model to predict the price of houses in Bengaluru."
   ]
  },
  {
   "cell_type": "markdown",
   "metadata": {},
   "source": [
    "# Imports"
   ]
  },
  {
   "cell_type": "code",
   "execution_count": null,
   "metadata": {
    "ExecuteTime": {
     "end_time": "2019-10-30T01:55:06.883901Z",
     "start_time": "2019-10-30T01:55:06.488149Z"
    }
   },
   "outputs": [],
   "source": [
    "import numpy as np\n",
    "import pandas as pd\n",
    "import string\n",
    "import matplotlib.pyplot as plt\n",
    "import seaborn as sns\n",
    "import math\n",
    "\n",
    "from IPython.core.interactiveshell import InteractiveShell\n",
    "InteractiveShell.ast_node_interactivity = \"all\"\n",
    "\n",
    "import warnings\n",
    "warnings.filterwarnings('ignore')"
   ]
  },
  {
   "cell_type": "markdown",
   "metadata": {},
   "source": [
    "# Data Loads"
   ]
  },
  {
   "cell_type": "code",
   "execution_count": null,
   "metadata": {
    "ExecuteTime": {
     "end_time": "2019-10-30T01:55:06.935870Z",
     "start_time": "2019-10-30T01:55:06.887899Z"
    }
   },
   "outputs": [],
   "source": [
    "train_data=pd.read_csv(r\"..\\data\\raw\\train_data.csv\")\n",
    "test_data=pd.read_csv(r\"..\\data\\raw\\test_data.csv\")"
   ]
  },
  {
   "cell_type": "code",
   "execution_count": null,
   "metadata": {
    "ExecuteTime": {
     "end_time": "2019-10-30T01:55:07.059793Z",
     "start_time": "2019-10-30T01:55:06.937868Z"
    },
    "scrolled": true
   },
   "outputs": [],
   "source": [
    "train_data.head()"
   ]
  },
  {
   "cell_type": "code",
   "execution_count": null,
   "metadata": {
    "ExecuteTime": {
     "end_time": "2019-10-30T01:55:07.163729Z",
     "start_time": "2019-10-30T01:55:07.062791Z"
    }
   },
   "outputs": [],
   "source": [
    "train_data.shape\n",
    "test_data.shape"
   ]
  },
  {
   "cell_type": "markdown",
   "metadata": {},
   "source": [
    "To apply the same set of data cleaning operations on Train and Test dataset, adding a column 'data_category' in both datasets with values 'train' and 'test' respectively. Later, we can separate the dataset based on these values easily. Please note that any data which needs to be removed (such as outlier) will only be removed from training set."
   ]
  },
  {
   "cell_type": "code",
   "execution_count": null,
   "metadata": {
    "ExecuteTime": {
     "end_time": "2019-10-30T01:55:07.245677Z",
     "start_time": "2019-10-30T01:55:07.166727Z"
    }
   },
   "outputs": [],
   "source": [
    "train_data['data_category'] = 'train'\n",
    "test_data['data_category'] = 'test'"
   ]
  },
  {
   "cell_type": "markdown",
   "metadata": {},
   "source": [
    "## Adding Train and Test Data"
   ]
  },
  {
   "cell_type": "code",
   "execution_count": null,
   "metadata": {
    "ExecuteTime": {
     "end_time": "2019-10-30T01:55:07.350614Z",
     "start_time": "2019-10-30T01:55:07.248676Z"
    }
   },
   "outputs": [],
   "source": [
    "df = pd.concat([train_data,test_data], ignore_index=True)\n",
    "df.drop(['s_no'], axis=1, inplace=True)"
   ]
  },
  {
   "cell_type": "code",
   "execution_count": null,
   "metadata": {
    "ExecuteTime": {
     "end_time": "2019-10-30T01:55:07.449555Z",
     "start_time": "2019-10-30T01:55:07.353612Z"
    }
   },
   "outputs": [],
   "source": [
    "df.shape\n",
    "df.tail()"
   ]
  },
  {
   "cell_type": "markdown",
   "metadata": {},
   "source": [
    "# EDA"
   ]
  },
  {
   "cell_type": "code",
   "execution_count": null,
   "metadata": {
    "ExecuteTime": {
     "end_time": "2019-10-30T01:55:07.536500Z",
     "start_time": "2019-10-30T01:55:07.452551Z"
    }
   },
   "outputs": [],
   "source": [
    "df.shape"
   ]
  },
  {
   "cell_type": "markdown",
   "metadata": {},
   "source": [
    "## Checking Null Values"
   ]
  },
  {
   "cell_type": "code",
   "execution_count": null,
   "metadata": {
    "ExecuteTime": {
     "end_time": "2019-10-30T01:55:07.636437Z",
     "start_time": "2019-10-30T01:55:07.539501Z"
    }
   },
   "outputs": [],
   "source": [
    "df.isnull().sum()"
   ]
  },
  {
   "cell_type": "code",
   "execution_count": null,
   "metadata": {
    "ExecuteTime": {
     "end_time": "2019-10-30T01:55:07.722386Z",
     "start_time": "2019-10-30T01:55:07.639443Z"
    }
   },
   "outputs": [],
   "source": [
    "df.dtypes"
   ]
  },
  {
   "cell_type": "markdown",
   "metadata": {},
   "source": [
    "We can see that the two main columns 'size' and 'total_sqft' are objects instead of numeric. Hence, we cannot go further with EDA till we clean these columns. "
   ]
  },
  {
   "cell_type": "markdown",
   "metadata": {},
   "source": [
    "## Checking unique and number of unique values present in each categorical variable"
   ]
  },
  {
   "cell_type": "code",
   "execution_count": null,
   "metadata": {
    "ExecuteTime": {
     "end_time": "2019-10-30T01:55:07.839313Z",
     "start_time": "2019-10-30T01:55:07.726383Z"
    }
   },
   "outputs": [],
   "source": [
    "for i in df.columns:\n",
    "    if df[i].dtype == 'O':\n",
    "        print('\\nNumber of unique values in {} category: '.format(i), df[i].nunique())\n",
    "        print('Unique data in {} category:\\n'.format(i), df[i].unique())"
   ]
  },
  {
   "cell_type": "markdown",
   "metadata": {},
   "source": [
    "# Data Cleaning and Feature Engineering"
   ]
  },
  {
   "cell_type": "markdown",
   "metadata": {},
   "source": [
    "## Size - Number of Bedrooms"
   ]
  },
  {
   "cell_type": "code",
   "execution_count": null,
   "metadata": {
    "ExecuteTime": {
     "end_time": "2019-10-30T01:55:07.910271Z",
     "start_time": "2019-10-30T01:55:07.842311Z"
    },
    "scrolled": true
   },
   "outputs": [],
   "source": [
    "df['size'].value_counts()"
   ]
  },
  {
   "cell_type": "markdown",
   "metadata": {},
   "source": [
    "Since, number of bedrooms should be a continuos variable, we'll only extract the numeric value from this series of string values."
   ]
  },
  {
   "cell_type": "code",
   "execution_count": null,
   "metadata": {
    "ExecuteTime": {
     "end_time": "2019-10-30T01:55:08.007210Z",
     "start_time": "2019-10-30T01:55:07.913267Z"
    }
   },
   "outputs": [],
   "source": [
    "df['size'] = df['size'].apply(lambda x: x.split(' ')[0] if isinstance(x,str) else np.nan)"
   ]
  },
  {
   "cell_type": "code",
   "execution_count": null,
   "metadata": {
    "ExecuteTime": {
     "end_time": "2019-10-30T01:55:08.098153Z",
     "start_time": "2019-10-30T01:55:08.010209Z"
    }
   },
   "outputs": [],
   "source": [
    "df['size'] = df['size'].astype(float)"
   ]
  },
  {
   "cell_type": "code",
   "execution_count": null,
   "metadata": {
    "ExecuteTime": {
     "end_time": "2019-10-30T01:55:08.188097Z",
     "start_time": "2019-10-30T01:55:08.101154Z"
    }
   },
   "outputs": [],
   "source": [
    "df['size'].isnull().sum()"
   ]
  },
  {
   "cell_type": "code",
   "execution_count": null,
   "metadata": {
    "ExecuteTime": {
     "end_time": "2019-10-30T01:55:08.271048Z",
     "start_time": "2019-10-30T01:55:08.191096Z"
    }
   },
   "outputs": [],
   "source": [
    "df.dtypes"
   ]
  },
  {
   "cell_type": "markdown",
   "metadata": {},
   "source": [
    "## Location"
   ]
  },
  {
   "cell_type": "code",
   "execution_count": null,
   "metadata": {
    "ExecuteTime": {
     "end_time": "2019-10-30T01:55:08.351996Z",
     "start_time": "2019-10-30T01:55:08.273045Z"
    }
   },
   "outputs": [],
   "source": [
    "df['location'].value_counts()"
   ]
  },
  {
   "cell_type": "markdown",
   "metadata": {},
   "source": [
    "We can see that, there are 1358 unique locations in this dataset. Looking closely at the dataset, most of these locations are still repeated but with a slight change in name. Further, these locations may belong to the same area. Hence to clean this column, we are going to build a Web Scraper to find the common pincodes for each of these locations."
   ]
  },
  {
   "cell_type": "code",
   "execution_count": null,
   "metadata": {
    "ExecuteTime": {
     "end_time": "2019-10-30T01:55:08.427950Z",
     "start_time": "2019-10-30T01:55:08.353996Z"
    }
   },
   "outputs": [],
   "source": [
    "uniq_locn=pd.DataFrame(df['location'].unique(), columns=['location'])"
   ]
  },
  {
   "cell_type": "markdown",
   "metadata": {},
   "source": [
    "### Searching Location Pincode through Selenium Webdriver"
   ]
  },
  {
   "cell_type": "code",
   "execution_count": null,
   "metadata": {
    "ExecuteTime": {
     "end_time": "2019-10-30T01:55:08.513896Z",
     "start_time": "2019-10-30T01:55:08.429948Z"
    }
   },
   "outputs": [],
   "source": [
    "uniq_locn['browser_link'] = uniq_locn['location'].apply(lambda x: str(x) + \" Bangalore site:codepin.in\")"
   ]
  },
  {
   "cell_type": "raw",
   "metadata": {},
   "source": [
    "import os\n",
    "from selenium import webdriver\n",
    "from selenium.webdriver.common.keys import Keys\n",
    "from selenium.webdriver.common.by import By\n",
    "from selenium.common.exceptions import NoSuchElementException, WebDriverException\n",
    "import requests"
   ]
  },
  {
   "cell_type": "raw",
   "metadata": {},
   "source": [
    "# get the path of ChromeDriverServer\n",
    "dir = os.path.dirname(r\"C:\\Users\\Devesh Singh\\Python Scripts\\Machine Hack\\chromedriver.exe\")\n",
    "chrome_driver_path = dir + \"\\chromedriver.exe\""
   ]
  },
  {
   "cell_type": "raw",
   "metadata": {},
   "source": [
    "uniq_test = uniq_locn.copy(deep=True)\n",
    "\n",
    "final_list=pd.DataFrame({'Place':[],\n",
    "                         'Pin Code':[],\n",
    "                         'Taluk':[],\n",
    "                         'Division':[],\n",
    "                         'District':[],\n",
    "                         'State':[],\n",
    "                        'Uniq':[]})"
   ]
  },
  {
   "cell_type": "raw",
   "metadata": {},
   "source": [
    "count=0\n",
    "m=0\n",
    "# create a new Chrome session\n",
    "driver = webdriver.Chrome(chrome_driver_path)\n",
    "driver.implicitly_wait(5)\n",
    "driver.maximize_window()\n",
    "\n",
    "for i in range(len(uniq_test)):\n",
    "    \n",
    "    # Navigate to the application home page\n",
    "    driver.get(\"http://www.bing.com/\")\n",
    "    \n",
    "    # get the search textbox\n",
    "    #search_field = driver.find_element_by_name(\"q\")    #worked, for Google.com only\n",
    "    search_field = driver.find_element_by_id(\"sb_form_q\")    #worked, for Bing Search\n",
    "    \n",
    "    # enter search keyword and submit\n",
    "    search_field.send_keys(uniq_test.iloc[i,0])\n",
    "    search_field.submit()\n",
    "    \n",
    "    try:\n",
    "        #clicking the first link\n",
    "        #driver.find_element(By.XPATH, '(//h3)[1]/a').click()    #worked, for Google.com only\n",
    "        driver.find_element_by_partial_link_text(\"PIN CODE\").click()   #worked, for Bing Search\n",
    "\n",
    "        #waiting for link to open fully\n",
    "        driver.implicitly_wait(5)\n",
    "\n",
    "        #copying the url of the browser\n",
    "        url = driver.current_url\n",
    "\n",
    "        html = requests.get(url).content\n",
    "        df_list = pd.read_html(html)\n",
    "\n",
    "\n",
    "        df = df_list[-1]\n",
    "        df2=pd.DataFrame(df.iloc[1,:])\n",
    "        df3=pd.DataFrame.transpose(df2).reset_index(drop=True)\n",
    "        value=pd.DataFrame({'Place':[df3.iloc[0,0]],\n",
    "                            'Pin Code':[df3.iloc[0,1]],\n",
    "                            'Taluk':[df3.iloc[0,2]],\n",
    "                            'Division':[df3.iloc[0,3]],\n",
    "                            'District':[df3.iloc[0,4]],\n",
    "                            'State':[df3.iloc[0,5]],\n",
    "                            'Uniq':[uniq_test.iloc[i,0]]})\n",
    "\n",
    "        final_list=final_list.append(value, ignore_index=True)\n",
    "        m+=1\n",
    "        print(m,\"  \",uniq_test.iloc[i,0])\n",
    "    \n",
    "    except (NoSuchElementException, WebDriverException) as e:\n",
    "        count += 1\n",
    "        pass\n",
    "    driver.delete_all_cookies()\n",
    "    \n",
    "driver.close()"
   ]
  },
  {
   "cell_type": "markdown",
   "metadata": {},
   "source": [
    "### Pincode File"
   ]
  },
  {
   "cell_type": "code",
   "execution_count": null,
   "metadata": {
    "ExecuteTime": {
     "end_time": "2019-10-30T01:55:08.985612Z",
     "start_time": "2019-10-30T01:55:08.861687Z"
    }
   },
   "outputs": [],
   "source": [
    "# Downloaded list of pincodes\n",
    "location_df = pd.read_excel(r'..\\data\\processed\\location_pincodes.xlsx')"
   ]
  },
  {
   "cell_type": "code",
   "execution_count": null,
   "metadata": {
    "ExecuteTime": {
     "end_time": "2019-10-30T01:55:09.016586Z",
     "start_time": "2019-10-30T01:55:08.988605Z"
    }
   },
   "outputs": [],
   "source": [
    "uniq_locn['pincode'] = uniq_locn['browser_link'].map(dict(zip(location_df['browser_link'],location_df['pincode'])))"
   ]
  },
  {
   "cell_type": "code",
   "execution_count": null,
   "metadata": {
    "ExecuteTime": {
     "end_time": "2019-10-30T01:55:09.128520Z",
     "start_time": "2019-10-30T01:55:09.019585Z"
    },
    "scrolled": true
   },
   "outputs": [],
   "source": [
    "uniq_locn"
   ]
  },
  {
   "cell_type": "markdown",
   "metadata": {},
   "source": [
    "Mapping this list with original dataframe."
   ]
  },
  {
   "cell_type": "code",
   "execution_count": null,
   "metadata": {
    "ExecuteTime": {
     "end_time": "2019-10-30T01:55:09.224460Z",
     "start_time": "2019-10-30T01:55:09.131517Z"
    }
   },
   "outputs": [],
   "source": [
    "df['location'] = df['location'].map(dict(zip(uniq_locn['location'],uniq_locn['pincode'])))"
   ]
  },
  {
   "cell_type": "code",
   "execution_count": null,
   "metadata": {
    "ExecuteTime": {
     "end_time": "2019-10-30T01:55:09.325398Z",
     "start_time": "2019-10-30T01:55:09.226458Z"
    }
   },
   "outputs": [],
   "source": [
    "df.head()"
   ]
  },
  {
   "cell_type": "code",
   "execution_count": null,
   "metadata": {
    "ExecuteTime": {
     "end_time": "2019-10-30T01:55:09.407350Z",
     "start_time": "2019-10-30T01:55:09.329396Z"
    },
    "scrolled": true
   },
   "outputs": [],
   "source": [
    "df['location'].value_counts()"
   ]
  },
  {
   "cell_type": "code",
   "execution_count": null,
   "metadata": {
    "ExecuteTime": {
     "end_time": "2019-10-30T01:55:09.480303Z",
     "start_time": "2019-10-30T01:55:09.410346Z"
    }
   },
   "outputs": [],
   "source": [
    "df['location'].isnull().sum()"
   ]
  },
  {
   "cell_type": "markdown",
   "metadata": {},
   "source": [
    "By grouping locations through pincodes we have reduced 1358 locations to 128 locations."
   ]
  },
  {
   "cell_type": "markdown",
   "metadata": {},
   "source": [
    "## Total Square Feet"
   ]
  },
  {
   "cell_type": "code",
   "execution_count": null,
   "metadata": {
    "ExecuteTime": {
     "end_time": "2019-10-30T01:55:09.578243Z",
     "start_time": "2019-10-30T01:55:09.483301Z"
    },
    "scrolled": true
   },
   "outputs": [],
   "source": [
    "df['total_sqft'].value_counts()"
   ]
  },
  {
   "cell_type": "markdown",
   "metadata": {},
   "source": [
    "Since, there are multiple string values in this column, we are going to extract these string values and clean them. Since, this process is going to be of multiple step, we'll take only 'total_sqft' column into another dataframe."
   ]
  },
  {
   "cell_type": "code",
   "execution_count": null,
   "metadata": {
    "ExecuteTime": {
     "end_time": "2019-10-30T01:55:09.654197Z",
     "start_time": "2019-10-30T01:55:09.581241Z"
    },
    "scrolled": true
   },
   "outputs": [],
   "source": [
    "square_feet = df[['total_sqft']]"
   ]
  },
  {
   "cell_type": "markdown",
   "metadata": {},
   "source": [
    "### Extracting Only Float Val or Only String Val"
   ]
  },
  {
   "cell_type": "markdown",
   "metadata": {},
   "source": [
    "Function to extract only float value, other values will be replaced as NaNs."
   ]
  },
  {
   "cell_type": "code",
   "execution_count": null,
   "metadata": {
    "ExecuteTime": {
     "end_time": "2019-10-30T01:55:09.743139Z",
     "start_time": "2019-10-30T01:55:09.657198Z"
    }
   },
   "outputs": [],
   "source": [
    "def float_val(x):\n",
    "    try:\n",
    "        x = float(x)\n",
    "    except:\n",
    "        x = np.nan\n",
    "    return x"
   ]
  },
  {
   "cell_type": "markdown",
   "metadata": {},
   "source": [
    "Function to extract only string value, other values will be replaced as NaNs."
   ]
  },
  {
   "cell_type": "code",
   "execution_count": null,
   "metadata": {
    "ExecuteTime": {
     "end_time": "2019-10-30T01:55:09.834086Z",
     "start_time": "2019-10-30T01:55:09.748138Z"
    }
   },
   "outputs": [],
   "source": [
    "def string_val(x):\n",
    "    try:\n",
    "        x = float(x)\n",
    "        if isinstance(x,float):\n",
    "            x = np.nan\n",
    "    except:\n",
    "        pass    \n",
    "    return x"
   ]
  },
  {
   "cell_type": "code",
   "execution_count": null,
   "metadata": {
    "ExecuteTime": {
     "end_time": "2019-10-30T01:55:09.945016Z",
     "start_time": "2019-10-30T01:55:09.837084Z"
    }
   },
   "outputs": [],
   "source": [
    "square_feet['float_val'] = square_feet['total_sqft'].apply(float_val)"
   ]
  },
  {
   "cell_type": "code",
   "execution_count": null,
   "metadata": {
    "ExecuteTime": {
     "end_time": "2019-10-30T01:55:10.040957Z",
     "start_time": "2019-10-30T01:55:09.948020Z"
    }
   },
   "outputs": [],
   "source": [
    "square_feet['string_val'] = square_feet['total_sqft'].apply(string_val)"
   ]
  },
  {
   "cell_type": "code",
   "execution_count": null,
   "metadata": {
    "ExecuteTime": {
     "end_time": "2019-10-30T01:55:10.131903Z",
     "start_time": "2019-10-30T01:55:10.042955Z"
    },
    "scrolled": true
   },
   "outputs": [],
   "source": [
    "square_feet[square_feet['string_val'].notnull()].head(10)"
   ]
  },
  {
   "cell_type": "markdown",
   "metadata": {},
   "source": [
    "### Processing String Vals"
   ]
  },
  {
   "cell_type": "markdown",
   "metadata": {},
   "source": [
    "The errorneous string values present in the 'total_sqft' column are of two types:\n",
    "- Range, e.g. 2100 - 2850, to clean this types of error, we are going to take the average of these ranges\n",
    "- Values in other unit, e.g. 34.46Sq. Meter, to clean this, we are going to extract the float and string values, convert this values in square feet."
   ]
  },
  {
   "cell_type": "code",
   "execution_count": null,
   "metadata": {
    "ExecuteTime": {
     "end_time": "2019-10-30T01:55:10.206855Z",
     "start_time": "2019-10-30T01:55:10.134900Z"
    }
   },
   "outputs": [],
   "source": [
    "square_feet_string = square_feet[['total_sqft','string_val']][square_feet['string_val'].notnull()]"
   ]
  },
  {
   "cell_type": "code",
   "execution_count": null,
   "metadata": {
    "ExecuteTime": {
     "end_time": "2019-10-30T01:55:10.296800Z",
     "start_time": "2019-10-30T01:55:10.209859Z"
    }
   },
   "outputs": [],
   "source": [
    "square_feet_string['v_1'] = square_feet_string['string_val'].apply(lambda x: x.split(\"-\")[0])\n",
    "square_feet_string['v_2'] = square_feet_string['string_val'].apply(lambda x: x.split(\"-\")[-1])"
   ]
  },
  {
   "cell_type": "code",
   "execution_count": null,
   "metadata": {
    "ExecuteTime": {
     "end_time": "2019-10-30T01:55:10.376750Z",
     "start_time": "2019-10-30T01:55:10.299798Z"
    },
    "scrolled": true
   },
   "outputs": [],
   "source": [
    "def average_val(v_1, v_2):\n",
    "    try:\n",
    "        v_1 = float(v_1)\n",
    "        v_2 = float(v_2)\n",
    "        avg = (v_1 + v_2)/2\n",
    "    except:\n",
    "        avg = v_1\n",
    "    return avg"
   ]
  },
  {
   "cell_type": "code",
   "execution_count": null,
   "metadata": {
    "ExecuteTime": {
     "end_time": "2019-10-30T01:55:10.483686Z",
     "start_time": "2019-10-30T01:55:10.379747Z"
    }
   },
   "outputs": [],
   "source": [
    "square_feet_string['avg_val'] = square_feet_string.apply(lambda x: average_val(x.v_1,x.v_2),axis=1 )"
   ]
  },
  {
   "cell_type": "code",
   "execution_count": null,
   "metadata": {
    "ExecuteTime": {
     "end_time": "2019-10-30T01:55:10.544648Z",
     "start_time": "2019-10-30T01:55:10.485682Z"
    }
   },
   "outputs": [],
   "source": [
    "square_feet_string['conversion'] = square_feet_string['avg_val'].apply(string_val)"
   ]
  },
  {
   "cell_type": "code",
   "execution_count": null,
   "metadata": {
    "ExecuteTime": {
     "end_time": "2019-10-30T01:55:10.642585Z",
     "start_time": "2019-10-30T01:55:10.547644Z"
    },
    "scrolled": true
   },
   "outputs": [],
   "source": [
    "square_feet_string.head(10)"
   ]
  },
  {
   "cell_type": "markdown",
   "metadata": {},
   "source": [
    "### Extracting Conversion Units with 'Re'"
   ]
  },
  {
   "cell_type": "code",
   "execution_count": null,
   "metadata": {
    "ExecuteTime": {
     "end_time": "2019-10-30T01:55:10.721537Z",
     "start_time": "2019-10-30T01:55:10.645585Z"
    }
   },
   "outputs": [],
   "source": [
    "import re\n",
    "square_feet_string['con_val'] = square_feet_string['conversion'].apply(lambda x: \"\".join(re.findall(r\"[a-zA-Z_]\",str(x))))\n",
    "square_feet_string['num_val'] = square_feet_string['conversion'].apply(lambda x: \".\".join(re.findall(\"\\d+\",str(x))))"
   ]
  },
  {
   "cell_type": "code",
   "execution_count": null,
   "metadata": {
    "ExecuteTime": {
     "end_time": "2019-10-30T01:55:10.813479Z",
     "start_time": "2019-10-30T01:55:10.724535Z"
    }
   },
   "outputs": [],
   "source": [
    "square_feet_string['num_val'] = square_feet_string['num_val'].replace('',np.nan).fillna(0).astype(float)"
   ]
  },
  {
   "cell_type": "code",
   "execution_count": null,
   "metadata": {
    "ExecuteTime": {
     "end_time": "2019-10-30T01:55:10.895429Z",
     "start_time": "2019-10-30T01:55:10.816479Z"
    }
   },
   "outputs": [],
   "source": [
    "square_feet_string['num_val'] = np.where(square_feet_string['num_val'] == 0,\n",
    "                                         square_feet_string['avg_val'],\n",
    "                                         square_feet_string['num_val'])"
   ]
  },
  {
   "cell_type": "code",
   "execution_count": null,
   "metadata": {
    "ExecuteTime": {
     "end_time": "2019-10-30T01:55:10.981376Z",
     "start_time": "2019-10-30T01:55:10.899428Z"
    },
    "scrolled": true
   },
   "outputs": [],
   "source": [
    "square_feet_string.head(10)"
   ]
  },
  {
   "cell_type": "markdown",
   "metadata": {},
   "source": [
    "### Loading Conversion Factor"
   ]
  },
  {
   "cell_type": "code",
   "execution_count": null,
   "metadata": {
    "ExecuteTime": {
     "end_time": "2019-10-30T01:55:11.066325Z",
     "start_time": "2019-10-30T01:55:10.983375Z"
    }
   },
   "outputs": [],
   "source": [
    "# The list of conversion factor\n",
    "conversion_factor = pd.read_csv(r\"..\\data\\processed\\conversion_factor.csv\")"
   ]
  },
  {
   "cell_type": "code",
   "execution_count": null,
   "metadata": {
    "ExecuteTime": {
     "end_time": "2019-10-30T01:55:11.143277Z",
     "start_time": "2019-10-30T01:55:11.068323Z"
    }
   },
   "outputs": [],
   "source": [
    "conversion_factor"
   ]
  },
  {
   "cell_type": "markdown",
   "metadata": {},
   "source": [
    "Mapping the conversion factor and filling remaining values with 1."
   ]
  },
  {
   "cell_type": "code",
   "execution_count": null,
   "metadata": {
    "ExecuteTime": {
     "end_time": "2019-10-30T01:55:11.231223Z",
     "start_time": "2019-10-30T01:55:11.146276Z"
    }
   },
   "outputs": [],
   "source": [
    "square_feet_string['conversion_factor'] = square_feet_string['con_val'].map(\n",
    "    dict(zip(conversion_factor['unit'],\n",
    "             conversion_factor['conversion_factor']))).fillna(1)"
   ]
  },
  {
   "cell_type": "code",
   "execution_count": null,
   "metadata": {
    "ExecuteTime": {
     "end_time": "2019-10-30T01:55:11.337157Z",
     "start_time": "2019-10-30T01:55:11.243216Z"
    },
    "scrolled": true
   },
   "outputs": [],
   "source": [
    "square_feet_string['after_conversion'] = square_feet_string[\n",
    "    'num_val'] * square_feet_string['conversion_factor']"
   ]
  },
  {
   "cell_type": "code",
   "execution_count": null,
   "metadata": {
    "ExecuteTime": {
     "end_time": "2019-10-30T01:55:11.412111Z",
     "start_time": "2019-10-30T01:55:11.341157Z"
    }
   },
   "outputs": [],
   "source": [
    "square_feet_string['after_conversion'] = square_feet_string[\n",
    "    'after_conversion'].apply(lambda x: round(x, 2))"
   ]
  },
  {
   "cell_type": "code",
   "execution_count": null,
   "metadata": {
    "ExecuteTime": {
     "end_time": "2019-10-30T01:55:11.519046Z",
     "start_time": "2019-10-30T01:55:11.414110Z"
    },
    "scrolled": true
   },
   "outputs": [],
   "source": [
    "square_feet_string.head(10)"
   ]
  },
  {
   "cell_type": "code",
   "execution_count": null,
   "metadata": {
    "ExecuteTime": {
     "end_time": "2019-10-30T01:55:11.618985Z",
     "start_time": "2019-10-30T01:55:11.522045Z"
    }
   },
   "outputs": [],
   "source": [
    "string_val_dict = dict(\n",
    "    zip(square_feet_string['total_sqft'],\n",
    "        square_feet_string['after_conversion']))"
   ]
  },
  {
   "cell_type": "markdown",
   "metadata": {},
   "source": [
    "### Mapping Converted Rates with Original DF"
   ]
  },
  {
   "cell_type": "code",
   "execution_count": null,
   "metadata": {
    "ExecuteTime": {
     "end_time": "2019-10-30T01:55:11.715925Z",
     "start_time": "2019-10-30T01:55:11.621982Z"
    }
   },
   "outputs": [],
   "source": [
    "df['total_sqft_new'] = df['total_sqft'].map(string_val_dict)"
   ]
  },
  {
   "cell_type": "code",
   "execution_count": null,
   "metadata": {
    "ExecuteTime": {
     "end_time": "2019-10-30T01:55:12.507436Z",
     "start_time": "2019-10-30T01:55:11.718927Z"
    }
   },
   "outputs": [],
   "source": [
    "df['total_sqft_final'] = df.apply(\n",
    "    lambda row: row['total_sqft']\n",
    "    if np.isnan(row['total_sqft_new']) else row['total_sqft_new'],\n",
    "    axis=1)"
   ]
  },
  {
   "cell_type": "code",
   "execution_count": null,
   "metadata": {
    "ExecuteTime": {
     "end_time": "2019-10-30T01:55:12.519430Z",
     "start_time": "2019-10-30T01:55:12.509437Z"
    }
   },
   "outputs": [],
   "source": [
    "df['total_sqft_final'] = df['total_sqft_final'].astype(float)"
   ]
  },
  {
   "cell_type": "code",
   "execution_count": null,
   "metadata": {
    "ExecuteTime": {
     "end_time": "2019-10-30T01:55:12.636356Z",
     "start_time": "2019-10-30T01:55:12.522427Z"
    }
   },
   "outputs": [],
   "source": [
    "df['total_sqft'] = df['total_sqft_final']"
   ]
  },
  {
   "cell_type": "code",
   "execution_count": null,
   "metadata": {
    "ExecuteTime": {
     "end_time": "2019-10-30T01:55:12.723303Z",
     "start_time": "2019-10-30T01:55:12.638357Z"
    }
   },
   "outputs": [],
   "source": [
    "df.drop(['total_sqft_final','total_sqft_new'], axis=1, inplace=True)"
   ]
  },
  {
   "cell_type": "code",
   "execution_count": null,
   "metadata": {
    "ExecuteTime": {
     "end_time": "2019-10-30T01:55:12.970152Z",
     "start_time": "2019-10-30T01:55:12.726302Z"
    },
    "scrolled": false
   },
   "outputs": [],
   "source": [
    "df.dtypes"
   ]
  },
  {
   "cell_type": "markdown",
   "metadata": {},
   "source": [
    "## Society"
   ]
  },
  {
   "cell_type": "code",
   "execution_count": null,
   "metadata": {
    "ExecuteTime": {
     "end_time": "2019-10-30T01:55:13.116062Z",
     "start_time": "2019-10-30T01:55:12.973152Z"
    }
   },
   "outputs": [],
   "source": [
    "df['society'].isnull().sum()"
   ]
  },
  {
   "cell_type": "code",
   "execution_count": null,
   "metadata": {
    "ExecuteTime": {
     "end_time": "2019-10-30T01:55:13.318936Z",
     "start_time": "2019-10-30T01:55:13.120059Z"
    },
    "scrolled": true
   },
   "outputs": [],
   "source": [
    "df[df['society'].isnull()]"
   ]
  },
  {
   "cell_type": "markdown",
   "metadata": {},
   "source": [
    "Here, just making a binary classification whether the House is in a Society or not, filling NaNs with zero and remaining with 1."
   ]
  },
  {
   "cell_type": "code",
   "execution_count": null,
   "metadata": {
    "ExecuteTime": {
     "end_time": "2019-10-30T01:55:13.481834Z",
     "start_time": "2019-10-30T01:55:13.321936Z"
    }
   },
   "outputs": [],
   "source": [
    "df.loc[(df['society'].isnull()), 'society']= 0"
   ]
  },
  {
   "cell_type": "code",
   "execution_count": null,
   "metadata": {
    "ExecuteTime": {
     "end_time": "2019-10-30T01:55:13.659726Z",
     "start_time": "2019-10-30T01:55:13.483835Z"
    }
   },
   "outputs": [],
   "source": [
    "df.loc[(df['society']!=0),'society'] = 1"
   ]
  },
  {
   "cell_type": "code",
   "execution_count": null,
   "metadata": {
    "ExecuteTime": {
     "end_time": "2019-10-30T01:55:13.870597Z",
     "start_time": "2019-10-30T01:55:13.661726Z"
    }
   },
   "outputs": [],
   "source": [
    "df['society'].value_counts()"
   ]
  },
  {
   "cell_type": "markdown",
   "metadata": {},
   "source": [
    "## Availability"
   ]
  },
  {
   "cell_type": "code",
   "execution_count": null,
   "metadata": {
    "ExecuteTime": {
     "end_time": "2019-10-30T01:55:14.043490Z",
     "start_time": "2019-10-30T01:55:13.874595Z"
    }
   },
   "outputs": [],
   "source": [
    "df['availability'].value_counts()"
   ]
  },
  {
   "cell_type": "markdown",
   "metadata": {},
   "source": [
    "In 'availability' column, we can broadly categorised the data into two ways:\n",
    "- \"Ready To Move\" or \"Immediate Possession\"\n",
    "- A future date\n",
    "\n",
    "Since, the year is not mentioned in these dates, hence we cannot utilise this column further.\n",
    "Therefore, categorising the data points as '1' for \"Ready To Move\" or \"Immediate Possession\" and \n",
    "'0' for the dates."
   ]
  },
  {
   "cell_type": "code",
   "execution_count": null,
   "metadata": {
    "ExecuteTime": {
     "end_time": "2019-10-30T01:55:14.188403Z",
     "start_time": "2019-10-30T01:55:14.047490Z"
    }
   },
   "outputs": [],
   "source": [
    "df['availability'].replace([\"Ready To Move\",\"Immediate Possession\"], 1, inplace=True)"
   ]
  },
  {
   "cell_type": "code",
   "execution_count": null,
   "metadata": {
    "ExecuteTime": {
     "end_time": "2019-10-30T01:55:14.268350Z",
     "start_time": "2019-10-30T01:55:14.192399Z"
    }
   },
   "outputs": [],
   "source": [
    "df.loc[(df['availability']!=1),'availability'] = 0"
   ]
  },
  {
   "cell_type": "code",
   "execution_count": null,
   "metadata": {
    "ExecuteTime": {
     "end_time": "2019-10-30T01:55:14.352301Z",
     "start_time": "2019-10-30T01:55:14.270350Z"
    }
   },
   "outputs": [],
   "source": [
    "df['availability'].value_counts()"
   ]
  },
  {
   "cell_type": "markdown",
   "metadata": {},
   "source": [
    "# Imputation"
   ]
  },
  {
   "cell_type": "code",
   "execution_count": null,
   "metadata": {
    "ExecuteTime": {
     "end_time": "2019-10-30T01:55:14.445245Z",
     "start_time": "2019-10-30T01:55:14.356297Z"
    }
   },
   "outputs": [],
   "source": [
    "df.isnull().sum()"
   ]
  },
  {
   "cell_type": "markdown",
   "metadata": {},
   "source": [
    "## Size"
   ]
  },
  {
   "cell_type": "code",
   "execution_count": null,
   "metadata": {
    "ExecuteTime": {
     "end_time": "2019-10-30T01:55:14.550178Z",
     "start_time": "2019-10-30T01:55:14.448242Z"
    },
    "scrolled": true
   },
   "outputs": [],
   "source": [
    "df[df['size'].isna()]"
   ]
  },
  {
   "cell_type": "markdown",
   "metadata": {},
   "source": [
    "To impute variable 'size' i.e. number of bedrooms, the variable 'total_sqft' is used. The 'total_sqft' is divided by 550(considering a generic factor per room), and the roundup till the next integer."
   ]
  },
  {
   "cell_type": "code",
   "execution_count": null,
   "metadata": {
    "ExecuteTime": {
     "end_time": "2019-10-30T01:55:14.611141Z",
     "start_time": "2019-10-30T01:55:14.553177Z"
    }
   },
   "outputs": [],
   "source": [
    "df['size'] = df['size'].astype(float)"
   ]
  },
  {
   "cell_type": "code",
   "execution_count": null,
   "metadata": {
    "ExecuteTime": {
     "end_time": "2019-10-30T01:55:15.421642Z",
     "start_time": "2019-10-30T01:55:14.615139Z"
    },
    "scrolled": true
   },
   "outputs": [],
   "source": [
    "df['size'] = df.apply(lambda row: math.ceil(float(row['total_sqft']/550)) if np.isnan(row['size']) else row['size'], axis=1)"
   ]
  },
  {
   "cell_type": "code",
   "execution_count": null,
   "metadata": {
    "ExecuteTime": {
     "end_time": "2019-10-30T01:55:15.441629Z",
     "start_time": "2019-10-30T01:55:15.424639Z"
    }
   },
   "outputs": [],
   "source": [
    "df[df['size'].isna()]"
   ]
  },
  {
   "cell_type": "code",
   "execution_count": null,
   "metadata": {
    "ExecuteTime": {
     "end_time": "2019-10-30T01:55:15.552562Z",
     "start_time": "2019-10-30T01:55:15.445627Z"
    }
   },
   "outputs": [],
   "source": [
    "df.isnull().sum()"
   ]
  },
  {
   "cell_type": "markdown",
   "metadata": {},
   "source": [
    "## Bath"
   ]
  },
  {
   "cell_type": "code",
   "execution_count": null,
   "metadata": {
    "ExecuteTime": {
     "end_time": "2019-10-30T01:55:15.711463Z",
     "start_time": "2019-10-30T01:55:15.556557Z"
    },
    "scrolled": true
   },
   "outputs": [],
   "source": [
    "df[df['bath'].isna()]"
   ]
  },
  {
   "cell_type": "code",
   "execution_count": null,
   "metadata": {
    "ExecuteTime": {
     "end_time": "2019-10-30T01:55:15.814400Z",
     "start_time": "2019-10-30T01:55:15.715460Z"
    }
   },
   "outputs": [],
   "source": [
    "df[['size','bath']].corr()"
   ]
  },
  {
   "cell_type": "markdown",
   "metadata": {},
   "source": [
    "As we can see that number of bedrooms and bathrooms are highly correlated, we will fill the NaNs in variable 'bath' with values of variable 'size'."
   ]
  },
  {
   "cell_type": "code",
   "execution_count": null,
   "metadata": {
    "ExecuteTime": {
     "end_time": "2019-10-30T01:55:16.564937Z",
     "start_time": "2019-10-30T01:55:15.818398Z"
    }
   },
   "outputs": [],
   "source": [
    "df['bath'] = df.apply(lambda row: row['size'] if np.isnan(row['bath']) else row['bath'], axis=1)"
   ]
  },
  {
   "cell_type": "markdown",
   "metadata": {},
   "source": [
    "## Balcony"
   ]
  },
  {
   "cell_type": "code",
   "execution_count": null,
   "metadata": {
    "ExecuteTime": {
     "end_time": "2019-10-30T01:55:16.594920Z",
     "start_time": "2019-10-30T01:55:16.567935Z"
    },
    "scrolled": true
   },
   "outputs": [],
   "source": [
    "df.groupby(['size']).agg({'balcony':['count','mean','median']})"
   ]
  },
  {
   "cell_type": "markdown",
   "metadata": {},
   "source": [
    "Looking at the mean and median of number of balconies grouped by number of bedrooms. We can infer, in general, that 2 or less than 2 bedrooms house has 1 balcony,  3 to 9 bedrooms house has 2 balconies, more than 9 bedrooms house has 3 or more balconies. We can impute these values with median, and for rooms where median is not available(16 to 19 rooms), filling NaNs with 4."
   ]
  },
  {
   "cell_type": "code",
   "execution_count": null,
   "metadata": {
    "ExecuteTime": {
     "end_time": "2019-10-30T01:55:16.674872Z",
     "start_time": "2019-10-30T01:55:16.606912Z"
    }
   },
   "outputs": [],
   "source": [
    "balcony = df.groupby(['size']).agg({'balcony':'median'}).reset_index()"
   ]
  },
  {
   "cell_type": "code",
   "execution_count": null,
   "metadata": {
    "ExecuteTime": {
     "end_time": "2019-10-30T01:55:16.760818Z",
     "start_time": "2019-10-30T01:55:16.677868Z"
    }
   },
   "outputs": [],
   "source": [
    "balcony['balcony'].fillna(4, inplace=True)"
   ]
  },
  {
   "cell_type": "code",
   "execution_count": null,
   "metadata": {
    "ExecuteTime": {
     "end_time": "2019-10-30T01:55:16.863754Z",
     "start_time": "2019-10-30T01:55:16.763814Z"
    },
    "scrolled": true
   },
   "outputs": [],
   "source": [
    "balcony_dict = dict(zip(balcony['size'], balcony['balcony']))"
   ]
  },
  {
   "cell_type": "code",
   "execution_count": null,
   "metadata": {
    "ExecuteTime": {
     "end_time": "2019-10-30T01:55:16.964690Z",
     "start_time": "2019-10-30T01:55:16.866750Z"
    }
   },
   "outputs": [],
   "source": [
    "df['new_balcony'] = df[df['balcony'].isna()]['size'].map(balcony_dict)"
   ]
  },
  {
   "cell_type": "code",
   "execution_count": null,
   "metadata": {
    "ExecuteTime": {
     "end_time": "2019-10-30T01:55:17.093615Z",
     "start_time": "2019-10-30T01:55:16.967693Z"
    },
    "scrolled": true
   },
   "outputs": [],
   "source": [
    "df[df['balcony'].isna()]"
   ]
  },
  {
   "cell_type": "code",
   "execution_count": null,
   "metadata": {
    "ExecuteTime": {
     "end_time": "2019-10-30T01:55:17.847145Z",
     "start_time": "2019-10-30T01:55:17.096608Z"
    }
   },
   "outputs": [],
   "source": [
    "df['balcony'] =  df.apply(lambda row: row['new_balcony'] if np.isnan(row['balcony']) else row['balcony'], axis=1)"
   ]
  },
  {
   "cell_type": "code",
   "execution_count": null,
   "metadata": {
    "ExecuteTime": {
     "end_time": "2019-10-30T01:55:17.857139Z",
     "start_time": "2019-10-30T01:55:17.850147Z"
    }
   },
   "outputs": [],
   "source": [
    "df.drop(['new_balcony'], axis=1, inplace=True)"
   ]
  },
  {
   "cell_type": "code",
   "execution_count": null,
   "metadata": {
    "ExecuteTime": {
     "end_time": "2019-10-30T01:55:17.959076Z",
     "start_time": "2019-10-30T01:55:17.860138Z"
    },
    "scrolled": true
   },
   "outputs": [],
   "source": [
    "df.isnull().sum()"
   ]
  },
  {
   "cell_type": "markdown",
   "metadata": {},
   "source": [
    "# Outlier Removal"
   ]
  },
  {
   "cell_type": "markdown",
   "metadata": {},
   "source": [
    "Checking the outliers in the training dataset and removing them from it. Removing outliers from 'total_sqft' first so it doesn't create any skewness in next step deriving any new feature.\n",
    "\n",
    "For this operation, splitting the data based on train and test and joining it back later."
   ]
  },
  {
   "cell_type": "code",
   "execution_count": null,
   "metadata": {
    "ExecuteTime": {
     "end_time": "2019-10-30T01:55:18.070010Z",
     "start_time": "2019-10-30T01:55:17.961077Z"
    }
   },
   "outputs": [],
   "source": [
    "train_df = df[df['data_category']=='train']\n",
    "test_df = df[df['data_category']=='test']"
   ]
  },
  {
   "cell_type": "code",
   "execution_count": null,
   "metadata": {
    "ExecuteTime": {
     "end_time": "2019-10-30T01:55:18.534724Z",
     "start_time": "2019-10-30T01:55:18.073010Z"
    }
   },
   "outputs": [],
   "source": [
    "plt.figure(figsize=(30,10))\n",
    "sns.boxplot(train_df['total_sqft'])\n",
    "plt.show()"
   ]
  },
  {
   "cell_type": "markdown",
   "metadata": {},
   "source": [
    "We can see that there are some outliers which are exobitant, hence we need to remove them. Setting a lower and upper limit to remove these outliers."
   ]
  },
  {
   "cell_type": "code",
   "execution_count": null,
   "metadata": {
    "ExecuteTime": {
     "end_time": "2019-10-30T01:55:18.551713Z",
     "start_time": "2019-10-30T01:55:18.541717Z"
    }
   },
   "outputs": [],
   "source": [
    "lower_limit = np.nanpercentile(train_df['total_sqft'],0.25)\n",
    "upper_limit = np.nanpercentile(train_df['total_sqft'],99.75)\n",
    "print(lower_limit)\n",
    "print(upper_limit)"
   ]
  },
  {
   "cell_type": "code",
   "execution_count": null,
   "metadata": {
    "ExecuteTime": {
     "end_time": "2019-10-30T01:55:18.670639Z",
     "start_time": "2019-10-30T01:55:18.555712Z"
    }
   },
   "outputs": [],
   "source": [
    "len(train_df)"
   ]
  },
  {
   "cell_type": "code",
   "execution_count": null,
   "metadata": {
    "ExecuteTime": {
     "end_time": "2019-10-30T01:55:18.765579Z",
     "start_time": "2019-10-30T01:55:18.673638Z"
    },
    "scrolled": true
   },
   "outputs": [],
   "source": [
    "train_df = train_df[train_df['total_sqft'].between(lower_limit, upper_limit)]"
   ]
  },
  {
   "cell_type": "code",
   "execution_count": null,
   "metadata": {
    "ExecuteTime": {
     "end_time": "2019-10-30T01:55:18.857524Z",
     "start_time": "2019-10-30T01:55:18.768580Z"
    }
   },
   "outputs": [],
   "source": [
    "len(train_df)"
   ]
  },
  {
   "cell_type": "code",
   "execution_count": null,
   "metadata": {
    "ExecuteTime": {
     "end_time": "2019-10-30T01:55:18.950466Z",
     "start_time": "2019-10-30T01:55:18.860521Z"
    }
   },
   "outputs": [],
   "source": [
    "df = pd.concat([train_df,test_df])"
   ]
  },
  {
   "cell_type": "code",
   "execution_count": null,
   "metadata": {
    "ExecuteTime": {
     "end_time": "2019-10-30T01:55:19.037414Z",
     "start_time": "2019-10-30T01:55:18.952465Z"
    }
   },
   "outputs": [],
   "source": [
    "len(df)"
   ]
  },
  {
   "cell_type": "markdown",
   "metadata": {},
   "source": [
    "# Deriving New Feature"
   ]
  },
  {
   "cell_type": "markdown",
   "metadata": {},
   "source": [
    "Pincodes, a categorical variable, with 128 distinct values will increase the number of columns with one-hot encoding. This will also increase the overall computational time for training the model, we can optimise the model with a new numeric feature derived from 'location', 'area_type','society' and drop 'location' from the dataset.\n",
    "\n",
    "This new feature will be derived from 'Training Data' only and will be common for both training and test data."
   ]
  },
  {
   "cell_type": "markdown",
   "metadata": {},
   "source": [
    "## Price Per Location - Combining Location, Society and Area Type"
   ]
  },
  {
   "cell_type": "code",
   "execution_count": null,
   "metadata": {
    "ExecuteTime": {
     "end_time": "2019-10-30T01:55:19.145349Z",
     "start_time": "2019-10-30T01:55:19.040412Z"
    }
   },
   "outputs": [],
   "source": [
    "price_per_loc = df[df['data_category']=='train'].groupby(['area_type','location','society']).agg({'total_sqft': 'sum',\n",
    "                                                                                  'price':'sum'}).reset_index()\n",
    "\n",
    "price_per_loc['avg_price_per_loc'] = price_per_loc['price']/price_per_loc['total_sqft']"
   ]
  },
  {
   "cell_type": "code",
   "execution_count": null,
   "metadata": {
    "ExecuteTime": {
     "end_time": "2019-10-30T01:55:19.246284Z",
     "start_time": "2019-10-30T01:55:19.149348Z"
    }
   },
   "outputs": [],
   "source": [
    "price_per_loc.head()"
   ]
  },
  {
   "cell_type": "markdown",
   "metadata": {},
   "source": [
    "Merging this new column with original 'df'."
   ]
  },
  {
   "cell_type": "code",
   "execution_count": null,
   "metadata": {
    "ExecuteTime": {
     "end_time": "2019-10-30T01:55:19.362216Z",
     "start_time": "2019-10-30T01:55:19.249283Z"
    }
   },
   "outputs": [],
   "source": [
    "df = pd.merge(df,price_per_loc[['area_type','location', 'society','avg_price_per_loc']],\n",
    "                  on=['area_type','location', 'society'], how='left')"
   ]
  },
  {
   "cell_type": "code",
   "execution_count": null,
   "metadata": {
    "ExecuteTime": {
     "end_time": "2019-10-30T01:55:19.445163Z",
     "start_time": "2019-10-30T01:55:19.365213Z"
    }
   },
   "outputs": [],
   "source": [
    "len(df)"
   ]
  },
  {
   "cell_type": "code",
   "execution_count": null,
   "metadata": {
    "ExecuteTime": {
     "end_time": "2019-10-30T01:55:19.535111Z",
     "start_time": "2019-10-30T01:55:19.449159Z"
    }
   },
   "outputs": [],
   "source": [
    "df.isnull().sum()"
   ]
  },
  {
   "cell_type": "markdown",
   "metadata": {},
   "source": [
    "## Price Per Location 2 - Combining Location and Society Only "
   ]
  },
  {
   "cell_type": "markdown",
   "metadata": {},
   "source": [
    "Since, there are 13 values in Test Data that not available to merge, we can create another variable 'avg_price_per_loc_2' from 'location' and 'society' only to fill NaNs."
   ]
  },
  {
   "cell_type": "code",
   "execution_count": null,
   "metadata": {
    "ExecuteTime": {
     "end_time": "2019-10-30T01:55:19.622048Z",
     "start_time": "2019-10-30T01:55:19.538106Z"
    }
   },
   "outputs": [],
   "source": [
    "price_per_loc_2 = df[df['data_category']=='train'].groupby(['location','society']).agg({'total_sqft': 'sum',\n",
    "                                                                                  'price':'sum'}).reset_index()\n",
    "\n",
    "price_per_loc_2['avg_price_per_loc_2'] = price_per_loc_2['price']/price_per_loc_2['total_sqft']"
   ]
  },
  {
   "cell_type": "code",
   "execution_count": null,
   "metadata": {
    "ExecuteTime": {
     "end_time": "2019-10-30T01:55:19.711996Z",
     "start_time": "2019-10-30T01:55:19.624049Z"
    }
   },
   "outputs": [],
   "source": [
    "price_per_loc_2.head()"
   ]
  },
  {
   "cell_type": "code",
   "execution_count": null,
   "metadata": {
    "ExecuteTime": {
     "end_time": "2019-10-30T01:55:19.806937Z",
     "start_time": "2019-10-30T01:55:19.714991Z"
    }
   },
   "outputs": [],
   "source": [
    "df = pd.merge(df,price_per_loc_2[['location', 'society','avg_price_per_loc_2']],\n",
    "                  on=['location', 'society'], how='left')"
   ]
  },
  {
   "cell_type": "code",
   "execution_count": null,
   "metadata": {
    "ExecuteTime": {
     "end_time": "2019-10-30T01:55:19.892884Z",
     "start_time": "2019-10-30T01:55:19.809934Z"
    }
   },
   "outputs": [],
   "source": [
    "df.isnull().sum()"
   ]
  },
  {
   "cell_type": "code",
   "execution_count": null,
   "metadata": {
    "ExecuteTime": {
     "end_time": "2019-10-30T01:55:20.663411Z",
     "start_time": "2019-10-30T01:55:19.894881Z"
    }
   },
   "outputs": [],
   "source": [
    "df['avg_price_per_loc'] = df.apply(lambda row: row['avg_price_per_loc_2'] if np.isnan(row['avg_price_per_loc']) else row['avg_price_per_loc'], axis=1)"
   ]
  },
  {
   "cell_type": "code",
   "execution_count": null,
   "metadata": {
    "ExecuteTime": {
     "end_time": "2019-10-30T01:55:20.680397Z",
     "start_time": "2019-10-30T01:55:20.666408Z"
    },
    "scrolled": true
   },
   "outputs": [],
   "source": [
    "df.isnull().sum()"
   ]
  },
  {
   "cell_type": "markdown",
   "metadata": {},
   "source": [
    "## Price Per Location 3 - Average Price per SqFt for remaining null values"
   ]
  },
  {
   "cell_type": "markdown",
   "metadata": {
    "ExecuteTime": {
     "end_time": "2019-10-28T18:58:48.919192Z",
     "start_time": "2019-10-28T18:58:48.913196Z"
    }
   },
   "source": [
    "There are still three values we need to fill."
   ]
  },
  {
   "cell_type": "code",
   "execution_count": null,
   "metadata": {
    "ExecuteTime": {
     "end_time": "2019-10-30T01:55:20.835301Z",
     "start_time": "2019-10-30T01:55:20.683396Z"
    }
   },
   "outputs": [],
   "source": [
    "average_price = df[df['data_category']=='train']['price'].sum()/df[df['data_category']=='train']['total_sqft'].sum()"
   ]
  },
  {
   "cell_type": "code",
   "execution_count": null,
   "metadata": {
    "ExecuteTime": {
     "end_time": "2019-10-30T01:55:20.929243Z",
     "start_time": "2019-10-30T01:55:20.838300Z"
    }
   },
   "outputs": [],
   "source": [
    "df['avg_price_per_loc'].fillna(average_price, inplace=True)"
   ]
  },
  {
   "cell_type": "code",
   "execution_count": null,
   "metadata": {
    "ExecuteTime": {
     "end_time": "2019-10-30T01:55:21.693773Z",
     "start_time": "2019-10-30T01:55:20.932244Z"
    }
   },
   "outputs": [],
   "source": [
    "plt.figure(figsize=(30,10))\n",
    "df['avg_price_per_loc'].hist(bins=200)\n",
    "plt.show()"
   ]
  },
  {
   "cell_type": "code",
   "execution_count": null,
   "metadata": {
    "ExecuteTime": {
     "end_time": "2019-10-30T01:55:21.727754Z",
     "start_time": "2019-10-30T01:55:21.696772Z"
    }
   },
   "outputs": [],
   "source": [
    "df.head(5)"
   ]
  },
  {
   "cell_type": "code",
   "execution_count": null,
   "metadata": {
    "ExecuteTime": {
     "end_time": "2019-10-30T01:55:21.846680Z",
     "start_time": "2019-10-30T01:55:21.730752Z"
    }
   },
   "outputs": [],
   "source": [
    "df.drop(['location','avg_price_per_loc_2'],axis=1, inplace=True)"
   ]
  },
  {
   "cell_type": "code",
   "execution_count": null,
   "metadata": {
    "ExecuteTime": {
     "end_time": "2019-10-30T01:55:21.936625Z",
     "start_time": "2019-10-30T01:55:21.849676Z"
    },
    "scrolled": true
   },
   "outputs": [],
   "source": [
    "df.columns"
   ]
  },
  {
   "cell_type": "markdown",
   "metadata": {},
   "source": [
    "# Checking the Distribution"
   ]
  },
  {
   "cell_type": "markdown",
   "metadata": {},
   "source": [
    "## Specifying type to each variable"
   ]
  },
  {
   "cell_type": "code",
   "execution_count": null,
   "metadata": {
    "ExecuteTime": {
     "end_time": "2019-10-30T01:55:22.055552Z",
     "start_time": "2019-10-30T01:55:21.939621Z"
    }
   },
   "outputs": [],
   "source": [
    "df['area_type'] = pd.Categorical(df['area_type'])\n",
    "df[['size','total_sqft','bath','balcony','avg_price_per_loc','price']] = df[['size','total_sqft','bath','balcony','avg_price_per_loc','price']].apply(pd.to_numeric)\n",
    "\n",
    "df[['availability','society']]  = df[['availability','society']].astype(int)"
   ]
  },
  {
   "cell_type": "code",
   "execution_count": null,
   "metadata": {
    "ExecuteTime": {
     "end_time": "2019-10-30T01:55:22.130505Z",
     "start_time": "2019-10-30T01:55:22.057548Z"
    }
   },
   "outputs": [],
   "source": [
    "df = df[['area_type', 'availability', 'size', 'society', 'total_sqft', 'bath',\n",
    "       'balcony', 'avg_price_per_loc', 'price', 'data_category']]"
   ]
  },
  {
   "cell_type": "code",
   "execution_count": null,
   "metadata": {
    "ExecuteTime": {
     "end_time": "2019-10-30T01:55:22.245436Z",
     "start_time": "2019-10-30T01:55:22.133502Z"
    },
    "scrolled": true
   },
   "outputs": [],
   "source": [
    "df.head()"
   ]
  },
  {
   "cell_type": "markdown",
   "metadata": {},
   "source": [
    "## Total Sqft"
   ]
  },
  {
   "cell_type": "code",
   "execution_count": null,
   "metadata": {
    "ExecuteTime": {
     "end_time": "2019-10-30T01:55:23.036947Z",
     "start_time": "2019-10-30T01:55:22.258425Z"
    }
   },
   "outputs": [],
   "source": [
    "plt.figure(figsize=(30,10))\n",
    "df['total_sqft'].hist(bins=200)\n",
    "plt.show()"
   ]
  },
  {
   "cell_type": "markdown",
   "metadata": {},
   "source": [
    "The distribution is right skewed. Let's see if taking logrithmic value can remove this skewness."
   ]
  },
  {
   "cell_type": "code",
   "execution_count": null,
   "metadata": {
    "ExecuteTime": {
     "end_time": "2019-10-30T01:55:23.897416Z",
     "start_time": "2019-10-30T01:55:23.039943Z"
    }
   },
   "outputs": [],
   "source": [
    "plt.figure(figsize=(30,10))\n",
    "np.log(df['total_sqft']).hist(bins=200)\n",
    "plt.show()"
   ]
  },
  {
   "cell_type": "markdown",
   "metadata": {},
   "source": [
    "Perfect. The skewness has decreased significantly with logrithmic values."
   ]
  },
  {
   "cell_type": "code",
   "execution_count": null,
   "metadata": {
    "ExecuteTime": {
     "end_time": "2019-10-30T01:55:23.906409Z",
     "start_time": "2019-10-30T01:55:23.900413Z"
    }
   },
   "outputs": [],
   "source": [
    "df['total_sqft'] = np.log(df['total_sqft'])"
   ]
  },
  {
   "cell_type": "markdown",
   "metadata": {},
   "source": [
    "## Price"
   ]
  },
  {
   "cell_type": "markdown",
   "metadata": {},
   "source": [
    "Splitting the data to check for 'price' variable distribution."
   ]
  },
  {
   "cell_type": "code",
   "execution_count": null,
   "metadata": {
    "ExecuteTime": {
     "end_time": "2019-10-30T01:55:24.001352Z",
     "start_time": "2019-10-30T01:55:23.908409Z"
    }
   },
   "outputs": [],
   "source": [
    "train_df = df[df['data_category']=='train']\n",
    "train_df.drop(['data_category'], axis=1, inplace=True)\n",
    "len(train_df)"
   ]
  },
  {
   "cell_type": "code",
   "execution_count": null,
   "metadata": {
    "ExecuteTime": {
     "end_time": "2019-10-30T01:55:24.091297Z",
     "start_time": "2019-10-30T01:55:24.004351Z"
    }
   },
   "outputs": [],
   "source": [
    "test_df = df[df['data_category']=='test']\n",
    "test_df.drop(['data_category'], axis=1, inplace=True)\n",
    "len(test_df)"
   ]
  },
  {
   "cell_type": "code",
   "execution_count": null,
   "metadata": {
    "ExecuteTime": {
     "end_time": "2019-10-30T01:55:24.866533Z",
     "start_time": "2019-10-30T01:55:24.094293Z"
    }
   },
   "outputs": [],
   "source": [
    "plt.figure(figsize=(30,10))\n",
    "(train_df['price']).hist(bins=200)\n",
    "plt.show()"
   ]
  },
  {
   "cell_type": "code",
   "execution_count": null,
   "metadata": {
    "ExecuteTime": {
     "end_time": "2019-10-30T01:55:25.625067Z",
     "start_time": "2019-10-30T01:55:24.868530Z"
    }
   },
   "outputs": [],
   "source": [
    "plt.figure(figsize=(30,10))\n",
    "np.log(train_df['price']).hist(bins=200)\n",
    "plt.show()"
   ]
  },
  {
   "cell_type": "code",
   "execution_count": null,
   "metadata": {
    "ExecuteTime": {
     "end_time": "2019-10-30T01:55:25.634058Z",
     "start_time": "2019-10-30T01:55:25.628062Z"
    }
   },
   "outputs": [],
   "source": [
    "train_df['price'] = np.log(train_df['price'])"
   ]
  },
  {
   "cell_type": "code",
   "execution_count": null,
   "metadata": {
    "ExecuteTime": {
     "end_time": "2019-10-30T01:55:25.715010Z",
     "start_time": "2019-10-30T01:55:25.637057Z"
    },
    "scrolled": true
   },
   "outputs": [],
   "source": [
    "train_df.dtypes"
   ]
  },
  {
   "cell_type": "markdown",
   "metadata": {},
   "source": [
    "# One-Hot Encoding"
   ]
  },
  {
   "cell_type": "code",
   "execution_count": null,
   "metadata": {
    "ExecuteTime": {
     "end_time": "2019-10-30T01:55:25.814950Z",
     "start_time": "2019-10-30T01:55:25.719007Z"
    }
   },
   "outputs": [],
   "source": [
    "main_train = pd.get_dummies(train_df)\n",
    "main_test = pd.get_dummies(test_df)"
   ]
  },
  {
   "cell_type": "code",
   "execution_count": null,
   "metadata": {
    "ExecuteTime": {
     "end_time": "2019-10-30T01:55:25.901895Z",
     "start_time": "2019-10-30T01:55:25.816947Z"
    },
    "scrolled": true
   },
   "outputs": [],
   "source": [
    "main_train.head()"
   ]
  },
  {
   "cell_type": "code",
   "execution_count": null,
   "metadata": {
    "ExecuteTime": {
     "end_time": "2019-10-30T01:55:56.548677Z",
     "start_time": "2019-10-30T01:55:56.527689Z"
    }
   },
   "outputs": [],
   "source": [
    "main_test.head()"
   ]
  },
  {
   "cell_type": "markdown",
   "metadata": {},
   "source": [
    "Saving file post-processing."
   ]
  },
  {
   "cell_type": "code",
   "execution_count": null,
   "metadata": {
    "ExecuteTime": {
     "end_time": "2019-10-30T02:00:19.664020Z",
     "start_time": "2019-10-30T02:00:19.399187Z"
    }
   },
   "outputs": [],
   "source": [
    "main_train.to_csv('../data/interim/train_df.csv', index=False)\n",
    "main_test.to_csv('../data/interim/test_df.csv', index=False)"
   ]
  },
  {
   "cell_type": "markdown",
   "metadata": {},
   "source": [
    "# Modeling"
   ]
  },
  {
   "cell_type": "markdown",
   "metadata": {},
   "source": [
    "## Import Models"
   ]
  },
  {
   "cell_type": "code",
   "execution_count": 1,
   "metadata": {
    "ExecuteTime": {
     "end_time": "2019-10-30T03:57:57.060073Z",
     "start_time": "2019-10-30T03:57:54.570340Z"
    }
   },
   "outputs": [
    {
     "name": "stderr",
     "output_type": "stream",
     "text": [
      "C:\\Users\\dev26\\Anaconda3\\lib\\site-packages\\sklearn\\ensemble\\weight_boosting.py:29: DeprecationWarning: numpy.core.umath_tests is an internal NumPy module and should not be imported. It will be removed in a future NumPy release.\n",
      "  from numpy.core.umath_tests import inner1d\n"
     ]
    }
   ],
   "source": [
    "# Accuracy and Cross-Validation scores.\n",
    "#Import models from scikit learn module:\n",
    "\n",
    "import pandas as pd\n",
    "import numpy as np\n",
    "import matplotlib.pyplot as plt\n",
    "\n",
    "from sklearn.model_selection import train_test_split\n",
    "from sklearn.tree import DecisionTreeRegressor\n",
    "from sklearn.model_selection import cross_val_score   #For K-fold cross validation\n",
    "from sklearn.ensemble import RandomForestRegressor\n",
    "from xgboost import XGBRegressor\n",
    "from sklearn.tree import DecisionTreeRegressor\n",
    "from sklearn import datasets, linear_model, metrics\n",
    "from sklearn import model_selection\n",
    "from sklearn.metrics import mean_squared_error, make_scorer\n",
    "from math import sqrt\n",
    "from sklearn.metrics import mean_squared_error\n",
    "from lightgbm import LGBMRegressor\n",
    "\n",
    "\n",
    "import warnings\n",
    "warnings.filterwarnings('ignore')"
   ]
  },
  {
   "cell_type": "code",
   "execution_count": 2,
   "metadata": {
    "ExecuteTime": {
     "end_time": "2019-10-30T03:57:57.114041Z",
     "start_time": "2019-10-30T03:57:57.065070Z"
    }
   },
   "outputs": [],
   "source": [
    "#read it back\n",
    "main_train=pd.read_csv(\"../data/interim/train_df.csv\")\n",
    "main_test=pd.read_csv(\"../data/interim/test_df.csv\")"
   ]
  },
  {
   "cell_type": "code",
   "execution_count": 3,
   "metadata": {
    "ExecuteTime": {
     "end_time": "2019-10-30T03:57:57.183996Z",
     "start_time": "2019-10-30T03:57:57.118036Z"
    }
   },
   "outputs": [],
   "source": [
    "X = main_train.drop('price', axis=1)\n",
    "Y = main_train['price']"
   ]
  },
  {
   "cell_type": "markdown",
   "metadata": {},
   "source": [
    "## Train-Test Split"
   ]
  },
  {
   "cell_type": "code",
   "execution_count": 4,
   "metadata": {
    "ExecuteTime": {
     "end_time": "2019-10-30T03:57:57.281936Z",
     "start_time": "2019-10-30T03:57:57.186993Z"
    }
   },
   "outputs": [
    {
     "name": "stdout",
     "output_type": "stream",
     "text": [
      "(10604, 11) (10604,)\n",
      "(2652, 11) (2652,)\n"
     ]
    }
   ],
   "source": [
    "X_train, X_test, y_train, y_test = train_test_split(X, Y, test_size=0.2,random_state=0)\n",
    "print (X_train.shape, y_train.shape)\n",
    "print (X_test.shape, y_test.shape)"
   ]
  },
  {
   "cell_type": "markdown",
   "metadata": {},
   "source": [
    "## Creating Custom Metric Function"
   ]
  },
  {
   "cell_type": "code",
   "execution_count": 5,
   "metadata": {
    "ExecuteTime": {
     "end_time": "2019-10-30T03:57:57.370879Z",
     "start_time": "2019-10-30T03:57:57.285932Z"
    }
   },
   "outputs": [],
   "source": [
    "#Generic function for making a classification model and accessing performance:\n",
    "## How to create your own metric function and make it as a scorer obeject\n",
    "def mean_sq_error(y,y_pred):\n",
    "    return sqrt(mean_squared_error(y,y_pred=y_pred))\n",
    "\n",
    "rmse = make_scorer(mean_sq_error)\n",
    "\n",
    "\n",
    "def regression_model(model, data, predictors, outcome):\n",
    "    scores = cross_val_score(model, data[predictors],data[outcome],cv=5,scoring=rmse)\n",
    "    for i in range(len(scores)):\n",
    "        print(\"CV %s\"%i + \" Score:%s\"%\"{0:.5}\".format(scores[i]) )\n",
    "        \n",
    "    print (\"Average RMSE Cross-Validation Score : %s\" % \"{0:.3}\".format(np.mean(scores)))"
   ]
  },
  {
   "cell_type": "markdown",
   "metadata": {},
   "source": [
    "## Fitting Models"
   ]
  },
  {
   "cell_type": "code",
   "execution_count": 6,
   "metadata": {
    "ExecuteTime": {
     "end_time": "2019-10-30T03:57:57.487809Z",
     "start_time": "2019-10-30T03:57:57.374877Z"
    }
   },
   "outputs": [],
   "source": [
    "all_variable=list(main_train)\n",
    "all_variable.remove('price')"
   ]
  },
  {
   "cell_type": "markdown",
   "metadata": {},
   "source": [
    "### Decision Tree"
   ]
  },
  {
   "cell_type": "code",
   "execution_count": 7,
   "metadata": {
    "ExecuteTime": {
     "end_time": "2019-10-30T03:57:57.884564Z",
     "start_time": "2019-10-30T03:57:57.491807Z"
    }
   },
   "outputs": [
    {
     "name": "stdout",
     "output_type": "stream",
     "text": [
      "CV 0 Score:0.3834\n",
      "CV 1 Score:0.39066\n",
      "CV 2 Score:0.39481\n",
      "CV 3 Score:0.3911\n",
      "CV 4 Score:0.37559\n",
      "Average RMSE Cross-Validation Score : 0.387\n"
     ]
    }
   ],
   "source": [
    "# DecisionTreeRegressor\n",
    "outcome_var = 'price'\n",
    "model = DecisionTreeRegressor()\n",
    "predictor_var = all_variable\n",
    "regression_model(model, main_train, predictor_var, outcome_var)"
   ]
  },
  {
   "cell_type": "markdown",
   "metadata": {},
   "source": [
    "### Random Forest"
   ]
  },
  {
   "cell_type": "code",
   "execution_count": 8,
   "metadata": {
    "ExecuteTime": {
     "end_time": "2019-10-30T03:58:12.952639Z",
     "start_time": "2019-10-30T03:57:57.887562Z"
    }
   },
   "outputs": [
    {
     "name": "stdout",
     "output_type": "stream",
     "text": [
      "CV 0 Score:0.28972\n",
      "CV 1 Score:0.29582\n",
      "CV 2 Score:0.30658\n",
      "CV 3 Score:0.29819\n",
      "CV 4 Score:0.29095\n",
      "Average RMSE Cross-Validation Score : 0.296\n"
     ]
    }
   ],
   "source": [
    "# Random Forest Regression\n",
    "outcome_var = 'price'\n",
    "model = RandomForestRegressor(n_estimators=200, random_state=0,n_jobs = -1)\n",
    "predictor_var = all_variable\n",
    "regression_model(model, main_train, predictor_var, outcome_var)"
   ]
  },
  {
   "cell_type": "markdown",
   "metadata": {},
   "source": [
    "### XGBoost"
   ]
  },
  {
   "cell_type": "code",
   "execution_count": 9,
   "metadata": {
    "ExecuteTime": {
     "end_time": "2019-10-30T03:58:23.612071Z",
     "start_time": "2019-10-30T03:58:12.955639Z"
    }
   },
   "outputs": [
    {
     "name": "stdout",
     "output_type": "stream",
     "text": [
      "[09:28:12] WARNING: C:/Jenkins/workspace/xgboost-win64_release_0.90/src/objective/regression_obj.cu:152: reg:linear is now deprecated in favor of reg:squarederror.\n",
      "[09:28:15] WARNING: C:/Jenkins/workspace/xgboost-win64_release_0.90/src/objective/regression_obj.cu:152: reg:linear is now deprecated in favor of reg:squarederror.\n",
      "[09:28:17] WARNING: C:/Jenkins/workspace/xgboost-win64_release_0.90/src/objective/regression_obj.cu:152: reg:linear is now deprecated in favor of reg:squarederror.\n",
      "[09:28:19] WARNING: C:/Jenkins/workspace/xgboost-win64_release_0.90/src/objective/regression_obj.cu:152: reg:linear is now deprecated in favor of reg:squarederror.\n",
      "[09:28:21] WARNING: C:/Jenkins/workspace/xgboost-win64_release_0.90/src/objective/regression_obj.cu:152: reg:linear is now deprecated in favor of reg:squarederror.\n",
      "CV 0 Score:0.28946\n",
      "CV 1 Score:0.29408\n",
      "CV 2 Score:0.30949\n",
      "CV 3 Score:0.30555\n",
      "CV 4 Score:0.29482\n",
      "Average RMSE Cross-Validation Score : 0.299\n"
     ]
    }
   ],
   "source": [
    "# XGBoost Regressor\n",
    "outcome_var = 'price'\n",
    "model = XGBRegressor(n_estimators=500,random_state=0,n_jobs=-1)\n",
    "predictor_var = all_variable\n",
    "regression_model(model, main_train, predictor_var, outcome_var)"
   ]
  },
  {
   "cell_type": "markdown",
   "metadata": {},
   "source": [
    "### LGBM"
   ]
  },
  {
   "cell_type": "code",
   "execution_count": 10,
   "metadata": {
    "ExecuteTime": {
     "end_time": "2019-10-30T03:58:25.331012Z",
     "start_time": "2019-10-30T03:58:23.615070Z"
    }
   },
   "outputs": [
    {
     "name": "stdout",
     "output_type": "stream",
     "text": [
      "CV 0 Score:0.28338\n",
      "CV 1 Score:0.29117\n",
      "CV 2 Score:0.30571\n",
      "CV 3 Score:0.29391\n",
      "CV 4 Score:0.28963\n",
      "Average RMSE Cross-Validation Score : 0.293\n"
     ]
    }
   ],
   "source": [
    "# LGBM Regressor\n",
    "outcome_var = 'price'\n",
    "model = LGBMRegressor(n_estimators=200)\n",
    "predictor_var = all_variable\n",
    "regression_model(model, main_train, predictor_var, outcome_var)"
   ]
  },
  {
   "cell_type": "markdown",
   "metadata": {},
   "source": [
    "## Hyper Parameter Tuning"
   ]
  },
  {
   "cell_type": "markdown",
   "metadata": {},
   "source": [
    "### Randomised Search"
   ]
  },
  {
   "cell_type": "code",
   "execution_count": 11,
   "metadata": {
    "ExecuteTime": {
     "end_time": "2019-10-30T03:58:25.340008Z",
     "start_time": "2019-10-30T03:58:25.334012Z"
    }
   },
   "outputs": [],
   "source": [
    "from sklearn.model_selection import RandomizedSearchCV"
   ]
  },
  {
   "cell_type": "code",
   "execution_count": 12,
   "metadata": {
    "ExecuteTime": {
     "end_time": "2019-10-30T03:58:25.462933Z",
     "start_time": "2019-10-30T03:58:25.343007Z"
    }
   },
   "outputs": [],
   "source": [
    "# Number of trees in random forest\n",
    "n_estimators = list(np.arange(160,400,100))\n",
    "\n",
    "# Number of features to consider at every split\n",
    "max_features = ['auto', 'sqrt']\n",
    "\n",
    "# Maximum number of levels in tree\n",
    "max_depth = [int(x) for x in np.linspace(10, 80, num = 5)]\n",
    "max_depth.append(None)\n",
    "\n",
    "# Minimum number of samples required to split a node\n",
    "min_samples_split = [2, 5, 10]\n",
    "\n",
    "# Minimum number of samples required at each leaf node\n",
    "min_samples_leaf = [1, 2, 4]\n",
    "\n",
    "# Method of selecting samples for training each tree\n",
    "bootstrap = [True, False]"
   ]
  },
  {
   "cell_type": "code",
   "execution_count": 13,
   "metadata": {
    "ExecuteTime": {
     "end_time": "2019-10-30T03:58:25.570509Z",
     "start_time": "2019-10-30T03:58:25.464930Z"
    }
   },
   "outputs": [],
   "source": [
    "# Create the random grid\n",
    "random_grid = {'n_estimators': n_estimators,\n",
    "               'max_features': max_features,\n",
    "               'max_depth': max_depth,\n",
    "               'min_samples_split': min_samples_split,\n",
    "               'min_samples_leaf': min_samples_leaf,\n",
    "               'bootstrap': bootstrap}"
   ]
  },
  {
   "cell_type": "code",
   "execution_count": 14,
   "metadata": {
    "ExecuteTime": {
     "end_time": "2019-10-30T03:58:25.665151Z",
     "start_time": "2019-10-30T03:58:25.572074Z"
    }
   },
   "outputs": [
    {
     "data": {
      "text/plain": [
       "{'n_estimators': [160, 260, 360],\n",
       " 'max_features': ['auto', 'sqrt'],\n",
       " 'max_depth': [10, 27, 45, 62, 80, None],\n",
       " 'min_samples_split': [2, 5, 10],\n",
       " 'min_samples_leaf': [1, 2, 4],\n",
       " 'bootstrap': [True, False]}"
      ]
     },
     "execution_count": 14,
     "metadata": {},
     "output_type": "execute_result"
    }
   ],
   "source": [
    "random_grid"
   ]
  },
  {
   "cell_type": "code",
   "execution_count": 15,
   "metadata": {
    "ExecuteTime": {
     "end_time": "2019-10-30T04:01:48.676135Z",
     "start_time": "2019-10-30T03:58:25.667149Z"
    },
    "scrolled": true
   },
   "outputs": [
    {
     "name": "stdout",
     "output_type": "stream",
     "text": [
      "Fitting 3 folds for each of 33 candidates, totalling 99 fits\n",
      "[Parallel(n_jobs=-1)]: Done   1 tasks      | elapsed:    4.2s\n",
      "[Parallel(n_jobs=-1)]: Done   2 tasks      | elapsed:    5.6s\n",
      "[Parallel(n_jobs=-1)]: Done   3 tasks      | elapsed:    7.1s\n",
      "[Parallel(n_jobs=-1)]: Done   4 tasks      | elapsed:    9.7s\n",
      "[Parallel(n_jobs=-1)]: Done   5 tasks      | elapsed:   12.3s\n",
      "[Parallel(n_jobs=-1)]: Done   6 tasks      | elapsed:   15.0s\n",
      "[Parallel(n_jobs=-1)]: Done   7 tasks      | elapsed:   18.6s\n",
      "[Parallel(n_jobs=-1)]: Done   8 tasks      | elapsed:   18.6s\n",
      "[Parallel(n_jobs=-1)]: Done   9 tasks      | elapsed:   18.8s\n",
      "[Parallel(n_jobs=-1)]: Done  10 tasks      | elapsed:   19.0s\n",
      "[Parallel(n_jobs=-1)]: Done  11 tasks      | elapsed:   22.8s\n",
      "[Parallel(n_jobs=-1)]: Done  12 tasks      | elapsed:   22.8s\n",
      "[Parallel(n_jobs=-1)]: Done  13 tasks      | elapsed:   25.6s\n",
      "[Parallel(n_jobs=-1)]: Done  14 tasks      | elapsed:   25.7s\n",
      "[Parallel(n_jobs=-1)]: Done  15 tasks      | elapsed:   29.5s\n",
      "[Parallel(n_jobs=-1)]: Done  16 tasks      | elapsed:   32.3s\n",
      "[Parallel(n_jobs=-1)]: Done  17 tasks      | elapsed:   35.1s\n",
      "[Parallel(n_jobs=-1)]: Done  18 tasks      | elapsed:   35.3s\n",
      "[Parallel(n_jobs=-1)]: Done  19 tasks      | elapsed:   37.9s\n",
      "[Parallel(n_jobs=-1)]: Done  20 tasks      | elapsed:   38.0s\n",
      "[Parallel(n_jobs=-1)]: Done  21 tasks      | elapsed:   38.0s\n",
      "[Parallel(n_jobs=-1)]: Done  22 tasks      | elapsed:   40.5s\n",
      "[Parallel(n_jobs=-1)]: Done  23 tasks      | elapsed:   43.1s\n",
      "[Parallel(n_jobs=-1)]: Done  24 tasks      | elapsed:   43.2s\n",
      "[Parallel(n_jobs=-1)]: Done  25 tasks      | elapsed:   44.8s\n",
      "[Parallel(n_jobs=-1)]: Done  26 tasks      | elapsed:   47.3s\n",
      "[Parallel(n_jobs=-1)]: Done  27 tasks      | elapsed:   48.5s\n",
      "[Parallel(n_jobs=-1)]: Done  28 tasks      | elapsed:   50.1s\n",
      "[Parallel(n_jobs=-1)]: Done  29 tasks      | elapsed:   50.2s\n",
      "[Parallel(n_jobs=-1)]: Done  30 tasks      | elapsed:   52.7s\n",
      "[Parallel(n_jobs=-1)]: Done  31 tasks      | elapsed:   55.7s\n",
      "[Parallel(n_jobs=-1)]: Done  32 tasks      | elapsed:   56.0s\n",
      "[Parallel(n_jobs=-1)]: Done  33 tasks      | elapsed:   57.4s\n",
      "[Parallel(n_jobs=-1)]: Done  34 tasks      | elapsed:   57.7s\n",
      "[Parallel(n_jobs=-1)]: Done  35 tasks      | elapsed:   58.7s\n",
      "[Parallel(n_jobs=-1)]: Done  36 tasks      | elapsed:   59.1s\n",
      "[Parallel(n_jobs=-1)]: Done  37 tasks      | elapsed:  1.1min\n",
      "[Parallel(n_jobs=-1)]: Done  38 tasks      | elapsed:  1.1min\n",
      "[Parallel(n_jobs=-1)]: Done  39 tasks      | elapsed:  1.1min\n",
      "[Parallel(n_jobs=-1)]: Done  40 tasks      | elapsed:  1.2min\n",
      "[Parallel(n_jobs=-1)]: Done  41 tasks      | elapsed:  1.2min\n",
      "[Parallel(n_jobs=-1)]: Done  42 tasks      | elapsed:  1.3min\n",
      "[Parallel(n_jobs=-1)]: Done  43 tasks      | elapsed:  1.3min\n",
      "[Parallel(n_jobs=-1)]: Done  44 tasks      | elapsed:  1.3min\n",
      "[Parallel(n_jobs=-1)]: Done  45 tasks      | elapsed:  1.3min\n",
      "[Parallel(n_jobs=-1)]: Done  46 tasks      | elapsed:  1.3min\n",
      "[Parallel(n_jobs=-1)]: Done  47 tasks      | elapsed:  1.4min\n",
      "[Parallel(n_jobs=-1)]: Done  48 tasks      | elapsed:  1.4min\n",
      "[Parallel(n_jobs=-1)]: Done  49 tasks      | elapsed:  1.6min\n",
      "[Parallel(n_jobs=-1)]: Done  50 tasks      | elapsed:  1.6min\n",
      "[Parallel(n_jobs=-1)]: Done  51 tasks      | elapsed:  1.6min\n",
      "[Parallel(n_jobs=-1)]: Done  52 tasks      | elapsed:  1.7min\n",
      "[Parallel(n_jobs=-1)]: Done  53 tasks      | elapsed:  1.7min\n",
      "[Parallel(n_jobs=-1)]: Done  54 tasks      | elapsed:  1.8min\n",
      "[Parallel(n_jobs=-1)]: Done  55 tasks      | elapsed:  1.8min\n",
      "[Parallel(n_jobs=-1)]: Done  56 tasks      | elapsed:  1.9min\n",
      "[Parallel(n_jobs=-1)]: Done  57 tasks      | elapsed:  1.9min\n",
      "[Parallel(n_jobs=-1)]: Done  58 tasks      | elapsed:  1.9min\n",
      "[Parallel(n_jobs=-1)]: Done  59 tasks      | elapsed:  1.9min\n",
      "[Parallel(n_jobs=-1)]: Done  60 tasks      | elapsed:  2.0min\n",
      "[Parallel(n_jobs=-1)]: Done  61 tasks      | elapsed:  2.1min\n",
      "[Parallel(n_jobs=-1)]: Done  62 tasks      | elapsed:  2.1min\n",
      "[Parallel(n_jobs=-1)]: Done  63 tasks      | elapsed:  2.1min\n",
      "[Parallel(n_jobs=-1)]: Done  64 tasks      | elapsed:  2.1min\n",
      "[Parallel(n_jobs=-1)]: Done  65 tasks      | elapsed:  2.2min\n",
      "[Parallel(n_jobs=-1)]: Done  66 tasks      | elapsed:  2.2min\n",
      "[Parallel(n_jobs=-1)]: Done  67 tasks      | elapsed:  2.2min\n",
      "[Parallel(n_jobs=-1)]: Done  68 tasks      | elapsed:  2.2min\n",
      "[Parallel(n_jobs=-1)]: Done  69 tasks      | elapsed:  2.3min\n",
      "[Parallel(n_jobs=-1)]: Done  70 tasks      | elapsed:  2.3min\n",
      "[Parallel(n_jobs=-1)]: Done  71 tasks      | elapsed:  2.4min\n",
      "[Parallel(n_jobs=-1)]: Done  72 tasks      | elapsed:  2.4min\n",
      "[Parallel(n_jobs=-1)]: Done  73 tasks      | elapsed:  2.5min\n",
      "[Parallel(n_jobs=-1)]: Done  74 tasks      | elapsed:  2.5min\n",
      "[Parallel(n_jobs=-1)]: Done  75 tasks      | elapsed:  2.5min\n",
      "[Parallel(n_jobs=-1)]: Done  76 tasks      | elapsed:  2.5min\n",
      "[Parallel(n_jobs=-1)]: Done  77 tasks      | elapsed:  2.6min\n",
      "[Parallel(n_jobs=-1)]: Done  78 tasks      | elapsed:  2.6min\n",
      "[Parallel(n_jobs=-1)]: Done  79 tasks      | elapsed:  2.6min\n",
      "[Parallel(n_jobs=-1)]: Done  80 tasks      | elapsed:  2.6min\n",
      "[Parallel(n_jobs=-1)]: Done  81 tasks      | elapsed:  2.7min\n",
      "[Parallel(n_jobs=-1)]: Done  82 tasks      | elapsed:  2.8min\n",
      "[Parallel(n_jobs=-1)]: Done  83 tasks      | elapsed:  2.8min\n",
      "[Parallel(n_jobs=-1)]: Done  84 tasks      | elapsed:  2.8min\n",
      "[Parallel(n_jobs=-1)]: Done  85 tasks      | elapsed:  2.9min\n",
      "[Parallel(n_jobs=-1)]: Done  86 tasks      | elapsed:  2.9min\n",
      "[Parallel(n_jobs=-1)]: Done  87 tasks      | elapsed:  2.9min\n",
      "[Parallel(n_jobs=-1)]: Done  88 tasks      | elapsed:  3.0min\n",
      "[Parallel(n_jobs=-1)]: Done  89 tasks      | elapsed:  3.0min\n",
      "[Parallel(n_jobs=-1)]: Done  90 tasks      | elapsed:  3.0min\n",
      "[Parallel(n_jobs=-1)]: Done  91 tasks      | elapsed:  3.1min\n",
      "[Parallel(n_jobs=-1)]: Done  92 tasks      | elapsed:  3.1min\n",
      "[Parallel(n_jobs=-1)]: Done  94 out of  99 | elapsed:  3.2min remaining:   10.1s\n",
      "[Parallel(n_jobs=-1)]: Done  96 out of  99 | elapsed:  3.2min remaining:    6.0s\n",
      "[Parallel(n_jobs=-1)]: Done  99 out of  99 | elapsed:  3.3min finished\n"
     ]
    },
    {
     "data": {
      "text/plain": [
       "202.9180757"
      ]
     },
     "execution_count": 15,
     "metadata": {},
     "output_type": "execute_result"
    }
   ],
   "source": [
    "import time\n",
    "start = time.clock()\n",
    "\n",
    "# Use the random grid to search for best hyperparameters\n",
    "# First create the base model to tune\n",
    "\n",
    "rf1 = RandomForestRegressor()\n",
    "# Random search of parameters, using 3 fold cross validation, \n",
    "# search across 100 different combinations, and use all available cores\n",
    "rf_random = RandomizedSearchCV(estimator = rf1, param_distributions = random_grid, n_iter = 33, cv = 3, verbose=50, random_state=0, n_jobs = -1,scoring=\"neg_mean_squared_error\")\n",
    "\n",
    "# Fit the random search model\n",
    "rf_random.fit(X, Y)\n",
    "\n",
    "end = time.clock()\n",
    "end - start"
   ]
  },
  {
   "cell_type": "code",
   "execution_count": 16,
   "metadata": {
    "ExecuteTime": {
     "end_time": "2019-10-30T04:02:03.384068Z",
     "start_time": "2019-10-30T04:01:48.679131Z"
    }
   },
   "outputs": [
    {
     "name": "stdout",
     "output_type": "stream",
     "text": [
      "CV 0 Score:0.27669\n",
      "CV 1 Score:0.28578\n",
      "CV 2 Score:0.30274\n",
      "CV 3 Score:0.29272\n",
      "CV 4 Score:0.29054\n",
      "Average RMSE Cross-Validation Score : 0.29\n"
     ]
    }
   ],
   "source": [
    "# Random Forest Regression\n",
    "outcome_var = 'price'\n",
    "model = rf_random.best_estimator_\n",
    "predictor_var = all_variable\n",
    "regression_model(model, main_train, predictor_var, outcome_var)"
   ]
  },
  {
   "cell_type": "code",
   "execution_count": 17,
   "metadata": {
    "ExecuteTime": {
     "end_time": "2019-10-30T04:02:06.226318Z",
     "start_time": "2019-10-30T04:02:03.387069Z"
    }
   },
   "outputs": [
    {
     "data": {
      "text/plain": [
       "RandomForestRegressor(bootstrap=True, criterion='mse', max_depth=27,\n",
       "           max_features='sqrt', max_leaf_nodes=None,\n",
       "           min_impurity_decrease=0.0, min_impurity_split=None,\n",
       "           min_samples_leaf=1, min_samples_split=5,\n",
       "           min_weight_fraction_leaf=0.0, n_estimators=260, n_jobs=1,\n",
       "           oob_score=False, random_state=None, verbose=0, warm_start=False)"
      ]
     },
     "execution_count": 17,
     "metadata": {},
     "output_type": "execute_result"
    }
   ],
   "source": [
    "rf1_main=rf_random.best_estimator_\n",
    "rf1_main.fit(X_train, y_train)"
   ]
  },
  {
   "cell_type": "code",
   "execution_count": 18,
   "metadata": {
    "ExecuteTime": {
     "end_time": "2019-10-30T04:02:06.394225Z",
     "start_time": "2019-10-30T04:02:06.228317Z"
    }
   },
   "outputs": [],
   "source": [
    "predictions=rf1_main.predict(X_test)"
   ]
  },
  {
   "cell_type": "code",
   "execution_count": 19,
   "metadata": {
    "ExecuteTime": {
     "end_time": "2019-10-30T04:02:06.403208Z",
     "start_time": "2019-10-30T04:02:06.396214Z"
    }
   },
   "outputs": [
    {
     "name": "stdout",
     "output_type": "stream",
     "text": [
      "0.27685979103300334\n"
     ]
    }
   ],
   "source": [
    "print(np.sqrt(metrics.mean_squared_error(y_test,predictions)))"
   ]
  },
  {
   "cell_type": "code",
   "execution_count": 20,
   "metadata": {
    "ExecuteTime": {
     "end_time": "2019-10-30T04:03:09.040034Z",
     "start_time": "2019-10-30T04:02:06.406207Z"
    },
    "scrolled": true
   },
   "outputs": [
    {
     "data": {
      "text/plain": [
       "[<matplotlib.lines.Line2D at 0x2675fd1cb38>]"
      ]
     },
     "execution_count": 20,
     "metadata": {},
     "output_type": "execute_result"
    },
    {
     "data": {
      "image/png": "[encoded data removed]",
      "text/plain": [
       "<Figure size 2160x720 with 1 Axes>"
      ]
     },
     "metadata": {},
     "output_type": "display_data"
    }
   ],
   "source": [
    "estimators = np.arange(200, 930, 40) #850 #880\n",
    "\n",
    "\n",
    "model=RandomForestRegressor()\n",
    "\n",
    "rmse_scores = []\n",
    "for n in estimators:\n",
    "    model.set_params(bootstrap=True, criterion='mse', max_depth=None,\n",
    "           max_features='sqrt', max_leaf_nodes=None,\n",
    "           min_impurity_decrease=0.0, min_impurity_split=None,\n",
    "           min_samples_leaf=2, min_samples_split=2,\n",
    "           min_weight_fraction_leaf=0.0, n_estimators=n, n_jobs=-1,\n",
    "           oob_score=False, random_state=None, verbose=0, warm_start=False)\n",
    "    model.fit(X_train, y_train)\n",
    "    predictions=model.predict(X_test)\n",
    "    rmse_scores.append(np.sqrt(metrics.mean_squared_error(y_test,predictions)))\n",
    "\n",
    "plt.figure(figsize=(30,10))\n",
    "plt.title(\"Effect of Estimators\")\n",
    "plt.xlabel(\"Number of Estimators\")\n",
    "plt.ylabel(\"RMSE\")\n",
    "plt.plot(estimators, rmse_scores)"
   ]
  },
  {
   "cell_type": "markdown",
   "metadata": {},
   "source": [
    "### Grid Search"
   ]
  },
  {
   "cell_type": "code",
   "execution_count": 21,
   "metadata": {
    "ExecuteTime": {
     "end_time": "2019-10-30T04:03:09.048031Z",
     "start_time": "2019-10-30T04:03:09.043034Z"
    }
   },
   "outputs": [],
   "source": [
    "from sklearn.model_selection import GridSearchCV"
   ]
  },
  {
   "cell_type": "code",
   "execution_count": 22,
   "metadata": {
    "ExecuteTime": {
     "end_time": "2019-10-30T04:03:09.165955Z",
     "start_time": "2019-10-30T04:03:09.052027Z"
    }
   },
   "outputs": [],
   "source": [
    "XG_grid = {\"learning_rate\":[0.01,0.05,0.1],\n",
    "           \"n_estimators\":[600],\n",
    "           \"silent\":[True],\n",
    "           \"n_jobs\":[-1],\n",
    "           \"min_child_weight\":[1,3],\n",
    "           \"max_depth\":[4,6],\n",
    "           \"booster\":['gbtree'],\n",
    "           \"gamma\":[0.01,0.1],\n",
    "           \"colsample_bytree\":[0.8],\n",
    "          \"subsample\":[0.75,0.85]}"
   ]
  },
  {
   "cell_type": "code",
   "execution_count": 23,
   "metadata": {
    "ExecuteTime": {
     "end_time": "2019-10-30T04:14:34.936353Z",
     "start_time": "2019-10-30T04:03:09.168955Z"
    },
    "scrolled": true
   },
   "outputs": [
    {
     "name": "stdout",
     "output_type": "stream",
     "text": [
      "Fitting 4 folds for each of 48 candidates, totalling 192 fits\n",
      "[Parallel(n_jobs=-1)]: Done   1 tasks      | elapsed:   10.5s\n",
      "[Parallel(n_jobs=-1)]: Done   2 tasks      | elapsed:   14.4s\n",
      "[Parallel(n_jobs=-1)]: Done   3 tasks      | elapsed:   16.9s\n",
      "[Parallel(n_jobs=-1)]: Done   4 tasks      | elapsed:   18.8s\n",
      "[Parallel(n_jobs=-1)]: Done   5 tasks      | elapsed:   22.3s\n",
      "[Parallel(n_jobs=-1)]: Done   6 tasks      | elapsed:   26.1s\n",
      "[Parallel(n_jobs=-1)]: Done   7 tasks      | elapsed:   28.8s\n",
      "[Parallel(n_jobs=-1)]: Done   8 tasks      | elapsed:   30.7s\n",
      "[Parallel(n_jobs=-1)]: Done   9 tasks      | elapsed:   34.3s\n",
      "[Parallel(n_jobs=-1)]: Done  10 tasks      | elapsed:   38.1s\n",
      "[Parallel(n_jobs=-1)]: Done  11 tasks      | elapsed:   40.6s\n",
      "[Parallel(n_jobs=-1)]: Done  12 tasks      | elapsed:   42.6s\n",
      "[Parallel(n_jobs=-1)]: Done  13 tasks      | elapsed:   46.3s\n",
      "[Parallel(n_jobs=-1)]: Done  14 tasks      | elapsed:   50.1s\n",
      "[Parallel(n_jobs=-1)]: Done  15 tasks      | elapsed:   52.7s\n",
      "[Parallel(n_jobs=-1)]: Done  16 tasks      | elapsed:   54.6s\n",
      "[Parallel(n_jobs=-1)]: Done  17 tasks      | elapsed:  1.1min\n",
      "[Parallel(n_jobs=-1)]: Done  18 tasks      | elapsed:  1.1min\n",
      "[Parallel(n_jobs=-1)]: Done  19 tasks      | elapsed:  1.1min\n",
      "[Parallel(n_jobs=-1)]: Done  20 tasks      | elapsed:  1.2min\n",
      "[Parallel(n_jobs=-1)]: Done  21 tasks      | elapsed:  1.3min\n",
      "[Parallel(n_jobs=-1)]: Done  22 tasks      | elapsed:  1.4min\n",
      "[Parallel(n_jobs=-1)]: Done  23 tasks      | elapsed:  1.4min\n",
      "[Parallel(n_jobs=-1)]: Done  24 tasks      | elapsed:  1.4min\n",
      "[Parallel(n_jobs=-1)]: Done  25 tasks      | elapsed:  1.6min\n",
      "[Parallel(n_jobs=-1)]: Done  26 tasks      | elapsed:  1.6min\n",
      "[Parallel(n_jobs=-1)]: Done  27 tasks      | elapsed:  1.7min\n",
      "[Parallel(n_jobs=-1)]: Done  28 tasks      | elapsed:  1.7min\n",
      "[Parallel(n_jobs=-1)]: Done  29 tasks      | elapsed:  1.8min\n",
      "[Parallel(n_jobs=-1)]: Done  30 tasks      | elapsed:  1.9min\n",
      "[Parallel(n_jobs=-1)]: Done  31 tasks      | elapsed:  1.9min\n",
      "[Parallel(n_jobs=-1)]: Done  32 tasks      | elapsed:  2.0min\n",
      "[Parallel(n_jobs=-1)]: Done  33 tasks      | elapsed:  2.0min\n",
      "[Parallel(n_jobs=-1)]: Done  34 tasks      | elapsed:  2.1min\n",
      "[Parallel(n_jobs=-1)]: Done  35 tasks      | elapsed:  2.1min\n",
      "[Parallel(n_jobs=-1)]: Done  36 tasks      | elapsed:  2.2min\n",
      "[Parallel(n_jobs=-1)]: Done  37 tasks      | elapsed:  2.2min\n",
      "[Parallel(n_jobs=-1)]: Done  38 tasks      | elapsed:  2.3min\n",
      "[Parallel(n_jobs=-1)]: Done  39 tasks      | elapsed:  2.3min\n",
      "[Parallel(n_jobs=-1)]: Done  40 tasks      | elapsed:  2.4min\n",
      "[Parallel(n_jobs=-1)]: Done  41 tasks      | elapsed:  2.4min\n",
      "[Parallel(n_jobs=-1)]: Done  42 tasks      | elapsed:  2.5min\n",
      "[Parallel(n_jobs=-1)]: Done  43 tasks      | elapsed:  2.5min\n",
      "[Parallel(n_jobs=-1)]: Done  44 tasks      | elapsed:  2.6min\n",
      "[Parallel(n_jobs=-1)]: Done  45 tasks      | elapsed:  2.6min\n",
      "[Parallel(n_jobs=-1)]: Done  46 tasks      | elapsed:  2.7min\n",
      "[Parallel(n_jobs=-1)]: Done  47 tasks      | elapsed:  2.7min\n",
      "[Parallel(n_jobs=-1)]: Done  48 tasks      | elapsed:  2.7min\n",
      "[Parallel(n_jobs=-1)]: Done  49 tasks      | elapsed:  2.9min\n",
      "[Parallel(n_jobs=-1)]: Done  50 tasks      | elapsed:  3.0min\n",
      "[Parallel(n_jobs=-1)]: Done  51 tasks      | elapsed:  3.0min\n",
      "[Parallel(n_jobs=-1)]: Done  52 tasks      | elapsed:  3.0min\n",
      "[Parallel(n_jobs=-1)]: Done  53 tasks      | elapsed:  3.2min\n",
      "[Parallel(n_jobs=-1)]: Done  54 tasks      | elapsed:  3.2min\n",
      "[Parallel(n_jobs=-1)]: Done  55 tasks      | elapsed:  3.3min\n",
      "[Parallel(n_jobs=-1)]: Done  56 tasks      | elapsed:  3.3min\n",
      "[Parallel(n_jobs=-1)]: Done  57 tasks      | elapsed:  3.4min\n",
      "[Parallel(n_jobs=-1)]: Done  58 tasks      | elapsed:  3.5min\n",
      "[Parallel(n_jobs=-1)]: Done  59 tasks      | elapsed:  3.5min\n",
      "[Parallel(n_jobs=-1)]: Done  60 tasks      | elapsed:  3.6min\n",
      "[Parallel(n_jobs=-1)]: Done  61 tasks      | elapsed:  3.7min\n",
      "[Parallel(n_jobs=-1)]: Done  62 tasks      | elapsed:  3.8min\n",
      "[Parallel(n_jobs=-1)]: Done  63 tasks      | elapsed:  3.8min\n",
      "[Parallel(n_jobs=-1)]: Done  64 tasks      | elapsed:  3.8min\n",
      "[Parallel(n_jobs=-1)]: Done  65 tasks      | elapsed:  3.9min\n",
      "[Parallel(n_jobs=-1)]: Done  66 tasks      | elapsed:  4.0min\n",
      "[Parallel(n_jobs=-1)]: Done  67 tasks      | elapsed:  4.0min\n",
      "[Parallel(n_jobs=-1)]: Done  68 tasks      | elapsed:  4.0min\n",
      "[Parallel(n_jobs=-1)]: Done  69 tasks      | elapsed:  4.1min\n",
      "[Parallel(n_jobs=-1)]: Done  70 tasks      | elapsed:  4.2min\n",
      "[Parallel(n_jobs=-1)]: Done  71 tasks      | elapsed:  4.2min\n",
      "[Parallel(n_jobs=-1)]: Done  72 tasks      | elapsed:  4.2min\n",
      "[Parallel(n_jobs=-1)]: Done  73 tasks      | elapsed:  4.3min\n",
      "[Parallel(n_jobs=-1)]: Done  74 tasks      | elapsed:  4.4min\n",
      "[Parallel(n_jobs=-1)]: Done  75 tasks      | elapsed:  4.4min\n",
      "[Parallel(n_jobs=-1)]: Done  76 tasks      | elapsed:  4.4min\n",
      "[Parallel(n_jobs=-1)]: Done  77 tasks      | elapsed:  4.5min\n",
      "[Parallel(n_jobs=-1)]: Done  78 tasks      | elapsed:  4.5min\n",
      "[Parallel(n_jobs=-1)]: Done  79 tasks      | elapsed:  4.6min\n",
      "[Parallel(n_jobs=-1)]: Done  80 tasks      | elapsed:  4.6min\n",
      "[Parallel(n_jobs=-1)]: Done  81 tasks      | elapsed:  4.8min\n",
      "[Parallel(n_jobs=-1)]: Done  82 tasks      | elapsed:  4.8min\n",
      "[Parallel(n_jobs=-1)]: Done  83 tasks      | elapsed:  4.9min\n",
      "[Parallel(n_jobs=-1)]: Done  84 tasks      | elapsed:  4.9min\n",
      "[Parallel(n_jobs=-1)]: Done  85 tasks      | elapsed:  5.0min\n",
      "[Parallel(n_jobs=-1)]: Done  86 tasks      | elapsed:  5.1min\n",
      "[Parallel(n_jobs=-1)]: Done  87 tasks      | elapsed:  5.1min\n",
      "[Parallel(n_jobs=-1)]: Done  88 tasks      | elapsed:  5.1min\n",
      "[Parallel(n_jobs=-1)]: Done  89 tasks      | elapsed:  5.3min\n",
      "[Parallel(n_jobs=-1)]: Done  90 tasks      | elapsed:  5.4min\n",
      "[Parallel(n_jobs=-1)]: Done  91 tasks      | elapsed:  5.4min\n",
      "[Parallel(n_jobs=-1)]: Done  92 tasks      | elapsed:  5.4min\n",
      "[Parallel(n_jobs=-1)]: Done  93 tasks      | elapsed:  5.6min\n",
      "[Parallel(n_jobs=-1)]: Done  94 tasks      | elapsed:  5.6min\n",
      "[Parallel(n_jobs=-1)]: Done  95 tasks      | elapsed:  5.7min\n",
      "[Parallel(n_jobs=-1)]: Done  96 tasks      | elapsed:  5.7min\n",
      "[Parallel(n_jobs=-1)]: Done  97 tasks      | elapsed:  5.8min\n",
      "[Parallel(n_jobs=-1)]: Done  98 tasks      | elapsed:  5.8min\n",
      "[Parallel(n_jobs=-1)]: Done  99 tasks      | elapsed:  5.9min\n",
      "[Parallel(n_jobs=-1)]: Done 100 tasks      | elapsed:  5.9min\n",
      "[Parallel(n_jobs=-1)]: Done 101 tasks      | elapsed:  6.0min\n",
      "[Parallel(n_jobs=-1)]: Done 102 tasks      | elapsed:  6.0min\n",
      "[Parallel(n_jobs=-1)]: Done 103 tasks      | elapsed:  6.1min\n",
      "[Parallel(n_jobs=-1)]: Done 104 tasks      | elapsed:  6.1min\n",
      "[Parallel(n_jobs=-1)]: Done 105 tasks      | elapsed:  6.2min\n",
      "[Parallel(n_jobs=-1)]: Done 106 tasks      | elapsed:  6.2min\n",
      "[Parallel(n_jobs=-1)]: Done 107 tasks      | elapsed:  6.3min\n",
      "[Parallel(n_jobs=-1)]: Done 108 tasks      | elapsed:  6.3min\n",
      "[Parallel(n_jobs=-1)]: Done 109 tasks      | elapsed:  6.4min\n",
      "[Parallel(n_jobs=-1)]: Done 110 tasks      | elapsed:  6.4min\n",
      "[Parallel(n_jobs=-1)]: Done 111 tasks      | elapsed:  6.5min\n",
      "[Parallel(n_jobs=-1)]: Done 112 tasks      | elapsed:  6.5min\n",
      "[Parallel(n_jobs=-1)]: Done 113 tasks      | elapsed:  6.7min\n",
      "[Parallel(n_jobs=-1)]: Done 114 tasks      | elapsed:  6.7min\n",
      "[Parallel(n_jobs=-1)]: Done 115 tasks      | elapsed:  6.7min\n",
      "[Parallel(n_jobs=-1)]: Done 116 tasks      | elapsed:  6.8min\n",
      "[Parallel(n_jobs=-1)]: Done 117 tasks      | elapsed:  6.9min\n",
      "[Parallel(n_jobs=-1)]: Done 118 tasks      | elapsed:  7.0min\n",
      "[Parallel(n_jobs=-1)]: Done 119 tasks      | elapsed:  7.0min\n",
      "[Parallel(n_jobs=-1)]: Done 120 tasks      | elapsed:  7.0min\n",
      "[Parallel(n_jobs=-1)]: Done 121 tasks      | elapsed:  7.2min\n",
      "[Parallel(n_jobs=-1)]: Done 122 tasks      | elapsed:  7.2min\n",
      "[Parallel(n_jobs=-1)]: Done 123 tasks      | elapsed:  7.3min\n",
      "[Parallel(n_jobs=-1)]: Done 124 tasks      | elapsed:  7.3min\n",
      "[Parallel(n_jobs=-1)]: Done 125 tasks      | elapsed:  7.5min\n",
      "[Parallel(n_jobs=-1)]: Done 126 tasks      | elapsed:  7.5min\n",
      "[Parallel(n_jobs=-1)]: Done 127 tasks      | elapsed:  7.6min\n",
      "[Parallel(n_jobs=-1)]: Done 128 tasks      | elapsed:  7.6min\n",
      "[Parallel(n_jobs=-1)]: Done 129 tasks      | elapsed:  7.7min\n",
      "[Parallel(n_jobs=-1)]: Done 130 tasks      | elapsed:  7.7min\n",
      "[Parallel(n_jobs=-1)]: Done 131 tasks      | elapsed:  7.8min\n",
      "[Parallel(n_jobs=-1)]: Done 132 tasks      | elapsed:  7.8min\n"
     ]
    },
    {
     "name": "stdout",
     "output_type": "stream",
     "text": [
      "[Parallel(n_jobs=-1)]: Done 133 tasks      | elapsed:  7.9min\n",
      "[Parallel(n_jobs=-1)]: Done 134 tasks      | elapsed:  7.9min\n",
      "[Parallel(n_jobs=-1)]: Done 135 tasks      | elapsed:  8.0min\n",
      "[Parallel(n_jobs=-1)]: Done 136 tasks      | elapsed:  8.0min\n",
      "[Parallel(n_jobs=-1)]: Done 137 tasks      | elapsed:  8.1min\n",
      "[Parallel(n_jobs=-1)]: Done 138 tasks      | elapsed:  8.1min\n",
      "[Parallel(n_jobs=-1)]: Done 139 tasks      | elapsed:  8.2min\n",
      "[Parallel(n_jobs=-1)]: Done 140 tasks      | elapsed:  8.2min\n",
      "[Parallel(n_jobs=-1)]: Done 141 tasks      | elapsed:  8.3min\n",
      "[Parallel(n_jobs=-1)]: Done 142 tasks      | elapsed:  8.3min\n",
      "[Parallel(n_jobs=-1)]: Done 143 tasks      | elapsed:  8.4min\n",
      "[Parallel(n_jobs=-1)]: Done 144 tasks      | elapsed:  8.4min\n",
      "[Parallel(n_jobs=-1)]: Done 145 tasks      | elapsed:  8.5min\n",
      "[Parallel(n_jobs=-1)]: Done 146 tasks      | elapsed:  8.6min\n",
      "[Parallel(n_jobs=-1)]: Done 147 tasks      | elapsed:  8.6min\n",
      "[Parallel(n_jobs=-1)]: Done 148 tasks      | elapsed:  8.6min\n",
      "[Parallel(n_jobs=-1)]: Done 149 tasks      | elapsed:  8.8min\n",
      "[Parallel(n_jobs=-1)]: Done 150 tasks      | elapsed:  8.9min\n",
      "[Parallel(n_jobs=-1)]: Done 151 tasks      | elapsed:  8.9min\n",
      "[Parallel(n_jobs=-1)]: Done 152 tasks      | elapsed:  8.9min\n",
      "[Parallel(n_jobs=-1)]: Done 153 tasks      | elapsed:  9.1min\n",
      "[Parallel(n_jobs=-1)]: Done 154 tasks      | elapsed:  9.1min\n",
      "[Parallel(n_jobs=-1)]: Done 155 tasks      | elapsed:  9.2min\n",
      "[Parallel(n_jobs=-1)]: Done 156 tasks      | elapsed:  9.2min\n",
      "[Parallel(n_jobs=-1)]: Done 157 tasks      | elapsed:  9.4min\n",
      "[Parallel(n_jobs=-1)]: Done 158 tasks      | elapsed:  9.4min\n",
      "[Parallel(n_jobs=-1)]: Done 159 tasks      | elapsed:  9.4min\n",
      "[Parallel(n_jobs=-1)]: Done 160 tasks      | elapsed:  9.5min\n",
      "[Parallel(n_jobs=-1)]: Done 161 tasks      | elapsed:  9.6min\n",
      "[Parallel(n_jobs=-1)]: Done 162 tasks      | elapsed:  9.6min\n",
      "[Parallel(n_jobs=-1)]: Done 163 tasks      | elapsed:  9.6min\n",
      "[Parallel(n_jobs=-1)]: Done 164 tasks      | elapsed:  9.7min\n",
      "[Parallel(n_jobs=-1)]: Done 165 tasks      | elapsed:  9.8min\n",
      "[Parallel(n_jobs=-1)]: Done 166 tasks      | elapsed:  9.8min\n",
      "[Parallel(n_jobs=-1)]: Done 167 tasks      | elapsed:  9.8min\n",
      "[Parallel(n_jobs=-1)]: Done 168 tasks      | elapsed:  9.9min\n",
      "[Parallel(n_jobs=-1)]: Done 169 tasks      | elapsed: 10.0min\n",
      "[Parallel(n_jobs=-1)]: Done 170 tasks      | elapsed: 10.0min\n",
      "[Parallel(n_jobs=-1)]: Done 171 tasks      | elapsed: 10.0min\n",
      "[Parallel(n_jobs=-1)]: Done 172 tasks      | elapsed: 10.1min\n",
      "[Parallel(n_jobs=-1)]: Done 173 tasks      | elapsed: 10.2min\n",
      "[Parallel(n_jobs=-1)]: Done 174 tasks      | elapsed: 10.2min\n",
      "[Parallel(n_jobs=-1)]: Done 175 tasks      | elapsed: 10.2min\n",
      "[Parallel(n_jobs=-1)]: Done 176 tasks      | elapsed: 10.2min\n",
      "[Parallel(n_jobs=-1)]: Done 177 tasks      | elapsed: 10.4min\n",
      "[Parallel(n_jobs=-1)]: Done 178 tasks      | elapsed: 10.5min\n",
      "[Parallel(n_jobs=-1)]: Done 179 tasks      | elapsed: 10.5min\n",
      "[Parallel(n_jobs=-1)]: Done 180 tasks      | elapsed: 10.5min\n",
      "[Parallel(n_jobs=-1)]: Done 181 tasks      | elapsed: 10.7min\n",
      "[Parallel(n_jobs=-1)]: Done 182 tasks      | elapsed: 10.7min\n",
      "[Parallel(n_jobs=-1)]: Done 183 tasks      | elapsed: 10.8min\n",
      "[Parallel(n_jobs=-1)]: Done 184 tasks      | elapsed: 10.8min\n",
      "[Parallel(n_jobs=-1)]: Done 185 tasks      | elapsed: 11.0min\n",
      "[Parallel(n_jobs=-1)]: Done 189 out of 192 | elapsed: 11.2min remaining:   10.6s\n",
      "[Parallel(n_jobs=-1)]: Done 192 out of 192 | elapsed: 11.3min finished\n"
     ]
    },
    {
     "data": {
      "text/plain": [
       "685.6748358"
      ]
     },
     "execution_count": 23,
     "metadata": {},
     "output_type": "execute_result"
    }
   ],
   "source": [
    "import time\n",
    "start = time.clock()\n",
    "\n",
    "\n",
    "XG=XGBRegressor()\n",
    "\n",
    "XG_Boost = GridSearchCV(estimator=XG,\n",
    "                        param_grid=XG_grid,\n",
    "                        n_jobs=-1,\n",
    "                        cv=4,\n",
    "                        scoring=\"neg_mean_squared_error\",\n",
    "                        verbose=50)\n",
    "\n",
    "\n",
    "XG_Boost.fit(X,Y)\n",
    "\n",
    "end = time.clock()\n",
    "end - start"
   ]
  },
  {
   "cell_type": "code",
   "execution_count": 24,
   "metadata": {
    "ExecuteTime": {
     "end_time": "2019-10-30T04:14:34.946348Z",
     "start_time": "2019-10-30T04:14:34.939353Z"
    },
    "scrolled": true
   },
   "outputs": [],
   "source": [
    "# cv_results = XG_Boost.cv_results_\n",
    "# for mean_score, params in zip(cv_results[\"mean_test_score\"], cv_results[\"params\"]):\n",
    "#     print(np.sqrt(-mean_score), params)"
   ]
  },
  {
   "cell_type": "code",
   "execution_count": 25,
   "metadata": {
    "ExecuteTime": {
     "end_time": "2019-10-30T04:14:59.330321Z",
     "start_time": "2019-10-30T04:14:34.950347Z"
    }
   },
   "outputs": [
    {
     "name": "stdout",
     "output_type": "stream",
     "text": [
      "CV 0 Score:0.28537\n",
      "CV 1 Score:0.29053\n",
      "CV 2 Score:0.30411\n",
      "CV 3 Score:0.29754\n",
      "CV 4 Score:0.28717\n",
      "Average RMSE Cross-Validation Score : 0.293\n"
     ]
    }
   ],
   "source": [
    "# XGBoost Regression\n",
    "rmse = make_scorer(mean_sq_error,greater_is_better=True)\n",
    "outcome_var = 'price'\n",
    "model = XG_Boost.best_estimator_\n",
    "predictor_var = all_variable\n",
    "regression_model(model, main_train, predictor_var, outcome_var)"
   ]
  },
  {
   "cell_type": "code",
   "execution_count": 26,
   "metadata": {
    "ExecuteTime": {
     "end_time": "2019-10-30T04:15:04.287265Z",
     "start_time": "2019-10-30T04:14:59.333321Z"
    }
   },
   "outputs": [
    {
     "data": {
      "text/plain": [
       "XGBRegressor(base_score=0.5, booster='gbtree', colsample_bylevel=1,\n",
       "       colsample_bynode=1, colsample_bytree=0.8, gamma=0.01,\n",
       "       importance_type='gain', learning_rate=0.05, max_delta_step=0,\n",
       "       max_depth=6, min_child_weight=1, missing=None, n_estimators=600,\n",
       "       n_jobs=-1, nthread=None, objective='reg:linear', random_state=0,\n",
       "       reg_alpha=0, reg_lambda=1, scale_pos_weight=1, seed=None,\n",
       "       silent=True, subsample=0.85, verbosity=1)"
      ]
     },
     "execution_count": 26,
     "metadata": {},
     "output_type": "execute_result"
    }
   ],
   "source": [
    "# XG_Boost1=XG_Boost.best_estimator_\n",
    "XG_Boost1=XGBRegressor(base_score=0.5, booster='gbtree', colsample_bylevel=1,\n",
    "       colsample_bynode=1, colsample_bytree=0.8, gamma=0.01,\n",
    "       importance_type='gain', learning_rate=0.05, max_delta_step=0,\n",
    "       max_depth=6, min_child_weight=1, missing=None, n_estimators=600,\n",
    "       n_jobs=-1, nthread=None, objective='reg:linear', random_state=0,\n",
    "       reg_alpha=0, reg_lambda=1, scale_pos_weight=1, seed=None,\n",
    "       silent=True, subsample=0.85, verbosity=1)\n",
    "\n",
    "XG_Boost1.fit(X_train, y_train)"
   ]
  },
  {
   "cell_type": "code",
   "execution_count": 27,
   "metadata": {
    "ExecuteTime": {
     "end_time": "2019-10-30T04:15:04.355225Z",
     "start_time": "2019-10-30T04:15:04.290266Z"
    }
   },
   "outputs": [],
   "source": [
    "predictions=XG_Boost1.predict(X_test)"
   ]
  },
  {
   "cell_type": "code",
   "execution_count": 28,
   "metadata": {
    "ExecuteTime": {
     "end_time": "2019-10-30T04:15:04.411191Z",
     "start_time": "2019-10-30T04:15:04.358225Z"
    }
   },
   "outputs": [
    {
     "name": "stdout",
     "output_type": "stream",
     "text": [
      "0.278729401270455\n"
     ]
    }
   ],
   "source": [
    "#RMSE\n",
    "print(np.sqrt(metrics.mean_squared_error(y_test,predictions)))"
   ]
  },
  {
   "cell_type": "markdown",
   "metadata": {},
   "source": [
    "## Feature Importance"
   ]
  },
  {
   "cell_type": "markdown",
   "metadata": {},
   "source": [
    "### Random Forest"
   ]
  },
  {
   "cell_type": "code",
   "execution_count": 29,
   "metadata": {
    "ExecuteTime": {
     "end_time": "2019-10-30T04:15:04.711005Z",
     "start_time": "2019-10-30T04:15:04.414190Z"
    }
   },
   "outputs": [
    {
     "data": {
      "image/png": "[encoded data removed]",
      "text/plain": [
       "<Figure size 432x288 with 1 Axes>"
      ]
     },
     "metadata": {},
     "output_type": "display_data"
    }
   ],
   "source": [
    "features = X_train.columns\n",
    "importances = rf1_main.feature_importances_\n",
    "indices = np.argsort(importances)\n",
    "\n",
    "plt.title('Feature Importances')\n",
    "plt.barh(range(len(indices)), importances[indices], color='b', align='center')\n",
    "plt.yticks(range(len(indices)), [features[i] for i in indices])\n",
    "plt.xlabel('Relative Importance')\n",
    "plt.show()"
   ]
  },
  {
   "cell_type": "markdown",
   "metadata": {},
   "source": [
    "### XGBoost"
   ]
  },
  {
   "cell_type": "code",
   "execution_count": 30,
   "metadata": {
    "ExecuteTime": {
     "end_time": "2019-10-30T04:15:04.721000Z",
     "start_time": "2019-10-30T04:15:04.714004Z"
    }
   },
   "outputs": [],
   "source": [
    "from xgboost import plot_importance"
   ]
  },
  {
   "cell_type": "code",
   "execution_count": 31,
   "metadata": {
    "ExecuteTime": {
     "end_time": "2019-10-30T04:15:05.364603Z",
     "start_time": "2019-10-30T04:15:04.723998Z"
    }
   },
   "outputs": [
    {
     "data": {
      "text/plain": [
       "<matplotlib.axes._subplots.AxesSubplot at 0x2675fccb860>"
      ]
     },
     "execution_count": 31,
     "metadata": {},
     "output_type": "execute_result"
    },
    {
     "data": {
      "image/png": "[encoded data removed]",
      "text/plain": [
       "<Figure size 432x288 with 1 Axes>"
      ]
     },
     "metadata": {},
     "output_type": "display_data"
    }
   ],
   "source": [
    "plot_importance(XG_Boost1)"
   ]
  },
  {
   "cell_type": "markdown",
   "metadata": {},
   "source": [
    "## Recursive Feature Elimination"
   ]
  },
  {
   "cell_type": "code",
   "execution_count": 32,
   "metadata": {
    "ExecuteTime": {
     "end_time": "2019-10-30T04:15:05.372599Z",
     "start_time": "2019-10-30T04:15:05.368601Z"
    }
   },
   "outputs": [],
   "source": [
    "from sklearn.feature_selection import RFECV"
   ]
  },
  {
   "cell_type": "markdown",
   "metadata": {},
   "source": [
    "### Random Forest"
   ]
  },
  {
   "cell_type": "code",
   "execution_count": 33,
   "metadata": {
    "ExecuteTime": {
     "end_time": "2019-10-30T04:15:31.044779Z",
     "start_time": "2019-10-30T04:15:05.376599Z"
    }
   },
   "outputs": [
    {
     "data": {
      "text/plain": [
       "RFECV(cv=3,\n",
       "   estimator=RandomForestRegressor(bootstrap=True, criterion='mse', max_depth=27,\n",
       "           max_features='sqrt', max_leaf_nodes=None,\n",
       "           min_impurity_decrease=0.0, min_impurity_split=None,\n",
       "           min_samples_leaf=1, min_samples_split=5,\n",
       "           min_weight_fraction_leaf=0.0, n_estimators=260, n_jobs=1,\n",
       "           oob_score=False, random_state=None, verbose=0, warm_start=False),\n",
       "   n_jobs=-1, scoring='neg_mean_squared_error', step=3, verbose=50)"
      ]
     },
     "execution_count": 33,
     "metadata": {},
     "output_type": "execute_result"
    }
   ],
   "source": [
    "RFE = RFECV(rf1_main, step=3, cv=3, n_jobs=-1,\n",
    "            scoring=\"neg_mean_squared_error\", verbose=50)\n",
    "\n",
    "RFE.fit(X=X_train, y=y_train)"
   ]
  },
  {
   "cell_type": "code",
   "execution_count": 34,
   "metadata": {
    "ExecuteTime": {
     "end_time": "2019-10-30T04:15:31.054771Z",
     "start_time": "2019-10-30T04:15:31.046777Z"
    }
   },
   "outputs": [
    {
     "data": {
      "text/plain": [
       "array([ True,  True,  True,  True,  True,  True,  True,  True,  True,\n",
       "        True,  True])"
      ]
     },
     "execution_count": 34,
     "metadata": {},
     "output_type": "execute_result"
    }
   ],
   "source": [
    "RFE.support_"
   ]
  },
  {
   "cell_type": "code",
   "execution_count": 35,
   "metadata": {
    "ExecuteTime": {
     "end_time": "2019-10-30T04:15:31.186691Z",
     "start_time": "2019-10-30T04:15:31.056772Z"
    }
   },
   "outputs": [],
   "source": [
    "selected_feature_rf = dict(zip(X_train.columns,RFE.support_))\n",
    "\n",
    "selected_rf = []\n",
    "for k,v in selected_feature_rf.items():\n",
    "    if (v==True):\n",
    "        selected_rf.append(k)"
   ]
  },
  {
   "cell_type": "code",
   "execution_count": 36,
   "metadata": {
    "ExecuteTime": {
     "end_time": "2019-10-30T04:15:31.273640Z",
     "start_time": "2019-10-30T04:15:31.188689Z"
    }
   },
   "outputs": [
    {
     "data": {
      "text/plain": [
       "['availability',\n",
       " 'size',\n",
       " 'society',\n",
       " 'total_sqft',\n",
       " 'bath',\n",
       " 'balcony',\n",
       " 'avg_price_per_loc',\n",
       " 'area_type_Built-up  Area',\n",
       " 'area_type_Carpet  Area',\n",
       " 'area_type_Plot  Area',\n",
       " 'area_type_Super built-up  Area']"
      ]
     },
     "execution_count": 36,
     "metadata": {},
     "output_type": "execute_result"
    }
   ],
   "source": [
    "selected_rf"
   ]
  },
  {
   "cell_type": "markdown",
   "metadata": {},
   "source": [
    "### XGBoost"
   ]
  },
  {
   "cell_type": "code",
   "execution_count": 37,
   "metadata": {
    "ExecuteTime": {
     "end_time": "2019-10-30T04:16:15.936482Z",
     "start_time": "2019-10-30T04:15:31.277635Z"
    }
   },
   "outputs": [
    {
     "data": {
      "text/plain": [
       "RFECV(cv=3,\n",
       "   estimator=XGBRegressor(base_score=0.5, booster='gbtree', colsample_bylevel=1,\n",
       "       colsample_bynode=1, colsample_bytree=0.8, gamma=0.01,\n",
       "       importance_type='gain', learning_rate=0.05, max_delta_step=0,\n",
       "       max_depth=6, min_child_weight=1, missing=None, n_estimators=600,\n",
       "       n_jobs=-1, nthread=None, objective='reg:linear', random_state=0,\n",
       "       reg_alpha=0, reg_lambda=1, scale_pos_weight=1, seed=None,\n",
       "       silent=True, subsample=0.85, verbosity=1),\n",
       "   n_jobs=-1, scoring='neg_mean_squared_error', step=3, verbose=50)"
      ]
     },
     "execution_count": 37,
     "metadata": {},
     "output_type": "execute_result"
    }
   ],
   "source": [
    "RFE = RFECV(XG_Boost1, step=3, cv=3, n_jobs=-1,\n",
    "            scoring=\"neg_mean_squared_error\", verbose=50)\n",
    "\n",
    "RFE.fit(X=X_train, y=y_train)"
   ]
  },
  {
   "cell_type": "code",
   "execution_count": 38,
   "metadata": {
    "ExecuteTime": {
     "end_time": "2019-10-30T04:16:15.948477Z",
     "start_time": "2019-10-30T04:16:15.939481Z"
    }
   },
   "outputs": [
    {
     "data": {
      "text/plain": [
       "array([ True,  True,  True,  True,  True,  True,  True,  True,  True,\n",
       "        True,  True])"
      ]
     },
     "execution_count": 38,
     "metadata": {},
     "output_type": "execute_result"
    }
   ],
   "source": [
    "RFE.support_"
   ]
  },
  {
   "cell_type": "code",
   "execution_count": 40,
   "metadata": {
    "ExecuteTime": {
     "end_time": "2019-10-30T04:32:04.955628Z",
     "start_time": "2019-10-30T04:32:04.949633Z"
    }
   },
   "outputs": [],
   "source": [
    "selected_feature_xgb = dict(zip(X_train.columns,RFE.support_))\n",
    "\n",
    "selected_xgb = []\n",
    "for k,v in selected_feature_xgb.items():\n",
    "    if (v==True):\n",
    "        selected_xgb.append(k)"
   ]
  },
  {
   "cell_type": "code",
   "execution_count": 41,
   "metadata": {
    "ExecuteTime": {
     "end_time": "2019-10-30T04:32:06.744217Z",
     "start_time": "2019-10-30T04:32:06.735223Z"
    },
    "scrolled": true
   },
   "outputs": [
    {
     "data": {
      "text/plain": [
       "['availability',\n",
       " 'size',\n",
       " 'society',\n",
       " 'total_sqft',\n",
       " 'bath',\n",
       " 'balcony',\n",
       " 'avg_price_per_loc',\n",
       " 'area_type_Built-up  Area',\n",
       " 'area_type_Carpet  Area',\n",
       " 'area_type_Plot  Area',\n",
       " 'area_type_Super built-up  Area']"
      ]
     },
     "execution_count": 41,
     "metadata": {},
     "output_type": "execute_result"
    }
   ],
   "source": [
    "selected_xgb"
   ]
  },
  {
   "cell_type": "code",
   "execution_count": null,
   "metadata": {},
   "outputs": [],
   "source": []
  }
 ],
 "metadata": {
  "kernelspec": {
   "display_name": "Python 3",
   "language": "python",
   "name": "python3"
  },
  "language_info": {
   "codemirror_mode": {
    "name": "ipython",
    "version": 3
   },
   "file_extension": ".py",
   "mimetype": "text/x-python",
   "name": "python",
   "nbconvert_exporter": "python",
   "pygments_lexer": "ipython3",
   "version": "3.6.5"
  },
  "toc": {
   "base_numbering": 1,
   "nav_menu": {},
   "number_sections": true,
   "sideBar": true,
   "skip_h1_title": false,
   "title_cell": "Table of Contents",
   "title_sidebar": "Contents",
   "toc_cell": false,
   "toc_position": {
    "height": "calc(100% - 180px)",
    "left": "10px",
    "top": "150px",
    "width": "257px"
   },
   "toc_section_display": true,
   "toc_window_display": true
  }
 },
 "nbformat": 4,
 "nbformat_minor": 2
}
