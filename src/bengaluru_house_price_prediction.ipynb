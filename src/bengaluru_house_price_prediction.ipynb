{
 "cells": [
  {
   "cell_type": "markdown",
   "metadata": {},
   "source": [
    "<b> Data: </b>\n",
    "\n",
    "The train and test data will consist of various features that describe that property in Bengaluru. This is an actual data set that is curated over months of primary & secondary research by our team. Each row contains fixed size object of features. There are 9 features and each feature can be accessed by its name.\n",
    "\n",
    "<b>Features:</b>\n",
    "\n",
    "- Area_type – describes the area\n",
    "- Availability – when it can be possessed or when it is ready(categorical and time-series)\n",
    "- Location – where it is located in Bengaluru\n",
    "- Price – Value of the property in lakhs(INR)\n",
    "- Size – in BHK or Bedroom (1-10 or more)\n",
    "- Society – to which society it belongs\n",
    "- Total_sqft – size of the property in sq.ft\n",
    "- Bath – No. of bathrooms\n",
    "- Balcony – No. of the balcony\n",
    "\n",
    "<b>Problem Statement:</b>\n",
    "\n",
    "With the given 9 features(categorical and continuous) build a model to predict the price of houses in Bengaluru."
   ]
  },
  {
   "cell_type": "markdown",
   "metadata": {},
   "source": [
    "# Imports"
   ]
  },
  {
   "cell_type": "code",
   "execution_count": 1,
   "metadata": {
    "ExecuteTime": {
     "end_time": "2019-10-31T17:57:04.243433Z",
     "start_time": "2019-10-31T17:56:53.327120Z"
    }
   },
   "outputs": [],
   "source": [
    "import numpy as np\n",
    "import pandas as pd\n",
    "import string\n",
    "import matplotlib.pyplot as plt\n",
    "import seaborn as sns\n",
    "import math\n",
    "\n",
    "from IPython.core.interactiveshell import InteractiveShell\n",
    "InteractiveShell.ast_node_interactivity = \"all\"\n",
    "\n",
    "import warnings\n",
    "warnings.filterwarnings('ignore')"
   ]
  },
  {
   "cell_type": "markdown",
   "metadata": {},
   "source": [
    "# Data Loads"
   ]
  },
  {
   "cell_type": "code",
   "execution_count": 2,
   "metadata": {
    "ExecuteTime": {
     "end_time": "2019-10-31T17:57:26.466687Z",
     "start_time": "2019-10-31T17:57:26.357758Z"
    }
   },
   "outputs": [],
   "source": [
    "train_data=pd.read_csv(r\"..\\data\\raw\\train_data.csv\")\n",
    "test_data=pd.read_csv(r\"..\\data\\raw\\test_data.csv\")"
   ]
  },
  {
   "cell_type": "code",
   "execution_count": 3,
   "metadata": {
    "ExecuteTime": {
     "end_time": "2019-10-31T17:57:27.039336Z",
     "start_time": "2019-10-31T17:57:27.001357Z"
    },
    "scrolled": true
   },
   "outputs": [
    {
     "data": {
      "text/html": [
       "<div>\n",
       "<style scoped>\n",
       "    .dataframe tbody tr th:only-of-type {\n",
       "        vertical-align: middle;\n",
       "    }\n",
       "\n",
       "    .dataframe tbody tr th {\n",
       "        vertical-align: top;\n",
       "    }\n",
       "\n",
       "    .dataframe thead th {\n",
       "        text-align: right;\n",
       "    }\n",
       "</style>\n",
       "<table border=\"1\" class=\"dataframe\">\n",
       "  <thead>\n",
       "    <tr style=\"text-align: right;\">\n",
       "      <th></th>\n",
       "      <th>s_no</th>\n",
       "      <th>area_type</th>\n",
       "      <th>availability</th>\n",
       "      <th>location</th>\n",
       "      <th>size</th>\n",
       "      <th>society</th>\n",
       "      <th>total_sqft</th>\n",
       "      <th>bath</th>\n",
       "      <th>balcony</th>\n",
       "      <th>price</th>\n",
       "    </tr>\n",
       "  </thead>\n",
       "  <tbody>\n",
       "    <tr>\n",
       "      <th>0</th>\n",
       "      <td>1</td>\n",
       "      <td>Super built-up  Area</td>\n",
       "      <td>19-Dec</td>\n",
       "      <td>Electronic City Phase II</td>\n",
       "      <td>2 BHK</td>\n",
       "      <td>Coomee</td>\n",
       "      <td>1056</td>\n",
       "      <td>2.0</td>\n",
       "      <td>1.0</td>\n",
       "      <td>39.07</td>\n",
       "    </tr>\n",
       "    <tr>\n",
       "      <th>1</th>\n",
       "      <td>2</td>\n",
       "      <td>Plot  Area</td>\n",
       "      <td>Ready To Move</td>\n",
       "      <td>Chikka Tirupathi</td>\n",
       "      <td>4 Bedroom</td>\n",
       "      <td>Theanmp</td>\n",
       "      <td>2600</td>\n",
       "      <td>5.0</td>\n",
       "      <td>3.0</td>\n",
       "      <td>120.00</td>\n",
       "    </tr>\n",
       "    <tr>\n",
       "      <th>2</th>\n",
       "      <td>3</td>\n",
       "      <td>Built-up  Area</td>\n",
       "      <td>Ready To Move</td>\n",
       "      <td>Uttarahalli</td>\n",
       "      <td>3 BHK</td>\n",
       "      <td>NaN</td>\n",
       "      <td>1440</td>\n",
       "      <td>2.0</td>\n",
       "      <td>3.0</td>\n",
       "      <td>62.00</td>\n",
       "    </tr>\n",
       "    <tr>\n",
       "      <th>3</th>\n",
       "      <td>4</td>\n",
       "      <td>Super built-up  Area</td>\n",
       "      <td>Ready To Move</td>\n",
       "      <td>Lingadheeranahalli</td>\n",
       "      <td>3 BHK</td>\n",
       "      <td>Soiewre</td>\n",
       "      <td>1521</td>\n",
       "      <td>3.0</td>\n",
       "      <td>1.0</td>\n",
       "      <td>95.00</td>\n",
       "    </tr>\n",
       "    <tr>\n",
       "      <th>4</th>\n",
       "      <td>5</td>\n",
       "      <td>Super built-up  Area</td>\n",
       "      <td>Ready To Move</td>\n",
       "      <td>Kothanur</td>\n",
       "      <td>2 BHK</td>\n",
       "      <td>NaN</td>\n",
       "      <td>1200</td>\n",
       "      <td>2.0</td>\n",
       "      <td>1.0</td>\n",
       "      <td>51.00</td>\n",
       "    </tr>\n",
       "  </tbody>\n",
       "</table>\n",
       "</div>"
      ],
      "text/plain": [
       "   s_no             area_type   availability                  location  \\\n",
       "0     1  Super built-up  Area         19-Dec  Electronic City Phase II   \n",
       "1     2            Plot  Area  Ready To Move          Chikka Tirupathi   \n",
       "2     3        Built-up  Area  Ready To Move               Uttarahalli   \n",
       "3     4  Super built-up  Area  Ready To Move        Lingadheeranahalli   \n",
       "4     5  Super built-up  Area  Ready To Move                  Kothanur   \n",
       "\n",
       "        size  society total_sqft  bath  balcony   price  \n",
       "0      2 BHK  Coomee        1056   2.0      1.0   39.07  \n",
       "1  4 Bedroom  Theanmp       2600   5.0      3.0  120.00  \n",
       "2      3 BHK      NaN       1440   2.0      3.0   62.00  \n",
       "3      3 BHK  Soiewre       1521   3.0      1.0   95.00  \n",
       "4      2 BHK      NaN       1200   2.0      1.0   51.00  "
      ]
     },
     "execution_count": 3,
     "metadata": {},
     "output_type": "execute_result"
    }
   ],
   "source": [
    "train_data.head()"
   ]
  },
  {
   "cell_type": "code",
   "execution_count": 4,
   "metadata": {
    "ExecuteTime": {
     "end_time": "2019-10-31T17:57:27.326152Z",
     "start_time": "2019-10-31T17:57:27.317160Z"
    }
   },
   "outputs": [
    {
     "data": {
      "text/plain": [
       "(13320, 10)"
      ]
     },
     "execution_count": 4,
     "metadata": {},
     "output_type": "execute_result"
    },
    {
     "data": {
      "text/plain": [
       "(1480, 10)"
      ]
     },
     "execution_count": 4,
     "metadata": {},
     "output_type": "execute_result"
    }
   ],
   "source": [
    "train_data.shape\n",
    "test_data.shape"
   ]
  },
  {
   "cell_type": "markdown",
   "metadata": {},
   "source": [
    "## Adding Train and Test Data"
   ]
  },
  {
   "cell_type": "markdown",
   "metadata": {},
   "source": [
    "To apply the same set of data cleaning operations on Train and Test dataset, concatenating them both. Adding a column 'data_category' in both datasets with values 'train' and 'test' respectively. Later, we can separate the dataset based on these values easily. Please note that any data which needs to be removed (such as outlier) will only be removed from training set."
   ]
  },
  {
   "cell_type": "code",
   "execution_count": 5,
   "metadata": {
    "ExecuteTime": {
     "end_time": "2019-10-31T17:57:29.194935Z",
     "start_time": "2019-10-31T17:57:29.185939Z"
    }
   },
   "outputs": [],
   "source": [
    "train_data['data_category'] = 'train'\n",
    "test_data['data_category'] = 'test'"
   ]
  },
  {
   "cell_type": "code",
   "execution_count": 6,
   "metadata": {
    "ExecuteTime": {
     "end_time": "2019-10-31T17:57:29.832538Z",
     "start_time": "2019-10-31T17:57:29.815555Z"
    }
   },
   "outputs": [],
   "source": [
    "df = pd.concat([train_data,test_data], ignore_index=True)\n",
    "df.drop(['s_no'], axis=1, inplace=True)"
   ]
  },
  {
   "cell_type": "code",
   "execution_count": 7,
   "metadata": {
    "ExecuteTime": {
     "end_time": "2019-10-31T17:57:30.278363Z",
     "start_time": "2019-10-31T17:57:30.256381Z"
    }
   },
   "outputs": [
    {
     "data": {
      "text/plain": [
       "(14800, 10)"
      ]
     },
     "execution_count": 7,
     "metadata": {},
     "output_type": "execute_result"
    },
    {
     "data": {
      "text/html": [
       "<div>\n",
       "<style scoped>\n",
       "    .dataframe tbody tr th:only-of-type {\n",
       "        vertical-align: middle;\n",
       "    }\n",
       "\n",
       "    .dataframe tbody tr th {\n",
       "        vertical-align: top;\n",
       "    }\n",
       "\n",
       "    .dataframe thead th {\n",
       "        text-align: right;\n",
       "    }\n",
       "</style>\n",
       "<table border=\"1\" class=\"dataframe\">\n",
       "  <thead>\n",
       "    <tr style=\"text-align: right;\">\n",
       "      <th></th>\n",
       "      <th>area_type</th>\n",
       "      <th>availability</th>\n",
       "      <th>location</th>\n",
       "      <th>size</th>\n",
       "      <th>society</th>\n",
       "      <th>total_sqft</th>\n",
       "      <th>bath</th>\n",
       "      <th>balcony</th>\n",
       "      <th>price</th>\n",
       "      <th>data_category</th>\n",
       "    </tr>\n",
       "  </thead>\n",
       "  <tbody>\n",
       "    <tr>\n",
       "      <th>14795</th>\n",
       "      <td>Super built-up  Area</td>\n",
       "      <td>Ready To Move</td>\n",
       "      <td>Vittasandra</td>\n",
       "      <td>2 BHK</td>\n",
       "      <td>Prlla C</td>\n",
       "      <td>1246</td>\n",
       "      <td>2.0</td>\n",
       "      <td>1.0</td>\n",
       "      <td>NaN</td>\n",
       "      <td>test</td>\n",
       "    </tr>\n",
       "    <tr>\n",
       "      <th>14796</th>\n",
       "      <td>Super built-up  Area</td>\n",
       "      <td>Ready To Move</td>\n",
       "      <td>Gottigere</td>\n",
       "      <td>3 BHK</td>\n",
       "      <td>NaN</td>\n",
       "      <td>1660</td>\n",
       "      <td>3.0</td>\n",
       "      <td>2.0</td>\n",
       "      <td>NaN</td>\n",
       "      <td>test</td>\n",
       "    </tr>\n",
       "    <tr>\n",
       "      <th>14797</th>\n",
       "      <td>Super built-up  Area</td>\n",
       "      <td>Ready To Move</td>\n",
       "      <td>Channasandra</td>\n",
       "      <td>2 BHK</td>\n",
       "      <td>Unm 2El</td>\n",
       "      <td>1216</td>\n",
       "      <td>2.0</td>\n",
       "      <td>2.0</td>\n",
       "      <td>NaN</td>\n",
       "      <td>test</td>\n",
       "    </tr>\n",
       "    <tr>\n",
       "      <th>14798</th>\n",
       "      <td>Built-up  Area</td>\n",
       "      <td>18-Feb</td>\n",
       "      <td>Tumkur Road</td>\n",
       "      <td>2 BHK</td>\n",
       "      <td>Sahtsva</td>\n",
       "      <td>996</td>\n",
       "      <td>2.0</td>\n",
       "      <td>1.0</td>\n",
       "      <td>NaN</td>\n",
       "      <td>test</td>\n",
       "    </tr>\n",
       "    <tr>\n",
       "      <th>14799</th>\n",
       "      <td>Built-up  Area</td>\n",
       "      <td>Ready To Move</td>\n",
       "      <td>7th Phase JP Nagar</td>\n",
       "      <td>2 BHK</td>\n",
       "      <td>MaicaRS</td>\n",
       "      <td>1150</td>\n",
       "      <td>2.0</td>\n",
       "      <td>2.0</td>\n",
       "      <td>NaN</td>\n",
       "      <td>test</td>\n",
       "    </tr>\n",
       "  </tbody>\n",
       "</table>\n",
       "</div>"
      ],
      "text/plain": [
       "                  area_type   availability            location   size  \\\n",
       "14795  Super built-up  Area  Ready To Move         Vittasandra  2 BHK   \n",
       "14796  Super built-up  Area  Ready To Move           Gottigere  3 BHK   \n",
       "14797  Super built-up  Area  Ready To Move        Channasandra  2 BHK   \n",
       "14798        Built-up  Area         18-Feb         Tumkur Road  2 BHK   \n",
       "14799        Built-up  Area  Ready To Move  7th Phase JP Nagar  2 BHK   \n",
       "\n",
       "       society total_sqft  bath  balcony  price data_category  \n",
       "14795  Prlla C       1246   2.0      1.0    NaN          test  \n",
       "14796      NaN       1660   3.0      2.0    NaN          test  \n",
       "14797  Unm 2El       1216   2.0      2.0    NaN          test  \n",
       "14798  Sahtsva        996   2.0      1.0    NaN          test  \n",
       "14799  MaicaRS       1150   2.0      2.0    NaN          test  "
      ]
     },
     "execution_count": 7,
     "metadata": {},
     "output_type": "execute_result"
    }
   ],
   "source": [
    "df.shape\n",
    "df.tail()"
   ]
  },
  {
   "cell_type": "markdown",
   "metadata": {},
   "source": [
    "# EDA"
   ]
  },
  {
   "cell_type": "markdown",
   "metadata": {},
   "source": [
    "## Checking Null Values"
   ]
  },
  {
   "cell_type": "code",
   "execution_count": 8,
   "metadata": {
    "ExecuteTime": {
     "end_time": "2019-10-31T17:57:32.466898Z",
     "start_time": "2019-10-31T17:57:32.444918Z"
    }
   },
   "outputs": [
    {
     "data": {
      "text/plain": [
       "area_type           0\n",
       "availability        0\n",
       "location            1\n",
       "size               18\n",
       "society          6128\n",
       "total_sqft          0\n",
       "bath               80\n",
       "balcony           678\n",
       "price            1480\n",
       "data_category       0\n",
       "dtype: int64"
      ]
     },
     "execution_count": 8,
     "metadata": {},
     "output_type": "execute_result"
    }
   ],
   "source": [
    "df.isnull().sum()"
   ]
  },
  {
   "cell_type": "code",
   "execution_count": 9,
   "metadata": {
    "ExecuteTime": {
     "end_time": "2019-10-31T17:57:33.372643Z",
     "start_time": "2019-10-31T17:57:32.951905Z"
    }
   },
   "outputs": [
    {
     "data": {
      "text/plain": [
       "<Figure size 1152x504 with 0 Axes>"
      ]
     },
     "execution_count": 9,
     "metadata": {},
     "output_type": "execute_result"
    },
    {
     "data": {
      "text/plain": [
       "<matplotlib.axes._subplots.AxesSubplot at 0x21aa81e7e10>"
      ]
     },
     "execution_count": 9,
     "metadata": {},
     "output_type": "execute_result"
    },
    {
     "data": {
      "image/png": "[encoded data removed]",
      "text/plain": [
       "<Figure size 1152x504 with 1 Axes>"
      ]
     },
     "metadata": {},
     "output_type": "display_data"
    }
   ],
   "source": [
    "plt.figure(figsize=(16,7))\n",
    "sns.boxplot(x=train_data['price'],y=train_data['area_type'])"
   ]
  },
  {
   "cell_type": "markdown",
   "metadata": {},
   "source": [
    "As expected, the median cost for 'Plot Area' house type is the highest among other categories."
   ]
  },
  {
   "cell_type": "code",
   "execution_count": 10,
   "metadata": {
    "ExecuteTime": {
     "end_time": "2019-10-31T17:57:35.169415Z",
     "start_time": "2019-10-31T17:57:35.158421Z"
    }
   },
   "outputs": [
    {
     "data": {
      "text/plain": [
       "area_type         object\n",
       "availability      object\n",
       "location          object\n",
       "size              object\n",
       "society           object\n",
       "total_sqft        object\n",
       "bath             float64\n",
       "balcony          float64\n",
       "price            float64\n",
       "data_category     object\n",
       "dtype: object"
      ]
     },
     "execution_count": 10,
     "metadata": {},
     "output_type": "execute_result"
    }
   ],
   "source": [
    "df.dtypes"
   ]
  },
  {
   "cell_type": "markdown",
   "metadata": {},
   "source": [
    "We can see that the two main columns 'size' and 'total_sqft' are objects instead of numeric. Hence, we cannot go further with EDA till we clean these columns. Let's do the cleaning and data exploration simultaneously. "
   ]
  },
  {
   "cell_type": "markdown",
   "metadata": {},
   "source": [
    "## Checking unique and number of unique values present in each categorical variable"
   ]
  },
  {
   "cell_type": "code",
   "execution_count": 11,
   "metadata": {
    "ExecuteTime": {
     "end_time": "2019-10-31T17:57:38.039574Z",
     "start_time": "2019-10-31T17:57:38.003601Z"
    }
   },
   "outputs": [
    {
     "name": "stdout",
     "output_type": "stream",
     "text": [
      "\n",
      "Number of unique values in area_type category:  4\n",
      "Unique data in area_type category:\n",
      " ['Super built-up  Area' 'Plot  Area' 'Built-up  Area' 'Carpet  Area']\n",
      "\n",
      "Number of unique values in availability category:  82\n",
      "Unique data in availability category:\n",
      " ['19-Dec' 'Ready To Move' '18-May' '18-Feb' '18-Nov' '20-Dec' '17-Oct'\n",
      " '21-Dec' '19-Sep' '20-Sep' '18-Mar' '20-Feb' '18-Apr' '20-Aug' '18-Oct'\n",
      " '19-Mar' '17-Sep' '18-Dec' '17-Aug' '19-Apr' '18-Jun' '22-Dec' '22-Jan'\n",
      " '18-Aug' '19-Jan' '17-Jul' '18-Jul' '21-Jun' '20-May' '19-Aug' '18-Sep'\n",
      " '17-May' '17-Jun' '21-May' '18-Jan' '20-Mar' '17-Dec' '16-Mar' '19-Jun'\n",
      " '22-Jun' '19-Jul' '21-Feb' 'Immediate Possession' '19-May' '17-Nov'\n",
      " '20-Oct' '20-Jun' '19-Feb' '21-Oct' '21-Jan' '17-Mar' '17-Apr' '22-May'\n",
      " '19-Oct' '21-Jul' '21-Nov' '21-Mar' '16-Dec' '22-Mar' '20-Jan' '21-Sep'\n",
      " '21-Aug' '14-Nov' '19-Nov' '15-Nov' '16-Jul' '15-Jun' '17-Feb' '20-Nov'\n",
      " '20-Jul' '16-Sep' '15-Oct' '15-Dec' '16-Oct' '22-Nov' '15-Aug' '17-Jan'\n",
      " '16-Nov' '20-Apr' '16-Jan' '14-Jul' '16-Apr']\n",
      "\n",
      "Number of unique values in location category:  1358\n",
      "Unique data in location category:\n",
      " ['Electronic City Phase II' 'Chikka Tirupathi' 'Uttarahalli' ...\n",
      " 'Raj Mahal Vilas Extension' '15th Block Hbr Layout'\n",
      " 'Vishweswaraiah Layout 4th Block']\n",
      "\n",
      "Number of unique values in size category:  32\n",
      "Unique data in size category:\n",
      " ['2 BHK' '4 Bedroom' '3 BHK' '4 BHK' '6 Bedroom' '3 Bedroom' '1 BHK'\n",
      " '1 RK' '1 Bedroom' '8 Bedroom' '2 Bedroom' '7 Bedroom' '5 BHK' '7 BHK'\n",
      " '6 BHK' '5 Bedroom' '11 BHK' '9 BHK' nan '9 Bedroom' '27 BHK'\n",
      " '10 Bedroom' '11 Bedroom' '10 BHK' '19 BHK' '16 BHK' '43 Bedroom'\n",
      " '14 BHK' '8 BHK' '12 Bedroom' '13 BHK' '18 Bedroom' '16 Bedroom']\n",
      "\n",
      "Number of unique values in society category:  2832\n",
      "Unique data in society category:\n",
      " ['Coomee ' 'Theanmp' nan ... 'Udayaur' 'Brent C' 'MaicaRS']\n",
      "\n",
      "Number of unique values in total_sqft category:  2221\n",
      "Unique data in total_sqft category:\n",
      " ['1056' '2600' '1440' ... '3383' '5149' '6750']\n",
      "\n",
      "Number of unique values in data_category category:  2\n",
      "Unique data in data_category category:\n",
      " ['train' 'test']\n"
     ]
    }
   ],
   "source": [
    "for i in df.columns:\n",
    "    if df[i].dtype == 'O':\n",
    "        print('\\nNumber of unique values in {} category: '.format(i), df[i].nunique())\n",
    "        print('Unique data in {} category:\\n'.format(i), df[i].unique())"
   ]
  },
  {
   "cell_type": "markdown",
   "metadata": {},
   "source": [
    "# Data Cleaning and Feature Engineering"
   ]
  },
  {
   "cell_type": "markdown",
   "metadata": {},
   "source": [
    "## Size - Number of Bedrooms"
   ]
  },
  {
   "cell_type": "code",
   "execution_count": 12,
   "metadata": {
    "ExecuteTime": {
     "end_time": "2019-10-31T17:57:40.892243Z",
     "start_time": "2019-10-31T17:57:40.879253Z"
    },
    "scrolled": false
   },
   "outputs": [
    {
     "data": {
      "text/plain": [
       "2 BHK        5739\n",
       "3 BHK        4788\n",
       "4 Bedroom     918\n",
       "4 BHK         673\n",
       "3 Bedroom     613\n",
       "Name: size, dtype: int64"
      ]
     },
     "execution_count": 12,
     "metadata": {},
     "output_type": "execute_result"
    }
   ],
   "source": [
    "df['size'].value_counts().head()"
   ]
  },
  {
   "cell_type": "markdown",
   "metadata": {},
   "source": [
    "Since, number of bedrooms should be a continuos variable, we'll only extract the numeric value from this series of string values."
   ]
  },
  {
   "cell_type": "code",
   "execution_count": 13,
   "metadata": {
    "ExecuteTime": {
     "end_time": "2019-10-31T17:57:48.344795Z",
     "start_time": "2019-10-31T17:57:48.309819Z"
    }
   },
   "outputs": [],
   "source": [
    "df['size'] = df['size'].apply(lambda x: x.split(' ')[0] if isinstance(x,str) else np.nan)\n",
    "df['size'] = df['size'].astype(float)"
   ]
  },
  {
   "cell_type": "code",
   "execution_count": 14,
   "metadata": {
    "ExecuteTime": {
     "end_time": "2019-10-31T17:58:09.222793Z",
     "start_time": "2019-10-31T17:58:09.215795Z"
    }
   },
   "outputs": [
    {
     "data": {
      "text/plain": [
       "18"
      ]
     },
     "execution_count": 14,
     "metadata": {},
     "output_type": "execute_result"
    }
   ],
   "source": [
    "df['size'].isnull().sum()"
   ]
  },
  {
   "cell_type": "markdown",
   "metadata": {},
   "source": [
    "## Location"
   ]
  },
  {
   "cell_type": "code",
   "execution_count": 15,
   "metadata": {
    "ExecuteTime": {
     "end_time": "2019-10-31T17:58:12.980687Z",
     "start_time": "2019-10-31T17:58:12.963702Z"
    }
   },
   "outputs": [
    {
     "data": {
      "text/plain": [
       "Whitefield                 591\n",
       "Sarjapur  Road             437\n",
       "Electronic City            337\n",
       "Kanakpura Road             298\n",
       "Thanisandra                277\n",
       "                          ... \n",
       "mvj engineering college      1\n",
       "CHIKKATIRUPATHI              1\n",
       "Prakruthi Township           1\n",
       "Gandhi Nagar                 1\n",
       "Hanuma Reddy Layout          1\n",
       "Name: location, Length: 1358, dtype: int64"
      ]
     },
     "execution_count": 15,
     "metadata": {},
     "output_type": "execute_result"
    }
   ],
   "source": [
    "df['location'].value_counts()"
   ]
  },
  {
   "cell_type": "markdown",
   "metadata": {},
   "source": [
    "We can see that, there are 1358 unique locations in this dataset. Looking closely at the dataset, most of these locations are repeated but with a slight change in name. Further, these locations may belong to the same area. Hence to clean this column, we are going group areas belonging to same pincodes together. To find the common pincodes for each of these locations we'll build a Web Scraper."
   ]
  },
  {
   "cell_type": "markdown",
   "metadata": {},
   "source": [
    "### Searching Location Pincode through Selenium Webdriver"
   ]
  },
  {
   "cell_type": "code",
   "execution_count": 16,
   "metadata": {
    "ExecuteTime": {
     "end_time": "2019-10-31T17:58:52.556948Z",
     "start_time": "2019-10-31T17:58:52.549955Z"
    }
   },
   "outputs": [],
   "source": [
    "uniq_locn=pd.DataFrame(df['location'].unique(), columns=['location'])"
   ]
  },
  {
   "cell_type": "code",
   "execution_count": 17,
   "metadata": {
    "ExecuteTime": {
     "end_time": "2019-10-31T17:58:53.993999Z",
     "start_time": "2019-10-31T17:58:53.987006Z"
    }
   },
   "outputs": [],
   "source": [
    "uniq_locn['browser_link'] = uniq_locn['location'].apply(lambda x: str(x) + \" Bangalore site:codepin.in\""
   ]
  },
  {
   "cell_type": "code",
   "execution_count": null,
   "metadata": {
    "ExecuteTime": {
     "end_time": "2019-10-31T17:37:28.244206Z",
     "start_time": "2019-10-31T17:37:28.234213Z"
    },
    "deletable": false,
    "editable": false,
    "run_control": {
     "frozen": true
    }
   },
   "outputs": [],
   "source": [
    "import os\n",
    "from selenium import webdriver\n",
    "from selenium.webdriver.common.keys import Keys\n",
    "from selenium.webdriver.common.by import By\n",
    "from selenium.common.exceptions import NoSuchElementException, WebDriverException\n",
    "import requests\n",
    "\n",
    "# get the path of ChromeDriverServer\n",
    "dir = os.path.dirname(r\"C:\\Users\\Devesh Singh\\Python Scripts\\Machine Hack\\chromedriver.exe\")\n",
    "chrome_driver_path = dir + \"\\chromedriver.exe\"\n",
    "\n",
    "uniq_test = uniq_locn.copy(deep=True)\n",
    "\n",
    "final_list=pd.DataFrame({'Place':[],\n",
    "                         'Pin Code':[],\n",
    "                         'Taluk':[],\n",
    "                         'Division':[],\n",
    "                         'District':[],\n",
    "                         'State':[],\n",
    "                        'Uniq':[]})\n",
    "\n",
    "count=0\n",
    "m=0\n",
    "# create a new Chrome session\n",
    "driver = webdriver.Chrome(chrome_driver_path)\n",
    "driver.implicitly_wait(5)\n",
    "driver.maximize_window()\n",
    "\n",
    "for i in range(len(uniq_test)):\n",
    "    \n",
    "    # Navigate to the application home page\n",
    "    driver.get(\"http://www.bing.com/\")\n",
    "    \n",
    "    # get the search textbox\n",
    "    #search_field = driver.find_element_by_name(\"q\")    #worked, for Google.com only\n",
    "    search_field = driver.find_element_by_id(\"sb_form_q\")    #worked, for Bing Search\n",
    "    \n",
    "    # enter search keyword and submit\n",
    "    search_field.send_keys(uniq_test.iloc[i,0])\n",
    "    search_field.submit()\n",
    "    \n",
    "    try:\n",
    "        #clicking the first link\n",
    "        #driver.find_element(By.XPATH, '(//h3)[1]/a').click()    #worked, for Google.com only\n",
    "        driver.find_element_by_partial_link_text(\"PIN CODE\").click()   #worked, for Bing Search\n",
    "\n",
    "        #waiting for link to open fully\n",
    "        driver.implicitly_wait(5)\n",
    "\n",
    "        #copying the url of the browser\n",
    "        url = driver.current_url\n",
    "\n",
    "        html = requests.get(url).content\n",
    "        df_list = pd.read_html(html)\n",
    "\n",
    "\n",
    "        df = df_list[-1]\n",
    "        df2=pd.DataFrame(df.iloc[1,:])\n",
    "        df3=pd.DataFrame.transpose(df2).reset_index(drop=True)\n",
    "        value=pd.DataFrame({'Place':[df3.iloc[0,0]],\n",
    "                            'Pin Code':[df3.iloc[0,1]],\n",
    "                            'Taluk':[df3.iloc[0,2]],\n",
    "                            'Division':[df3.iloc[0,3]],\n",
    "                            'District':[df3.iloc[0,4]],\n",
    "                            'State':[df3.iloc[0,5]],\n",
    "                            'Uniq':[uniq_test.iloc[i,0]]})\n",
    "\n",
    "        final_list=final_list.append(value, ignore_index=True)\n",
    "        m+=1\n",
    "        print(m,\"  \",uniq_test.iloc[i,0])\n",
    "    \n",
    "    except (NoSuchElementException, WebDriverException) as e:\n",
    "        count += 1\n",
    "        pass\n",
    "    driver.delete_all_cookies()\n",
    "    \n",
    "driver.close()"
   ]
  },
  {
   "cell_type": "markdown",
   "metadata": {},
   "source": [
    "### Pincode File"
   ]
  },
  {
   "cell_type": "markdown",
   "metadata": {},
   "source": [
    "Reading the dataframe of scraped pincodes."
   ]
  },
  {
   "cell_type": "code",
   "execution_count": 18,
   "metadata": {
    "ExecuteTime": {
     "end_time": "2019-10-31T18:03:55.839646Z",
     "start_time": "2019-10-31T18:03:55.363829Z"
    }
   },
   "outputs": [],
   "source": [
    "# Downloaded list of pincodes\n",
    "location_df = pd.read_excel(r'..\\data\\\\additional_data\\location_pincodes.xlsx')"
   ]
  },
  {
   "cell_type": "code",
   "execution_count": 49,
   "metadata": {
    "ExecuteTime": {
     "end_time": "2019-10-31T18:34:00.194104Z",
     "start_time": "2019-10-31T18:34:00.186108Z"
    }
   },
   "outputs": [],
   "source": [
    "uniq_locn['pincode'] = (uniq_locn['browser_link']\n",
    "                        .map(dict(zip(location_df['browser_link'],location_df['pincode']))))"
   ]
  },
  {
   "cell_type": "code",
   "execution_count": 50,
   "metadata": {
    "ExecuteTime": {
     "end_time": "2019-10-31T18:34:01.342665Z",
     "start_time": "2019-10-31T18:34:01.330677Z"
    },
    "scrolled": true
   },
   "outputs": [
    {
     "data": {
      "text/html": [
       "<div>\n",
       "<style scoped>\n",
       "    .dataframe tbody tr th:only-of-type {\n",
       "        vertical-align: middle;\n",
       "    }\n",
       "\n",
       "    .dataframe tbody tr th {\n",
       "        vertical-align: top;\n",
       "    }\n",
       "\n",
       "    .dataframe thead th {\n",
       "        text-align: right;\n",
       "    }\n",
       "</style>\n",
       "<table border=\"1\" class=\"dataframe\">\n",
       "  <thead>\n",
       "    <tr style=\"text-align: right;\">\n",
       "      <th></th>\n",
       "      <th>location</th>\n",
       "      <th>browser_link</th>\n",
       "      <th>pincode</th>\n",
       "    </tr>\n",
       "  </thead>\n",
       "  <tbody>\n",
       "    <tr>\n",
       "      <th>0</th>\n",
       "      <td>Electronic City Phase II</td>\n",
       "      <td>Electronic City Phase II Bangalore site:codepi...</td>\n",
       "      <td>560100</td>\n",
       "    </tr>\n",
       "    <tr>\n",
       "      <th>1</th>\n",
       "      <td>Chikka Tirupathi</td>\n",
       "      <td>Chikka Tirupathi Bangalore site:codepin.in</td>\n",
       "      <td>561203</td>\n",
       "    </tr>\n",
       "    <tr>\n",
       "      <th>2</th>\n",
       "      <td>Uttarahalli</td>\n",
       "      <td>Uttarahalli Bangalore site:codepin.in</td>\n",
       "      <td>560061</td>\n",
       "    </tr>\n",
       "    <tr>\n",
       "      <th>3</th>\n",
       "      <td>Lingadheeranahalli</td>\n",
       "      <td>Lingadheeranahalli Bangalore site:codepin.in</td>\n",
       "      <td>560091</td>\n",
       "    </tr>\n",
       "    <tr>\n",
       "      <th>4</th>\n",
       "      <td>Kothanur</td>\n",
       "      <td>Kothanur Bangalore site:codepin.in</td>\n",
       "      <td>560077</td>\n",
       "    </tr>\n",
       "  </tbody>\n",
       "</table>\n",
       "</div>"
      ],
      "text/plain": [
       "                   location  \\\n",
       "0  Electronic City Phase II   \n",
       "1          Chikka Tirupathi   \n",
       "2               Uttarahalli   \n",
       "3        Lingadheeranahalli   \n",
       "4                  Kothanur   \n",
       "\n",
       "                                        browser_link  pincode  \n",
       "0  Electronic City Phase II Bangalore site:codepi...   560100  \n",
       "1         Chikka Tirupathi Bangalore site:codepin.in   561203  \n",
       "2              Uttarahalli Bangalore site:codepin.in   560061  \n",
       "3       Lingadheeranahalli Bangalore site:codepin.in   560091  \n",
       "4                 Kothanur Bangalore site:codepin.in   560077  "
      ]
     },
     "execution_count": 50,
     "metadata": {},
     "output_type": "execute_result"
    }
   ],
   "source": [
    "uniq_locn.head()"
   ]
  },
  {
   "cell_type": "markdown",
   "metadata": {},
   "source": [
    "Mapping this list with original dataframe."
   ]
  },
  {
   "cell_type": "code",
   "execution_count": 22,
   "metadata": {
    "ExecuteTime": {
     "end_time": "2019-10-31T18:04:27.205764Z",
     "start_time": "2019-10-31T18:04:27.192777Z"
    }
   },
   "outputs": [],
   "source": [
    "df['location'] = df['location'].map(dict(zip(uniq_locn['location'],uniq_locn['pincode'])))"
   ]
  },
  {
   "cell_type": "code",
   "execution_count": 23,
   "metadata": {
    "ExecuteTime": {
     "end_time": "2019-10-31T18:04:30.181307Z",
     "start_time": "2019-10-31T18:04:30.162319Z"
    }
   },
   "outputs": [
    {
     "data": {
      "text/html": [
       "<div>\n",
       "<style scoped>\n",
       "    .dataframe tbody tr th:only-of-type {\n",
       "        vertical-align: middle;\n",
       "    }\n",
       "\n",
       "    .dataframe tbody tr th {\n",
       "        vertical-align: top;\n",
       "    }\n",
       "\n",
       "    .dataframe thead th {\n",
       "        text-align: right;\n",
       "    }\n",
       "</style>\n",
       "<table border=\"1\" class=\"dataframe\">\n",
       "  <thead>\n",
       "    <tr style=\"text-align: right;\">\n",
       "      <th></th>\n",
       "      <th>area_type</th>\n",
       "      <th>availability</th>\n",
       "      <th>location</th>\n",
       "      <th>size</th>\n",
       "      <th>society</th>\n",
       "      <th>total_sqft</th>\n",
       "      <th>bath</th>\n",
       "      <th>balcony</th>\n",
       "      <th>price</th>\n",
       "      <th>data_category</th>\n",
       "    </tr>\n",
       "  </thead>\n",
       "  <tbody>\n",
       "    <tr>\n",
       "      <th>0</th>\n",
       "      <td>Super built-up  Area</td>\n",
       "      <td>19-Dec</td>\n",
       "      <td>560100</td>\n",
       "      <td>2.0</td>\n",
       "      <td>Coomee</td>\n",
       "      <td>1056</td>\n",
       "      <td>2.0</td>\n",
       "      <td>1.0</td>\n",
       "      <td>39.07</td>\n",
       "      <td>train</td>\n",
       "    </tr>\n",
       "    <tr>\n",
       "      <th>1</th>\n",
       "      <td>Plot  Area</td>\n",
       "      <td>Ready To Move</td>\n",
       "      <td>561203</td>\n",
       "      <td>4.0</td>\n",
       "      <td>Theanmp</td>\n",
       "      <td>2600</td>\n",
       "      <td>5.0</td>\n",
       "      <td>3.0</td>\n",
       "      <td>120.00</td>\n",
       "      <td>train</td>\n",
       "    </tr>\n",
       "    <tr>\n",
       "      <th>2</th>\n",
       "      <td>Built-up  Area</td>\n",
       "      <td>Ready To Move</td>\n",
       "      <td>560061</td>\n",
       "      <td>3.0</td>\n",
       "      <td>NaN</td>\n",
       "      <td>1440</td>\n",
       "      <td>2.0</td>\n",
       "      <td>3.0</td>\n",
       "      <td>62.00</td>\n",
       "      <td>train</td>\n",
       "    </tr>\n",
       "    <tr>\n",
       "      <th>3</th>\n",
       "      <td>Super built-up  Area</td>\n",
       "      <td>Ready To Move</td>\n",
       "      <td>560091</td>\n",
       "      <td>3.0</td>\n",
       "      <td>Soiewre</td>\n",
       "      <td>1521</td>\n",
       "      <td>3.0</td>\n",
       "      <td>1.0</td>\n",
       "      <td>95.00</td>\n",
       "      <td>train</td>\n",
       "    </tr>\n",
       "    <tr>\n",
       "      <th>4</th>\n",
       "      <td>Super built-up  Area</td>\n",
       "      <td>Ready To Move</td>\n",
       "      <td>560077</td>\n",
       "      <td>2.0</td>\n",
       "      <td>NaN</td>\n",
       "      <td>1200</td>\n",
       "      <td>2.0</td>\n",
       "      <td>1.0</td>\n",
       "      <td>51.00</td>\n",
       "      <td>train</td>\n",
       "    </tr>\n",
       "  </tbody>\n",
       "</table>\n",
       "</div>"
      ],
      "text/plain": [
       "              area_type   availability  location  size  society total_sqft  \\\n",
       "0  Super built-up  Area         19-Dec    560100   2.0  Coomee        1056   \n",
       "1            Plot  Area  Ready To Move    561203   4.0  Theanmp       2600   \n",
       "2        Built-up  Area  Ready To Move    560061   3.0      NaN       1440   \n",
       "3  Super built-up  Area  Ready To Move    560091   3.0  Soiewre       1521   \n",
       "4  Super built-up  Area  Ready To Move    560077   2.0      NaN       1200   \n",
       "\n",
       "   bath  balcony   price data_category  \n",
       "0   2.0      1.0   39.07         train  \n",
       "1   5.0      3.0  120.00         train  \n",
       "2   2.0      3.0   62.00         train  \n",
       "3   3.0      1.0   95.00         train  \n",
       "4   2.0      1.0   51.00         train  "
      ]
     },
     "execution_count": 23,
     "metadata": {},
     "output_type": "execute_result"
    }
   ],
   "source": [
    "df.head()"
   ]
  },
  {
   "cell_type": "code",
   "execution_count": 25,
   "metadata": {
    "ExecuteTime": {
     "end_time": "2019-10-31T18:04:39.415452Z",
     "start_time": "2019-10-31T18:04:39.404456Z"
    },
    "scrolled": true
   },
   "outputs": [
    {
     "data": {
      "text/plain": [
       "560100    914\n",
       "560066    896\n",
       "560077    631\n",
       "560078    618\n",
       "562125    484\n",
       "Name: location, dtype: int64"
      ]
     },
     "execution_count": 25,
     "metadata": {},
     "output_type": "execute_result"
    }
   ],
   "source": [
    "df['location'].value_counts().head()"
   ]
  },
  {
   "cell_type": "code",
   "execution_count": 26,
   "metadata": {
    "ExecuteTime": {
     "end_time": "2019-10-31T18:04:45.722588Z",
     "start_time": "2019-10-31T18:04:45.712595Z"
    }
   },
   "outputs": [
    {
     "data": {
      "text/plain": [
       "0"
      ]
     },
     "execution_count": 26,
     "metadata": {},
     "output_type": "execute_result"
    }
   ],
   "source": [
    "df['location'].isnull().sum()"
   ]
  },
  {
   "cell_type": "markdown",
   "metadata": {},
   "source": [
    "By grouping locations through pincodes we have reduced 1358 locations to 128 locations."
   ]
  },
  {
   "cell_type": "markdown",
   "metadata": {},
   "source": [
    "## Total Square Feet"
   ]
  },
  {
   "cell_type": "code",
   "execution_count": 33,
   "metadata": {
    "ExecuteTime": {
     "end_time": "2019-10-31T18:13:52.659383Z",
     "start_time": "2019-10-31T18:13:52.651390Z"
    },
    "scrolled": true
   },
   "outputs": [
    {
     "data": {
      "text/plain": [
       "array(['1056', '2600', '1440', ..., '3383', '5149', '6750'], dtype=object)"
      ]
     },
     "execution_count": 33,
     "metadata": {},
     "output_type": "execute_result"
    }
   ],
   "source": [
    "df['total_sqft'].unique()"
   ]
  },
  {
   "cell_type": "markdown",
   "metadata": {},
   "source": [
    "Since, there are multiple string values in this column, we are going to extract these string values and clean them. Since, this process is going to be of multiple step, we'll take only 'total_sqft' column into another dataframe."
   ]
  },
  {
   "cell_type": "code",
   "execution_count": 62,
   "metadata": {
    "ExecuteTime": {
     "end_time": "2019-10-31T18:43:02.761745Z",
     "start_time": "2019-10-31T18:43:02.754752Z"
    },
    "scrolled": true
   },
   "outputs": [],
   "source": [
    "sqft = df[['total_sqft']]"
   ]
  },
  {
   "cell_type": "code",
   "execution_count": 63,
   "metadata": {
    "ExecuteTime": {
     "end_time": "2019-10-31T18:43:03.887813Z",
     "start_time": "2019-10-31T18:43:03.879816Z"
    }
   },
   "outputs": [
    {
     "data": {
      "text/plain": [
       "total_sqft    object\n",
       "dtype: object"
      ]
     },
     "execution_count": 63,
     "metadata": {},
     "output_type": "execute_result"
    }
   ],
   "source": [
    "sqft.dtypes"
   ]
  },
  {
   "cell_type": "markdown",
   "metadata": {},
   "source": [
    "### Extracting Only Float Val or Only String Val"
   ]
  },
  {
   "cell_type": "markdown",
   "metadata": {},
   "source": [
    "Function to extract only float value, other values will be replaced as NaNs."
   ]
  },
  {
   "cell_type": "code",
   "execution_count": 64,
   "metadata": {
    "ExecuteTime": {
     "end_time": "2019-10-31T18:43:05.525590Z",
     "start_time": "2019-10-31T18:43:05.519596Z"
    }
   },
   "outputs": [],
   "source": [
    "def float_val(x):\n",
    "    try:\n",
    "        x = float(x)\n",
    "    except:\n",
    "        x = np.nan\n",
    "    return x"
   ]
  },
  {
   "cell_type": "markdown",
   "metadata": {},
   "source": [
    "Function to extract only string value, other values will be replaced as NaNs."
   ]
  },
  {
   "cell_type": "code",
   "execution_count": 65,
   "metadata": {
    "ExecuteTime": {
     "end_time": "2019-10-31T18:43:07.407652Z",
     "start_time": "2019-10-31T18:43:07.401656Z"
    }
   },
   "outputs": [],
   "source": [
    "def string_val(x):\n",
    "    try:\n",
    "        x = float(x)\n",
    "        if isinstance(x,float):\n",
    "            x = np.nan\n",
    "    except:\n",
    "        pass    \n",
    "    return x"
   ]
  },
  {
   "cell_type": "code",
   "execution_count": 66,
   "metadata": {
    "ExecuteTime": {
     "end_time": "2019-10-31T18:43:09.550273Z",
     "start_time": "2019-10-31T18:43:09.484315Z"
    }
   },
   "outputs": [
    {
     "data": {
      "text/html": [
       "<div>\n",
       "<style scoped>\n",
       "    .dataframe tbody tr th:only-of-type {\n",
       "        vertical-align: middle;\n",
       "    }\n",
       "\n",
       "    .dataframe tbody tr th {\n",
       "        vertical-align: top;\n",
       "    }\n",
       "\n",
       "    .dataframe thead th {\n",
       "        text-align: right;\n",
       "    }\n",
       "</style>\n",
       "<table border=\"1\" class=\"dataframe\">\n",
       "  <thead>\n",
       "    <tr style=\"text-align: right;\">\n",
       "      <th></th>\n",
       "      <th>total_sqft</th>\n",
       "      <th>float_val</th>\n",
       "      <th>string_val</th>\n",
       "    </tr>\n",
       "  </thead>\n",
       "  <tbody>\n",
       "    <tr>\n",
       "      <th>30</th>\n",
       "      <td>2100 - 2850</td>\n",
       "      <td>NaN</td>\n",
       "      <td>2100 - 2850</td>\n",
       "    </tr>\n",
       "    <tr>\n",
       "      <th>56</th>\n",
       "      <td>3010 - 3410</td>\n",
       "      <td>NaN</td>\n",
       "      <td>3010 - 3410</td>\n",
       "    </tr>\n",
       "    <tr>\n",
       "      <th>81</th>\n",
       "      <td>2957 - 3450</td>\n",
       "      <td>NaN</td>\n",
       "      <td>2957 - 3450</td>\n",
       "    </tr>\n",
       "    <tr>\n",
       "      <th>122</th>\n",
       "      <td>3067 - 8156</td>\n",
       "      <td>NaN</td>\n",
       "      <td>3067 - 8156</td>\n",
       "    </tr>\n",
       "    <tr>\n",
       "      <th>137</th>\n",
       "      <td>1042 - 1105</td>\n",
       "      <td>NaN</td>\n",
       "      <td>1042 - 1105</td>\n",
       "    </tr>\n",
       "    <tr>\n",
       "      <th>165</th>\n",
       "      <td>1145 - 1340</td>\n",
       "      <td>NaN</td>\n",
       "      <td>1145 - 1340</td>\n",
       "    </tr>\n",
       "    <tr>\n",
       "      <th>188</th>\n",
       "      <td>1015 - 1540</td>\n",
       "      <td>NaN</td>\n",
       "      <td>1015 - 1540</td>\n",
       "    </tr>\n",
       "    <tr>\n",
       "      <th>224</th>\n",
       "      <td>1520 - 1740</td>\n",
       "      <td>NaN</td>\n",
       "      <td>1520 - 1740</td>\n",
       "    </tr>\n",
       "    <tr>\n",
       "      <th>410</th>\n",
       "      <td>34.46Sq. Meter</td>\n",
       "      <td>NaN</td>\n",
       "      <td>34.46Sq. Meter</td>\n",
       "    </tr>\n",
       "    <tr>\n",
       "      <th>549</th>\n",
       "      <td>1195 - 1440</td>\n",
       "      <td>NaN</td>\n",
       "      <td>1195 - 1440</td>\n",
       "    </tr>\n",
       "  </tbody>\n",
       "</table>\n",
       "</div>"
      ],
      "text/plain": [
       "         total_sqft  float_val      string_val\n",
       "30      2100 - 2850        NaN     2100 - 2850\n",
       "56      3010 - 3410        NaN     3010 - 3410\n",
       "81      2957 - 3450        NaN     2957 - 3450\n",
       "122     3067 - 8156        NaN     3067 - 8156\n",
       "137     1042 - 1105        NaN     1042 - 1105\n",
       "165     1145 - 1340        NaN     1145 - 1340\n",
       "188     1015 - 1540        NaN     1015 - 1540\n",
       "224     1520 - 1740        NaN     1520 - 1740\n",
       "410  34.46Sq. Meter        NaN  34.46Sq. Meter\n",
       "549     1195 - 1440        NaN     1195 - 1440"
      ]
     },
     "execution_count": 66,
     "metadata": {},
     "output_type": "execute_result"
    }
   ],
   "source": [
    "sqft['float_val'] = sqft['total_sqft'].apply(float_val)\n",
    "\n",
    "sqft['string_val'] = sqft['total_sqft'].apply(string_val)\n",
    "\n",
    "sqft[sqft['string_val'].notnull()].head(10)"
   ]
  },
  {
   "cell_type": "markdown",
   "metadata": {},
   "source": [
    "### Processing String Vals"
   ]
  },
  {
   "cell_type": "markdown",
   "metadata": {},
   "source": [
    "The errorneous string values present in the 'total_sqft' column are of two types:\n",
    "- Range, e.g. 2100 - 2850, to clean this types of error, we are going to take the average of these ranges\n",
    "- Values in other unit, e.g. 34.46Sq. Meter, to clean this, we are going to extract the float and string values, convert this values in square feet."
   ]
  },
  {
   "cell_type": "code",
   "execution_count": 67,
   "metadata": {
    "ExecuteTime": {
     "end_time": "2019-10-31T18:43:14.528728Z",
     "start_time": "2019-10-31T18:43:14.519735Z"
    }
   },
   "outputs": [],
   "source": [
    "sqft_string = sqft[['total_sqft','string_val']][sqft['string_val'].notnull()]"
   ]
  },
  {
   "cell_type": "code",
   "execution_count": 68,
   "metadata": {
    "ExecuteTime": {
     "end_time": "2019-10-31T18:43:15.856774Z",
     "start_time": "2019-10-31T18:43:15.844783Z"
    }
   },
   "outputs": [],
   "source": [
    "sqft_string['v_1'] = sqft_string['string_val'].apply(lambda x: x.split(\"-\")[0])\n",
    "sqft_string['v_2'] = sqft_string['string_val'].apply(lambda x: x.split(\"-\")[-1])"
   ]
  },
  {
   "cell_type": "code",
   "execution_count": 69,
   "metadata": {
    "ExecuteTime": {
     "end_time": "2019-10-31T18:43:16.759416Z",
     "start_time": "2019-10-31T18:43:16.753421Z"
    },
    "scrolled": true
   },
   "outputs": [],
   "source": [
    "def average_val(v_1, v_2):\n",
    "    try:\n",
    "        v_1 = float(v_1)\n",
    "        v_2 = float(v_2)\n",
    "        avg = (v_1 + v_2)/2\n",
    "    except:\n",
    "        avg = v_1\n",
    "    return avg"
   ]
  },
  {
   "cell_type": "code",
   "execution_count": 70,
   "metadata": {
    "ExecuteTime": {
     "end_time": "2019-10-31T18:43:18.589456Z",
     "start_time": "2019-10-31T18:43:18.552477Z"
    }
   },
   "outputs": [
    {
     "data": {
      "text/html": [
       "<div>\n",
       "<style scoped>\n",
       "    .dataframe tbody tr th:only-of-type {\n",
       "        vertical-align: middle;\n",
       "    }\n",
       "\n",
       "    .dataframe tbody tr th {\n",
       "        vertical-align: top;\n",
       "    }\n",
       "\n",
       "    .dataframe thead th {\n",
       "        text-align: right;\n",
       "    }\n",
       "</style>\n",
       "<table border=\"1\" class=\"dataframe\">\n",
       "  <thead>\n",
       "    <tr style=\"text-align: right;\">\n",
       "      <th></th>\n",
       "      <th>total_sqft</th>\n",
       "      <th>string_val</th>\n",
       "      <th>v_1</th>\n",
       "      <th>v_2</th>\n",
       "      <th>avg_val</th>\n",
       "    </tr>\n",
       "  </thead>\n",
       "  <tbody>\n",
       "    <tr>\n",
       "      <th>30</th>\n",
       "      <td>2100 - 2850</td>\n",
       "      <td>2100 - 2850</td>\n",
       "      <td>2100</td>\n",
       "      <td>2850</td>\n",
       "      <td>2475</td>\n",
       "    </tr>\n",
       "    <tr>\n",
       "      <th>56</th>\n",
       "      <td>3010 - 3410</td>\n",
       "      <td>3010 - 3410</td>\n",
       "      <td>3010</td>\n",
       "      <td>3410</td>\n",
       "      <td>3210</td>\n",
       "    </tr>\n",
       "    <tr>\n",
       "      <th>81</th>\n",
       "      <td>2957 - 3450</td>\n",
       "      <td>2957 - 3450</td>\n",
       "      <td>2957</td>\n",
       "      <td>3450</td>\n",
       "      <td>3203.5</td>\n",
       "    </tr>\n",
       "    <tr>\n",
       "      <th>122</th>\n",
       "      <td>3067 - 8156</td>\n",
       "      <td>3067 - 8156</td>\n",
       "      <td>3067</td>\n",
       "      <td>8156</td>\n",
       "      <td>5611.5</td>\n",
       "    </tr>\n",
       "    <tr>\n",
       "      <th>137</th>\n",
       "      <td>1042 - 1105</td>\n",
       "      <td>1042 - 1105</td>\n",
       "      <td>1042</td>\n",
       "      <td>1105</td>\n",
       "      <td>1073.5</td>\n",
       "    </tr>\n",
       "  </tbody>\n",
       "</table>\n",
       "</div>"
      ],
      "text/plain": [
       "      total_sqft   string_val    v_1    v_2 avg_val\n",
       "30   2100 - 2850  2100 - 2850  2100    2850    2475\n",
       "56   3010 - 3410  3010 - 3410  3010    3410    3210\n",
       "81   2957 - 3450  2957 - 3450  2957    3450  3203.5\n",
       "122  3067 - 8156  3067 - 8156  3067    8156  5611.5\n",
       "137  1042 - 1105  1042 - 1105  1042    1105  1073.5"
      ]
     },
     "execution_count": 70,
     "metadata": {},
     "output_type": "execute_result"
    }
   ],
   "source": [
    "sqft_string['avg_val'] = sqft_string.apply(lambda x: average_val(x.v_1,x.v_2),axis=1 )\n",
    "sqft_string.head()"
   ]
  },
  {
   "cell_type": "code",
   "execution_count": 71,
   "metadata": {
    "ExecuteTime": {
     "end_time": "2019-10-31T18:43:20.052175Z",
     "start_time": "2019-10-31T18:43:20.034186Z"
    }
   },
   "outputs": [
    {
     "data": {
      "text/html": [
       "<div>\n",
       "<style scoped>\n",
       "    .dataframe tbody tr th:only-of-type {\n",
       "        vertical-align: middle;\n",
       "    }\n",
       "\n",
       "    .dataframe tbody tr th {\n",
       "        vertical-align: top;\n",
       "    }\n",
       "\n",
       "    .dataframe thead th {\n",
       "        text-align: right;\n",
       "    }\n",
       "</style>\n",
       "<table border=\"1\" class=\"dataframe\">\n",
       "  <thead>\n",
       "    <tr style=\"text-align: right;\">\n",
       "      <th></th>\n",
       "      <th>total_sqft</th>\n",
       "      <th>string_val</th>\n",
       "      <th>v_1</th>\n",
       "      <th>v_2</th>\n",
       "      <th>avg_val</th>\n",
       "      <th>conversion</th>\n",
       "    </tr>\n",
       "  </thead>\n",
       "  <tbody>\n",
       "    <tr>\n",
       "      <th>30</th>\n",
       "      <td>2100 - 2850</td>\n",
       "      <td>2100 - 2850</td>\n",
       "      <td>2100</td>\n",
       "      <td>2850</td>\n",
       "      <td>2475</td>\n",
       "      <td>NaN</td>\n",
       "    </tr>\n",
       "    <tr>\n",
       "      <th>56</th>\n",
       "      <td>3010 - 3410</td>\n",
       "      <td>3010 - 3410</td>\n",
       "      <td>3010</td>\n",
       "      <td>3410</td>\n",
       "      <td>3210</td>\n",
       "      <td>NaN</td>\n",
       "    </tr>\n",
       "    <tr>\n",
       "      <th>81</th>\n",
       "      <td>2957 - 3450</td>\n",
       "      <td>2957 - 3450</td>\n",
       "      <td>2957</td>\n",
       "      <td>3450</td>\n",
       "      <td>3203.5</td>\n",
       "      <td>NaN</td>\n",
       "    </tr>\n",
       "    <tr>\n",
       "      <th>122</th>\n",
       "      <td>3067 - 8156</td>\n",
       "      <td>3067 - 8156</td>\n",
       "      <td>3067</td>\n",
       "      <td>8156</td>\n",
       "      <td>5611.5</td>\n",
       "      <td>NaN</td>\n",
       "    </tr>\n",
       "    <tr>\n",
       "      <th>137</th>\n",
       "      <td>1042 - 1105</td>\n",
       "      <td>1042 - 1105</td>\n",
       "      <td>1042</td>\n",
       "      <td>1105</td>\n",
       "      <td>1073.5</td>\n",
       "      <td>NaN</td>\n",
       "    </tr>\n",
       "    <tr>\n",
       "      <th>165</th>\n",
       "      <td>1145 - 1340</td>\n",
       "      <td>1145 - 1340</td>\n",
       "      <td>1145</td>\n",
       "      <td>1340</td>\n",
       "      <td>1242.5</td>\n",
       "      <td>NaN</td>\n",
       "    </tr>\n",
       "    <tr>\n",
       "      <th>188</th>\n",
       "      <td>1015 - 1540</td>\n",
       "      <td>1015 - 1540</td>\n",
       "      <td>1015</td>\n",
       "      <td>1540</td>\n",
       "      <td>1277.5</td>\n",
       "      <td>NaN</td>\n",
       "    </tr>\n",
       "    <tr>\n",
       "      <th>224</th>\n",
       "      <td>1520 - 1740</td>\n",
       "      <td>1520 - 1740</td>\n",
       "      <td>1520</td>\n",
       "      <td>1740</td>\n",
       "      <td>1630</td>\n",
       "      <td>NaN</td>\n",
       "    </tr>\n",
       "    <tr>\n",
       "      <th>410</th>\n",
       "      <td>34.46Sq. Meter</td>\n",
       "      <td>34.46Sq. Meter</td>\n",
       "      <td>34.46Sq. Meter</td>\n",
       "      <td>34.46Sq. Meter</td>\n",
       "      <td>34.46Sq. Meter</td>\n",
       "      <td>34.46Sq. Meter</td>\n",
       "    </tr>\n",
       "    <tr>\n",
       "      <th>549</th>\n",
       "      <td>1195 - 1440</td>\n",
       "      <td>1195 - 1440</td>\n",
       "      <td>1195</td>\n",
       "      <td>1440</td>\n",
       "      <td>1317.5</td>\n",
       "      <td>NaN</td>\n",
       "    </tr>\n",
       "  </tbody>\n",
       "</table>\n",
       "</div>"
      ],
      "text/plain": [
       "         total_sqft      string_val             v_1             v_2  \\\n",
       "30      2100 - 2850     2100 - 2850           2100             2850   \n",
       "56      3010 - 3410     3010 - 3410           3010             3410   \n",
       "81      2957 - 3450     2957 - 3450           2957             3450   \n",
       "122     3067 - 8156     3067 - 8156           3067             8156   \n",
       "137     1042 - 1105     1042 - 1105           1042             1105   \n",
       "165     1145 - 1340     1145 - 1340           1145             1340   \n",
       "188     1015 - 1540     1015 - 1540           1015             1540   \n",
       "224     1520 - 1740     1520 - 1740           1520             1740   \n",
       "410  34.46Sq. Meter  34.46Sq. Meter  34.46Sq. Meter  34.46Sq. Meter   \n",
       "549     1195 - 1440     1195 - 1440           1195             1440   \n",
       "\n",
       "            avg_val      conversion  \n",
       "30             2475             NaN  \n",
       "56             3210             NaN  \n",
       "81           3203.5             NaN  \n",
       "122          5611.5             NaN  \n",
       "137          1073.5             NaN  \n",
       "165          1242.5             NaN  \n",
       "188          1277.5             NaN  \n",
       "224            1630             NaN  \n",
       "410  34.46Sq. Meter  34.46Sq. Meter  \n",
       "549          1317.5             NaN  "
      ]
     },
     "execution_count": 71,
     "metadata": {},
     "output_type": "execute_result"
    }
   ],
   "source": [
    "sqft_string['conversion'] = sqft_string['avg_val'].apply(string_val)\n",
    "\n",
    "sqft_string.head(10)"
   ]
  },
  {
   "cell_type": "markdown",
   "metadata": {},
   "source": [
    "### Extracting Conversion Units with 'Re'"
   ]
  },
  {
   "cell_type": "code",
   "execution_count": 72,
   "metadata": {
    "ExecuteTime": {
     "end_time": "2019-10-31T18:43:57.983377Z",
     "start_time": "2019-10-31T18:43:57.973386Z"
    }
   },
   "outputs": [],
   "source": [
    "import re\n",
    "sqft_string['con_val'] = sqft_string['conversion'].apply(lambda x: \"\".join(re.findall(r\"[a-zA-Z_]\", str(x))))\n",
    "\n",
    "sqft_string['num_val'] = sqft_string['conversion'].apply(lambda x: \".\".join(re.findall(\"\\d+\", str(x))))"
   ]
  },
  {
   "cell_type": "code",
   "execution_count": 73,
   "metadata": {
    "ExecuteTime": {
     "end_time": "2019-10-31T18:43:59.259201Z",
     "start_time": "2019-10-31T18:43:59.237213Z"
    }
   },
   "outputs": [
    {
     "data": {
      "text/html": [
       "<div>\n",
       "<style scoped>\n",
       "    .dataframe tbody tr th:only-of-type {\n",
       "        vertical-align: middle;\n",
       "    }\n",
       "\n",
       "    .dataframe tbody tr th {\n",
       "        vertical-align: top;\n",
       "    }\n",
       "\n",
       "    .dataframe thead th {\n",
       "        text-align: right;\n",
       "    }\n",
       "</style>\n",
       "<table border=\"1\" class=\"dataframe\">\n",
       "  <thead>\n",
       "    <tr style=\"text-align: right;\">\n",
       "      <th></th>\n",
       "      <th>total_sqft</th>\n",
       "      <th>string_val</th>\n",
       "      <th>v_1</th>\n",
       "      <th>v_2</th>\n",
       "      <th>avg_val</th>\n",
       "      <th>conversion</th>\n",
       "      <th>con_val</th>\n",
       "      <th>num_val</th>\n",
       "    </tr>\n",
       "  </thead>\n",
       "  <tbody>\n",
       "    <tr>\n",
       "      <th>30</th>\n",
       "      <td>2100 - 2850</td>\n",
       "      <td>2100 - 2850</td>\n",
       "      <td>2100</td>\n",
       "      <td>2850</td>\n",
       "      <td>2475</td>\n",
       "      <td>NaN</td>\n",
       "      <td>nan</td>\n",
       "      <td></td>\n",
       "    </tr>\n",
       "    <tr>\n",
       "      <th>56</th>\n",
       "      <td>3010 - 3410</td>\n",
       "      <td>3010 - 3410</td>\n",
       "      <td>3010</td>\n",
       "      <td>3410</td>\n",
       "      <td>3210</td>\n",
       "      <td>NaN</td>\n",
       "      <td>nan</td>\n",
       "      <td></td>\n",
       "    </tr>\n",
       "    <tr>\n",
       "      <th>81</th>\n",
       "      <td>2957 - 3450</td>\n",
       "      <td>2957 - 3450</td>\n",
       "      <td>2957</td>\n",
       "      <td>3450</td>\n",
       "      <td>3203.5</td>\n",
       "      <td>NaN</td>\n",
       "      <td>nan</td>\n",
       "      <td></td>\n",
       "    </tr>\n",
       "    <tr>\n",
       "      <th>122</th>\n",
       "      <td>3067 - 8156</td>\n",
       "      <td>3067 - 8156</td>\n",
       "      <td>3067</td>\n",
       "      <td>8156</td>\n",
       "      <td>5611.5</td>\n",
       "      <td>NaN</td>\n",
       "      <td>nan</td>\n",
       "      <td></td>\n",
       "    </tr>\n",
       "    <tr>\n",
       "      <th>137</th>\n",
       "      <td>1042 - 1105</td>\n",
       "      <td>1042 - 1105</td>\n",
       "      <td>1042</td>\n",
       "      <td>1105</td>\n",
       "      <td>1073.5</td>\n",
       "      <td>NaN</td>\n",
       "      <td>nan</td>\n",
       "      <td></td>\n",
       "    </tr>\n",
       "    <tr>\n",
       "      <th>165</th>\n",
       "      <td>1145 - 1340</td>\n",
       "      <td>1145 - 1340</td>\n",
       "      <td>1145</td>\n",
       "      <td>1340</td>\n",
       "      <td>1242.5</td>\n",
       "      <td>NaN</td>\n",
       "      <td>nan</td>\n",
       "      <td></td>\n",
       "    </tr>\n",
       "    <tr>\n",
       "      <th>188</th>\n",
       "      <td>1015 - 1540</td>\n",
       "      <td>1015 - 1540</td>\n",
       "      <td>1015</td>\n",
       "      <td>1540</td>\n",
       "      <td>1277.5</td>\n",
       "      <td>NaN</td>\n",
       "      <td>nan</td>\n",
       "      <td></td>\n",
       "    </tr>\n",
       "    <tr>\n",
       "      <th>224</th>\n",
       "      <td>1520 - 1740</td>\n",
       "      <td>1520 - 1740</td>\n",
       "      <td>1520</td>\n",
       "      <td>1740</td>\n",
       "      <td>1630</td>\n",
       "      <td>NaN</td>\n",
       "      <td>nan</td>\n",
       "      <td></td>\n",
       "    </tr>\n",
       "    <tr>\n",
       "      <th>410</th>\n",
       "      <td>34.46Sq. Meter</td>\n",
       "      <td>34.46Sq. Meter</td>\n",
       "      <td>34.46Sq. Meter</td>\n",
       "      <td>34.46Sq. Meter</td>\n",
       "      <td>34.46Sq. Meter</td>\n",
       "      <td>34.46Sq. Meter</td>\n",
       "      <td>SqMeter</td>\n",
       "      <td>34.46</td>\n",
       "    </tr>\n",
       "    <tr>\n",
       "      <th>549</th>\n",
       "      <td>1195 - 1440</td>\n",
       "      <td>1195 - 1440</td>\n",
       "      <td>1195</td>\n",
       "      <td>1440</td>\n",
       "      <td>1317.5</td>\n",
       "      <td>NaN</td>\n",
       "      <td>nan</td>\n",
       "      <td></td>\n",
       "    </tr>\n",
       "    <tr>\n",
       "      <th>579</th>\n",
       "      <td>1200 - 2400</td>\n",
       "      <td>1200 - 2400</td>\n",
       "      <td>1200</td>\n",
       "      <td>2400</td>\n",
       "      <td>1800</td>\n",
       "      <td>NaN</td>\n",
       "      <td>nan</td>\n",
       "      <td></td>\n",
       "    </tr>\n",
       "    <tr>\n",
       "      <th>648</th>\n",
       "      <td>4125Perch</td>\n",
       "      <td>4125Perch</td>\n",
       "      <td>4125Perch</td>\n",
       "      <td>4125Perch</td>\n",
       "      <td>4125Perch</td>\n",
       "      <td>4125Perch</td>\n",
       "      <td>Perch</td>\n",
       "      <td>4125</td>\n",
       "    </tr>\n",
       "    <tr>\n",
       "      <th>661</th>\n",
       "      <td>1120 - 1145</td>\n",
       "      <td>1120 - 1145</td>\n",
       "      <td>1120</td>\n",
       "      <td>1145</td>\n",
       "      <td>1132.5</td>\n",
       "      <td>NaN</td>\n",
       "      <td>nan</td>\n",
       "      <td></td>\n",
       "    </tr>\n",
       "  </tbody>\n",
       "</table>\n",
       "</div>"
      ],
      "text/plain": [
       "         total_sqft      string_val             v_1             v_2  \\\n",
       "30      2100 - 2850     2100 - 2850           2100             2850   \n",
       "56      3010 - 3410     3010 - 3410           3010             3410   \n",
       "81      2957 - 3450     2957 - 3450           2957             3450   \n",
       "122     3067 - 8156     3067 - 8156           3067             8156   \n",
       "137     1042 - 1105     1042 - 1105           1042             1105   \n",
       "165     1145 - 1340     1145 - 1340           1145             1340   \n",
       "188     1015 - 1540     1015 - 1540           1015             1540   \n",
       "224     1520 - 1740     1520 - 1740           1520             1740   \n",
       "410  34.46Sq. Meter  34.46Sq. Meter  34.46Sq. Meter  34.46Sq. Meter   \n",
       "549     1195 - 1440     1195 - 1440           1195             1440   \n",
       "579     1200 - 2400     1200 - 2400           1200             2400   \n",
       "648       4125Perch       4125Perch       4125Perch       4125Perch   \n",
       "661     1120 - 1145     1120 - 1145           1120             1145   \n",
       "\n",
       "            avg_val      conversion  con_val num_val  \n",
       "30             2475             NaN      nan          \n",
       "56             3210             NaN      nan          \n",
       "81           3203.5             NaN      nan          \n",
       "122          5611.5             NaN      nan          \n",
       "137          1073.5             NaN      nan          \n",
       "165          1242.5             NaN      nan          \n",
       "188          1277.5             NaN      nan          \n",
       "224            1630             NaN      nan          \n",
       "410  34.46Sq. Meter  34.46Sq. Meter  SqMeter   34.46  \n",
       "549          1317.5             NaN      nan          \n",
       "579            1800             NaN      nan          \n",
       "648       4125Perch       4125Perch    Perch    4125  \n",
       "661          1132.5             NaN      nan          "
      ]
     },
     "execution_count": 73,
     "metadata": {},
     "output_type": "execute_result"
    }
   ],
   "source": [
    "sqft_string.head(13)"
   ]
  },
  {
   "cell_type": "code",
   "execution_count": 74,
   "metadata": {
    "ExecuteTime": {
     "end_time": "2019-10-31T18:44:07.554762Z",
     "start_time": "2019-10-31T18:44:07.544769Z"
    }
   },
   "outputs": [],
   "source": [
    "sqft_string['num_val'] = sqft_string['num_val'].replace('', np.nan).fillna(0).astype(float)"
   ]
  },
  {
   "cell_type": "code",
   "execution_count": 75,
   "metadata": {
    "ExecuteTime": {
     "end_time": "2019-10-31T18:44:19.431836Z",
     "start_time": "2019-10-31T18:44:19.425838Z"
    }
   },
   "outputs": [],
   "source": [
    "sqft_string['num_val'] = np.where(sqft_string['num_val'] == 0,\n",
    "                                  sqft_string['avg_val'],\n",
    "                                  sqft_string['num_val'])"
   ]
  },
  {
   "cell_type": "code",
   "execution_count": 76,
   "metadata": {
    "ExecuteTime": {
     "end_time": "2019-10-31T18:44:20.466395Z",
     "start_time": "2019-10-31T18:44:20.446406Z"
    },
    "scrolled": false
   },
   "outputs": [
    {
     "data": {
      "text/html": [
       "<div>\n",
       "<style scoped>\n",
       "    .dataframe tbody tr th:only-of-type {\n",
       "        vertical-align: middle;\n",
       "    }\n",
       "\n",
       "    .dataframe tbody tr th {\n",
       "        vertical-align: top;\n",
       "    }\n",
       "\n",
       "    .dataframe thead th {\n",
       "        text-align: right;\n",
       "    }\n",
       "</style>\n",
       "<table border=\"1\" class=\"dataframe\">\n",
       "  <thead>\n",
       "    <tr style=\"text-align: right;\">\n",
       "      <th></th>\n",
       "      <th>total_sqft</th>\n",
       "      <th>string_val</th>\n",
       "      <th>v_1</th>\n",
       "      <th>v_2</th>\n",
       "      <th>avg_val</th>\n",
       "      <th>conversion</th>\n",
       "      <th>con_val</th>\n",
       "      <th>num_val</th>\n",
       "    </tr>\n",
       "  </thead>\n",
       "  <tbody>\n",
       "    <tr>\n",
       "      <th>30</th>\n",
       "      <td>2100 - 2850</td>\n",
       "      <td>2100 - 2850</td>\n",
       "      <td>2100</td>\n",
       "      <td>2850</td>\n",
       "      <td>2475</td>\n",
       "      <td>NaN</td>\n",
       "      <td>nan</td>\n",
       "      <td>2475</td>\n",
       "    </tr>\n",
       "    <tr>\n",
       "      <th>56</th>\n",
       "      <td>3010 - 3410</td>\n",
       "      <td>3010 - 3410</td>\n",
       "      <td>3010</td>\n",
       "      <td>3410</td>\n",
       "      <td>3210</td>\n",
       "      <td>NaN</td>\n",
       "      <td>nan</td>\n",
       "      <td>3210</td>\n",
       "    </tr>\n",
       "    <tr>\n",
       "      <th>81</th>\n",
       "      <td>2957 - 3450</td>\n",
       "      <td>2957 - 3450</td>\n",
       "      <td>2957</td>\n",
       "      <td>3450</td>\n",
       "      <td>3203.5</td>\n",
       "      <td>NaN</td>\n",
       "      <td>nan</td>\n",
       "      <td>3203.5</td>\n",
       "    </tr>\n",
       "    <tr>\n",
       "      <th>122</th>\n",
       "      <td>3067 - 8156</td>\n",
       "      <td>3067 - 8156</td>\n",
       "      <td>3067</td>\n",
       "      <td>8156</td>\n",
       "      <td>5611.5</td>\n",
       "      <td>NaN</td>\n",
       "      <td>nan</td>\n",
       "      <td>5611.5</td>\n",
       "    </tr>\n",
       "    <tr>\n",
       "      <th>137</th>\n",
       "      <td>1042 - 1105</td>\n",
       "      <td>1042 - 1105</td>\n",
       "      <td>1042</td>\n",
       "      <td>1105</td>\n",
       "      <td>1073.5</td>\n",
       "      <td>NaN</td>\n",
       "      <td>nan</td>\n",
       "      <td>1073.5</td>\n",
       "    </tr>\n",
       "    <tr>\n",
       "      <th>165</th>\n",
       "      <td>1145 - 1340</td>\n",
       "      <td>1145 - 1340</td>\n",
       "      <td>1145</td>\n",
       "      <td>1340</td>\n",
       "      <td>1242.5</td>\n",
       "      <td>NaN</td>\n",
       "      <td>nan</td>\n",
       "      <td>1242.5</td>\n",
       "    </tr>\n",
       "    <tr>\n",
       "      <th>188</th>\n",
       "      <td>1015 - 1540</td>\n",
       "      <td>1015 - 1540</td>\n",
       "      <td>1015</td>\n",
       "      <td>1540</td>\n",
       "      <td>1277.5</td>\n",
       "      <td>NaN</td>\n",
       "      <td>nan</td>\n",
       "      <td>1277.5</td>\n",
       "    </tr>\n",
       "    <tr>\n",
       "      <th>224</th>\n",
       "      <td>1520 - 1740</td>\n",
       "      <td>1520 - 1740</td>\n",
       "      <td>1520</td>\n",
       "      <td>1740</td>\n",
       "      <td>1630</td>\n",
       "      <td>NaN</td>\n",
       "      <td>nan</td>\n",
       "      <td>1630</td>\n",
       "    </tr>\n",
       "    <tr>\n",
       "      <th>410</th>\n",
       "      <td>34.46Sq. Meter</td>\n",
       "      <td>34.46Sq. Meter</td>\n",
       "      <td>34.46Sq. Meter</td>\n",
       "      <td>34.46Sq. Meter</td>\n",
       "      <td>34.46Sq. Meter</td>\n",
       "      <td>34.46Sq. Meter</td>\n",
       "      <td>SqMeter</td>\n",
       "      <td>34.46</td>\n",
       "    </tr>\n",
       "    <tr>\n",
       "      <th>549</th>\n",
       "      <td>1195 - 1440</td>\n",
       "      <td>1195 - 1440</td>\n",
       "      <td>1195</td>\n",
       "      <td>1440</td>\n",
       "      <td>1317.5</td>\n",
       "      <td>NaN</td>\n",
       "      <td>nan</td>\n",
       "      <td>1317.5</td>\n",
       "    </tr>\n",
       "    <tr>\n",
       "      <th>579</th>\n",
       "      <td>1200 - 2400</td>\n",
       "      <td>1200 - 2400</td>\n",
       "      <td>1200</td>\n",
       "      <td>2400</td>\n",
       "      <td>1800</td>\n",
       "      <td>NaN</td>\n",
       "      <td>nan</td>\n",
       "      <td>1800</td>\n",
       "    </tr>\n",
       "    <tr>\n",
       "      <th>648</th>\n",
       "      <td>4125Perch</td>\n",
       "      <td>4125Perch</td>\n",
       "      <td>4125Perch</td>\n",
       "      <td>4125Perch</td>\n",
       "      <td>4125Perch</td>\n",
       "      <td>4125Perch</td>\n",
       "      <td>Perch</td>\n",
       "      <td>4125</td>\n",
       "    </tr>\n",
       "    <tr>\n",
       "      <th>661</th>\n",
       "      <td>1120 - 1145</td>\n",
       "      <td>1120 - 1145</td>\n",
       "      <td>1120</td>\n",
       "      <td>1145</td>\n",
       "      <td>1132.5</td>\n",
       "      <td>NaN</td>\n",
       "      <td>nan</td>\n",
       "      <td>1132.5</td>\n",
       "    </tr>\n",
       "    <tr>\n",
       "      <th>669</th>\n",
       "      <td>4400 - 6640</td>\n",
       "      <td>4400 - 6640</td>\n",
       "      <td>4400</td>\n",
       "      <td>6640</td>\n",
       "      <td>5520</td>\n",
       "      <td>NaN</td>\n",
       "      <td>nan</td>\n",
       "      <td>5520</td>\n",
       "    </tr>\n",
       "  </tbody>\n",
       "</table>\n",
       "</div>"
      ],
      "text/plain": [
       "         total_sqft      string_val             v_1             v_2  \\\n",
       "30      2100 - 2850     2100 - 2850           2100             2850   \n",
       "56      3010 - 3410     3010 - 3410           3010             3410   \n",
       "81      2957 - 3450     2957 - 3450           2957             3450   \n",
       "122     3067 - 8156     3067 - 8156           3067             8156   \n",
       "137     1042 - 1105     1042 - 1105           1042             1105   \n",
       "165     1145 - 1340     1145 - 1340           1145             1340   \n",
       "188     1015 - 1540     1015 - 1540           1015             1540   \n",
       "224     1520 - 1740     1520 - 1740           1520             1740   \n",
       "410  34.46Sq. Meter  34.46Sq. Meter  34.46Sq. Meter  34.46Sq. Meter   \n",
       "549     1195 - 1440     1195 - 1440           1195             1440   \n",
       "579     1200 - 2400     1200 - 2400           1200             2400   \n",
       "648       4125Perch       4125Perch       4125Perch       4125Perch   \n",
       "661     1120 - 1145     1120 - 1145           1120             1145   \n",
       "669     4400 - 6640     4400 - 6640           4400             6640   \n",
       "\n",
       "            avg_val      conversion  con_val num_val  \n",
       "30             2475             NaN      nan    2475  \n",
       "56             3210             NaN      nan    3210  \n",
       "81           3203.5             NaN      nan  3203.5  \n",
       "122          5611.5             NaN      nan  5611.5  \n",
       "137          1073.5             NaN      nan  1073.5  \n",
       "165          1242.5             NaN      nan  1242.5  \n",
       "188          1277.5             NaN      nan  1277.5  \n",
       "224            1630             NaN      nan    1630  \n",
       "410  34.46Sq. Meter  34.46Sq. Meter  SqMeter   34.46  \n",
       "549          1317.5             NaN      nan  1317.5  \n",
       "579            1800             NaN      nan    1800  \n",
       "648       4125Perch       4125Perch    Perch    4125  \n",
       "661          1132.5             NaN      nan  1132.5  \n",
       "669            5520             NaN      nan    5520  "
      ]
     },
     "execution_count": 76,
     "metadata": {},
     "output_type": "execute_result"
    }
   ],
   "source": [
    "sqft_string.head(14)"
   ]
  },
  {
   "cell_type": "markdown",
   "metadata": {},
   "source": [
    "### Loading Conversion Factor"
   ]
  },
  {
   "cell_type": "code",
   "execution_count": 77,
   "metadata": {
    "ExecuteTime": {
     "end_time": "2019-10-31T18:44:35.734662Z",
     "start_time": "2019-10-31T18:44:35.728666Z"
    }
   },
   "outputs": [],
   "source": [
    "# The list of conversion factor\n",
    "conversion_factor = pd.read_csv(r\"..\\data\\additional_data\\conversion_factor.csv\")"
   ]
  },
  {
   "cell_type": "code",
   "execution_count": 78,
   "metadata": {
    "ExecuteTime": {
     "end_time": "2019-10-31T18:44:36.452215Z",
     "start_time": "2019-10-31T18:44:36.432229Z"
    }
   },
   "outputs": [
    {
     "data": {
      "text/html": [
       "<div>\n",
       "<style scoped>\n",
       "    .dataframe tbody tr th:only-of-type {\n",
       "        vertical-align: middle;\n",
       "    }\n",
       "\n",
       "    .dataframe tbody tr th {\n",
       "        vertical-align: top;\n",
       "    }\n",
       "\n",
       "    .dataframe thead th {\n",
       "        text-align: right;\n",
       "    }\n",
       "</style>\n",
       "<table border=\"1\" class=\"dataframe\">\n",
       "  <thead>\n",
       "    <tr style=\"text-align: right;\">\n",
       "      <th></th>\n",
       "      <th>unit</th>\n",
       "      <th>conversion_factor</th>\n",
       "    </tr>\n",
       "  </thead>\n",
       "  <tbody>\n",
       "    <tr>\n",
       "      <th>0</th>\n",
       "      <td>Acres</td>\n",
       "      <td>43560.0000</td>\n",
       "    </tr>\n",
       "    <tr>\n",
       "      <th>1</th>\n",
       "      <td>SqMeter</td>\n",
       "      <td>10.7639</td>\n",
       "    </tr>\n",
       "    <tr>\n",
       "      <th>2</th>\n",
       "      <td>SqYards</td>\n",
       "      <td>9.0000</td>\n",
       "    </tr>\n",
       "    <tr>\n",
       "      <th>3</th>\n",
       "      <td>Cents</td>\n",
       "      <td>435.6000</td>\n",
       "    </tr>\n",
       "    <tr>\n",
       "      <th>4</th>\n",
       "      <td>Grounds</td>\n",
       "      <td>2400.0000</td>\n",
       "    </tr>\n",
       "    <tr>\n",
       "      <th>5</th>\n",
       "      <td>Guntha</td>\n",
       "      <td>1089.0000</td>\n",
       "    </tr>\n",
       "    <tr>\n",
       "      <th>6</th>\n",
       "      <td>Perch</td>\n",
       "      <td>272.2500</td>\n",
       "    </tr>\n",
       "  </tbody>\n",
       "</table>\n",
       "</div>"
      ],
      "text/plain": [
       "      unit  conversion_factor\n",
       "0    Acres         43560.0000\n",
       "1  SqMeter            10.7639\n",
       "2  SqYards             9.0000\n",
       "3    Cents           435.6000\n",
       "4  Grounds          2400.0000\n",
       "5   Guntha          1089.0000\n",
       "6    Perch           272.2500"
      ]
     },
     "execution_count": 78,
     "metadata": {},
     "output_type": "execute_result"
    }
   ],
   "source": [
    "conversion_factor"
   ]
  },
  {
   "cell_type": "markdown",
   "metadata": {},
   "source": [
    "Mapping the conversion factor and filling remaining values with 1."
   ]
  },
  {
   "cell_type": "code",
   "execution_count": 83,
   "metadata": {
    "ExecuteTime": {
     "end_time": "2019-10-31T18:45:52.239285Z",
     "start_time": "2019-10-31T18:45:52.230292Z"
    }
   },
   "outputs": [],
   "source": [
    "sqft_string['conversion_factor'] = (sqft_string['con_val']\n",
    "                                           .map(dict(zip(conversion_factor['unit']\n",
    "                                                         ,conversion_factor['conversion_factor']))).fillna(1))"
   ]
  },
  {
   "cell_type": "code",
   "execution_count": 86,
   "metadata": {
    "ExecuteTime": {
     "end_time": "2019-10-31T18:47:35.894285Z",
     "start_time": "2019-10-31T18:47:35.865302Z"
    },
    "scrolled": true
   },
   "outputs": [
    {
     "data": {
      "text/html": [
       "<div>\n",
       "<style scoped>\n",
       "    .dataframe tbody tr th:only-of-type {\n",
       "        vertical-align: middle;\n",
       "    }\n",
       "\n",
       "    .dataframe tbody tr th {\n",
       "        vertical-align: top;\n",
       "    }\n",
       "\n",
       "    .dataframe thead th {\n",
       "        text-align: right;\n",
       "    }\n",
       "</style>\n",
       "<table border=\"1\" class=\"dataframe\">\n",
       "  <thead>\n",
       "    <tr style=\"text-align: right;\">\n",
       "      <th></th>\n",
       "      <th>total_sqft</th>\n",
       "      <th>string_val</th>\n",
       "      <th>v_1</th>\n",
       "      <th>v_2</th>\n",
       "      <th>avg_val</th>\n",
       "      <th>conversion</th>\n",
       "      <th>con_val</th>\n",
       "      <th>num_val</th>\n",
       "      <th>conversion_factor</th>\n",
       "      <th>after_conversion</th>\n",
       "    </tr>\n",
       "  </thead>\n",
       "  <tbody>\n",
       "    <tr>\n",
       "      <th>30</th>\n",
       "      <td>2100 - 2850</td>\n",
       "      <td>2100 - 2850</td>\n",
       "      <td>2100</td>\n",
       "      <td>2850</td>\n",
       "      <td>2475</td>\n",
       "      <td>NaN</td>\n",
       "      <td>nan</td>\n",
       "      <td>2475</td>\n",
       "      <td>1.0000</td>\n",
       "      <td>2475.00</td>\n",
       "    </tr>\n",
       "    <tr>\n",
       "      <th>56</th>\n",
       "      <td>3010 - 3410</td>\n",
       "      <td>3010 - 3410</td>\n",
       "      <td>3010</td>\n",
       "      <td>3410</td>\n",
       "      <td>3210</td>\n",
       "      <td>NaN</td>\n",
       "      <td>nan</td>\n",
       "      <td>3210</td>\n",
       "      <td>1.0000</td>\n",
       "      <td>3210.00</td>\n",
       "    </tr>\n",
       "    <tr>\n",
       "      <th>81</th>\n",
       "      <td>2957 - 3450</td>\n",
       "      <td>2957 - 3450</td>\n",
       "      <td>2957</td>\n",
       "      <td>3450</td>\n",
       "      <td>3203.5</td>\n",
       "      <td>NaN</td>\n",
       "      <td>nan</td>\n",
       "      <td>3203.5</td>\n",
       "      <td>1.0000</td>\n",
       "      <td>3203.50</td>\n",
       "    </tr>\n",
       "    <tr>\n",
       "      <th>122</th>\n",
       "      <td>3067 - 8156</td>\n",
       "      <td>3067 - 8156</td>\n",
       "      <td>3067</td>\n",
       "      <td>8156</td>\n",
       "      <td>5611.5</td>\n",
       "      <td>NaN</td>\n",
       "      <td>nan</td>\n",
       "      <td>5611.5</td>\n",
       "      <td>1.0000</td>\n",
       "      <td>5611.50</td>\n",
       "    </tr>\n",
       "    <tr>\n",
       "      <th>137</th>\n",
       "      <td>1042 - 1105</td>\n",
       "      <td>1042 - 1105</td>\n",
       "      <td>1042</td>\n",
       "      <td>1105</td>\n",
       "      <td>1073.5</td>\n",
       "      <td>NaN</td>\n",
       "      <td>nan</td>\n",
       "      <td>1073.5</td>\n",
       "      <td>1.0000</td>\n",
       "      <td>1073.50</td>\n",
       "    </tr>\n",
       "    <tr>\n",
       "      <th>165</th>\n",
       "      <td>1145 - 1340</td>\n",
       "      <td>1145 - 1340</td>\n",
       "      <td>1145</td>\n",
       "      <td>1340</td>\n",
       "      <td>1242.5</td>\n",
       "      <td>NaN</td>\n",
       "      <td>nan</td>\n",
       "      <td>1242.5</td>\n",
       "      <td>1.0000</td>\n",
       "      <td>1242.50</td>\n",
       "    </tr>\n",
       "    <tr>\n",
       "      <th>188</th>\n",
       "      <td>1015 - 1540</td>\n",
       "      <td>1015 - 1540</td>\n",
       "      <td>1015</td>\n",
       "      <td>1540</td>\n",
       "      <td>1277.5</td>\n",
       "      <td>NaN</td>\n",
       "      <td>nan</td>\n",
       "      <td>1277.5</td>\n",
       "      <td>1.0000</td>\n",
       "      <td>1277.50</td>\n",
       "    </tr>\n",
       "    <tr>\n",
       "      <th>224</th>\n",
       "      <td>1520 - 1740</td>\n",
       "      <td>1520 - 1740</td>\n",
       "      <td>1520</td>\n",
       "      <td>1740</td>\n",
       "      <td>1630</td>\n",
       "      <td>NaN</td>\n",
       "      <td>nan</td>\n",
       "      <td>1630</td>\n",
       "      <td>1.0000</td>\n",
       "      <td>1630.00</td>\n",
       "    </tr>\n",
       "    <tr>\n",
       "      <th>410</th>\n",
       "      <td>34.46Sq. Meter</td>\n",
       "      <td>34.46Sq. Meter</td>\n",
       "      <td>34.46Sq. Meter</td>\n",
       "      <td>34.46Sq. Meter</td>\n",
       "      <td>34.46Sq. Meter</td>\n",
       "      <td>34.46Sq. Meter</td>\n",
       "      <td>SqMeter</td>\n",
       "      <td>34.46</td>\n",
       "      <td>10.7639</td>\n",
       "      <td>370.92</td>\n",
       "    </tr>\n",
       "    <tr>\n",
       "      <th>549</th>\n",
       "      <td>1195 - 1440</td>\n",
       "      <td>1195 - 1440</td>\n",
       "      <td>1195</td>\n",
       "      <td>1440</td>\n",
       "      <td>1317.5</td>\n",
       "      <td>NaN</td>\n",
       "      <td>nan</td>\n",
       "      <td>1317.5</td>\n",
       "      <td>1.0000</td>\n",
       "      <td>1317.50</td>\n",
       "    </tr>\n",
       "  </tbody>\n",
       "</table>\n",
       "</div>"
      ],
      "text/plain": [
       "         total_sqft      string_val             v_1             v_2  \\\n",
       "30      2100 - 2850     2100 - 2850           2100             2850   \n",
       "56      3010 - 3410     3010 - 3410           3010             3410   \n",
       "81      2957 - 3450     2957 - 3450           2957             3450   \n",
       "122     3067 - 8156     3067 - 8156           3067             8156   \n",
       "137     1042 - 1105     1042 - 1105           1042             1105   \n",
       "165     1145 - 1340     1145 - 1340           1145             1340   \n",
       "188     1015 - 1540     1015 - 1540           1015             1540   \n",
       "224     1520 - 1740     1520 - 1740           1520             1740   \n",
       "410  34.46Sq. Meter  34.46Sq. Meter  34.46Sq. Meter  34.46Sq. Meter   \n",
       "549     1195 - 1440     1195 - 1440           1195             1440   \n",
       "\n",
       "            avg_val      conversion  con_val num_val  conversion_factor  \\\n",
       "30             2475             NaN      nan    2475             1.0000   \n",
       "56             3210             NaN      nan    3210             1.0000   \n",
       "81           3203.5             NaN      nan  3203.5             1.0000   \n",
       "122          5611.5             NaN      nan  5611.5             1.0000   \n",
       "137          1073.5             NaN      nan  1073.5             1.0000   \n",
       "165          1242.5             NaN      nan  1242.5             1.0000   \n",
       "188          1277.5             NaN      nan  1277.5             1.0000   \n",
       "224            1630             NaN      nan    1630             1.0000   \n",
       "410  34.46Sq. Meter  34.46Sq. Meter  SqMeter   34.46            10.7639   \n",
       "549          1317.5             NaN      nan  1317.5             1.0000   \n",
       "\n",
       "     after_conversion  \n",
       "30            2475.00  \n",
       "56            3210.00  \n",
       "81            3203.50  \n",
       "122           5611.50  \n",
       "137           1073.50  \n",
       "165           1242.50  \n",
       "188           1277.50  \n",
       "224           1630.00  \n",
       "410            370.92  \n",
       "549           1317.50  "
      ]
     },
     "execution_count": 86,
     "metadata": {},
     "output_type": "execute_result"
    }
   ],
   "source": [
    "sqft_string['after_conversion'] = sqft_string['num_val']*sqft_string['conversion_factor']\n",
    "\n",
    "sqft_string['after_conversion'] = sqft_string['after_conversion'].apply(lambda x: round(x, 2))\n",
    "\n",
    "sqft_string.head(10)"
   ]
  },
  {
   "cell_type": "code",
   "execution_count": 87,
   "metadata": {
    "ExecuteTime": {
     "end_time": "2019-10-31T18:47:51.766747Z",
     "start_time": "2019-10-31T18:47:51.759752Z"
    }
   },
   "outputs": [],
   "source": [
    "string_val_dict = dict(zip(sqft_string['total_sqft'],sqft_string['after_conversion']))"
   ]
  },
  {
   "cell_type": "markdown",
   "metadata": {},
   "source": [
    "### Mapping Converted Rates with Original DF"
   ]
  },
  {
   "cell_type": "code",
   "execution_count": 88,
   "metadata": {
    "ExecuteTime": {
     "end_time": "2019-10-31T18:48:05.957848Z",
     "start_time": "2019-10-31T18:48:05.948858Z"
    }
   },
   "outputs": [],
   "source": [
    "df['total_sqft_new'] = df['total_sqft'].map(string_val_dict)"
   ]
  },
  {
   "cell_type": "code",
   "execution_count": 89,
   "metadata": {
    "ExecuteTime": {
     "end_time": "2019-10-31T18:49:21.839295Z",
     "start_time": "2019-10-31T18:49:21.132734Z"
    }
   },
   "outputs": [],
   "source": [
    "df['total_sqft'] = (df.apply(lambda row: row['total_sqft'] \n",
    "                             if np.isnan(row['total_sqft_new']) \n",
    "                             else row['total_sqft_new'],axis=1))"
   ]
  },
  {
   "cell_type": "code",
   "execution_count": 90,
   "metadata": {
    "ExecuteTime": {
     "end_time": "2019-10-31T18:50:12.297581Z",
     "start_time": "2019-10-31T18:50:12.281593Z"
    }
   },
   "outputs": [],
   "source": [
    "df['total_sqft'] = df['total_sqft'].astype(float)\n",
    "\n",
    "df.drop(['total_sqft_new'], axis=1, inplace=True)"
   ]
  },
  {
   "cell_type": "code",
   "execution_count": 91,
   "metadata": {
    "ExecuteTime": {
     "end_time": "2019-10-31T18:50:27.578595Z",
     "start_time": "2019-10-31T18:50:27.569603Z"
    },
    "scrolled": false
   },
   "outputs": [
    {
     "data": {
      "text/plain": [
       "0"
      ]
     },
     "execution_count": 91,
     "metadata": {},
     "output_type": "execute_result"
    }
   ],
   "source": [
    "df['total_sqft'].isnull().sum()"
   ]
  },
  {
   "cell_type": "markdown",
   "metadata": {},
   "source": [
    "## Society"
   ]
  },
  {
   "cell_type": "code",
   "execution_count": 92,
   "metadata": {
    "ExecuteTime": {
     "end_time": "2019-10-31T18:50:39.409395Z",
     "start_time": "2019-10-31T18:50:39.401403Z"
    }
   },
   "outputs": [
    {
     "data": {
      "text/plain": [
       "6128"
      ]
     },
     "execution_count": 92,
     "metadata": {},
     "output_type": "execute_result"
    }
   ],
   "source": [
    "df['society'].isnull().sum()"
   ]
  },
  {
   "cell_type": "code",
   "execution_count": 93,
   "metadata": {
    "ExecuteTime": {
     "end_time": "2019-10-31T18:50:47.037773Z",
     "start_time": "2019-10-31T18:50:47.006795Z"
    },
    "scrolled": true
   },
   "outputs": [
    {
     "data": {
      "text/html": [
       "<div>\n",
       "<style scoped>\n",
       "    .dataframe tbody tr th:only-of-type {\n",
       "        vertical-align: middle;\n",
       "    }\n",
       "\n",
       "    .dataframe tbody tr th {\n",
       "        vertical-align: top;\n",
       "    }\n",
       "\n",
       "    .dataframe thead th {\n",
       "        text-align: right;\n",
       "    }\n",
       "</style>\n",
       "<table border=\"1\" class=\"dataframe\">\n",
       "  <thead>\n",
       "    <tr style=\"text-align: right;\">\n",
       "      <th></th>\n",
       "      <th>area_type</th>\n",
       "      <th>availability</th>\n",
       "      <th>location</th>\n",
       "      <th>size</th>\n",
       "      <th>society</th>\n",
       "      <th>total_sqft</th>\n",
       "      <th>bath</th>\n",
       "      <th>balcony</th>\n",
       "      <th>price</th>\n",
       "      <th>data_category</th>\n",
       "    </tr>\n",
       "  </thead>\n",
       "  <tbody>\n",
       "    <tr>\n",
       "      <th>2</th>\n",
       "      <td>Built-up  Area</td>\n",
       "      <td>Ready To Move</td>\n",
       "      <td>560061</td>\n",
       "      <td>3.0</td>\n",
       "      <td>NaN</td>\n",
       "      <td>1440.0</td>\n",
       "      <td>2.0</td>\n",
       "      <td>3.0</td>\n",
       "      <td>62.00</td>\n",
       "      <td>train</td>\n",
       "    </tr>\n",
       "    <tr>\n",
       "      <th>4</th>\n",
       "      <td>Super built-up  Area</td>\n",
       "      <td>Ready To Move</td>\n",
       "      <td>560077</td>\n",
       "      <td>2.0</td>\n",
       "      <td>NaN</td>\n",
       "      <td>1200.0</td>\n",
       "      <td>2.0</td>\n",
       "      <td>1.0</td>\n",
       "      <td>51.00</td>\n",
       "      <td>train</td>\n",
       "    </tr>\n",
       "    <tr>\n",
       "      <th>8</th>\n",
       "      <td>Super built-up  Area</td>\n",
       "      <td>Ready To Move</td>\n",
       "      <td>560037</td>\n",
       "      <td>3.0</td>\n",
       "      <td>NaN</td>\n",
       "      <td>1310.0</td>\n",
       "      <td>3.0</td>\n",
       "      <td>1.0</td>\n",
       "      <td>63.25</td>\n",
       "      <td>train</td>\n",
       "    </tr>\n",
       "    <tr>\n",
       "      <th>9</th>\n",
       "      <td>Plot  Area</td>\n",
       "      <td>Ready To Move</td>\n",
       "      <td>560004</td>\n",
       "      <td>6.0</td>\n",
       "      <td>NaN</td>\n",
       "      <td>1020.0</td>\n",
       "      <td>6.0</td>\n",
       "      <td>NaN</td>\n",
       "      <td>370.00</td>\n",
       "      <td>train</td>\n",
       "    </tr>\n",
       "    <tr>\n",
       "      <th>10</th>\n",
       "      <td>Super built-up  Area</td>\n",
       "      <td>18-Feb</td>\n",
       "      <td>560066</td>\n",
       "      <td>3.0</td>\n",
       "      <td>NaN</td>\n",
       "      <td>1800.0</td>\n",
       "      <td>2.0</td>\n",
       "      <td>2.0</td>\n",
       "      <td>70.00</td>\n",
       "      <td>train</td>\n",
       "    </tr>\n",
       "  </tbody>\n",
       "</table>\n",
       "</div>"
      ],
      "text/plain": [
       "               area_type   availability  location  size society  total_sqft  \\\n",
       "2         Built-up  Area  Ready To Move    560061   3.0     NaN      1440.0   \n",
       "4   Super built-up  Area  Ready To Move    560077   2.0     NaN      1200.0   \n",
       "8   Super built-up  Area  Ready To Move    560037   3.0     NaN      1310.0   \n",
       "9             Plot  Area  Ready To Move    560004   6.0     NaN      1020.0   \n",
       "10  Super built-up  Area         18-Feb    560066   3.0     NaN      1800.0   \n",
       "\n",
       "    bath  balcony   price data_category  \n",
       "2    2.0      3.0   62.00         train  \n",
       "4    2.0      1.0   51.00         train  \n",
       "8    3.0      1.0   63.25         train  \n",
       "9    6.0      NaN  370.00         train  \n",
       "10   2.0      2.0   70.00         train  "
      ]
     },
     "execution_count": 93,
     "metadata": {},
     "output_type": "execute_result"
    }
   ],
   "source": [
    "df[df['society'].isnull()].head()"
   ]
  },
  {
   "cell_type": "markdown",
   "metadata": {},
   "source": [
    "Here, just making a binary classification whether the House is in a Society or not, filling NaNs with zero and remaining with 1."
   ]
  },
  {
   "cell_type": "code",
   "execution_count": 94,
   "metadata": {
    "ExecuteTime": {
     "end_time": "2019-10-31T18:51:10.401772Z",
     "start_time": "2019-10-31T18:51:10.373790Z"
    }
   },
   "outputs": [
    {
     "data": {
      "text/plain": [
       "1    8672\n",
       "0    6128\n",
       "Name: society, dtype: int64"
      ]
     },
     "execution_count": 94,
     "metadata": {},
     "output_type": "execute_result"
    }
   ],
   "source": [
    "df.loc[(df['society'].isnull()), 'society']= 0\n",
    "\n",
    "df.loc[(df['society']!=0),'society'] = 1\n",
    "\n",
    "df['society'].value_counts()"
   ]
  },
  {
   "cell_type": "markdown",
   "metadata": {},
   "source": [
    "## Availability"
   ]
  },
  {
   "cell_type": "code",
   "execution_count": 96,
   "metadata": {
    "ExecuteTime": {
     "end_time": "2019-10-31T18:51:54.855240Z",
     "start_time": "2019-10-31T18:51:54.843247Z"
    }
   },
   "outputs": [
    {
     "data": {
      "text/plain": [
       "Ready To Move    11743\n",
       "18-Dec             351\n",
       "18-May             324\n",
       "18-Apr             296\n",
       "18-Aug             225\n",
       "Name: availability, dtype: int64"
      ]
     },
     "execution_count": 96,
     "metadata": {},
     "output_type": "execute_result"
    }
   ],
   "source": [
    "df['availability'].value_counts().head()"
   ]
  },
  {
   "cell_type": "markdown",
   "metadata": {},
   "source": [
    "In 'availability' column, we can broadly categorised the data into two ways:\n",
    "- \"Ready To Move\" or \"Immediate Possession\"\n",
    "- A future date\n",
    "\n",
    "Since, the year is not mentioned in these dates, hence we cannot utilise this column further.\n",
    "Therefore, categorising the data points as '1' for \"Ready To Move\" or \"Immediate Possession\" and \n",
    "'0' for the dates."
   ]
  },
  {
   "cell_type": "code",
   "execution_count": 97,
   "metadata": {
    "ExecuteTime": {
     "end_time": "2019-10-31T18:53:27.882545Z",
     "start_time": "2019-10-31T18:53:27.859557Z"
    }
   },
   "outputs": [
    {
     "data": {
      "text/plain": [
       "1    11761\n",
       "0     3039\n",
       "Name: availability, dtype: int64"
      ]
     },
     "execution_count": 97,
     "metadata": {},
     "output_type": "execute_result"
    }
   ],
   "source": [
    "df['availability'].replace([\"Ready To Move\",\"Immediate Possession\"], 1, inplace=True)\n",
    "\n",
    "df.loc[(df['availability']!=1),'availability'] = 0\n",
    "\n",
    "df['availability'].value_counts()"
   ]
  },
  {
   "cell_type": "markdown",
   "metadata": {},
   "source": [
    "# Imputation"
   ]
  },
  {
   "cell_type": "code",
   "execution_count": 98,
   "metadata": {
    "ExecuteTime": {
     "end_time": "2019-10-31T18:53:33.084971Z",
     "start_time": "2019-10-31T18:53:33.070982Z"
    }
   },
   "outputs": [
    {
     "data": {
      "text/plain": [
       "area_type           0\n",
       "availability        0\n",
       "location            0\n",
       "size               18\n",
       "society             0\n",
       "total_sqft          0\n",
       "bath               80\n",
       "balcony           678\n",
       "price            1480\n",
       "data_category       0\n",
       "dtype: int64"
      ]
     },
     "execution_count": 98,
     "metadata": {},
     "output_type": "execute_result"
    }
   ],
   "source": [
    "df.isnull().sum()"
   ]
  },
  {
   "cell_type": "markdown",
   "metadata": {},
   "source": [
    "## Size"
   ]
  },
  {
   "cell_type": "code",
   "execution_count": 100,
   "metadata": {
    "ExecuteTime": {
     "end_time": "2019-10-31T18:53:53.620154Z",
     "start_time": "2019-10-31T18:53:53.593172Z"
    },
    "scrolled": true
   },
   "outputs": [
    {
     "data": {
      "text/html": [
       "<div>\n",
       "<style scoped>\n",
       "    .dataframe tbody tr th:only-of-type {\n",
       "        vertical-align: middle;\n",
       "    }\n",
       "\n",
       "    .dataframe tbody tr th {\n",
       "        vertical-align: top;\n",
       "    }\n",
       "\n",
       "    .dataframe thead th {\n",
       "        text-align: right;\n",
       "    }\n",
       "</style>\n",
       "<table border=\"1\" class=\"dataframe\">\n",
       "  <thead>\n",
       "    <tr style=\"text-align: right;\">\n",
       "      <th></th>\n",
       "      <th>area_type</th>\n",
       "      <th>availability</th>\n",
       "      <th>location</th>\n",
       "      <th>size</th>\n",
       "      <th>society</th>\n",
       "      <th>total_sqft</th>\n",
       "      <th>bath</th>\n",
       "      <th>balcony</th>\n",
       "      <th>price</th>\n",
       "      <th>data_category</th>\n",
       "    </tr>\n",
       "  </thead>\n",
       "  <tbody>\n",
       "    <tr>\n",
       "      <th>579</th>\n",
       "      <td>Plot  Area</td>\n",
       "      <td>1</td>\n",
       "      <td>562125</td>\n",
       "      <td>NaN</td>\n",
       "      <td>1</td>\n",
       "      <td>1800.0</td>\n",
       "      <td>NaN</td>\n",
       "      <td>NaN</td>\n",
       "      <td>34.185</td>\n",
       "      <td>train</td>\n",
       "    </tr>\n",
       "    <tr>\n",
       "      <th>1775</th>\n",
       "      <td>Plot  Area</td>\n",
       "      <td>1</td>\n",
       "      <td>562110</td>\n",
       "      <td>NaN</td>\n",
       "      <td>1</td>\n",
       "      <td>3817.0</td>\n",
       "      <td>NaN</td>\n",
       "      <td>NaN</td>\n",
       "      <td>124.000</td>\n",
       "      <td>train</td>\n",
       "    </tr>\n",
       "    <tr>\n",
       "      <th>2264</th>\n",
       "      <td>Plot  Area</td>\n",
       "      <td>1</td>\n",
       "      <td>560050</td>\n",
       "      <td>NaN</td>\n",
       "      <td>0</td>\n",
       "      <td>2400.0</td>\n",
       "      <td>NaN</td>\n",
       "      <td>NaN</td>\n",
       "      <td>460.000</td>\n",
       "      <td>train</td>\n",
       "    </tr>\n",
       "    <tr>\n",
       "      <th>2809</th>\n",
       "      <td>Plot  Area</td>\n",
       "      <td>1</td>\n",
       "      <td>562125</td>\n",
       "      <td>NaN</td>\n",
       "      <td>1</td>\n",
       "      <td>1800.0</td>\n",
       "      <td>NaN</td>\n",
       "      <td>NaN</td>\n",
       "      <td>28.785</td>\n",
       "      <td>train</td>\n",
       "    </tr>\n",
       "    <tr>\n",
       "      <th>2862</th>\n",
       "      <td>Plot  Area</td>\n",
       "      <td>1</td>\n",
       "      <td>562110</td>\n",
       "      <td>NaN</td>\n",
       "      <td>1</td>\n",
       "      <td>1950.0</td>\n",
       "      <td>NaN</td>\n",
       "      <td>NaN</td>\n",
       "      <td>46.800</td>\n",
       "      <td>train</td>\n",
       "    </tr>\n",
       "  </tbody>\n",
       "</table>\n",
       "</div>"
      ],
      "text/plain": [
       "       area_type  availability  location  size  society  total_sqft  bath  \\\n",
       "579   Plot  Area             1    562125   NaN        1      1800.0   NaN   \n",
       "1775  Plot  Area             1    562110   NaN        1      3817.0   NaN   \n",
       "2264  Plot  Area             1    560050   NaN        0      2400.0   NaN   \n",
       "2809  Plot  Area             1    562125   NaN        1      1800.0   NaN   \n",
       "2862  Plot  Area             1    562110   NaN        1      1950.0   NaN   \n",
       "\n",
       "      balcony    price data_category  \n",
       "579       NaN   34.185         train  \n",
       "1775      NaN  124.000         train  \n",
       "2264      NaN  460.000         train  \n",
       "2809      NaN   28.785         train  \n",
       "2862      NaN   46.800         train  "
      ]
     },
     "execution_count": 100,
     "metadata": {},
     "output_type": "execute_result"
    }
   ],
   "source": [
    "df[df['size'].isna()].head()"
   ]
  },
  {
   "cell_type": "markdown",
   "metadata": {},
   "source": [
    "To impute variable 'size' i.e. number of bedrooms, the variable 'total_sqft' is used. The 'total_sqft' is divided by 550(considering a generic factor per room in a house with hall and kitchen), and the roundup till the next integer."
   ]
  },
  {
   "cell_type": "code",
   "execution_count": 101,
   "metadata": {
    "ExecuteTime": {
     "end_time": "2019-10-31T18:54:43.133789Z",
     "start_time": "2019-10-31T18:54:43.126793Z"
    }
   },
   "outputs": [],
   "source": [
    "df['size'] = df['size'].astype(float)"
   ]
  },
  {
   "cell_type": "code",
   "execution_count": 102,
   "metadata": {
    "ExecuteTime": {
     "end_time": "2019-10-31T18:54:44.640970Z",
     "start_time": "2019-10-31T18:54:43.826476Z"
    },
    "scrolled": true
   },
   "outputs": [],
   "source": [
    "df['size'] = df.apply(lambda row: math.ceil(float(row['total_sqft']/550)) if np.isnan(row['size']) else row['size'], axis=1)"
   ]
  },
  {
   "cell_type": "code",
   "execution_count": 103,
   "metadata": {
    "ExecuteTime": {
     "end_time": "2019-10-31T18:54:44.678947Z",
     "start_time": "2019-10-31T18:54:44.643970Z"
    }
   },
   "outputs": [
    {
     "data": {
      "text/html": [
       "<div>\n",
       "<style scoped>\n",
       "    .dataframe tbody tr th:only-of-type {\n",
       "        vertical-align: middle;\n",
       "    }\n",
       "\n",
       "    .dataframe tbody tr th {\n",
       "        vertical-align: top;\n",
       "    }\n",
       "\n",
       "    .dataframe thead th {\n",
       "        text-align: right;\n",
       "    }\n",
       "</style>\n",
       "<table border=\"1\" class=\"dataframe\">\n",
       "  <thead>\n",
       "    <tr style=\"text-align: right;\">\n",
       "      <th></th>\n",
       "      <th>area_type</th>\n",
       "      <th>availability</th>\n",
       "      <th>location</th>\n",
       "      <th>size</th>\n",
       "      <th>society</th>\n",
       "      <th>total_sqft</th>\n",
       "      <th>bath</th>\n",
       "      <th>balcony</th>\n",
       "      <th>price</th>\n",
       "      <th>data_category</th>\n",
       "    </tr>\n",
       "  </thead>\n",
       "  <tbody>\n",
       "  </tbody>\n",
       "</table>\n",
       "</div>"
      ],
      "text/plain": [
       "Empty DataFrame\n",
       "Columns: [area_type, availability, location, size, society, total_sqft, bath, balcony, price, data_category]\n",
       "Index: []"
      ]
     },
     "execution_count": 103,
     "metadata": {},
     "output_type": "execute_result"
    }
   ],
   "source": [
    "df[df['size'].isna()]"
   ]
  },
  {
   "cell_type": "markdown",
   "metadata": {},
   "source": [
    "## Bath"
   ]
  },
  {
   "cell_type": "code",
   "execution_count": 105,
   "metadata": {
    "ExecuteTime": {
     "end_time": "2019-10-31T18:55:03.173302Z",
     "start_time": "2019-10-31T18:55:03.148318Z"
    },
    "scrolled": true
   },
   "outputs": [
    {
     "data": {
      "text/html": [
       "<div>\n",
       "<style scoped>\n",
       "    .dataframe tbody tr th:only-of-type {\n",
       "        vertical-align: middle;\n",
       "    }\n",
       "\n",
       "    .dataframe tbody tr th {\n",
       "        vertical-align: top;\n",
       "    }\n",
       "\n",
       "    .dataframe thead th {\n",
       "        text-align: right;\n",
       "    }\n",
       "</style>\n",
       "<table border=\"1\" class=\"dataframe\">\n",
       "  <thead>\n",
       "    <tr style=\"text-align: right;\">\n",
       "      <th></th>\n",
       "      <th>area_type</th>\n",
       "      <th>availability</th>\n",
       "      <th>location</th>\n",
       "      <th>size</th>\n",
       "      <th>society</th>\n",
       "      <th>total_sqft</th>\n",
       "      <th>bath</th>\n",
       "      <th>balcony</th>\n",
       "      <th>price</th>\n",
       "      <th>data_category</th>\n",
       "    </tr>\n",
       "  </thead>\n",
       "  <tbody>\n",
       "    <tr>\n",
       "      <th>56</th>\n",
       "      <td>Built-up  Area</td>\n",
       "      <td>0</td>\n",
       "      <td>562110</td>\n",
       "      <td>4.0</td>\n",
       "      <td>1</td>\n",
       "      <td>3210.0</td>\n",
       "      <td>NaN</td>\n",
       "      <td>NaN</td>\n",
       "      <td>192.000</td>\n",
       "      <td>train</td>\n",
       "    </tr>\n",
       "    <tr>\n",
       "      <th>81</th>\n",
       "      <td>Built-up  Area</td>\n",
       "      <td>0</td>\n",
       "      <td>560077</td>\n",
       "      <td>4.0</td>\n",
       "      <td>1</td>\n",
       "      <td>3203.5</td>\n",
       "      <td>NaN</td>\n",
       "      <td>NaN</td>\n",
       "      <td>224.500</td>\n",
       "      <td>train</td>\n",
       "    </tr>\n",
       "    <tr>\n",
       "      <th>224</th>\n",
       "      <td>Super built-up  Area</td>\n",
       "      <td>0</td>\n",
       "      <td>562110</td>\n",
       "      <td>3.0</td>\n",
       "      <td>1</td>\n",
       "      <td>1630.0</td>\n",
       "      <td>NaN</td>\n",
       "      <td>NaN</td>\n",
       "      <td>74.820</td>\n",
       "      <td>train</td>\n",
       "    </tr>\n",
       "    <tr>\n",
       "      <th>344</th>\n",
       "      <td>Super built-up  Area</td>\n",
       "      <td>0</td>\n",
       "      <td>560062</td>\n",
       "      <td>1.0</td>\n",
       "      <td>1</td>\n",
       "      <td>525.0</td>\n",
       "      <td>NaN</td>\n",
       "      <td>NaN</td>\n",
       "      <td>21.530</td>\n",
       "      <td>train</td>\n",
       "    </tr>\n",
       "    <tr>\n",
       "      <th>579</th>\n",
       "      <td>Plot  Area</td>\n",
       "      <td>1</td>\n",
       "      <td>562125</td>\n",
       "      <td>4.0</td>\n",
       "      <td>1</td>\n",
       "      <td>1800.0</td>\n",
       "      <td>NaN</td>\n",
       "      <td>NaN</td>\n",
       "      <td>34.185</td>\n",
       "      <td>train</td>\n",
       "    </tr>\n",
       "  </tbody>\n",
       "</table>\n",
       "</div>"
      ],
      "text/plain": [
       "                area_type  availability  location  size  society  total_sqft  \\\n",
       "56         Built-up  Area             0    562110   4.0        1      3210.0   \n",
       "81         Built-up  Area             0    560077   4.0        1      3203.5   \n",
       "224  Super built-up  Area             0    562110   3.0        1      1630.0   \n",
       "344  Super built-up  Area             0    560062   1.0        1       525.0   \n",
       "579            Plot  Area             1    562125   4.0        1      1800.0   \n",
       "\n",
       "     bath  balcony    price data_category  \n",
       "56    NaN      NaN  192.000         train  \n",
       "81    NaN      NaN  224.500         train  \n",
       "224   NaN      NaN   74.820         train  \n",
       "344   NaN      NaN   21.530         train  \n",
       "579   NaN      NaN   34.185         train  "
      ]
     },
     "execution_count": 105,
     "metadata": {},
     "output_type": "execute_result"
    }
   ],
   "source": [
    "df[df['bath'].isna()].head()"
   ]
  },
  {
   "cell_type": "code",
   "execution_count": 106,
   "metadata": {
    "ExecuteTime": {
     "end_time": "2019-10-31T18:55:08.703831Z",
     "start_time": "2019-10-31T18:55:08.687842Z"
    }
   },
   "outputs": [
    {
     "data": {
      "text/html": [
       "<div>\n",
       "<style scoped>\n",
       "    .dataframe tbody tr th:only-of-type {\n",
       "        vertical-align: middle;\n",
       "    }\n",
       "\n",
       "    .dataframe tbody tr th {\n",
       "        vertical-align: top;\n",
       "    }\n",
       "\n",
       "    .dataframe thead th {\n",
       "        text-align: right;\n",
       "    }\n",
       "</style>\n",
       "<table border=\"1\" class=\"dataframe\">\n",
       "  <thead>\n",
       "    <tr style=\"text-align: right;\">\n",
       "      <th></th>\n",
       "      <th>size</th>\n",
       "      <th>bath</th>\n",
       "    </tr>\n",
       "  </thead>\n",
       "  <tbody>\n",
       "    <tr>\n",
       "      <th>size</th>\n",
       "      <td>1.000000</td>\n",
       "      <td>0.897959</td>\n",
       "    </tr>\n",
       "    <tr>\n",
       "      <th>bath</th>\n",
       "      <td>0.897959</td>\n",
       "      <td>1.000000</td>\n",
       "    </tr>\n",
       "  </tbody>\n",
       "</table>\n",
       "</div>"
      ],
      "text/plain": [
       "          size      bath\n",
       "size  1.000000  0.897959\n",
       "bath  0.897959  1.000000"
      ]
     },
     "execution_count": 106,
     "metadata": {},
     "output_type": "execute_result"
    }
   ],
   "source": [
    "df[['size','bath']].corr()"
   ]
  },
  {
   "cell_type": "markdown",
   "metadata": {},
   "source": [
    "As we can see that number of bedrooms and bathrooms are highly correlated, we will fill the NaNs in variable 'bath' with values of variable 'size'."
   ]
  },
  {
   "cell_type": "code",
   "execution_count": 107,
   "metadata": {
    "ExecuteTime": {
     "end_time": "2019-10-31T18:55:24.580168Z",
     "start_time": "2019-10-31T18:55:23.966512Z"
    }
   },
   "outputs": [],
   "source": [
    "df['bath'] = df.apply(lambda row: row['size'] if np.isnan(row['bath']) else row['bath'], axis=1)"
   ]
  },
  {
   "cell_type": "markdown",
   "metadata": {},
   "source": [
    "## Balcony"
   ]
  },
  {
   "cell_type": "code",
   "execution_count": 108,
   "metadata": {
    "ExecuteTime": {
     "end_time": "2019-10-31T19:00:32.394589Z",
     "start_time": "2019-10-31T19:00:32.360611Z"
    },
    "scrolled": false
   },
   "outputs": [
    {
     "data": {
      "text/html": [
       "<div>\n",
       "<style scoped>\n",
       "    .dataframe tbody tr th:only-of-type {\n",
       "        vertical-align: middle;\n",
       "    }\n",
       "\n",
       "    .dataframe tbody tr th {\n",
       "        vertical-align: top;\n",
       "    }\n",
       "\n",
       "    .dataframe thead tr th {\n",
       "        text-align: left;\n",
       "    }\n",
       "\n",
       "    .dataframe thead tr:last-of-type th {\n",
       "        text-align: right;\n",
       "    }\n",
       "</style>\n",
       "<table border=\"1\" class=\"dataframe\">\n",
       "  <thead>\n",
       "    <tr>\n",
       "      <th></th>\n",
       "      <th colspan=\"3\" halign=\"left\">balcony</th>\n",
       "    </tr>\n",
       "    <tr>\n",
       "      <th></th>\n",
       "      <th>count</th>\n",
       "      <th>mean</th>\n",
       "      <th>median</th>\n",
       "    </tr>\n",
       "    <tr>\n",
       "      <th>size</th>\n",
       "      <th></th>\n",
       "      <th></th>\n",
       "      <th></th>\n",
       "    </tr>\n",
       "  </thead>\n",
       "  <tbody>\n",
       "    <tr>\n",
       "      <th>1.0</th>\n",
       "      <td>720</td>\n",
       "      <td>0.768056</td>\n",
       "      <td>1.0</td>\n",
       "    </tr>\n",
       "    <tr>\n",
       "      <th>2.0</th>\n",
       "      <td>6053</td>\n",
       "      <td>1.429704</td>\n",
       "      <td>1.0</td>\n",
       "    </tr>\n",
       "    <tr>\n",
       "      <th>3.0</th>\n",
       "      <td>5177</td>\n",
       "      <td>1.815723</td>\n",
       "      <td>2.0</td>\n",
       "    </tr>\n",
       "    <tr>\n",
       "      <th>4.0</th>\n",
       "      <td>1393</td>\n",
       "      <td>1.701364</td>\n",
       "      <td>2.0</td>\n",
       "    </tr>\n",
       "    <tr>\n",
       "      <th>5.0</th>\n",
       "      <td>335</td>\n",
       "      <td>1.665672</td>\n",
       "      <td>2.0</td>\n",
       "    </tr>\n",
       "    <tr>\n",
       "      <th>6.0</th>\n",
       "      <td>211</td>\n",
       "      <td>1.800948</td>\n",
       "      <td>2.0</td>\n",
       "    </tr>\n",
       "    <tr>\n",
       "      <th>7.0</th>\n",
       "      <td>97</td>\n",
       "      <td>1.917526</td>\n",
       "      <td>2.0</td>\n",
       "    </tr>\n",
       "    <tr>\n",
       "      <th>8.0</th>\n",
       "      <td>79</td>\n",
       "      <td>1.734177</td>\n",
       "      <td>2.0</td>\n",
       "    </tr>\n",
       "    <tr>\n",
       "      <th>9.0</th>\n",
       "      <td>44</td>\n",
       "      <td>1.909091</td>\n",
       "      <td>2.0</td>\n",
       "    </tr>\n",
       "    <tr>\n",
       "      <th>10.0</th>\n",
       "      <td>5</td>\n",
       "      <td>2.600000</td>\n",
       "      <td>3.0</td>\n",
       "    </tr>\n",
       "    <tr>\n",
       "      <th>11.0</th>\n",
       "      <td>3</td>\n",
       "      <td>2.000000</td>\n",
       "      <td>3.0</td>\n",
       "    </tr>\n",
       "    <tr>\n",
       "      <th>12.0</th>\n",
       "      <td>1</td>\n",
       "      <td>2.000000</td>\n",
       "      <td>2.0</td>\n",
       "    </tr>\n",
       "    <tr>\n",
       "      <th>13.0</th>\n",
       "      <td>1</td>\n",
       "      <td>0.000000</td>\n",
       "      <td>0.0</td>\n",
       "    </tr>\n",
       "    <tr>\n",
       "      <th>14.0</th>\n",
       "      <td>1</td>\n",
       "      <td>0.000000</td>\n",
       "      <td>0.0</td>\n",
       "    </tr>\n",
       "    <tr>\n",
       "      <th>16.0</th>\n",
       "      <td>0</td>\n",
       "      <td>NaN</td>\n",
       "      <td>NaN</td>\n",
       "    </tr>\n",
       "    <tr>\n",
       "      <th>18.0</th>\n",
       "      <td>0</td>\n",
       "      <td>NaN</td>\n",
       "      <td>NaN</td>\n",
       "    </tr>\n",
       "    <tr>\n",
       "      <th>19.0</th>\n",
       "      <td>0</td>\n",
       "      <td>NaN</td>\n",
       "      <td>NaN</td>\n",
       "    </tr>\n",
       "    <tr>\n",
       "      <th>27.0</th>\n",
       "      <td>1</td>\n",
       "      <td>0.000000</td>\n",
       "      <td>0.0</td>\n",
       "    </tr>\n",
       "    <tr>\n",
       "      <th>43.0</th>\n",
       "      <td>1</td>\n",
       "      <td>0.000000</td>\n",
       "      <td>0.0</td>\n",
       "    </tr>\n",
       "  </tbody>\n",
       "</table>\n",
       "</div>"
      ],
      "text/plain": [
       "     balcony                 \n",
       "       count      mean median\n",
       "size                         \n",
       "1.0      720  0.768056    1.0\n",
       "2.0     6053  1.429704    1.0\n",
       "3.0     5177  1.815723    2.0\n",
       "4.0     1393  1.701364    2.0\n",
       "5.0      335  1.665672    2.0\n",
       "6.0      211  1.800948    2.0\n",
       "7.0       97  1.917526    2.0\n",
       "8.0       79  1.734177    2.0\n",
       "9.0       44  1.909091    2.0\n",
       "10.0       5  2.600000    3.0\n",
       "11.0       3  2.000000    3.0\n",
       "12.0       1  2.000000    2.0\n",
       "13.0       1  0.000000    0.0\n",
       "14.0       1  0.000000    0.0\n",
       "16.0       0       NaN    NaN\n",
       "18.0       0       NaN    NaN\n",
       "19.0       0       NaN    NaN\n",
       "27.0       1  0.000000    0.0\n",
       "43.0       1  0.000000    0.0"
      ]
     },
     "execution_count": 108,
     "metadata": {},
     "output_type": "execute_result"
    }
   ],
   "source": [
    "df.groupby(['size']).agg({'balcony':['count','mean','median']})"
   ]
  },
  {
   "cell_type": "markdown",
   "metadata": {},
   "source": [
    "Looking at the mean and median of number of balconies grouped by number of bedrooms. We can infer, in general, that 2 or less than 2 bedrooms house has 1 balcony,  3 to 9 bedrooms house has 2 balconies, more than 9 bedrooms house has 3 or more balconies. We can impute these values with median, and for rooms where median is not available(16 to 19 rooms), filling NaNs with 4."
   ]
  },
  {
   "cell_type": "code",
   "execution_count": 112,
   "metadata": {
    "ExecuteTime": {
     "end_time": "2019-10-31T19:01:54.194125Z",
     "start_time": "2019-10-31T19:01:54.174137Z"
    }
   },
   "outputs": [],
   "source": [
    "balcony = df.groupby(['size']).agg({'balcony':'median'}).reset_index()\n",
    "\n",
    "balcony['balcony'].fillna(4, inplace=True)\n",
    "\n",
    "balcony_dict = dict(zip(balcony['size'], balcony['balcony']))\n",
    "\n",
    "df['new_balcony'] = df[df['balcony'].isna()]['size'].map(balcony_dict)"
   ]
  },
  {
   "cell_type": "code",
   "execution_count": 114,
   "metadata": {
    "ExecuteTime": {
     "end_time": "2019-10-31T19:02:37.895464Z",
     "start_time": "2019-10-31T19:02:37.113950Z"
    }
   },
   "outputs": [],
   "source": [
    "df['balcony'] = (df.apply(lambda row: row['new_balcony'] \n",
    "                          if np.isnan(row['balcony']) \n",
    "                          else row['balcony'], axis=1))"
   ]
  },
  {
   "cell_type": "code",
   "execution_count": 115,
   "metadata": {
    "ExecuteTime": {
     "end_time": "2019-10-31T19:02:42.168485Z",
     "start_time": "2019-10-31T19:02:42.160492Z"
    }
   },
   "outputs": [],
   "source": [
    "df.drop(['new_balcony'], axis=1, inplace=True)"
   ]
  },
  {
   "cell_type": "code",
   "execution_count": 117,
   "metadata": {
    "ExecuteTime": {
     "end_time": "2019-10-31T19:03:19.368667Z",
     "start_time": "2019-10-31T19:03:19.362668Z"
    },
    "scrolled": true
   },
   "outputs": [
    {
     "data": {
      "text/plain": [
       "0"
      ]
     },
     "execution_count": 117,
     "metadata": {},
     "output_type": "execute_result"
    }
   ],
   "source": [
    "df['balcony'].isnull().sum()"
   ]
  },
  {
   "cell_type": "markdown",
   "metadata": {},
   "source": [
    "# Outlier Removal"
   ]
  },
  {
   "cell_type": "markdown",
   "metadata": {},
   "source": [
    "Checking the outliers in the training dataset and removing them from it. Removing outliers from 'total_sqft' first so it doesn't create any skewness in next step deriving any new feature.\n",
    "\n",
    "For this operation, splitting the data based on train and test and joining it back later."
   ]
  },
  {
   "cell_type": "code",
   "execution_count": 118,
   "metadata": {
    "ExecuteTime": {
     "end_time": "2019-10-31T19:03:33.135602Z",
     "start_time": "2019-10-31T19:03:33.121613Z"
    }
   },
   "outputs": [],
   "source": [
    "train_df = df[df['data_category']=='train']\n",
    "test_df = df[df['data_category']=='test']"
   ]
  },
  {
   "cell_type": "code",
   "execution_count": 119,
   "metadata": {
    "ExecuteTime": {
     "end_time": "2019-10-31T19:03:34.275346Z",
     "start_time": "2019-10-31T19:03:33.933564Z"
    }
   },
   "outputs": [
    {
     "data": {
      "text/plain": [
       "<Figure size 2160x720 with 0 Axes>"
      ]
     },
     "execution_count": 119,
     "metadata": {},
     "output_type": "execute_result"
    },
    {
     "data": {
      "text/plain": [
       "<matplotlib.axes._subplots.AxesSubplot at 0x21aa8d52390>"
      ]
     },
     "execution_count": 119,
     "metadata": {},
     "output_type": "execute_result"
    },
    {
     "data": {
      "image/png": "[encoded data removed]",
      "text/plain": [
       "<Figure size 2160x720 with 1 Axes>"
      ]
     },
     "metadata": {},
     "output_type": "display_data"
    }
   ],
   "source": [
    "plt.figure(figsize=(30,10))\n",
    "sns.boxplot(train_df['total_sqft'])\n",
    "plt.show()"
   ]
  },
  {
   "cell_type": "markdown",
   "metadata": {},
   "source": [
    "We can see that there are some outliers which are exobitant, hence we need to remove them. Setting a lower and upper limit to remove these outliers."
   ]
  },
  {
   "cell_type": "code",
   "execution_count": 120,
   "metadata": {
    "ExecuteTime": {
     "end_time": "2019-10-31T19:04:01.968668Z",
     "start_time": "2019-10-31T19:04:01.960675Z"
    }
   },
   "outputs": [
    {
     "name": "stdout",
     "output_type": "stream",
     "text": [
      "400.0\n",
      "11000.0\n"
     ]
    }
   ],
   "source": [
    "lower_limit = np.nanpercentile(train_df['total_sqft'],0.25)\n",
    "upper_limit = np.nanpercentile(train_df['total_sqft'],99.75)\n",
    "print(lower_limit)\n",
    "print(upper_limit)"
   ]
  },
  {
   "cell_type": "code",
   "execution_count": 121,
   "metadata": {
    "ExecuteTime": {
     "end_time": "2019-10-31T19:04:08.546649Z",
     "start_time": "2019-10-31T19:04:08.539654Z"
    }
   },
   "outputs": [
    {
     "data": {
      "text/plain": [
       "13320"
      ]
     },
     "execution_count": 121,
     "metadata": {},
     "output_type": "execute_result"
    }
   ],
   "source": [
    "len(train_df)"
   ]
  },
  {
   "cell_type": "code",
   "execution_count": 122,
   "metadata": {
    "ExecuteTime": {
     "end_time": "2019-10-31T19:04:09.936559Z",
     "start_time": "2019-10-31T19:04:09.923567Z"
    },
    "scrolled": true
   },
   "outputs": [],
   "source": [
    "train_df = train_df[train_df['total_sqft'].between(lower_limit, upper_limit)]"
   ]
  },
  {
   "cell_type": "code",
   "execution_count": 123,
   "metadata": {
    "ExecuteTime": {
     "end_time": "2019-10-31T19:04:10.933486Z",
     "start_time": "2019-10-31T19:04:10.925491Z"
    }
   },
   "outputs": [
    {
     "data": {
      "text/plain": [
       "13256"
      ]
     },
     "execution_count": 123,
     "metadata": {},
     "output_type": "execute_result"
    }
   ],
   "source": [
    "len(train_df)"
   ]
  },
  {
   "cell_type": "markdown",
   "metadata": {},
   "source": [
    "So, we have removed 64 data points from training dataset."
   ]
  },
  {
   "cell_type": "code",
   "execution_count": 126,
   "metadata": {
    "ExecuteTime": {
     "end_time": "2019-10-31T19:05:18.722715Z",
     "start_time": "2019-10-31T19:05:18.709726Z"
    }
   },
   "outputs": [],
   "source": [
    "df = pd.concat([train_df,test_df])"
   ]
  },
  {
   "cell_type": "markdown",
   "metadata": {},
   "source": [
    "# Deriving New Feature"
   ]
  },
  {
   "cell_type": "markdown",
   "metadata": {},
   "source": [
    "Pincodes, a categorical variable, with 128 distinct values will increase the number of columns with one-hot encoding. This will also increase the overall computational time for training the model. To solve this issue, we can optimise the model with a new numeric feature derived from 'location', 'area_type','society' and drop 'location' from the dataset later.\n",
    "\n",
    "This new feature will be derived from 'Training Data' only and will be common for both training and test data."
   ]
  },
  {
   "cell_type": "markdown",
   "metadata": {},
   "source": [
    "## Price Per Location - Combining Location, Society and Area Type"
   ]
  },
  {
   "cell_type": "code",
   "execution_count": 127,
   "metadata": {
    "ExecuteTime": {
     "end_time": "2019-10-31T19:08:09.279714Z",
     "start_time": "2019-10-31T19:08:09.252732Z"
    }
   },
   "outputs": [],
   "source": [
    "price_per_loc = (df[df['data_category']=='train'].groupby(['area_type','location','society'])\n",
    "                 .agg({'total_sqft': 'sum','price':'sum'}).reset_index())\n",
    "\n",
    "price_per_loc['avg_price_per_loc'] = price_per_loc['price']/price_per_loc['total_sqft']"
   ]
  },
  {
   "cell_type": "code",
   "execution_count": 128,
   "metadata": {
    "ExecuteTime": {
     "end_time": "2019-10-31T19:08:11.462222Z",
     "start_time": "2019-10-31T19:08:11.444233Z"
    }
   },
   "outputs": [
    {
     "data": {
      "text/html": [
       "<div>\n",
       "<style scoped>\n",
       "    .dataframe tbody tr th:only-of-type {\n",
       "        vertical-align: middle;\n",
       "    }\n",
       "\n",
       "    .dataframe tbody tr th {\n",
       "        vertical-align: top;\n",
       "    }\n",
       "\n",
       "    .dataframe thead th {\n",
       "        text-align: right;\n",
       "    }\n",
       "</style>\n",
       "<table border=\"1\" class=\"dataframe\">\n",
       "  <thead>\n",
       "    <tr style=\"text-align: right;\">\n",
       "      <th></th>\n",
       "      <th>area_type</th>\n",
       "      <th>location</th>\n",
       "      <th>society</th>\n",
       "      <th>total_sqft</th>\n",
       "      <th>price</th>\n",
       "      <th>avg_price_per_loc</th>\n",
       "    </tr>\n",
       "  </thead>\n",
       "  <tbody>\n",
       "    <tr>\n",
       "      <th>0</th>\n",
       "      <td>Built-up  Area</td>\n",
       "      <td>0</td>\n",
       "      <td>0</td>\n",
       "      <td>3420.0</td>\n",
       "      <td>410.0</td>\n",
       "      <td>0.119883</td>\n",
       "    </tr>\n",
       "    <tr>\n",
       "      <th>1</th>\n",
       "      <td>Built-up  Area</td>\n",
       "      <td>0</td>\n",
       "      <td>1</td>\n",
       "      <td>1130.0</td>\n",
       "      <td>68.0</td>\n",
       "      <td>0.060177</td>\n",
       "    </tr>\n",
       "    <tr>\n",
       "      <th>2</th>\n",
       "      <td>Built-up  Area</td>\n",
       "      <td>560001</td>\n",
       "      <td>0</td>\n",
       "      <td>4970.0</td>\n",
       "      <td>515.0</td>\n",
       "      <td>0.103622</td>\n",
       "    </tr>\n",
       "    <tr>\n",
       "      <th>3</th>\n",
       "      <td>Built-up  Area</td>\n",
       "      <td>560001</td>\n",
       "      <td>1</td>\n",
       "      <td>1000.0</td>\n",
       "      <td>50.0</td>\n",
       "      <td>0.050000</td>\n",
       "    </tr>\n",
       "    <tr>\n",
       "      <th>4</th>\n",
       "      <td>Built-up  Area</td>\n",
       "      <td>560003</td>\n",
       "      <td>0</td>\n",
       "      <td>11300.0</td>\n",
       "      <td>2410.0</td>\n",
       "      <td>0.213274</td>\n",
       "    </tr>\n",
       "  </tbody>\n",
       "</table>\n",
       "</div>"
      ],
      "text/plain": [
       "        area_type  location  society  total_sqft   price  avg_price_per_loc\n",
       "0  Built-up  Area         0        0      3420.0   410.0           0.119883\n",
       "1  Built-up  Area         0        1      1130.0    68.0           0.060177\n",
       "2  Built-up  Area    560001        0      4970.0   515.0           0.103622\n",
       "3  Built-up  Area    560001        1      1000.0    50.0           0.050000\n",
       "4  Built-up  Area    560003        0     11300.0  2410.0           0.213274"
      ]
     },
     "execution_count": 128,
     "metadata": {},
     "output_type": "execute_result"
    }
   ],
   "source": [
    "price_per_loc.head()"
   ]
  },
  {
   "cell_type": "markdown",
   "metadata": {},
   "source": [
    "Merging this new column with original 'df'."
   ]
  },
  {
   "cell_type": "code",
   "execution_count": 129,
   "metadata": {
    "ExecuteTime": {
     "end_time": "2019-10-31T19:08:23.040591Z",
     "start_time": "2019-10-31T19:08:23.019609Z"
    }
   },
   "outputs": [],
   "source": [
    "df = pd.merge(df,price_per_loc[['area_type','location', 'society','avg_price_per_loc']],\n",
    "                  on=['area_type','location', 'society'], how='left')"
   ]
  },
  {
   "cell_type": "code",
   "execution_count": 132,
   "metadata": {
    "ExecuteTime": {
     "end_time": "2019-10-31T19:08:44.851260Z",
     "start_time": "2019-10-31T19:08:44.843263Z"
    }
   },
   "outputs": [
    {
     "data": {
      "text/plain": [
       "13"
      ]
     },
     "execution_count": 132,
     "metadata": {},
     "output_type": "execute_result"
    }
   ],
   "source": [
    "df['avg_price_per_loc'].isnull().sum()"
   ]
  },
  {
   "cell_type": "markdown",
   "metadata": {},
   "source": [
    "## Price Per Location 2 - Combining Location and Society Only "
   ]
  },
  {
   "cell_type": "markdown",
   "metadata": {},
   "source": [
    "Since, there are 13 values in Test Data that not available to merge, we can create another variable 'avg_price_per_loc_2' from 'location' and 'society' only to fill NaNs."
   ]
  },
  {
   "cell_type": "code",
   "execution_count": 133,
   "metadata": {
    "ExecuteTime": {
     "end_time": "2019-10-31T19:09:18.843002Z",
     "start_time": "2019-10-31T19:09:18.821017Z"
    }
   },
   "outputs": [],
   "source": [
    "price_per_loc_2 = (df[df['data_category']=='train'].groupby(['location','society'])\n",
    "                   .agg({'total_sqft': 'sum','price':'sum'}).reset_index())\n",
    "\n",
    "price_per_loc_2['avg_price_per_loc_2'] = price_per_loc_2['price']/price_per_loc_2['total_sqft']"
   ]
  },
  {
   "cell_type": "code",
   "execution_count": 134,
   "metadata": {
    "ExecuteTime": {
     "end_time": "2019-10-31T19:11:33.451955Z",
     "start_time": "2019-10-31T19:11:33.436964Z"
    }
   },
   "outputs": [
    {
     "data": {
      "text/html": [
       "<div>\n",
       "<style scoped>\n",
       "    .dataframe tbody tr th:only-of-type {\n",
       "        vertical-align: middle;\n",
       "    }\n",
       "\n",
       "    .dataframe tbody tr th {\n",
       "        vertical-align: top;\n",
       "    }\n",
       "\n",
       "    .dataframe thead th {\n",
       "        text-align: right;\n",
       "    }\n",
       "</style>\n",
       "<table border=\"1\" class=\"dataframe\">\n",
       "  <thead>\n",
       "    <tr style=\"text-align: right;\">\n",
       "      <th></th>\n",
       "      <th>location</th>\n",
       "      <th>society</th>\n",
       "      <th>total_sqft</th>\n",
       "      <th>price</th>\n",
       "      <th>avg_price_per_loc_2</th>\n",
       "    </tr>\n",
       "  </thead>\n",
       "  <tbody>\n",
       "    <tr>\n",
       "      <th>0</th>\n",
       "      <td>0</td>\n",
       "      <td>0</td>\n",
       "      <td>16173.82</td>\n",
       "      <td>1774.84</td>\n",
       "      <td>0.109735</td>\n",
       "    </tr>\n",
       "    <tr>\n",
       "      <th>1</th>\n",
       "      <td>0</td>\n",
       "      <td>1</td>\n",
       "      <td>4734.00</td>\n",
       "      <td>229.00</td>\n",
       "      <td>0.048373</td>\n",
       "    </tr>\n",
       "    <tr>\n",
       "      <th>2</th>\n",
       "      <td>560001</td>\n",
       "      <td>0</td>\n",
       "      <td>32275.00</td>\n",
       "      <td>5385.00</td>\n",
       "      <td>0.166847</td>\n",
       "    </tr>\n",
       "    <tr>\n",
       "      <th>3</th>\n",
       "      <td>560001</td>\n",
       "      <td>1</td>\n",
       "      <td>8914.00</td>\n",
       "      <td>1610.00</td>\n",
       "      <td>0.180615</td>\n",
       "    </tr>\n",
       "    <tr>\n",
       "      <th>4</th>\n",
       "      <td>560003</td>\n",
       "      <td>0</td>\n",
       "      <td>54775.00</td>\n",
       "      <td>10588.80</td>\n",
       "      <td>0.193314</td>\n",
       "    </tr>\n",
       "  </tbody>\n",
       "</table>\n",
       "</div>"
      ],
      "text/plain": [
       "   location  society  total_sqft     price  avg_price_per_loc_2\n",
       "0         0        0    16173.82   1774.84             0.109735\n",
       "1         0        1     4734.00    229.00             0.048373\n",
       "2    560001        0    32275.00   5385.00             0.166847\n",
       "3    560001        1     8914.00   1610.00             0.180615\n",
       "4    560003        0    54775.00  10588.80             0.193314"
      ]
     },
     "execution_count": 134,
     "metadata": {},
     "output_type": "execute_result"
    }
   ],
   "source": [
    "price_per_loc_2.head()"
   ]
  },
  {
   "cell_type": "code",
   "execution_count": 135,
   "metadata": {
    "ExecuteTime": {
     "end_time": "2019-10-31T19:11:43.101271Z",
     "start_time": "2019-10-31T19:11:43.076289Z"
    }
   },
   "outputs": [],
   "source": [
    "df = pd.merge(df,price_per_loc_2[['location', 'society','avg_price_per_loc_2']],\n",
    "                  on=['location', 'society'], how='left')"
   ]
  },
  {
   "cell_type": "code",
   "execution_count": 137,
   "metadata": {
    "ExecuteTime": {
     "end_time": "2019-10-31T19:12:07.406160Z",
     "start_time": "2019-10-31T19:12:06.677610Z"
    }
   },
   "outputs": [],
   "source": [
    "df['avg_price_per_loc'] = df.apply(lambda row: row['avg_price_per_loc_2'] if np.isnan(row['avg_price_per_loc']) else row['avg_price_per_loc'], axis=1)"
   ]
  },
  {
   "cell_type": "code",
   "execution_count": 139,
   "metadata": {
    "ExecuteTime": {
     "end_time": "2019-10-31T19:12:24.976990Z",
     "start_time": "2019-10-31T19:12:24.966997Z"
    },
    "scrolled": true
   },
   "outputs": [
    {
     "data": {
      "text/plain": [
       "3"
      ]
     },
     "execution_count": 139,
     "metadata": {},
     "output_type": "execute_result"
    }
   ],
   "source": [
    "df['avg_price_per_loc'].isnull().sum()"
   ]
  },
  {
   "cell_type": "markdown",
   "metadata": {},
   "source": [
    "## Price Per Location 3 - Average Price per SqFt for remaining null values"
   ]
  },
  {
   "cell_type": "markdown",
   "metadata": {
    "ExecuteTime": {
     "end_time": "2019-10-28T18:58:48.919192Z",
     "start_time": "2019-10-28T18:58:48.913196Z"
    }
   },
   "source": [
    "There are still three values we need to fill."
   ]
  },
  {
   "cell_type": "code",
   "execution_count": 140,
   "metadata": {
    "ExecuteTime": {
     "end_time": "2019-10-31T19:12:36.008383Z",
     "start_time": "2019-10-31T19:12:35.993390Z"
    }
   },
   "outputs": [],
   "source": [
    "average_price = df[df['data_category']=='train']['price'].sum()/df[df['data_category']=='train']['total_sqft'].sum()"
   ]
  },
  {
   "cell_type": "code",
   "execution_count": 141,
   "metadata": {
    "ExecuteTime": {
     "end_time": "2019-10-31T19:13:14.457621Z",
     "start_time": "2019-10-31T19:13:14.449627Z"
    }
   },
   "outputs": [],
   "source": [
    "df['avg_price_per_loc'].fillna(average_price, inplace=True)"
   ]
  },
  {
   "cell_type": "code",
   "execution_count": 142,
   "metadata": {
    "ExecuteTime": {
     "end_time": "2019-10-31T19:13:18.709078Z",
     "start_time": "2019-10-31T19:13:17.964328Z"
    }
   },
   "outputs": [
    {
     "data": {
      "text/plain": [
       "<Figure size 2160x720 with 0 Axes>"
      ]
     },
     "execution_count": 142,
     "metadata": {},
     "output_type": "execute_result"
    },
    {
     "data": {
      "text/plain": [
       "<matplotlib.axes._subplots.AxesSubplot at 0x21aa8dfdfd0>"
      ]
     },
     "execution_count": 142,
     "metadata": {},
     "output_type": "execute_result"
    },
    {
     "data": {
      "image/png": "[encoded data removed]",
      "text/plain": [
       "<Figure size 2160x720 with 1 Axes>"
      ]
     },
     "metadata": {},
     "output_type": "display_data"
    }
   ],
   "source": [
    "plt.figure(figsize=(30,10))\n",
    "df['avg_price_per_loc'].hist(bins=200)\n",
    "plt.show()"
   ]
  },
  {
   "cell_type": "code",
   "execution_count": 144,
   "metadata": {
    "ExecuteTime": {
     "end_time": "2019-10-31T19:13:54.498667Z",
     "start_time": "2019-10-31T19:13:54.489679Z"
    }
   },
   "outputs": [],
   "source": [
    "df.drop(['location','avg_price_per_loc_2'],axis=1, inplace=True)"
   ]
  },
  {
   "cell_type": "code",
   "execution_count": 145,
   "metadata": {
    "ExecuteTime": {
     "end_time": "2019-10-31T19:13:57.209022Z",
     "start_time": "2019-10-31T19:13:57.185038Z"
    }
   },
   "outputs": [
    {
     "data": {
      "text/html": [
       "<div>\n",
       "<style scoped>\n",
       "    .dataframe tbody tr th:only-of-type {\n",
       "        vertical-align: middle;\n",
       "    }\n",
       "\n",
       "    .dataframe tbody tr th {\n",
       "        vertical-align: top;\n",
       "    }\n",
       "\n",
       "    .dataframe thead th {\n",
       "        text-align: right;\n",
       "    }\n",
       "</style>\n",
       "<table border=\"1\" class=\"dataframe\">\n",
       "  <thead>\n",
       "    <tr style=\"text-align: right;\">\n",
       "      <th></th>\n",
       "      <th>area_type</th>\n",
       "      <th>availability</th>\n",
       "      <th>size</th>\n",
       "      <th>society</th>\n",
       "      <th>total_sqft</th>\n",
       "      <th>bath</th>\n",
       "      <th>balcony</th>\n",
       "      <th>price</th>\n",
       "      <th>data_category</th>\n",
       "      <th>avg_price_per_loc</th>\n",
       "    </tr>\n",
       "  </thead>\n",
       "  <tbody>\n",
       "    <tr>\n",
       "      <th>0</th>\n",
       "      <td>Super built-up  Area</td>\n",
       "      <td>0</td>\n",
       "      <td>2.0</td>\n",
       "      <td>1</td>\n",
       "      <td>1056.0</td>\n",
       "      <td>2.0</td>\n",
       "      <td>1.0</td>\n",
       "      <td>39.07</td>\n",
       "      <td>train</td>\n",
       "      <td>0.047765</td>\n",
       "    </tr>\n",
       "    <tr>\n",
       "      <th>1</th>\n",
       "      <td>Plot  Area</td>\n",
       "      <td>1</td>\n",
       "      <td>4.0</td>\n",
       "      <td>1</td>\n",
       "      <td>2600.0</td>\n",
       "      <td>5.0</td>\n",
       "      <td>3.0</td>\n",
       "      <td>120.00</td>\n",
       "      <td>train</td>\n",
       "      <td>0.047257</td>\n",
       "    </tr>\n",
       "    <tr>\n",
       "      <th>2</th>\n",
       "      <td>Built-up  Area</td>\n",
       "      <td>1</td>\n",
       "      <td>3.0</td>\n",
       "      <td>0</td>\n",
       "      <td>1440.0</td>\n",
       "      <td>2.0</td>\n",
       "      <td>3.0</td>\n",
       "      <td>62.00</td>\n",
       "      <td>train</td>\n",
       "      <td>0.048929</td>\n",
       "    </tr>\n",
       "    <tr>\n",
       "      <th>3</th>\n",
       "      <td>Super built-up  Area</td>\n",
       "      <td>1</td>\n",
       "      <td>3.0</td>\n",
       "      <td>1</td>\n",
       "      <td>1521.0</td>\n",
       "      <td>3.0</td>\n",
       "      <td>1.0</td>\n",
       "      <td>95.00</td>\n",
       "      <td>train</td>\n",
       "      <td>0.075807</td>\n",
       "    </tr>\n",
       "    <tr>\n",
       "      <th>4</th>\n",
       "      <td>Super built-up  Area</td>\n",
       "      <td>1</td>\n",
       "      <td>2.0</td>\n",
       "      <td>0</td>\n",
       "      <td>1200.0</td>\n",
       "      <td>2.0</td>\n",
       "      <td>1.0</td>\n",
       "      <td>51.00</td>\n",
       "      <td>train</td>\n",
       "      <td>0.048198</td>\n",
       "    </tr>\n",
       "  </tbody>\n",
       "</table>\n",
       "</div>"
      ],
      "text/plain": [
       "              area_type  availability  size  society  total_sqft  bath  \\\n",
       "0  Super built-up  Area             0   2.0        1      1056.0   2.0   \n",
       "1            Plot  Area             1   4.0        1      2600.0   5.0   \n",
       "2        Built-up  Area             1   3.0        0      1440.0   2.0   \n",
       "3  Super built-up  Area             1   3.0        1      1521.0   3.0   \n",
       "4  Super built-up  Area             1   2.0        0      1200.0   2.0   \n",
       "\n",
       "   balcony   price data_category  avg_price_per_loc  \n",
       "0      1.0   39.07         train           0.047765  \n",
       "1      3.0  120.00         train           0.047257  \n",
       "2      3.0   62.00         train           0.048929  \n",
       "3      1.0   95.00         train           0.075807  \n",
       "4      1.0   51.00         train           0.048198  "
      ]
     },
     "execution_count": 145,
     "metadata": {},
     "output_type": "execute_result"
    }
   ],
   "source": [
    "df.head(5)"
   ]
  },
  {
   "cell_type": "markdown",
   "metadata": {
    "ExecuteTime": {
     "end_time": "2019-10-30T01:55:21.936625Z",
     "start_time": "2019-10-30T01:55:21.849676Z"
    },
    "scrolled": true
   },
   "source": [
    "Finally we have got a new feature which is created from variable 'location'."
   ]
  },
  {
   "cell_type": "markdown",
   "metadata": {},
   "source": [
    "# Checking the Distribution"
   ]
  },
  {
   "cell_type": "markdown",
   "metadata": {},
   "source": [
    "## Specifying data type to each variable"
   ]
  },
  {
   "cell_type": "code",
   "execution_count": 146,
   "metadata": {
    "ExecuteTime": {
     "end_time": "2019-10-31T19:20:32.430748Z",
     "start_time": "2019-10-31T19:20:32.401767Z"
    }
   },
   "outputs": [],
   "source": [
    "df['area_type'] = pd.Categorical(df['area_type'])\n",
    "df[['size','total_sqft','bath','balcony','avg_price_per_loc','price']] = df[['size','total_sqft','bath','balcony','avg_price_per_loc','price']].apply(pd.to_numeric)\n",
    "\n",
    "df[['availability','society']]  = df[['availability','society']].astype(int)"
   ]
  },
  {
   "cell_type": "code",
   "execution_count": 147,
   "metadata": {
    "ExecuteTime": {
     "end_time": "2019-10-31T19:20:55.448431Z",
     "start_time": "2019-10-31T19:20:55.436438Z"
    }
   },
   "outputs": [],
   "source": [
    "df = df[['area_type', 'availability', 'size', 'society', 'total_sqft', 'bath',\n",
    "       'balcony', 'avg_price_per_loc', 'price', 'data_category']]"
   ]
  },
  {
   "cell_type": "code",
   "execution_count": 148,
   "metadata": {
    "ExecuteTime": {
     "end_time": "2019-10-31T19:20:57.940281Z",
     "start_time": "2019-10-31T19:20:57.914298Z"
    },
    "scrolled": true
   },
   "outputs": [
    {
     "data": {
      "text/html": [
       "<div>\n",
       "<style scoped>\n",
       "    .dataframe tbody tr th:only-of-type {\n",
       "        vertical-align: middle;\n",
       "    }\n",
       "\n",
       "    .dataframe tbody tr th {\n",
       "        vertical-align: top;\n",
       "    }\n",
       "\n",
       "    .dataframe thead th {\n",
       "        text-align: right;\n",
       "    }\n",
       "</style>\n",
       "<table border=\"1\" class=\"dataframe\">\n",
       "  <thead>\n",
       "    <tr style=\"text-align: right;\">\n",
       "      <th></th>\n",
       "      <th>area_type</th>\n",
       "      <th>availability</th>\n",
       "      <th>size</th>\n",
       "      <th>society</th>\n",
       "      <th>total_sqft</th>\n",
       "      <th>bath</th>\n",
       "      <th>balcony</th>\n",
       "      <th>avg_price_per_loc</th>\n",
       "      <th>price</th>\n",
       "      <th>data_category</th>\n",
       "    </tr>\n",
       "  </thead>\n",
       "  <tbody>\n",
       "    <tr>\n",
       "      <th>0</th>\n",
       "      <td>Super built-up  Area</td>\n",
       "      <td>0</td>\n",
       "      <td>2.0</td>\n",
       "      <td>1</td>\n",
       "      <td>1056.0</td>\n",
       "      <td>2.0</td>\n",
       "      <td>1.0</td>\n",
       "      <td>0.047765</td>\n",
       "      <td>39.07</td>\n",
       "      <td>train</td>\n",
       "    </tr>\n",
       "    <tr>\n",
       "      <th>1</th>\n",
       "      <td>Plot  Area</td>\n",
       "      <td>1</td>\n",
       "      <td>4.0</td>\n",
       "      <td>1</td>\n",
       "      <td>2600.0</td>\n",
       "      <td>5.0</td>\n",
       "      <td>3.0</td>\n",
       "      <td>0.047257</td>\n",
       "      <td>120.00</td>\n",
       "      <td>train</td>\n",
       "    </tr>\n",
       "    <tr>\n",
       "      <th>2</th>\n",
       "      <td>Built-up  Area</td>\n",
       "      <td>1</td>\n",
       "      <td>3.0</td>\n",
       "      <td>0</td>\n",
       "      <td>1440.0</td>\n",
       "      <td>2.0</td>\n",
       "      <td>3.0</td>\n",
       "      <td>0.048929</td>\n",
       "      <td>62.00</td>\n",
       "      <td>train</td>\n",
       "    </tr>\n",
       "    <tr>\n",
       "      <th>3</th>\n",
       "      <td>Super built-up  Area</td>\n",
       "      <td>1</td>\n",
       "      <td>3.0</td>\n",
       "      <td>1</td>\n",
       "      <td>1521.0</td>\n",
       "      <td>3.0</td>\n",
       "      <td>1.0</td>\n",
       "      <td>0.075807</td>\n",
       "      <td>95.00</td>\n",
       "      <td>train</td>\n",
       "    </tr>\n",
       "    <tr>\n",
       "      <th>4</th>\n",
       "      <td>Super built-up  Area</td>\n",
       "      <td>1</td>\n",
       "      <td>2.0</td>\n",
       "      <td>0</td>\n",
       "      <td>1200.0</td>\n",
       "      <td>2.0</td>\n",
       "      <td>1.0</td>\n",
       "      <td>0.048198</td>\n",
       "      <td>51.00</td>\n",
       "      <td>train</td>\n",
       "    </tr>\n",
       "  </tbody>\n",
       "</table>\n",
       "</div>"
      ],
      "text/plain": [
       "              area_type  availability  size  society  total_sqft  bath  \\\n",
       "0  Super built-up  Area             0   2.0        1      1056.0   2.0   \n",
       "1            Plot  Area             1   4.0        1      2600.0   5.0   \n",
       "2        Built-up  Area             1   3.0        0      1440.0   2.0   \n",
       "3  Super built-up  Area             1   3.0        1      1521.0   3.0   \n",
       "4  Super built-up  Area             1   2.0        0      1200.0   2.0   \n",
       "\n",
       "   balcony  avg_price_per_loc   price data_category  \n",
       "0      1.0           0.047765   39.07         train  \n",
       "1      3.0           0.047257  120.00         train  \n",
       "2      3.0           0.048929   62.00         train  \n",
       "3      1.0           0.075807   95.00         train  \n",
       "4      1.0           0.048198   51.00         train  "
      ]
     },
     "execution_count": 148,
     "metadata": {},
     "output_type": "execute_result"
    }
   ],
   "source": [
    "df.head()"
   ]
  },
  {
   "cell_type": "markdown",
   "metadata": {},
   "source": [
    "## Total Sqft"
   ]
  },
  {
   "cell_type": "code",
   "execution_count": 149,
   "metadata": {
    "ExecuteTime": {
     "end_time": "2019-10-31T19:21:06.295386Z",
     "start_time": "2019-10-31T19:21:05.526868Z"
    }
   },
   "outputs": [
    {
     "data": {
      "text/plain": [
       "<Figure size 2160x720 with 0 Axes>"
      ]
     },
     "execution_count": 149,
     "metadata": {},
     "output_type": "execute_result"
    },
    {
     "data": {
      "text/plain": [
       "<matplotlib.axes._subplots.AxesSubplot at 0x21aa8cf95f8>"
      ]
     },
     "execution_count": 149,
     "metadata": {},
     "output_type": "execute_result"
    },
    {
     "data": {
      "image/png": "[encoded data removed]",
      "text/plain": [
       "<Figure size 2160x720 with 1 Axes>"
      ]
     },
     "metadata": {},
     "output_type": "display_data"
    }
   ],
   "source": [
    "plt.figure(figsize=(30,10))\n",
    "df['total_sqft'].hist(bins=200)\n",
    "plt.show()"
   ]
  },
  {
   "cell_type": "markdown",
   "metadata": {},
   "source": [
    "The distribution is right skewed. Let's see if taking logrithmic value can remove this skewness."
   ]
  },
  {
   "cell_type": "code",
   "execution_count": 150,
   "metadata": {
    "ExecuteTime": {
     "end_time": "2019-10-31T19:21:43.741951Z",
     "start_time": "2019-10-31T19:21:42.990417Z"
    }
   },
   "outputs": [
    {
     "data": {
      "text/plain": [
       "<Figure size 2160x720 with 0 Axes>"
      ]
     },
     "execution_count": 150,
     "metadata": {},
     "output_type": "execute_result"
    },
    {
     "data": {
      "text/plain": [
       "<matplotlib.axes._subplots.AxesSubplot at 0x21aa8ead9b0>"
      ]
     },
     "execution_count": 150,
     "metadata": {},
     "output_type": "execute_result"
    },
    {
     "data": {
      "image/png": "[encoded data removed]",
      "text/plain": [
       "<Figure size 2160x720 with 1 Axes>"
      ]
     },
     "metadata": {},
     "output_type": "display_data"
    }
   ],
   "source": [
    "plt.figure(figsize=(30,10))\n",
    "np.log(df['total_sqft']).hist(bins=200)\n",
    "plt.show()"
   ]
  },
  {
   "cell_type": "markdown",
   "metadata": {},
   "source": [
    "Perfect. The skewness has decreased significantly with logrithmic conversion."
   ]
  },
  {
   "cell_type": "code",
   "execution_count": 151,
   "metadata": {
    "ExecuteTime": {
     "end_time": "2019-10-31T19:22:11.737651Z",
     "start_time": "2019-10-31T19:22:11.731656Z"
    }
   },
   "outputs": [],
   "source": [
    "df['total_sqft'] = np.log(df['total_sqft'])"
   ]
  },
  {
   "cell_type": "markdown",
   "metadata": {},
   "source": [
    "## Price"
   ]
  },
  {
   "cell_type": "markdown",
   "metadata": {},
   "source": [
    "Splitting the data to check for 'price' variable distribution."
   ]
  },
  {
   "cell_type": "code",
   "execution_count": 152,
   "metadata": {
    "ExecuteTime": {
     "end_time": "2019-10-31T19:26:13.169386Z",
     "start_time": "2019-10-31T19:26:13.153394Z"
    }
   },
   "outputs": [
    {
     "data": {
      "text/plain": [
       "13256"
      ]
     },
     "execution_count": 152,
     "metadata": {},
     "output_type": "execute_result"
    }
   ],
   "source": [
    "train_df = df[df['data_category']=='train']\n",
    "train_df.drop(['data_category'], axis=1, inplace=True)\n",
    "len(train_df)"
   ]
  },
  {
   "cell_type": "code",
   "execution_count": 153,
   "metadata": {
    "ExecuteTime": {
     "end_time": "2019-10-31T19:26:14.360391Z",
     "start_time": "2019-10-31T19:26:14.349398Z"
    }
   },
   "outputs": [
    {
     "data": {
      "text/plain": [
       "1480"
      ]
     },
     "execution_count": 153,
     "metadata": {},
     "output_type": "execute_result"
    }
   ],
   "source": [
    "test_df = df[df['data_category']=='test']\n",
    "test_df.drop(['data_category'], axis=1, inplace=True)\n",
    "len(test_df)"
   ]
  },
  {
   "cell_type": "code",
   "execution_count": 154,
   "metadata": {
    "ExecuteTime": {
     "end_time": "2019-10-31T19:26:20.120254Z",
     "start_time": "2019-10-31T19:26:19.380712Z"
    }
   },
   "outputs": [
    {
     "data": {
      "text/plain": [
       "<Figure size 2160x720 with 0 Axes>"
      ]
     },
     "execution_count": 154,
     "metadata": {},
     "output_type": "execute_result"
    },
    {
     "data": {
      "text/plain": [
       "<matplotlib.axes._subplots.AxesSubplot at 0x21aa852f0f0>"
      ]
     },
     "execution_count": 154,
     "metadata": {},
     "output_type": "execute_result"
    },
    {
     "data": {
      "image/png": "[encoded data removed]",
      "text/plain": [
       "<Figure size 2160x720 with 1 Axes>"
      ]
     },
     "metadata": {},
     "output_type": "display_data"
    }
   ],
   "source": [
    "plt.figure(figsize=(30,10))\n",
    "(train_df['price']).hist(bins=200)\n",
    "plt.show()"
   ]
  },
  {
   "cell_type": "markdown",
   "metadata": {},
   "source": [
    "Here also, the distribution is right skewed."
   ]
  },
  {
   "cell_type": "code",
   "execution_count": 155,
   "metadata": {
    "ExecuteTime": {
     "end_time": "2019-10-31T19:27:34.249463Z",
     "start_time": "2019-10-31T19:27:33.506925Z"
    }
   },
   "outputs": [
    {
     "data": {
      "text/plain": [
       "<Figure size 2160x720 with 0 Axes>"
      ]
     },
     "execution_count": 155,
     "metadata": {},
     "output_type": "execute_result"
    },
    {
     "data": {
      "text/plain": [
       "<matplotlib.axes._subplots.AxesSubplot at 0x21aac20a780>"
      ]
     },
     "execution_count": 155,
     "metadata": {},
     "output_type": "execute_result"
    },
    {
     "data": {
      "image/png": "[encoded data removed]",
      "text/plain": [
       "<Figure size 2160x720 with 1 Axes>"
      ]
     },
     "metadata": {},
     "output_type": "display_data"
    }
   ],
   "source": [
    "plt.figure(figsize=(30,10))\n",
    "np.log(train_df['price']).hist(bins=200)\n",
    "plt.show()"
   ]
  },
  {
   "cell_type": "code",
   "execution_count": 156,
   "metadata": {
    "ExecuteTime": {
     "end_time": "2019-10-31T19:27:37.336126Z",
     "start_time": "2019-10-31T19:27:37.331131Z"
    }
   },
   "outputs": [],
   "source": [
    "train_df['price'] = np.log(train_df['price'])"
   ]
  },
  {
   "cell_type": "code",
   "execution_count": 157,
   "metadata": {
    "ExecuteTime": {
     "end_time": "2019-10-31T19:27:42.245490Z",
     "start_time": "2019-10-31T19:27:42.236496Z"
    },
    "scrolled": true
   },
   "outputs": [
    {
     "data": {
      "text/plain": [
       "area_type            category\n",
       "availability            int32\n",
       "size                  float64\n",
       "society                 int32\n",
       "total_sqft            float64\n",
       "bath                  float64\n",
       "balcony               float64\n",
       "avg_price_per_loc     float64\n",
       "price                 float64\n",
       "dtype: object"
      ]
     },
     "execution_count": 157,
     "metadata": {},
     "output_type": "execute_result"
    }
   ],
   "source": [
    "train_df.dtypes"
   ]
  },
  {
   "cell_type": "markdown",
   "metadata": {},
   "source": [
    "# One-Hot Encoding"
   ]
  },
  {
   "cell_type": "code",
   "execution_count": 158,
   "metadata": {
    "ExecuteTime": {
     "end_time": "2019-10-31T19:27:53.506332Z",
     "start_time": "2019-10-31T19:27:53.475350Z"
    }
   },
   "outputs": [],
   "source": [
    "main_train = pd.get_dummies(train_df)\n",
    "main_test = pd.get_dummies(test_df)"
   ]
  },
  {
   "cell_type": "code",
   "execution_count": 162,
   "metadata": {
    "ExecuteTime": {
     "end_time": "2019-10-31T19:29:18.819792Z",
     "start_time": "2019-10-31T19:29:18.778818Z"
    },
    "scrolled": false
   },
   "outputs": [
    {
     "data": {
      "text/html": [
       "<div>\n",
       "<style scoped>\n",
       "    .dataframe tbody tr th:only-of-type {\n",
       "        vertical-align: middle;\n",
       "    }\n",
       "\n",
       "    .dataframe tbody tr th {\n",
       "        vertical-align: top;\n",
       "    }\n",
       "\n",
       "    .dataframe thead th {\n",
       "        text-align: right;\n",
       "    }\n",
       "</style>\n",
       "<table border=\"1\" class=\"dataframe\">\n",
       "  <thead>\n",
       "    <tr style=\"text-align: right;\">\n",
       "      <th></th>\n",
       "      <th>availability</th>\n",
       "      <th>size</th>\n",
       "      <th>society</th>\n",
       "      <th>total_sqft</th>\n",
       "      <th>bath</th>\n",
       "      <th>balcony</th>\n",
       "      <th>avg_price_per_loc</th>\n",
       "      <th>price</th>\n",
       "      <th>area_type_Built-up  Area</th>\n",
       "      <th>area_type_Carpet  Area</th>\n",
       "      <th>area_type_Plot  Area</th>\n",
       "      <th>area_type_Super built-up  Area</th>\n",
       "    </tr>\n",
       "  </thead>\n",
       "  <tbody>\n",
       "    <tr>\n",
       "      <th>0</th>\n",
       "      <td>0</td>\n",
       "      <td>2.0</td>\n",
       "      <td>1</td>\n",
       "      <td>6.962243</td>\n",
       "      <td>2.0</td>\n",
       "      <td>1.0</td>\n",
       "      <td>0.047765</td>\n",
       "      <td>3.665355</td>\n",
       "      <td>0</td>\n",
       "      <td>0</td>\n",
       "      <td>0</td>\n",
       "      <td>1</td>\n",
       "    </tr>\n",
       "    <tr>\n",
       "      <th>1</th>\n",
       "      <td>1</td>\n",
       "      <td>4.0</td>\n",
       "      <td>1</td>\n",
       "      <td>7.863267</td>\n",
       "      <td>5.0</td>\n",
       "      <td>3.0</td>\n",
       "      <td>0.047257</td>\n",
       "      <td>4.787492</td>\n",
       "      <td>0</td>\n",
       "      <td>0</td>\n",
       "      <td>1</td>\n",
       "      <td>0</td>\n",
       "    </tr>\n",
       "    <tr>\n",
       "      <th>2</th>\n",
       "      <td>1</td>\n",
       "      <td>3.0</td>\n",
       "      <td>0</td>\n",
       "      <td>7.272398</td>\n",
       "      <td>2.0</td>\n",
       "      <td>3.0</td>\n",
       "      <td>0.048929</td>\n",
       "      <td>4.127134</td>\n",
       "      <td>1</td>\n",
       "      <td>0</td>\n",
       "      <td>0</td>\n",
       "      <td>0</td>\n",
       "    </tr>\n",
       "  </tbody>\n",
       "</table>\n",
       "</div>"
      ],
      "text/plain": [
       "   availability  size  society  total_sqft  bath  balcony  avg_price_per_loc  \\\n",
       "0             0   2.0        1    6.962243   2.0      1.0           0.047765   \n",
       "1             1   4.0        1    7.863267   5.0      3.0           0.047257   \n",
       "2             1   3.0        0    7.272398   2.0      3.0           0.048929   \n",
       "\n",
       "      price  area_type_Built-up  Area  area_type_Carpet  Area  \\\n",
       "0  3.665355                         0                       0   \n",
       "1  4.787492                         0                       0   \n",
       "2  4.127134                         1                       0   \n",
       "\n",
       "   area_type_Plot  Area  area_type_Super built-up  Area  \n",
       "0                     0                               1  \n",
       "1                     1                               0  \n",
       "2                     0                               0  "
      ]
     },
     "execution_count": 162,
     "metadata": {},
     "output_type": "execute_result"
    },
    {
     "data": {
      "text/html": [
       "<div>\n",
       "<style scoped>\n",
       "    .dataframe tbody tr th:only-of-type {\n",
       "        vertical-align: middle;\n",
       "    }\n",
       "\n",
       "    .dataframe tbody tr th {\n",
       "        vertical-align: top;\n",
       "    }\n",
       "\n",
       "    .dataframe thead th {\n",
       "        text-align: right;\n",
       "    }\n",
       "</style>\n",
       "<table border=\"1\" class=\"dataframe\">\n",
       "  <thead>\n",
       "    <tr style=\"text-align: right;\">\n",
       "      <th></th>\n",
       "      <th>availability</th>\n",
       "      <th>size</th>\n",
       "      <th>society</th>\n",
       "      <th>total_sqft</th>\n",
       "      <th>bath</th>\n",
       "      <th>balcony</th>\n",
       "      <th>avg_price_per_loc</th>\n",
       "      <th>price</th>\n",
       "      <th>area_type_Built-up  Area</th>\n",
       "      <th>area_type_Carpet  Area</th>\n",
       "      <th>area_type_Plot  Area</th>\n",
       "      <th>area_type_Super built-up  Area</th>\n",
       "    </tr>\n",
       "  </thead>\n",
       "  <tbody>\n",
       "    <tr>\n",
       "      <th>13256</th>\n",
       "      <td>1</td>\n",
       "      <td>2.0</td>\n",
       "      <td>1</td>\n",
       "      <td>7.110696</td>\n",
       "      <td>2.0</td>\n",
       "      <td>2.0</td>\n",
       "      <td>0.060125</td>\n",
       "      <td>NaN</td>\n",
       "      <td>0</td>\n",
       "      <td>0</td>\n",
       "      <td>0</td>\n",
       "      <td>1</td>\n",
       "    </tr>\n",
       "    <tr>\n",
       "      <th>13257</th>\n",
       "      <td>1</td>\n",
       "      <td>9.0</td>\n",
       "      <td>0</td>\n",
       "      <td>7.783224</td>\n",
       "      <td>9.0</td>\n",
       "      <td>2.0</td>\n",
       "      <td>0.091662</td>\n",
       "      <td>NaN</td>\n",
       "      <td>0</td>\n",
       "      <td>0</td>\n",
       "      <td>1</td>\n",
       "      <td>0</td>\n",
       "    </tr>\n",
       "    <tr>\n",
       "      <th>13258</th>\n",
       "      <td>0</td>\n",
       "      <td>4.0</td>\n",
       "      <td>1</td>\n",
       "      <td>7.408531</td>\n",
       "      <td>5.0</td>\n",
       "      <td>2.0</td>\n",
       "      <td>0.100931</td>\n",
       "      <td>NaN</td>\n",
       "      <td>0</td>\n",
       "      <td>0</td>\n",
       "      <td>1</td>\n",
       "      <td>0</td>\n",
       "    </tr>\n",
       "  </tbody>\n",
       "</table>\n",
       "</div>"
      ],
      "text/plain": [
       "       availability  size  society  total_sqft  bath  balcony  \\\n",
       "13256             1   2.0        1    7.110696   2.0      2.0   \n",
       "13257             1   9.0        0    7.783224   9.0      2.0   \n",
       "13258             0   4.0        1    7.408531   5.0      2.0   \n",
       "\n",
       "       avg_price_per_loc  price  area_type_Built-up  Area  \\\n",
       "13256           0.060125    NaN                         0   \n",
       "13257           0.091662    NaN                         0   \n",
       "13258           0.100931    NaN                         0   \n",
       "\n",
       "       area_type_Carpet  Area  area_type_Plot  Area  \\\n",
       "13256                       0                     0   \n",
       "13257                       0                     1   \n",
       "13258                       0                     1   \n",
       "\n",
       "       area_type_Super built-up  Area  \n",
       "13256                               1  \n",
       "13257                               0  \n",
       "13258                               0  "
      ]
     },
     "execution_count": 162,
     "metadata": {},
     "output_type": "execute_result"
    }
   ],
   "source": [
    "main_train.head(3)\n",
    "\n",
    "main_test.head(3)"
   ]
  },
  {
   "cell_type": "markdown",
   "metadata": {},
   "source": [
    "Saving file post-processing."
   ]
  },
  {
   "cell_type": "code",
   "execution_count": 164,
   "metadata": {
    "ExecuteTime": {
     "end_time": "2019-10-31T19:29:45.389600Z",
     "start_time": "2019-10-31T19:29:45.017834Z"
    }
   },
   "outputs": [],
   "source": [
    "main_train.to_csv('../data/processed/train_df.csv', index=False)\n",
    "main_test.to_csv('../data/processed/test_df.csv', index=False)"
   ]
  },
  {
   "cell_type": "markdown",
   "metadata": {},
   "source": [
    "# Modeling"
   ]
  },
  {
   "cell_type": "markdown",
   "metadata": {},
   "source": [
    "## Import Models"
   ]
  },
  {
   "cell_type": "code",
   "execution_count": 165,
   "metadata": {
    "ExecuteTime": {
     "end_time": "2019-10-31T19:29:54.290331Z",
     "start_time": "2019-10-31T19:29:49.569216Z"
    }
   },
   "outputs": [
    {
     "name": "stderr",
     "output_type": "stream",
     "text": [
      "C:\\Users\\dev26\\Anaconda3\\lib\\site-packages\\sklearn\\ensemble\\weight_boosting.py:29: DeprecationWarning: numpy.core.umath_tests is an internal NumPy module and should not be imported. It will be removed in a future NumPy release.\n",
      "  from numpy.core.umath_tests import inner1d\n"
     ]
    }
   ],
   "source": [
    "# Accuracy and Cross-Validation scores.\n",
    "#Import models from scikit learn module:\n",
    "\n",
    "import pandas as pd\n",
    "import numpy as np\n",
    "import matplotlib.pyplot as plt\n",
    "\n",
    "from sklearn.model_selection import train_test_split\n",
    "from sklearn.tree import DecisionTreeRegressor\n",
    "from sklearn.model_selection import cross_val_score   #For K-fold cross validation\n",
    "from sklearn.ensemble import RandomForestRegressor\n",
    "from xgboost import XGBRegressor\n",
    "from sklearn.tree import DecisionTreeRegressor\n",
    "from sklearn import datasets, linear_model, metrics\n",
    "from sklearn import model_selection\n",
    "from sklearn.metrics import mean_squared_error, make_scorer\n",
    "from math import sqrt\n",
    "from sklearn.metrics import mean_squared_error\n",
    "from lightgbm import LGBMRegressor\n",
    "\n",
    "\n",
    "import warnings\n",
    "warnings.filterwarnings('ignore')"
   ]
  },
  {
   "cell_type": "code",
   "execution_count": 166,
   "metadata": {
    "ExecuteTime": {
     "end_time": "2019-10-31T19:30:30.168791Z",
     "start_time": "2019-10-31T19:30:30.128811Z"
    }
   },
   "outputs": [],
   "source": [
    "#read it back\n",
    "main_train=pd.read_csv(\"../data/processed/train_df.csv\")\n",
    "main_test=pd.read_csv(\"../data/processed/test_df.csv\")"
   ]
  },
  {
   "cell_type": "code",
   "execution_count": 167,
   "metadata": {
    "ExecuteTime": {
     "end_time": "2019-10-31T19:30:35.001217Z",
     "start_time": "2019-10-31T19:30:34.993226Z"
    }
   },
   "outputs": [],
   "source": [
    "X = main_train.drop('price', axis=1)\n",
    "Y = main_train['price']"
   ]
  },
  {
   "cell_type": "markdown",
   "metadata": {},
   "source": [
    "## Train-Test Split"
   ]
  },
  {
   "cell_type": "code",
   "execution_count": 169,
   "metadata": {
    "ExecuteTime": {
     "end_time": "2019-10-31T19:36:26.235438Z",
     "start_time": "2019-10-31T19:36:26.218449Z"
    }
   },
   "outputs": [
    {
     "name": "stdout",
     "output_type": "stream",
     "text": [
      "(10604, 11) (10604,)\n",
      "(2652, 11) (2652,)\n"
     ]
    }
   ],
   "source": [
    "X_train, X_test, y_train, y_test = train_test_split(X, Y, test_size=0.2)\n",
    "print (X_train.shape, y_train.shape)\n",
    "print (X_test.shape, y_test.shape)"
   ]
  },
  {
   "cell_type": "markdown",
   "metadata": {},
   "source": [
    "## Creating Custom Metric Function"
   ]
  },
  {
   "cell_type": "code",
   "execution_count": 171,
   "metadata": {
    "ExecuteTime": {
     "end_time": "2019-10-31T19:36:53.093237Z",
     "start_time": "2019-10-31T19:36:53.084244Z"
    }
   },
   "outputs": [],
   "source": [
    "#Generic function for making a classification model and accessing performance:\n",
    "## How to create your own metric function and make it as a scorer object\n",
    "\n",
    "def mean_sq_error(y,y_pred):\n",
    "    return sqrt(mean_squared_error(y,y_pred=y_pred))\n",
    "\n",
    "rmse = make_scorer(mean_sq_error)\n",
    "\n",
    "\n",
    "def regression_model(model, data, predictors, outcome):\n",
    "    scores = cross_val_score(model, data[predictors],data[outcome],cv=5,scoring=rmse)\n",
    "    for i in range(len(scores)):\n",
    "        print(\"CV %s\"%i + \" Score:%s\"%\"{0:.5}\".format(scores[i]) )\n",
    "        \n",
    "    print (\"Average RMSE Cross-Validation Score : %s\" % \"{0:.3}\".format(np.mean(scores)))"
   ]
  },
  {
   "cell_type": "markdown",
   "metadata": {},
   "source": [
    "## Fitting Models"
   ]
  },
  {
   "cell_type": "code",
   "execution_count": 172,
   "metadata": {
    "ExecuteTime": {
     "end_time": "2019-10-31T19:36:58.011024Z",
     "start_time": "2019-10-31T19:36:58.007026Z"
    }
   },
   "outputs": [],
   "source": [
    "all_variable=list(main_train)\n",
    "all_variable.remove('price')"
   ]
  },
  {
   "cell_type": "markdown",
   "metadata": {},
   "source": [
    "### Decision Tree"
   ]
  },
  {
   "cell_type": "code",
   "execution_count": 173,
   "metadata": {
    "ExecuteTime": {
     "end_time": "2019-10-31T19:36:59.537879Z",
     "start_time": "2019-10-31T19:36:59.158119Z"
    }
   },
   "outputs": [
    {
     "name": "stdout",
     "output_type": "stream",
     "text": [
      "CV 0 Score:0.38103\n",
      "CV 1 Score:0.39275\n",
      "CV 2 Score:0.39222\n",
      "CV 3 Score:0.39103\n",
      "CV 4 Score:0.3703\n",
      "Average RMSE Cross-Validation Score : 0.385\n"
     ]
    }
   ],
   "source": [
    "# DecisionTreeRegressor\n",
    "outcome_var = 'price'\n",
    "model = DecisionTreeRegressor()\n",
    "predictor_var = all_variable\n",
    "regression_model(model, main_train, predictor_var, outcome_var)"
   ]
  },
  {
   "cell_type": "markdown",
   "metadata": {},
   "source": [
    "### Random Forest"
   ]
  },
  {
   "cell_type": "code",
   "execution_count": 174,
   "metadata": {
    "ExecuteTime": {
     "end_time": "2019-10-31T19:37:21.819383Z",
     "start_time": "2019-10-31T19:37:05.835841Z"
    }
   },
   "outputs": [
    {
     "name": "stdout",
     "output_type": "stream",
     "text": [
      "CV 0 Score:0.28972\n",
      "CV 1 Score:0.29582\n",
      "CV 2 Score:0.30658\n",
      "CV 3 Score:0.29819\n",
      "CV 4 Score:0.29095\n",
      "Average RMSE Cross-Validation Score : 0.296\n"
     ]
    }
   ],
   "source": [
    "# Random Forest Regression\n",
    "outcome_var = 'price'\n",
    "model = RandomForestRegressor(n_estimators=200, random_state=0, n_jobs = -1)\n",
    "predictor_var = all_variable\n",
    "regression_model(model, main_train, predictor_var, outcome_var)"
   ]
  },
  {
   "cell_type": "markdown",
   "metadata": {},
   "source": [
    "### XGBoost"
   ]
  },
  {
   "cell_type": "code",
   "execution_count": 175,
   "metadata": {
    "ExecuteTime": {
     "end_time": "2019-10-31T19:37:43.117854Z",
     "start_time": "2019-10-31T19:37:30.319791Z"
    }
   },
   "outputs": [
    {
     "name": "stdout",
     "output_type": "stream",
     "text": [
      "[01:07:30] WARNING: C:/Jenkins/workspace/xgboost-win64_release_0.90/src/objective/regression_obj.cu:152: reg:linear is now deprecated in favor of reg:squarederror.\n",
      "[01:07:33] WARNING: C:/Jenkins/workspace/xgboost-win64_release_0.90/src/objective/regression_obj.cu:152: reg:linear is now deprecated in favor of reg:squarederror.\n",
      "[01:07:35] WARNING: C:/Jenkins/workspace/xgboost-win64_release_0.90/src/objective/regression_obj.cu:152: reg:linear is now deprecated in favor of reg:squarederror.\n",
      "[01:07:38] WARNING: C:/Jenkins/workspace/xgboost-win64_release_0.90/src/objective/regression_obj.cu:152: reg:linear is now deprecated in favor of reg:squarederror.\n",
      "[01:07:40] WARNING: C:/Jenkins/workspace/xgboost-win64_release_0.90/src/objective/regression_obj.cu:152: reg:linear is now deprecated in favor of reg:squarederror.\n",
      "CV 0 Score:0.2892\n",
      "CV 1 Score:0.29383\n",
      "CV 2 Score:0.30917\n",
      "CV 3 Score:0.30554\n",
      "CV 4 Score:0.2946\n",
      "Average RMSE Cross-Validation Score : 0.298\n"
     ]
    }
   ],
   "source": [
    "# XGBoost Regressor\n",
    "outcome_var = 'price'\n",
    "model = XGBRegressor(n_estimators=540,random_state=0,n_jobs=-1)\n",
    "predictor_var = all_variable\n",
    "regression_model(model, main_train, predictor_var, outcome_var)"
   ]
  },
  {
   "cell_type": "markdown",
   "metadata": {},
   "source": [
    "### LGBM"
   ]
  },
  {
   "cell_type": "code",
   "execution_count": 176,
   "metadata": {
    "ExecuteTime": {
     "end_time": "2019-10-31T19:37:58.848373Z",
     "start_time": "2019-10-31T19:37:54.919815Z"
    }
   },
   "outputs": [
    {
     "name": "stdout",
     "output_type": "stream",
     "text": [
      "CV 0 Score:0.28578\n",
      "CV 1 Score:0.29397\n",
      "CV 2 Score:0.30762\n",
      "CV 3 Score:0.2996\n",
      "CV 4 Score:0.28896\n",
      "Average RMSE Cross-Validation Score : 0.295\n"
     ]
    }
   ],
   "source": [
    "# LGBM Regressor\n",
    "outcome_var = 'price'\n",
    "model = LGBMRegressor(n_estimators=500)\n",
    "predictor_var = all_variable\n",
    "regression_model(model, main_train, predictor_var, outcome_var)"
   ]
  },
  {
   "cell_type": "markdown",
   "metadata": {},
   "source": [
    "We can see that all the ensemble models are giving similar cross validation score of ~0.29 without much hyper parameter tuning."
   ]
  },
  {
   "cell_type": "markdown",
   "metadata": {},
   "source": [
    "## Hyper Parameter Tuning"
   ]
  },
  {
   "cell_type": "markdown",
   "metadata": {},
   "source": [
    "### Randomised Search"
   ]
  },
  {
   "cell_type": "code",
   "execution_count": 179,
   "metadata": {
    "ExecuteTime": {
     "end_time": "2019-10-31T19:40:40.627118Z",
     "start_time": "2019-10-31T19:40:40.622121Z"
    }
   },
   "outputs": [],
   "source": [
    "from sklearn.model_selection import RandomizedSearchCV"
   ]
  },
  {
   "cell_type": "code",
   "execution_count": 180,
   "metadata": {
    "ExecuteTime": {
     "end_time": "2019-10-31T19:40:42.056712Z",
     "start_time": "2019-10-31T19:40:42.049717Z"
    }
   },
   "outputs": [],
   "source": [
    "# Number of trees in random forest\n",
    "n_estimators = list(np.arange(160,400,100))\n",
    "\n",
    "# Number of features to consider at every split\n",
    "max_features = ['auto', 'sqrt']\n",
    "\n",
    "# Maximum number of levels in tree\n",
    "max_depth = [int(x) for x in np.linspace(10, 80, num = 5)]\n",
    "max_depth.append(None)\n",
    "\n",
    "# Minimum number of samples required to split a node\n",
    "min_samples_split = [2, 5, 10]\n",
    "\n",
    "# Minimum number of samples required at each leaf node\n",
    "min_samples_leaf = [1, 2, 4]\n",
    "\n",
    "# Method of selecting samples for training each tree\n",
    "bootstrap = [True, False]"
   ]
  },
  {
   "cell_type": "code",
   "execution_count": 181,
   "metadata": {
    "ExecuteTime": {
     "end_time": "2019-10-31T19:40:44.449767Z",
     "start_time": "2019-10-31T19:40:44.444769Z"
    }
   },
   "outputs": [],
   "source": [
    "# Create the random grid\n",
    "random_grid = {'n_estimators': n_estimators,\n",
    "               'max_features': max_features,\n",
    "               'max_depth': max_depth,\n",
    "               'min_samples_split': min_samples_split,\n",
    "               'min_samples_leaf': min_samples_leaf,\n",
    "               'bootstrap': bootstrap}"
   ]
  },
  {
   "cell_type": "code",
   "execution_count": 182,
   "metadata": {
    "ExecuteTime": {
     "end_time": "2019-10-31T19:40:45.923801Z",
     "start_time": "2019-10-31T19:40:45.917806Z"
    }
   },
   "outputs": [
    {
     "data": {
      "text/plain": [
       "{'n_estimators': [160, 260, 360],\n",
       " 'max_features': ['auto', 'sqrt'],\n",
       " 'max_depth': [10, 27, 45, 62, 80, None],\n",
       " 'min_samples_split': [2, 5, 10],\n",
       " 'min_samples_leaf': [1, 2, 4],\n",
       " 'bootstrap': [True, False]}"
      ]
     },
     "execution_count": 182,
     "metadata": {},
     "output_type": "execute_result"
    }
   ],
   "source": [
    "random_grid"
   ]
  },
  {
   "cell_type": "code",
   "execution_count": null,
   "metadata": {
    "ExecuteTime": {
     "end_time": "2019-10-30T04:01:48.676135Z",
     "start_time": "2019-10-30T03:58:25.667149Z"
    },
    "scrolled": true
   },
   "outputs": [],
   "source": [
    "import time\n",
    "start = time.clock()\n",
    "\n",
    "# Use the random grid to search for best hyperparameters\n",
    "# First create the base model to tune\n",
    "\n",
    "rf1 = RandomForestRegressor()\n",
    "# Random search of parameters, using 3 fold cross validation, \n",
    "# search across 100 different combinations, and use all available cores\n",
    "rf_random = RandomizedSearchCV(estimator = rf1, param_distributions = random_grid, n_iter = 33, cv = 3, verbose=50, random_state=0, n_jobs = -1,scoring=\"neg_mean_squared_error\")\n",
    "\n",
    "# Fit the random search model\n",
    "rf_random.fit(X, Y)\n",
    "\n",
    "end = time.clock()\n",
    "end - start"
   ]
  },
  {
   "cell_type": "code",
   "execution_count": null,
   "metadata": {
    "ExecuteTime": {
     "end_time": "2019-10-30T04:02:03.384068Z",
     "start_time": "2019-10-30T04:01:48.679131Z"
    }
   },
   "outputs": [],
   "source": [
    "# Random Forest Regression\n",
    "outcome_var = 'price'\n",
    "model = rf_random.best_estimator_\n",
    "predictor_var = all_variable\n",
    "regression_model(model, main_train, predictor_var, outcome_var)"
   ]
  },
  {
   "cell_type": "code",
   "execution_count": null,
   "metadata": {
    "ExecuteTime": {
     "end_time": "2019-10-30T04:02:06.226318Z",
     "start_time": "2019-10-30T04:02:03.387069Z"
    }
   },
   "outputs": [],
   "source": [
    "rf1_main=rf_random.best_estimator_\n",
    "rf1_main.fit(X_train, y_train)"
   ]
  },
  {
   "cell_type": "code",
   "execution_count": null,
   "metadata": {
    "ExecuteTime": {
     "end_time": "2019-10-30T04:02:06.394225Z",
     "start_time": "2019-10-30T04:02:06.228317Z"
    }
   },
   "outputs": [],
   "source": [
    "predictions=rf1_main.predict(X_test)"
   ]
  },
  {
   "cell_type": "code",
   "execution_count": null,
   "metadata": {
    "ExecuteTime": {
     "end_time": "2019-10-30T04:02:06.403208Z",
     "start_time": "2019-10-30T04:02:06.396214Z"
    }
   },
   "outputs": [],
   "source": [
    "print(np.sqrt(metrics.mean_squared_error(y_test,predictions)))"
   ]
  },
  {
   "cell_type": "code",
   "execution_count": null,
   "metadata": {
    "ExecuteTime": {
     "end_time": "2019-10-30T04:03:09.040034Z",
     "start_time": "2019-10-30T04:02:06.406207Z"
    },
    "scrolled": true
   },
   "outputs": [],
   "source": [
    "estimators = np.arange(200, 930, 40) #850 #880\n",
    "\n",
    "\n",
    "model=RandomForestRegressor()\n",
    "\n",
    "rmse_scores = []\n",
    "for n in estimators:\n",
    "    model.set_params(bootstrap=True, criterion='mse', max_depth=None,\n",
    "           max_features='sqrt', max_leaf_nodes=None,\n",
    "           min_impurity_decrease=0.0, min_impurity_split=None,\n",
    "           min_samples_leaf=2, min_samples_split=2,\n",
    "           min_weight_fraction_leaf=0.0, n_estimators=n, n_jobs=-1,\n",
    "           oob_score=False, random_state=None, verbose=0, warm_start=False)\n",
    "    model.fit(X_train, y_train)\n",
    "    predictions=model.predict(X_test)\n",
    "    rmse_scores.append(np.sqrt(metrics.mean_squared_error(y_test,predictions)))\n",
    "\n",
    "plt.figure(figsize=(30,10))\n",
    "plt.title(\"Effect of Estimators\")\n",
    "plt.xlabel(\"Number of Estimators\")\n",
    "plt.ylabel(\"RMSE\")\n",
    "plt.plot(estimators, rmse_scores)"
   ]
  },
  {
   "cell_type": "markdown",
   "metadata": {},
   "source": [
    "### Grid Search"
   ]
  },
  {
   "cell_type": "code",
   "execution_count": null,
   "metadata": {
    "ExecuteTime": {
     "end_time": "2019-10-30T04:03:09.048031Z",
     "start_time": "2019-10-30T04:03:09.043034Z"
    }
   },
   "outputs": [],
   "source": [
    "from sklearn.model_selection import GridSearchCV"
   ]
  },
  {
   "cell_type": "code",
   "execution_count": null,
   "metadata": {
    "ExecuteTime": {
     "end_time": "2019-10-30T04:03:09.165955Z",
     "start_time": "2019-10-30T04:03:09.052027Z"
    }
   },
   "outputs": [],
   "source": [
    "XG_grid = {\"learning_rate\":[0.01,0.05,0.1],\n",
    "           \"n_estimators\":[600],\n",
    "           \"silent\":[True],\n",
    "           \"n_jobs\":[-1],\n",
    "           \"min_child_weight\":[1,3],\n",
    "           \"max_depth\":[4,6],\n",
    "           \"booster\":['gbtree'],\n",
    "           \"gamma\":[0.01,0.1],\n",
    "           \"colsample_bytree\":[0.8],\n",
    "          \"subsample\":[0.75,0.85]}"
   ]
  },
  {
   "cell_type": "code",
   "execution_count": null,
   "metadata": {
    "ExecuteTime": {
     "end_time": "2019-10-30T04:14:34.936353Z",
     "start_time": "2019-10-30T04:03:09.168955Z"
    },
    "scrolled": true
   },
   "outputs": [],
   "source": [
    "import time\n",
    "start = time.clock()\n",
    "\n",
    "\n",
    "XG=XGBRegressor()\n",
    "\n",
    "XG_Boost = GridSearchCV(estimator=XG,\n",
    "                        param_grid=XG_grid,\n",
    "                        n_jobs=-1,\n",
    "                        cv=4,\n",
    "                        scoring=\"neg_mean_squared_error\",\n",
    "                        verbose=50)\n",
    "\n",
    "\n",
    "XG_Boost.fit(X,Y)\n",
    "\n",
    "end = time.clock()\n",
    "end - start"
   ]
  },
  {
   "cell_type": "code",
   "execution_count": null,
   "metadata": {
    "ExecuteTime": {
     "end_time": "2019-10-30T04:14:34.946348Z",
     "start_time": "2019-10-30T04:14:34.939353Z"
    },
    "scrolled": true
   },
   "outputs": [],
   "source": [
    "# cv_results = XG_Boost.cv_results_\n",
    "# for mean_score, params in zip(cv_results[\"mean_test_score\"], cv_results[\"params\"]):\n",
    "#     print(np.sqrt(-mean_score), params)"
   ]
  },
  {
   "cell_type": "code",
   "execution_count": null,
   "metadata": {
    "ExecuteTime": {
     "end_time": "2019-10-30T04:14:59.330321Z",
     "start_time": "2019-10-30T04:14:34.950347Z"
    }
   },
   "outputs": [],
   "source": [
    "# XGBoost Regression\n",
    "rmse = make_scorer(mean_sq_error,greater_is_better=True)\n",
    "outcome_var = 'price'\n",
    "model = XG_Boost.best_estimator_\n",
    "predictor_var = all_variable\n",
    "regression_model(model, main_train, predictor_var, outcome_var)"
   ]
  },
  {
   "cell_type": "code",
   "execution_count": null,
   "metadata": {
    "ExecuteTime": {
     "end_time": "2019-10-30T04:15:04.287265Z",
     "start_time": "2019-10-30T04:14:59.333321Z"
    }
   },
   "outputs": [],
   "source": [
    "# XG_Boost1=XG_Boost.best_estimator_\n",
    "XG_Boost1=XGBRegressor(base_score=0.5, booster='gbtree', colsample_bylevel=1,\n",
    "       colsample_bynode=1, colsample_bytree=0.8, gamma=0.01,\n",
    "       importance_type='gain', learning_rate=0.05, max_delta_step=0,\n",
    "       max_depth=6, min_child_weight=1, missing=None, n_estimators=600,\n",
    "       n_jobs=-1, nthread=None, objective='reg:linear', random_state=0,\n",
    "       reg_alpha=0, reg_lambda=1, scale_pos_weight=1, seed=None,\n",
    "       silent=True, subsample=0.85, verbosity=1)\n",
    "\n",
    "XG_Boost1.fit(X_train, y_train)"
   ]
  },
  {
   "cell_type": "code",
   "execution_count": null,
   "metadata": {
    "ExecuteTime": {
     "end_time": "2019-10-30T04:15:04.355225Z",
     "start_time": "2019-10-30T04:15:04.290266Z"
    }
   },
   "outputs": [],
   "source": [
    "predictions=XG_Boost1.predict(X_test)"
   ]
  },
  {
   "cell_type": "code",
   "execution_count": null,
   "metadata": {
    "ExecuteTime": {
     "end_time": "2019-10-30T04:15:04.411191Z",
     "start_time": "2019-10-30T04:15:04.358225Z"
    }
   },
   "outputs": [],
   "source": [
    "#RMSE\n",
    "print(np.sqrt(metrics.mean_squared_error(y_test,predictions)))"
   ]
  },
  {
   "cell_type": "markdown",
   "metadata": {},
   "source": [
    "## Feature Importance"
   ]
  },
  {
   "cell_type": "markdown",
   "metadata": {},
   "source": [
    "### Random Forest"
   ]
  },
  {
   "cell_type": "code",
   "execution_count": null,
   "metadata": {
    "ExecuteTime": {
     "end_time": "2019-10-30T04:15:04.711005Z",
     "start_time": "2019-10-30T04:15:04.414190Z"
    }
   },
   "outputs": [],
   "source": [
    "features = X_train.columns\n",
    "importances = rf1_main.feature_importances_\n",
    "indices = np.argsort(importances)\n",
    "\n",
    "plt.title('Feature Importances')\n",
    "plt.barh(range(len(indices)), importances[indices], color='b', align='center')\n",
    "plt.yticks(range(len(indices)), [features[i] for i in indices])\n",
    "plt.xlabel('Relative Importance')\n",
    "plt.show()"
   ]
  },
  {
   "cell_type": "markdown",
   "metadata": {},
   "source": [
    "### XGBoost"
   ]
  },
  {
   "cell_type": "code",
   "execution_count": null,
   "metadata": {
    "ExecuteTime": {
     "end_time": "2019-10-30T04:15:04.721000Z",
     "start_time": "2019-10-30T04:15:04.714004Z"
    }
   },
   "outputs": [],
   "source": [
    "from xgboost import plot_importance"
   ]
  },
  {
   "cell_type": "code",
   "execution_count": null,
   "metadata": {
    "ExecuteTime": {
     "end_time": "2019-10-30T04:15:05.364603Z",
     "start_time": "2019-10-30T04:15:04.723998Z"
    }
   },
   "outputs": [],
   "source": [
    "plot_importance(XG_Boost1)"
   ]
  },
  {
   "cell_type": "markdown",
   "metadata": {},
   "source": [
    "## Recursive Feature Elimination"
   ]
  },
  {
   "cell_type": "code",
   "execution_count": null,
   "metadata": {
    "ExecuteTime": {
     "end_time": "2019-10-30T04:15:05.372599Z",
     "start_time": "2019-10-30T04:15:05.368601Z"
    }
   },
   "outputs": [],
   "source": [
    "from sklearn.feature_selection import RFECV"
   ]
  },
  {
   "cell_type": "markdown",
   "metadata": {},
   "source": [
    "### Random Forest"
   ]
  },
  {
   "cell_type": "code",
   "execution_count": null,
   "metadata": {
    "ExecuteTime": {
     "end_time": "2019-10-30T04:15:31.044779Z",
     "start_time": "2019-10-30T04:15:05.376599Z"
    }
   },
   "outputs": [],
   "source": [
    "RFE = RFECV(rf1_main, step=3, cv=3, n_jobs=-1,\n",
    "            scoring=\"neg_mean_squared_error\", verbose=50)\n",
    "\n",
    "RFE.fit(X=X_train, y=y_train)"
   ]
  },
  {
   "cell_type": "code",
   "execution_count": null,
   "metadata": {
    "ExecuteTime": {
     "end_time": "2019-10-30T04:15:31.054771Z",
     "start_time": "2019-10-30T04:15:31.046777Z"
    }
   },
   "outputs": [],
   "source": [
    "RFE.support_"
   ]
  },
  {
   "cell_type": "code",
   "execution_count": null,
   "metadata": {
    "ExecuteTime": {
     "end_time": "2019-10-30T04:15:31.186691Z",
     "start_time": "2019-10-30T04:15:31.056772Z"
    }
   },
   "outputs": [],
   "source": [
    "selected_feature_rf = dict(zip(X_train.columns,RFE.support_))\n",
    "\n",
    "selected_rf = []\n",
    "for k,v in selected_feature_rf.items():\n",
    "    if (v==True):\n",
    "        selected_rf.append(k)"
   ]
  },
  {
   "cell_type": "code",
   "execution_count": null,
   "metadata": {
    "ExecuteTime": {
     "end_time": "2019-10-30T04:15:31.273640Z",
     "start_time": "2019-10-30T04:15:31.188689Z"
    }
   },
   "outputs": [],
   "source": [
    "selected_rf"
   ]
  },
  {
   "cell_type": "markdown",
   "metadata": {},
   "source": [
    "### XGBoost"
   ]
  },
  {
   "cell_type": "code",
   "execution_count": null,
   "metadata": {
    "ExecuteTime": {
     "end_time": "2019-10-30T04:16:15.936482Z",
     "start_time": "2019-10-30T04:15:31.277635Z"
    }
   },
   "outputs": [],
   "source": [
    "RFE = RFECV(XG_Boost1, step=3, cv=3, n_jobs=-1,\n",
    "            scoring=\"neg_mean_squared_error\", verbose=50)\n",
    "\n",
    "RFE.fit(X=X_train, y=y_train)"
   ]
  },
  {
   "cell_type": "code",
   "execution_count": null,
   "metadata": {
    "ExecuteTime": {
     "end_time": "2019-10-30T04:16:15.948477Z",
     "start_time": "2019-10-30T04:16:15.939481Z"
    }
   },
   "outputs": [],
   "source": [
    "RFE.support_"
   ]
  },
  {
   "cell_type": "code",
   "execution_count": null,
   "metadata": {
    "ExecuteTime": {
     "end_time": "2019-10-30T04:32:04.955628Z",
     "start_time": "2019-10-30T04:32:04.949633Z"
    }
   },
   "outputs": [],
   "source": [
    "selected_feature_xgb = dict(zip(X_train.columns,RFE.support_))\n",
    "\n",
    "selected_xgb = []\n",
    "for k,v in selected_feature_xgb.items():\n",
    "    if (v==True):\n",
    "        selected_xgb.append(k)"
   ]
  },
  {
   "cell_type": "code",
   "execution_count": null,
   "metadata": {
    "ExecuteTime": {
     "end_time": "2019-10-30T04:32:06.744217Z",
     "start_time": "2019-10-30T04:32:06.735223Z"
    },
    "scrolled": true
   },
   "outputs": [],
   "source": [
    "selected_xgb"
   ]
  },
  {
   "cell_type": "code",
   "execution_count": null,
   "metadata": {},
   "outputs": [],
   "source": []
  }
 ],
 "metadata": {
  "kernelspec": {
   "display_name": "Python 3",
   "language": "python",
   "name": "python3"
  },
  "language_info": {
   "codemirror_mode": {
    "name": "ipython",
    "version": 3
   },
   "file_extension": ".py",
   "mimetype": "text/x-python",
   "name": "python",
   "nbconvert_exporter": "python",
   "pygments_lexer": "ipython3",
   "version": "3.6.5"
  },
  "toc": {
   "base_numbering": 1,
   "nav_menu": {},
   "number_sections": true,
   "sideBar": true,
   "skip_h1_title": false,
   "title_cell": "Table of Contents",
   "title_sidebar": "Contents",
   "toc_cell": false,
   "toc_position": {
    "height": "calc(100% - 180px)",
    "left": "10px",
    "top": "150px",
    "width": "257px"
   },
   "toc_section_display": true,
   "toc_window_display": true
  }
 },
 "nbformat": 4,
 "nbformat_minor": 2
}
