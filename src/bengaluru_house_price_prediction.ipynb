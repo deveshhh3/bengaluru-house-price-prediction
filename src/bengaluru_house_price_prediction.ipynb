{
 "cells": [
  {
   "cell_type": "markdown",
   "metadata": {},
   "source": [
    "<b> Data: </b>\n",
    "\n",
    "The train and test data will consist of various features that describe that property in Bengaluru. This is an actual data set that is curated over months of primary & secondary research by our team. Each row contains fixed size object of features. There are 9 features and each feature can be accessed by its name.\n",
    "\n",
    "<b>Features:</b>\n",
    "\n",
    "- Area_type – describes the area\n",
    "- Availability – when it can be possessed or when it is ready(categorical and time-series)\n",
    "- Location – where it is located in Bengaluru\n",
    "- Price – Value of the property in lakhs(INR)\n",
    "- Size – in BHK or Bedroom (1-10 or more)\n",
    "- Society – to which society it belongs\n",
    "- Total_sqft – size of the property in sq.ft\n",
    "- Bath – No. of bathrooms\n",
    "- Balcony – No. of the balcony\n",
    "\n",
    "<b>Problem Statement:</b>\n",
    "\n",
    "With the given 9 features(categorical and continuous) build a model to predict the price of houses in Bengaluru."
   ]
  },
  {
   "cell_type": "markdown",
   "metadata": {},
   "source": [
    "# Imports"
   ]
  },
  {
   "cell_type": "code",
   "execution_count": 1,
   "metadata": {
    "ExecuteTime": {
     "end_time": "2019-11-01T04:23:22.291474Z",
     "start_time": "2019-11-01T04:23:20.296704Z"
    }
   },
   "outputs": [],
   "source": [
    "import numpy as np\n",
    "import pandas as pd\n",
    "import string\n",
    "import matplotlib.pyplot as plt\n",
    "import seaborn as sns\n",
    "import math\n",
    "\n",
    "from IPython.core.interactiveshell import InteractiveShell\n",
    "InteractiveShell.ast_node_interactivity = \"all\"\n",
    "\n",
    "import warnings\n",
    "warnings.filterwarnings('ignore')"
   ]
  },
  {
   "cell_type": "markdown",
   "metadata": {},
   "source": [
    "# Data Loads"
   ]
  },
  {
   "cell_type": "code",
   "execution_count": 2,
   "metadata": {
    "ExecuteTime": {
     "end_time": "2019-11-01T04:23:22.378419Z",
     "start_time": "2019-11-01T04:23:22.294473Z"
    }
   },
   "outputs": [],
   "source": [
    "train_data=pd.read_csv(r\"..\\data\\raw\\train_data.csv\")\n",
    "test_data=pd.read_csv(r\"..\\data\\raw\\test_data.csv\")"
   ]
  },
  {
   "cell_type": "code",
   "execution_count": 3,
   "metadata": {
    "ExecuteTime": {
     "end_time": "2019-11-01T04:23:22.415397Z",
     "start_time": "2019-11-01T04:23:22.381420Z"
    },
    "scrolled": true
   },
   "outputs": [
    {
     "data": {
      "text/html": [
       "<div>\n",
       "<style scoped>\n",
       "    .dataframe tbody tr th:only-of-type {\n",
       "        vertical-align: middle;\n",
       "    }\n",
       "\n",
       "    .dataframe tbody tr th {\n",
       "        vertical-align: top;\n",
       "    }\n",
       "\n",
       "    .dataframe thead th {\n",
       "        text-align: right;\n",
       "    }\n",
       "</style>\n",
       "<table border=\"1\" class=\"dataframe\">\n",
       "  <thead>\n",
       "    <tr style=\"text-align: right;\">\n",
       "      <th></th>\n",
       "      <th>s_no</th>\n",
       "      <th>area_type</th>\n",
       "      <th>availability</th>\n",
       "      <th>location</th>\n",
       "      <th>size</th>\n",
       "      <th>society</th>\n",
       "      <th>total_sqft</th>\n",
       "      <th>bath</th>\n",
       "      <th>balcony</th>\n",
       "      <th>price</th>\n",
       "    </tr>\n",
       "  </thead>\n",
       "  <tbody>\n",
       "    <tr>\n",
       "      <th>0</th>\n",
       "      <td>1</td>\n",
       "      <td>Super built-up  Area</td>\n",
       "      <td>19-Dec</td>\n",
       "      <td>Electronic City Phase II</td>\n",
       "      <td>2 BHK</td>\n",
       "      <td>Coomee</td>\n",
       "      <td>1056</td>\n",
       "      <td>2.0</td>\n",
       "      <td>1.0</td>\n",
       "      <td>39.07</td>\n",
       "    </tr>\n",
       "    <tr>\n",
       "      <th>1</th>\n",
       "      <td>2</td>\n",
       "      <td>Plot  Area</td>\n",
       "      <td>Ready To Move</td>\n",
       "      <td>Chikka Tirupathi</td>\n",
       "      <td>4 Bedroom</td>\n",
       "      <td>Theanmp</td>\n",
       "      <td>2600</td>\n",
       "      <td>5.0</td>\n",
       "      <td>3.0</td>\n",
       "      <td>120.00</td>\n",
       "    </tr>\n",
       "    <tr>\n",
       "      <th>2</th>\n",
       "      <td>3</td>\n",
       "      <td>Built-up  Area</td>\n",
       "      <td>Ready To Move</td>\n",
       "      <td>Uttarahalli</td>\n",
       "      <td>3 BHK</td>\n",
       "      <td>NaN</td>\n",
       "      <td>1440</td>\n",
       "      <td>2.0</td>\n",
       "      <td>3.0</td>\n",
       "      <td>62.00</td>\n",
       "    </tr>\n",
       "    <tr>\n",
       "      <th>3</th>\n",
       "      <td>4</td>\n",
       "      <td>Super built-up  Area</td>\n",
       "      <td>Ready To Move</td>\n",
       "      <td>Lingadheeranahalli</td>\n",
       "      <td>3 BHK</td>\n",
       "      <td>Soiewre</td>\n",
       "      <td>1521</td>\n",
       "      <td>3.0</td>\n",
       "      <td>1.0</td>\n",
       "      <td>95.00</td>\n",
       "    </tr>\n",
       "    <tr>\n",
       "      <th>4</th>\n",
       "      <td>5</td>\n",
       "      <td>Super built-up  Area</td>\n",
       "      <td>Ready To Move</td>\n",
       "      <td>Kothanur</td>\n",
       "      <td>2 BHK</td>\n",
       "      <td>NaN</td>\n",
       "      <td>1200</td>\n",
       "      <td>2.0</td>\n",
       "      <td>1.0</td>\n",
       "      <td>51.00</td>\n",
       "    </tr>\n",
       "  </tbody>\n",
       "</table>\n",
       "</div>"
      ],
      "text/plain": [
       "   s_no             area_type   availability                  location  \\\n",
       "0     1  Super built-up  Area         19-Dec  Electronic City Phase II   \n",
       "1     2            Plot  Area  Ready To Move          Chikka Tirupathi   \n",
       "2     3        Built-up  Area  Ready To Move               Uttarahalli   \n",
       "3     4  Super built-up  Area  Ready To Move        Lingadheeranahalli   \n",
       "4     5  Super built-up  Area  Ready To Move                  Kothanur   \n",
       "\n",
       "        size  society total_sqft  bath  balcony   price  \n",
       "0      2 BHK  Coomee        1056   2.0      1.0   39.07  \n",
       "1  4 Bedroom  Theanmp       2600   5.0      3.0  120.00  \n",
       "2      3 BHK      NaN       1440   2.0      3.0   62.00  \n",
       "3      3 BHK  Soiewre       1521   3.0      1.0   95.00  \n",
       "4      2 BHK      NaN       1200   2.0      1.0   51.00  "
      ]
     },
     "execution_count": 3,
     "metadata": {},
     "output_type": "execute_result"
    }
   ],
   "source": [
    "train_data.head()"
   ]
  },
  {
   "cell_type": "code",
   "execution_count": 4,
   "metadata": {
    "ExecuteTime": {
     "end_time": "2019-11-01T04:23:22.477361Z",
     "start_time": "2019-11-01T04:23:22.419395Z"
    }
   },
   "outputs": [
    {
     "data": {
      "text/plain": [
       "(13320, 10)"
      ]
     },
     "execution_count": 4,
     "metadata": {},
     "output_type": "execute_result"
    },
    {
     "data": {
      "text/plain": [
       "(1480, 10)"
      ]
     },
     "execution_count": 4,
     "metadata": {},
     "output_type": "execute_result"
    }
   ],
   "source": [
    "train_data.shape\n",
    "test_data.shape"
   ]
  },
  {
   "cell_type": "markdown",
   "metadata": {},
   "source": [
    "## Adding Train and Test Data"
   ]
  },
  {
   "cell_type": "markdown",
   "metadata": {},
   "source": [
    "To apply the same set of data cleaning operations on Train and Test dataset, concatenating them both. Adding a column 'data_category' in both datasets with values 'train' and 'test' respectively. Later, we can separate the dataset based on these values easily. Please note that any data which needs to be removed (such as outlier) will only be removed from training set."
   ]
  },
  {
   "cell_type": "code",
   "execution_count": 5,
   "metadata": {
    "ExecuteTime": {
     "end_time": "2019-11-01T04:23:22.567305Z",
     "start_time": "2019-11-01T04:23:22.479357Z"
    }
   },
   "outputs": [],
   "source": [
    "train_data['data_category'] = 'train'\n",
    "test_data['data_category'] = 'test'"
   ]
  },
  {
   "cell_type": "code",
   "execution_count": 6,
   "metadata": {
    "ExecuteTime": {
     "end_time": "2019-11-01T04:23:22.653255Z",
     "start_time": "2019-11-01T04:23:22.570305Z"
    }
   },
   "outputs": [],
   "source": [
    "df = pd.concat([train_data,test_data], ignore_index=True)\n",
    "df.drop(['s_no'], axis=1, inplace=True)"
   ]
  },
  {
   "cell_type": "code",
   "execution_count": 7,
   "metadata": {
    "ExecuteTime": {
     "end_time": "2019-11-01T04:23:22.727205Z",
     "start_time": "2019-11-01T04:23:22.656250Z"
    }
   },
   "outputs": [
    {
     "data": {
      "text/plain": [
       "(14800, 10)"
      ]
     },
     "execution_count": 7,
     "metadata": {},
     "output_type": "execute_result"
    },
    {
     "data": {
      "text/html": [
       "<div>\n",
       "<style scoped>\n",
       "    .dataframe tbody tr th:only-of-type {\n",
       "        vertical-align: middle;\n",
       "    }\n",
       "\n",
       "    .dataframe tbody tr th {\n",
       "        vertical-align: top;\n",
       "    }\n",
       "\n",
       "    .dataframe thead th {\n",
       "        text-align: right;\n",
       "    }\n",
       "</style>\n",
       "<table border=\"1\" class=\"dataframe\">\n",
       "  <thead>\n",
       "    <tr style=\"text-align: right;\">\n",
       "      <th></th>\n",
       "      <th>area_type</th>\n",
       "      <th>availability</th>\n",
       "      <th>location</th>\n",
       "      <th>size</th>\n",
       "      <th>society</th>\n",
       "      <th>total_sqft</th>\n",
       "      <th>bath</th>\n",
       "      <th>balcony</th>\n",
       "      <th>price</th>\n",
       "      <th>data_category</th>\n",
       "    </tr>\n",
       "  </thead>\n",
       "  <tbody>\n",
       "    <tr>\n",
       "      <th>14795</th>\n",
       "      <td>Super built-up  Area</td>\n",
       "      <td>Ready To Move</td>\n",
       "      <td>Vittasandra</td>\n",
       "      <td>2 BHK</td>\n",
       "      <td>Prlla C</td>\n",
       "      <td>1246</td>\n",
       "      <td>2.0</td>\n",
       "      <td>1.0</td>\n",
       "      <td>NaN</td>\n",
       "      <td>test</td>\n",
       "    </tr>\n",
       "    <tr>\n",
       "      <th>14796</th>\n",
       "      <td>Super built-up  Area</td>\n",
       "      <td>Ready To Move</td>\n",
       "      <td>Gottigere</td>\n",
       "      <td>3 BHK</td>\n",
       "      <td>NaN</td>\n",
       "      <td>1660</td>\n",
       "      <td>3.0</td>\n",
       "      <td>2.0</td>\n",
       "      <td>NaN</td>\n",
       "      <td>test</td>\n",
       "    </tr>\n",
       "    <tr>\n",
       "      <th>14797</th>\n",
       "      <td>Super built-up  Area</td>\n",
       "      <td>Ready To Move</td>\n",
       "      <td>Channasandra</td>\n",
       "      <td>2 BHK</td>\n",
       "      <td>Unm 2El</td>\n",
       "      <td>1216</td>\n",
       "      <td>2.0</td>\n",
       "      <td>2.0</td>\n",
       "      <td>NaN</td>\n",
       "      <td>test</td>\n",
       "    </tr>\n",
       "    <tr>\n",
       "      <th>14798</th>\n",
       "      <td>Built-up  Area</td>\n",
       "      <td>18-Feb</td>\n",
       "      <td>Tumkur Road</td>\n",
       "      <td>2 BHK</td>\n",
       "      <td>Sahtsva</td>\n",
       "      <td>996</td>\n",
       "      <td>2.0</td>\n",
       "      <td>1.0</td>\n",
       "      <td>NaN</td>\n",
       "      <td>test</td>\n",
       "    </tr>\n",
       "    <tr>\n",
       "      <th>14799</th>\n",
       "      <td>Built-up  Area</td>\n",
       "      <td>Ready To Move</td>\n",
       "      <td>7th Phase JP Nagar</td>\n",
       "      <td>2 BHK</td>\n",
       "      <td>MaicaRS</td>\n",
       "      <td>1150</td>\n",
       "      <td>2.0</td>\n",
       "      <td>2.0</td>\n",
       "      <td>NaN</td>\n",
       "      <td>test</td>\n",
       "    </tr>\n",
       "  </tbody>\n",
       "</table>\n",
       "</div>"
      ],
      "text/plain": [
       "                  area_type   availability            location   size  \\\n",
       "14795  Super built-up  Area  Ready To Move         Vittasandra  2 BHK   \n",
       "14796  Super built-up  Area  Ready To Move           Gottigere  3 BHK   \n",
       "14797  Super built-up  Area  Ready To Move        Channasandra  2 BHK   \n",
       "14798        Built-up  Area         18-Feb         Tumkur Road  2 BHK   \n",
       "14799        Built-up  Area  Ready To Move  7th Phase JP Nagar  2 BHK   \n",
       "\n",
       "       society total_sqft  bath  balcony  price data_category  \n",
       "14795  Prlla C       1246   2.0      1.0    NaN          test  \n",
       "14796      NaN       1660   3.0      2.0    NaN          test  \n",
       "14797  Unm 2El       1216   2.0      2.0    NaN          test  \n",
       "14798  Sahtsva        996   2.0      1.0    NaN          test  \n",
       "14799  MaicaRS       1150   2.0      2.0    NaN          test  "
      ]
     },
     "execution_count": 7,
     "metadata": {},
     "output_type": "execute_result"
    }
   ],
   "source": [
    "df.shape\n",
    "df.tail()"
   ]
  },
  {
   "cell_type": "markdown",
   "metadata": {},
   "source": [
    "# EDA"
   ]
  },
  {
   "cell_type": "markdown",
   "metadata": {},
   "source": [
    "## Checking Null Values"
   ]
  },
  {
   "cell_type": "code",
   "execution_count": 8,
   "metadata": {
    "ExecuteTime": {
     "end_time": "2019-11-01T04:23:22.811156Z",
     "start_time": "2019-11-01T04:23:22.730204Z"
    }
   },
   "outputs": [
    {
     "data": {
      "text/plain": [
       "area_type           0\n",
       "availability        0\n",
       "location            1\n",
       "size               18\n",
       "society          6128\n",
       "total_sqft          0\n",
       "bath               80\n",
       "balcony           678\n",
       "price            1480\n",
       "data_category       0\n",
       "dtype: int64"
      ]
     },
     "execution_count": 8,
     "metadata": {},
     "output_type": "execute_result"
    }
   ],
   "source": [
    "df.isnull().sum()"
   ]
  },
  {
   "cell_type": "code",
   "execution_count": 9,
   "metadata": {
    "ExecuteTime": {
     "end_time": "2019-11-01T04:23:23.235893Z",
     "start_time": "2019-11-01T04:23:22.813151Z"
    }
   },
   "outputs": [
    {
     "data": {
      "text/plain": [
       "<Figure size 1152x504 with 0 Axes>"
      ]
     },
     "execution_count": 9,
     "metadata": {},
     "output_type": "execute_result"
    },
    {
     "data": {
      "text/plain": [
       "<matplotlib.axes._subplots.AxesSubplot at 0x2f028c85550>"
      ]
     },
     "execution_count": 9,
     "metadata": {},
     "output_type": "execute_result"
    },
    {
     "data": {
      "image/png": "[encoded data removed]",
      "text/plain": [
       "<Figure size 1152x504 with 1 Axes>"
      ]
     },
     "metadata": {},
     "output_type": "display_data"
    }
   ],
   "source": [
    "plt.figure(figsize=(16,7))\n",
    "sns.boxplot(x=train_data['price'],y=train_data['area_type'])"
   ]
  },
  {
   "cell_type": "markdown",
   "metadata": {},
   "source": [
    "As expected, the median cost for 'Plot Area' house type is the highest among other categories."
   ]
  },
  {
   "cell_type": "code",
   "execution_count": 10,
   "metadata": {
    "ExecuteTime": {
     "end_time": "2019-11-01T04:23:23.246885Z",
     "start_time": "2019-11-01T04:23:23.238892Z"
    }
   },
   "outputs": [
    {
     "data": {
      "text/plain": [
       "area_type         object\n",
       "availability      object\n",
       "location          object\n",
       "size              object\n",
       "society           object\n",
       "total_sqft        object\n",
       "bath             float64\n",
       "balcony          float64\n",
       "price            float64\n",
       "data_category     object\n",
       "dtype: object"
      ]
     },
     "execution_count": 10,
     "metadata": {},
     "output_type": "execute_result"
    }
   ],
   "source": [
    "df.dtypes"
   ]
  },
  {
   "cell_type": "markdown",
   "metadata": {},
   "source": [
    "We can see that the two main columns 'size' and 'total_sqft' are objects instead of numeric. Hence, we cannot go further with EDA till we clean these columns. Let's do the cleaning and data exploration simultaneously. "
   ]
  },
  {
   "cell_type": "markdown",
   "metadata": {},
   "source": [
    "## Checking unique and number of unique values present in each categorical variable"
   ]
  },
  {
   "cell_type": "code",
   "execution_count": 11,
   "metadata": {
    "ExecuteTime": {
     "end_time": "2019-11-01T04:23:23.409785Z",
     "start_time": "2019-11-01T04:23:23.248883Z"
    }
   },
   "outputs": [
    {
     "name": "stdout",
     "output_type": "stream",
     "text": [
      "\n",
      "Number of unique values in area_type category:  4\n",
      "Unique data in area_type category:\n",
      " ['Super built-up  Area' 'Plot  Area' 'Built-up  Area' 'Carpet  Area']\n",
      "\n",
      "Number of unique values in availability category:  82\n",
      "Unique data in availability category:\n",
      " ['19-Dec' 'Ready To Move' '18-May' '18-Feb' '18-Nov' '20-Dec' '17-Oct'\n",
      " '21-Dec' '19-Sep' '20-Sep' '18-Mar' '20-Feb' '18-Apr' '20-Aug' '18-Oct'\n",
      " '19-Mar' '17-Sep' '18-Dec' '17-Aug' '19-Apr' '18-Jun' '22-Dec' '22-Jan'\n",
      " '18-Aug' '19-Jan' '17-Jul' '18-Jul' '21-Jun' '20-May' '19-Aug' '18-Sep'\n",
      " '17-May' '17-Jun' '21-May' '18-Jan' '20-Mar' '17-Dec' '16-Mar' '19-Jun'\n",
      " '22-Jun' '19-Jul' '21-Feb' 'Immediate Possession' '19-May' '17-Nov'\n",
      " '20-Oct' '20-Jun' '19-Feb' '21-Oct' '21-Jan' '17-Mar' '17-Apr' '22-May'\n",
      " '19-Oct' '21-Jul' '21-Nov' '21-Mar' '16-Dec' '22-Mar' '20-Jan' '21-Sep'\n",
      " '21-Aug' '14-Nov' '19-Nov' '15-Nov' '16-Jul' '15-Jun' '17-Feb' '20-Nov'\n",
      " '20-Jul' '16-Sep' '15-Oct' '15-Dec' '16-Oct' '22-Nov' '15-Aug' '17-Jan'\n",
      " '16-Nov' '20-Apr' '16-Jan' '14-Jul' '16-Apr']\n",
      "\n",
      "Number of unique values in location category:  1358\n",
      "Unique data in location category:\n",
      " ['Electronic City Phase II' 'Chikka Tirupathi' 'Uttarahalli' ...\n",
      " 'Raj Mahal Vilas Extension' '15th Block Hbr Layout'\n",
      " 'Vishweswaraiah Layout 4th Block']\n",
      "\n",
      "Number of unique values in size category:  32\n",
      "Unique data in size category:\n",
      " ['2 BHK' '4 Bedroom' '3 BHK' '4 BHK' '6 Bedroom' '3 Bedroom' '1 BHK'\n",
      " '1 RK' '1 Bedroom' '8 Bedroom' '2 Bedroom' '7 Bedroom' '5 BHK' '7 BHK'\n",
      " '6 BHK' '5 Bedroom' '11 BHK' '9 BHK' nan '9 Bedroom' '27 BHK'\n",
      " '10 Bedroom' '11 Bedroom' '10 BHK' '19 BHK' '16 BHK' '43 Bedroom'\n",
      " '14 BHK' '8 BHK' '12 Bedroom' '13 BHK' '18 Bedroom' '16 Bedroom']\n",
      "\n",
      "Number of unique values in society category:  2832\n",
      "Unique data in society category:\n",
      " ['Coomee ' 'Theanmp' nan ... 'Udayaur' 'Brent C' 'MaicaRS']\n",
      "\n",
      "Number of unique values in total_sqft category:  2221\n",
      "Unique data in total_sqft category:\n",
      " ['1056' '2600' '1440' ... '3383' '5149' '6750']\n",
      "\n",
      "Number of unique values in data_category category:  2\n",
      "Unique data in data_category category:\n",
      " ['train' 'test']\n"
     ]
    }
   ],
   "source": [
    "for i in df.columns:\n",
    "    if df[i].dtype == 'O':\n",
    "        print('\\nNumber of unique values in {} category: '.format(i), df[i].nunique())\n",
    "        print('Unique data in {} category:\\n'.format(i), df[i].unique())"
   ]
  },
  {
   "cell_type": "markdown",
   "metadata": {},
   "source": [
    "# Data Cleaning and Feature Engineering"
   ]
  },
  {
   "cell_type": "markdown",
   "metadata": {},
   "source": [
    "## Size - Number of Bedrooms"
   ]
  },
  {
   "cell_type": "code",
   "execution_count": 12,
   "metadata": {
    "ExecuteTime": {
     "end_time": "2019-11-01T04:23:23.459755Z",
     "start_time": "2019-11-01T04:23:23.412785Z"
    },
    "scrolled": false
   },
   "outputs": [
    {
     "data": {
      "text/plain": [
       "2 BHK        5739\n",
       "3 BHK        4788\n",
       "4 Bedroom     918\n",
       "4 BHK         673\n",
       "3 Bedroom     613\n",
       "Name: size, dtype: int64"
      ]
     },
     "execution_count": 12,
     "metadata": {},
     "output_type": "execute_result"
    }
   ],
   "source": [
    "df['size'].value_counts().head()"
   ]
  },
  {
   "cell_type": "markdown",
   "metadata": {},
   "source": [
    "Since, number of bedrooms should be a continuos variable, we'll only extract the numeric value from this series of string values."
   ]
  },
  {
   "cell_type": "code",
   "execution_count": 13,
   "metadata": {
    "ExecuteTime": {
     "end_time": "2019-11-01T04:23:23.569691Z",
     "start_time": "2019-11-01T04:23:23.462751Z"
    }
   },
   "outputs": [],
   "source": [
    "df['size'] = df['size'].apply(lambda x: x.split(' ')[0] if isinstance(x,str) else np.nan)\n",
    "df['size'] = df['size'].astype(float)"
   ]
  },
  {
   "cell_type": "code",
   "execution_count": 14,
   "metadata": {
    "ExecuteTime": {
     "end_time": "2019-11-01T04:23:23.652639Z",
     "start_time": "2019-11-01T04:23:23.573684Z"
    }
   },
   "outputs": [
    {
     "data": {
      "text/plain": [
       "18"
      ]
     },
     "execution_count": 14,
     "metadata": {},
     "output_type": "execute_result"
    }
   ],
   "source": [
    "df['size'].isnull().sum()"
   ]
  },
  {
   "cell_type": "markdown",
   "metadata": {},
   "source": [
    "## Location"
   ]
  },
  {
   "cell_type": "code",
   "execution_count": 15,
   "metadata": {
    "ExecuteTime": {
     "end_time": "2019-11-01T04:23:23.745578Z",
     "start_time": "2019-11-01T04:23:23.656633Z"
    }
   },
   "outputs": [
    {
     "data": {
      "text/plain": [
       "Whitefield                               591\n",
       "Sarjapur  Road                           437\n",
       "Electronic City                          337\n",
       "Kanakpura Road                           298\n",
       "Thanisandra                              277\n",
       "                                        ... \n",
       "Madanayakahalli                            1\n",
       "Indranagar  100ft road defence colony      1\n",
       "Rajagopala Nagar                           1\n",
       "Old Town                                   1\n",
       "RMC YARD                                   1\n",
       "Name: location, Length: 1358, dtype: int64"
      ]
     },
     "execution_count": 15,
     "metadata": {},
     "output_type": "execute_result"
    }
   ],
   "source": [
    "df['location'].value_counts()"
   ]
  },
  {
   "cell_type": "markdown",
   "metadata": {},
   "source": [
    "We can see that, there are 1358 unique locations in this dataset. Looking closely at the dataset, most of these locations are repeated but with a slight change in name. Further, these locations may belong to the same area. Hence to clean this column, we are going group areas belonging to same pincodes together. To find the common pincodes for each of these locations we'll build a Web Scraper."
   ]
  },
  {
   "cell_type": "markdown",
   "metadata": {},
   "source": [
    "### Searching Location Pincode through Selenium Webdriver"
   ]
  },
  {
   "cell_type": "code",
   "execution_count": 16,
   "metadata": {
    "ExecuteTime": {
     "end_time": "2019-11-01T04:23:23.825528Z",
     "start_time": "2019-11-01T04:23:23.747577Z"
    }
   },
   "outputs": [],
   "source": [
    "uniq_locn=pd.DataFrame(df['location'].unique(), columns=['location'])"
   ]
  },
  {
   "cell_type": "code",
   "execution_count": 17,
   "metadata": {
    "ExecuteTime": {
     "end_time": "2019-11-01T04:23:23.909480Z",
     "start_time": "2019-11-01T04:23:23.827527Z"
    }
   },
   "outputs": [],
   "source": [
    "uniq_locn['browser_link'] = uniq_locn['location'].apply(lambda x: str(x) + \" Bangalore site:codepin.in\")"
   ]
  },
  {
   "cell_type": "code",
   "execution_count": null,
   "metadata": {
    "ExecuteTime": {
     "end_time": "2019-10-31T17:37:28.244206Z",
     "start_time": "2019-10-31T17:37:28.234213Z"
    },
    "deletable": false,
    "editable": false,
    "run_control": {
     "frozen": true
    }
   },
   "outputs": [],
   "source": [
    "import os\n",
    "from selenium import webdriver\n",
    "from selenium.webdriver.common.keys import Keys\n",
    "from selenium.webdriver.common.by import By\n",
    "from selenium.common.exceptions import NoSuchElementException, WebDriverException\n",
    "import requests\n",
    "\n",
    "# get the path of ChromeDriverServer\n",
    "dir = os.path.dirname(r\"C:\\Users\\Devesh Singh\\Python Scripts\\Machine Hack\\chromedriver.exe\")\n",
    "chrome_driver_path = dir + \"\\chromedriver.exe\"\n",
    "\n",
    "uniq_test = uniq_locn.copy(deep=True)\n",
    "\n",
    "final_list=pd.DataFrame({'Place':[],\n",
    "                         'Pin Code':[],\n",
    "                         'Taluk':[],\n",
    "                         'Division':[],\n",
    "                         'District':[],\n",
    "                         'State':[],\n",
    "                        'Uniq':[]})\n",
    "\n",
    "count=0\n",
    "m=0\n",
    "# create a new Chrome session\n",
    "driver = webdriver.Chrome(chrome_driver_path)\n",
    "driver.implicitly_wait(5)\n",
    "driver.maximize_window()\n",
    "\n",
    "for i in range(len(uniq_test)):\n",
    "    \n",
    "    # Navigate to the application home page\n",
    "    driver.get(\"http://www.bing.com/\")\n",
    "    \n",
    "    # get the search textbox\n",
    "    #search_field = driver.find_element_by_name(\"q\")    #worked, for Google.com only\n",
    "    search_field = driver.find_element_by_id(\"sb_form_q\")    #worked, for Bing Search\n",
    "    \n",
    "    # enter search keyword and submit\n",
    "    search_field.send_keys(uniq_test.iloc[i,0])\n",
    "    search_field.submit()\n",
    "    \n",
    "    try:\n",
    "        #clicking the first link\n",
    "        #driver.find_element(By.XPATH, '(//h3)[1]/a').click()    #worked, for Google.com only\n",
    "        driver.find_element_by_partial_link_text(\"PIN CODE\").click()   #worked, for Bing Search\n",
    "\n",
    "        #waiting for link to open fully\n",
    "        driver.implicitly_wait(5)\n",
    "\n",
    "        #copying the url of the browser\n",
    "        url = driver.current_url\n",
    "\n",
    "        html = requests.get(url).content\n",
    "        df_list = pd.read_html(html)\n",
    "\n",
    "\n",
    "        df = df_list[-1]\n",
    "        df2=pd.DataFrame(df.iloc[1,:])\n",
    "        df3=pd.DataFrame.transpose(df2).reset_index(drop=True)\n",
    "        value=pd.DataFrame({'Place':[df3.iloc[0,0]],\n",
    "                            'Pin Code':[df3.iloc[0,1]],\n",
    "                            'Taluk':[df3.iloc[0,2]],\n",
    "                            'Division':[df3.iloc[0,3]],\n",
    "                            'District':[df3.iloc[0,4]],\n",
    "                            'State':[df3.iloc[0,5]],\n",
    "                            'Uniq':[uniq_test.iloc[i,0]]})\n",
    "\n",
    "        final_list=final_list.append(value, ignore_index=True)\n",
    "        m+=1\n",
    "        print(m,\"  \",uniq_test.iloc[i,0])\n",
    "    \n",
    "    except (NoSuchElementException, WebDriverException) as e:\n",
    "        count += 1\n",
    "        pass\n",
    "    driver.delete_all_cookies()\n",
    "    \n",
    "driver.close()"
   ]
  },
  {
   "cell_type": "markdown",
   "metadata": {},
   "source": [
    "### Pincode File"
   ]
  },
  {
   "cell_type": "markdown",
   "metadata": {},
   "source": [
    "Reading the dataframe of scraped pincodes."
   ]
  },
  {
   "cell_type": "code",
   "execution_count": 18,
   "metadata": {
    "ExecuteTime": {
     "end_time": "2019-11-01T04:23:24.112360Z",
     "start_time": "2019-11-01T04:23:23.912476Z"
    }
   },
   "outputs": [],
   "source": [
    "# Downloaded list of pincodes\n",
    "location_df = pd.read_excel(r'..\\data\\\\additional_data\\location_pincodes.xlsx')"
   ]
  },
  {
   "cell_type": "code",
   "execution_count": 19,
   "metadata": {
    "ExecuteTime": {
     "end_time": "2019-11-01T04:23:24.131341Z",
     "start_time": "2019-11-01T04:23:24.118350Z"
    }
   },
   "outputs": [],
   "source": [
    "uniq_locn['pincode'] = (uniq_locn['browser_link']\n",
    "                        .map(dict(zip(location_df['browser_link'],location_df['pincode']))))"
   ]
  },
  {
   "cell_type": "code",
   "execution_count": 20,
   "metadata": {
    "ExecuteTime": {
     "end_time": "2019-11-01T04:23:24.208295Z",
     "start_time": "2019-11-01T04:23:24.138340Z"
    },
    "scrolled": true
   },
   "outputs": [
    {
     "data": {
      "text/html": [
       "<div>\n",
       "<style scoped>\n",
       "    .dataframe tbody tr th:only-of-type {\n",
       "        vertical-align: middle;\n",
       "    }\n",
       "\n",
       "    .dataframe tbody tr th {\n",
       "        vertical-align: top;\n",
       "    }\n",
       "\n",
       "    .dataframe thead th {\n",
       "        text-align: right;\n",
       "    }\n",
       "</style>\n",
       "<table border=\"1\" class=\"dataframe\">\n",
       "  <thead>\n",
       "    <tr style=\"text-align: right;\">\n",
       "      <th></th>\n",
       "      <th>location</th>\n",
       "      <th>browser_link</th>\n",
       "      <th>pincode</th>\n",
       "    </tr>\n",
       "  </thead>\n",
       "  <tbody>\n",
       "    <tr>\n",
       "      <th>0</th>\n",
       "      <td>Electronic City Phase II</td>\n",
       "      <td>Electronic City Phase II Bangalore site:codepi...</td>\n",
       "      <td>560100</td>\n",
       "    </tr>\n",
       "    <tr>\n",
       "      <th>1</th>\n",
       "      <td>Chikka Tirupathi</td>\n",
       "      <td>Chikka Tirupathi Bangalore site:codepin.in</td>\n",
       "      <td>561203</td>\n",
       "    </tr>\n",
       "    <tr>\n",
       "      <th>2</th>\n",
       "      <td>Uttarahalli</td>\n",
       "      <td>Uttarahalli Bangalore site:codepin.in</td>\n",
       "      <td>560061</td>\n",
       "    </tr>\n",
       "    <tr>\n",
       "      <th>3</th>\n",
       "      <td>Lingadheeranahalli</td>\n",
       "      <td>Lingadheeranahalli Bangalore site:codepin.in</td>\n",
       "      <td>560091</td>\n",
       "    </tr>\n",
       "    <tr>\n",
       "      <th>4</th>\n",
       "      <td>Kothanur</td>\n",
       "      <td>Kothanur Bangalore site:codepin.in</td>\n",
       "      <td>560077</td>\n",
       "    </tr>\n",
       "  </tbody>\n",
       "</table>\n",
       "</div>"
      ],
      "text/plain": [
       "                   location  \\\n",
       "0  Electronic City Phase II   \n",
       "1          Chikka Tirupathi   \n",
       "2               Uttarahalli   \n",
       "3        Lingadheeranahalli   \n",
       "4                  Kothanur   \n",
       "\n",
       "                                        browser_link  pincode  \n",
       "0  Electronic City Phase II Bangalore site:codepi...   560100  \n",
       "1         Chikka Tirupathi Bangalore site:codepin.in   561203  \n",
       "2              Uttarahalli Bangalore site:codepin.in   560061  \n",
       "3       Lingadheeranahalli Bangalore site:codepin.in   560091  \n",
       "4                 Kothanur Bangalore site:codepin.in   560077  "
      ]
     },
     "execution_count": 20,
     "metadata": {},
     "output_type": "execute_result"
    }
   ],
   "source": [
    "uniq_locn.head()"
   ]
  },
  {
   "cell_type": "markdown",
   "metadata": {},
   "source": [
    "Mapping this list with original dataframe."
   ]
  },
  {
   "cell_type": "code",
   "execution_count": 21,
   "metadata": {
    "ExecuteTime": {
     "end_time": "2019-11-01T04:23:24.288246Z",
     "start_time": "2019-11-01T04:23:24.211291Z"
    }
   },
   "outputs": [],
   "source": [
    "df['location'] = df['location'].map(dict(zip(uniq_locn['location'],uniq_locn['pincode'])))"
   ]
  },
  {
   "cell_type": "code",
   "execution_count": 22,
   "metadata": {
    "ExecuteTime": {
     "end_time": "2019-11-01T04:23:24.399179Z",
     "start_time": "2019-11-01T04:23:24.290243Z"
    }
   },
   "outputs": [
    {
     "data": {
      "text/html": [
       "<div>\n",
       "<style scoped>\n",
       "    .dataframe tbody tr th:only-of-type {\n",
       "        vertical-align: middle;\n",
       "    }\n",
       "\n",
       "    .dataframe tbody tr th {\n",
       "        vertical-align: top;\n",
       "    }\n",
       "\n",
       "    .dataframe thead th {\n",
       "        text-align: right;\n",
       "    }\n",
       "</style>\n",
       "<table border=\"1\" class=\"dataframe\">\n",
       "  <thead>\n",
       "    <tr style=\"text-align: right;\">\n",
       "      <th></th>\n",
       "      <th>area_type</th>\n",
       "      <th>availability</th>\n",
       "      <th>location</th>\n",
       "      <th>size</th>\n",
       "      <th>society</th>\n",
       "      <th>total_sqft</th>\n",
       "      <th>bath</th>\n",
       "      <th>balcony</th>\n",
       "      <th>price</th>\n",
       "      <th>data_category</th>\n",
       "    </tr>\n",
       "  </thead>\n",
       "  <tbody>\n",
       "    <tr>\n",
       "      <th>0</th>\n",
       "      <td>Super built-up  Area</td>\n",
       "      <td>19-Dec</td>\n",
       "      <td>560100</td>\n",
       "      <td>2.0</td>\n",
       "      <td>Coomee</td>\n",
       "      <td>1056</td>\n",
       "      <td>2.0</td>\n",
       "      <td>1.0</td>\n",
       "      <td>39.07</td>\n",
       "      <td>train</td>\n",
       "    </tr>\n",
       "    <tr>\n",
       "      <th>1</th>\n",
       "      <td>Plot  Area</td>\n",
       "      <td>Ready To Move</td>\n",
       "      <td>561203</td>\n",
       "      <td>4.0</td>\n",
       "      <td>Theanmp</td>\n",
       "      <td>2600</td>\n",
       "      <td>5.0</td>\n",
       "      <td>3.0</td>\n",
       "      <td>120.00</td>\n",
       "      <td>train</td>\n",
       "    </tr>\n",
       "    <tr>\n",
       "      <th>2</th>\n",
       "      <td>Built-up  Area</td>\n",
       "      <td>Ready To Move</td>\n",
       "      <td>560061</td>\n",
       "      <td>3.0</td>\n",
       "      <td>NaN</td>\n",
       "      <td>1440</td>\n",
       "      <td>2.0</td>\n",
       "      <td>3.0</td>\n",
       "      <td>62.00</td>\n",
       "      <td>train</td>\n",
       "    </tr>\n",
       "    <tr>\n",
       "      <th>3</th>\n",
       "      <td>Super built-up  Area</td>\n",
       "      <td>Ready To Move</td>\n",
       "      <td>560091</td>\n",
       "      <td>3.0</td>\n",
       "      <td>Soiewre</td>\n",
       "      <td>1521</td>\n",
       "      <td>3.0</td>\n",
       "      <td>1.0</td>\n",
       "      <td>95.00</td>\n",
       "      <td>train</td>\n",
       "    </tr>\n",
       "    <tr>\n",
       "      <th>4</th>\n",
       "      <td>Super built-up  Area</td>\n",
       "      <td>Ready To Move</td>\n",
       "      <td>560077</td>\n",
       "      <td>2.0</td>\n",
       "      <td>NaN</td>\n",
       "      <td>1200</td>\n",
       "      <td>2.0</td>\n",
       "      <td>1.0</td>\n",
       "      <td>51.00</td>\n",
       "      <td>train</td>\n",
       "    </tr>\n",
       "  </tbody>\n",
       "</table>\n",
       "</div>"
      ],
      "text/plain": [
       "              area_type   availability  location  size  society total_sqft  \\\n",
       "0  Super built-up  Area         19-Dec    560100   2.0  Coomee        1056   \n",
       "1            Plot  Area  Ready To Move    561203   4.0  Theanmp       2600   \n",
       "2        Built-up  Area  Ready To Move    560061   3.0      NaN       1440   \n",
       "3  Super built-up  Area  Ready To Move    560091   3.0  Soiewre       1521   \n",
       "4  Super built-up  Area  Ready To Move    560077   2.0      NaN       1200   \n",
       "\n",
       "   bath  balcony   price data_category  \n",
       "0   2.0      1.0   39.07         train  \n",
       "1   5.0      3.0  120.00         train  \n",
       "2   2.0      3.0   62.00         train  \n",
       "3   3.0      1.0   95.00         train  \n",
       "4   2.0      1.0   51.00         train  "
      ]
     },
     "execution_count": 22,
     "metadata": {},
     "output_type": "execute_result"
    }
   ],
   "source": [
    "df.head()"
   ]
  },
  {
   "cell_type": "code",
   "execution_count": 23,
   "metadata": {
    "ExecuteTime": {
     "end_time": "2019-11-01T04:23:24.493122Z",
     "start_time": "2019-11-01T04:23:24.403173Z"
    },
    "scrolled": true
   },
   "outputs": [
    {
     "data": {
      "text/plain": [
       "560100    914\n",
       "560066    896\n",
       "560077    631\n",
       "560078    618\n",
       "562125    484\n",
       "Name: location, dtype: int64"
      ]
     },
     "execution_count": 23,
     "metadata": {},
     "output_type": "execute_result"
    }
   ],
   "source": [
    "df['location'].value_counts().head()"
   ]
  },
  {
   "cell_type": "code",
   "execution_count": 24,
   "metadata": {
    "ExecuteTime": {
     "end_time": "2019-11-01T04:23:24.559077Z",
     "start_time": "2019-11-01T04:23:24.495117Z"
    }
   },
   "outputs": [
    {
     "data": {
      "text/plain": [
       "0"
      ]
     },
     "execution_count": 24,
     "metadata": {},
     "output_type": "execute_result"
    }
   ],
   "source": [
    "df['location'].isnull().sum()"
   ]
  },
  {
   "cell_type": "markdown",
   "metadata": {},
   "source": [
    "By grouping locations through pincodes we have reduced 1358 locations to 128 locations."
   ]
  },
  {
   "cell_type": "markdown",
   "metadata": {},
   "source": [
    "## Total Square Feet"
   ]
  },
  {
   "cell_type": "code",
   "execution_count": 25,
   "metadata": {
    "ExecuteTime": {
     "end_time": "2019-11-01T04:23:24.635033Z",
     "start_time": "2019-11-01T04:23:24.562076Z"
    },
    "scrolled": true
   },
   "outputs": [
    {
     "data": {
      "text/plain": [
       "array(['1056', '2600', '1440', ..., '3383', '5149', '6750'], dtype=object)"
      ]
     },
     "execution_count": 25,
     "metadata": {},
     "output_type": "execute_result"
    }
   ],
   "source": [
    "df['total_sqft'].unique()"
   ]
  },
  {
   "cell_type": "markdown",
   "metadata": {},
   "source": [
    "Since, there are multiple string values in this column, we are going to extract these string values and clean them. Since, this process is going to be of multiple step, we'll take only 'total_sqft' column into another dataframe."
   ]
  },
  {
   "cell_type": "code",
   "execution_count": 26,
   "metadata": {
    "ExecuteTime": {
     "end_time": "2019-11-01T04:23:24.717983Z",
     "start_time": "2019-11-01T04:23:24.638028Z"
    },
    "scrolled": true
   },
   "outputs": [],
   "source": [
    "sqft = df[['total_sqft']]"
   ]
  },
  {
   "cell_type": "code",
   "execution_count": 27,
   "metadata": {
    "ExecuteTime": {
     "end_time": "2019-11-01T04:23:24.805931Z",
     "start_time": "2019-11-01T04:23:24.720979Z"
    }
   },
   "outputs": [
    {
     "data": {
      "text/plain": [
       "total_sqft    object\n",
       "dtype: object"
      ]
     },
     "execution_count": 27,
     "metadata": {},
     "output_type": "execute_result"
    }
   ],
   "source": [
    "sqft.dtypes"
   ]
  },
  {
   "cell_type": "markdown",
   "metadata": {},
   "source": [
    "### Extracting Only Float Val or Only String Val"
   ]
  },
  {
   "cell_type": "markdown",
   "metadata": {},
   "source": [
    "Function to extract only float value, other values will be replaced as NaNs."
   ]
  },
  {
   "cell_type": "code",
   "execution_count": 28,
   "metadata": {
    "ExecuteTime": {
     "end_time": "2019-11-01T04:23:24.873884Z",
     "start_time": "2019-11-01T04:23:24.810923Z"
    }
   },
   "outputs": [],
   "source": [
    "def float_val(x):\n",
    "    try:\n",
    "        x = float(x)\n",
    "    except:\n",
    "        x = np.nan\n",
    "    return x"
   ]
  },
  {
   "cell_type": "markdown",
   "metadata": {},
   "source": [
    "Function to extract only string value, other values will be replaced as NaNs."
   ]
  },
  {
   "cell_type": "code",
   "execution_count": 29,
   "metadata": {
    "ExecuteTime": {
     "end_time": "2019-11-01T04:23:24.970825Z",
     "start_time": "2019-11-01T04:23:24.876885Z"
    }
   },
   "outputs": [],
   "source": [
    "def string_val(x):\n",
    "    try:\n",
    "        x = float(x)\n",
    "        if isinstance(x,float):\n",
    "            x = np.nan\n",
    "    except:\n",
    "        pass    \n",
    "    return x"
   ]
  },
  {
   "cell_type": "code",
   "execution_count": 30,
   "metadata": {
    "ExecuteTime": {
     "end_time": "2019-11-01T04:23:25.108740Z",
     "start_time": "2019-11-01T04:23:24.973824Z"
    }
   },
   "outputs": [
    {
     "data": {
      "text/html": [
       "<div>\n",
       "<style scoped>\n",
       "    .dataframe tbody tr th:only-of-type {\n",
       "        vertical-align: middle;\n",
       "    }\n",
       "\n",
       "    .dataframe tbody tr th {\n",
       "        vertical-align: top;\n",
       "    }\n",
       "\n",
       "    .dataframe thead th {\n",
       "        text-align: right;\n",
       "    }\n",
       "</style>\n",
       "<table border=\"1\" class=\"dataframe\">\n",
       "  <thead>\n",
       "    <tr style=\"text-align: right;\">\n",
       "      <th></th>\n",
       "      <th>total_sqft</th>\n",
       "      <th>float_val</th>\n",
       "      <th>string_val</th>\n",
       "    </tr>\n",
       "  </thead>\n",
       "  <tbody>\n",
       "    <tr>\n",
       "      <th>30</th>\n",
       "      <td>2100 - 2850</td>\n",
       "      <td>NaN</td>\n",
       "      <td>2100 - 2850</td>\n",
       "    </tr>\n",
       "    <tr>\n",
       "      <th>56</th>\n",
       "      <td>3010 - 3410</td>\n",
       "      <td>NaN</td>\n",
       "      <td>3010 - 3410</td>\n",
       "    </tr>\n",
       "    <tr>\n",
       "      <th>81</th>\n",
       "      <td>2957 - 3450</td>\n",
       "      <td>NaN</td>\n",
       "      <td>2957 - 3450</td>\n",
       "    </tr>\n",
       "    <tr>\n",
       "      <th>122</th>\n",
       "      <td>3067 - 8156</td>\n",
       "      <td>NaN</td>\n",
       "      <td>3067 - 8156</td>\n",
       "    </tr>\n",
       "    <tr>\n",
       "      <th>137</th>\n",
       "      <td>1042 - 1105</td>\n",
       "      <td>NaN</td>\n",
       "      <td>1042 - 1105</td>\n",
       "    </tr>\n",
       "    <tr>\n",
       "      <th>165</th>\n",
       "      <td>1145 - 1340</td>\n",
       "      <td>NaN</td>\n",
       "      <td>1145 - 1340</td>\n",
       "    </tr>\n",
       "    <tr>\n",
       "      <th>188</th>\n",
       "      <td>1015 - 1540</td>\n",
       "      <td>NaN</td>\n",
       "      <td>1015 - 1540</td>\n",
       "    </tr>\n",
       "    <tr>\n",
       "      <th>224</th>\n",
       "      <td>1520 - 1740</td>\n",
       "      <td>NaN</td>\n",
       "      <td>1520 - 1740</td>\n",
       "    </tr>\n",
       "    <tr>\n",
       "      <th>410</th>\n",
       "      <td>34.46Sq. Meter</td>\n",
       "      <td>NaN</td>\n",
       "      <td>34.46Sq. Meter</td>\n",
       "    </tr>\n",
       "    <tr>\n",
       "      <th>549</th>\n",
       "      <td>1195 - 1440</td>\n",
       "      <td>NaN</td>\n",
       "      <td>1195 - 1440</td>\n",
       "    </tr>\n",
       "  </tbody>\n",
       "</table>\n",
       "</div>"
      ],
      "text/plain": [
       "         total_sqft  float_val      string_val\n",
       "30      2100 - 2850        NaN     2100 - 2850\n",
       "56      3010 - 3410        NaN     3010 - 3410\n",
       "81      2957 - 3450        NaN     2957 - 3450\n",
       "122     3067 - 8156        NaN     3067 - 8156\n",
       "137     1042 - 1105        NaN     1042 - 1105\n",
       "165     1145 - 1340        NaN     1145 - 1340\n",
       "188     1015 - 1540        NaN     1015 - 1540\n",
       "224     1520 - 1740        NaN     1520 - 1740\n",
       "410  34.46Sq. Meter        NaN  34.46Sq. Meter\n",
       "549     1195 - 1440        NaN     1195 - 1440"
      ]
     },
     "execution_count": 30,
     "metadata": {},
     "output_type": "execute_result"
    }
   ],
   "source": [
    "sqft['float_val'] = sqft['total_sqft'].apply(float_val)\n",
    "\n",
    "sqft['string_val'] = sqft['total_sqft'].apply(string_val)\n",
    "\n",
    "sqft[sqft['string_val'].notnull()].head(10)"
   ]
  },
  {
   "cell_type": "markdown",
   "metadata": {},
   "source": [
    "### Processing String Vals"
   ]
  },
  {
   "cell_type": "markdown",
   "metadata": {},
   "source": [
    "The errorneous string values present in the 'total_sqft' column are of two types:\n",
    "- Range, e.g. 2100 - 2850, to clean this types of error, we are going to take the average of these ranges\n",
    "- Values in other unit, e.g. 34.46Sq. Meter, to clean this, we are going to extract the float and string values, convert this values in square feet."
   ]
  },
  {
   "cell_type": "code",
   "execution_count": 31,
   "metadata": {
    "ExecuteTime": {
     "end_time": "2019-11-01T04:23:25.143720Z",
     "start_time": "2019-11-01T04:23:25.111737Z"
    }
   },
   "outputs": [],
   "source": [
    "sqft_string = sqft[['total_sqft','string_val']][sqft['string_val'].notnull()]"
   ]
  },
  {
   "cell_type": "code",
   "execution_count": 32,
   "metadata": {
    "ExecuteTime": {
     "end_time": "2019-11-01T04:23:25.218672Z",
     "start_time": "2019-11-01T04:23:25.147715Z"
    }
   },
   "outputs": [],
   "source": [
    "sqft_string['v_1'] = sqft_string['string_val'].apply(lambda x: x.split(\"-\")[0])\n",
    "sqft_string['v_2'] = sqft_string['string_val'].apply(lambda x: x.split(\"-\")[-1])"
   ]
  },
  {
   "cell_type": "code",
   "execution_count": 33,
   "metadata": {
    "ExecuteTime": {
     "end_time": "2019-11-01T04:23:25.298623Z",
     "start_time": "2019-11-01T04:23:25.220671Z"
    },
    "scrolled": true
   },
   "outputs": [],
   "source": [
    "def average_val(v_1, v_2):\n",
    "    try:\n",
    "        v_1 = float(v_1)\n",
    "        v_2 = float(v_2)\n",
    "        avg = (v_1 + v_2)/2\n",
    "    except:\n",
    "        avg = v_1\n",
    "    return avg"
   ]
  },
  {
   "cell_type": "code",
   "execution_count": 34,
   "metadata": {
    "ExecuteTime": {
     "end_time": "2019-11-01T04:23:25.420549Z",
     "start_time": "2019-11-01T04:23:25.301621Z"
    }
   },
   "outputs": [
    {
     "data": {
      "text/html": [
       "<div>\n",
       "<style scoped>\n",
       "    .dataframe tbody tr th:only-of-type {\n",
       "        vertical-align: middle;\n",
       "    }\n",
       "\n",
       "    .dataframe tbody tr th {\n",
       "        vertical-align: top;\n",
       "    }\n",
       "\n",
       "    .dataframe thead th {\n",
       "        text-align: right;\n",
       "    }\n",
       "</style>\n",
       "<table border=\"1\" class=\"dataframe\">\n",
       "  <thead>\n",
       "    <tr style=\"text-align: right;\">\n",
       "      <th></th>\n",
       "      <th>total_sqft</th>\n",
       "      <th>string_val</th>\n",
       "      <th>v_1</th>\n",
       "      <th>v_2</th>\n",
       "      <th>avg_val</th>\n",
       "    </tr>\n",
       "  </thead>\n",
       "  <tbody>\n",
       "    <tr>\n",
       "      <th>30</th>\n",
       "      <td>2100 - 2850</td>\n",
       "      <td>2100 - 2850</td>\n",
       "      <td>2100</td>\n",
       "      <td>2850</td>\n",
       "      <td>2475</td>\n",
       "    </tr>\n",
       "    <tr>\n",
       "      <th>56</th>\n",
       "      <td>3010 - 3410</td>\n",
       "      <td>3010 - 3410</td>\n",
       "      <td>3010</td>\n",
       "      <td>3410</td>\n",
       "      <td>3210</td>\n",
       "    </tr>\n",
       "    <tr>\n",
       "      <th>81</th>\n",
       "      <td>2957 - 3450</td>\n",
       "      <td>2957 - 3450</td>\n",
       "      <td>2957</td>\n",
       "      <td>3450</td>\n",
       "      <td>3203.5</td>\n",
       "    </tr>\n",
       "    <tr>\n",
       "      <th>122</th>\n",
       "      <td>3067 - 8156</td>\n",
       "      <td>3067 - 8156</td>\n",
       "      <td>3067</td>\n",
       "      <td>8156</td>\n",
       "      <td>5611.5</td>\n",
       "    </tr>\n",
       "    <tr>\n",
       "      <th>137</th>\n",
       "      <td>1042 - 1105</td>\n",
       "      <td>1042 - 1105</td>\n",
       "      <td>1042</td>\n",
       "      <td>1105</td>\n",
       "      <td>1073.5</td>\n",
       "    </tr>\n",
       "  </tbody>\n",
       "</table>\n",
       "</div>"
      ],
      "text/plain": [
       "      total_sqft   string_val    v_1    v_2 avg_val\n",
       "30   2100 - 2850  2100 - 2850  2100    2850    2475\n",
       "56   3010 - 3410  3010 - 3410  3010    3410    3210\n",
       "81   2957 - 3450  2957 - 3450  2957    3450  3203.5\n",
       "122  3067 - 8156  3067 - 8156  3067    8156  5611.5\n",
       "137  1042 - 1105  1042 - 1105  1042    1105  1073.5"
      ]
     },
     "execution_count": 34,
     "metadata": {},
     "output_type": "execute_result"
    }
   ],
   "source": [
    "sqft_string['avg_val'] = sqft_string.apply(lambda x: average_val(x.v_1,x.v_2),axis=1 )\n",
    "sqft_string.head()"
   ]
  },
  {
   "cell_type": "code",
   "execution_count": 35,
   "metadata": {
    "ExecuteTime": {
     "end_time": "2019-11-01T04:23:25.512492Z",
     "start_time": "2019-11-01T04:23:25.423547Z"
    }
   },
   "outputs": [
    {
     "data": {
      "text/html": [
       "<div>\n",
       "<style scoped>\n",
       "    .dataframe tbody tr th:only-of-type {\n",
       "        vertical-align: middle;\n",
       "    }\n",
       "\n",
       "    .dataframe tbody tr th {\n",
       "        vertical-align: top;\n",
       "    }\n",
       "\n",
       "    .dataframe thead th {\n",
       "        text-align: right;\n",
       "    }\n",
       "</style>\n",
       "<table border=\"1\" class=\"dataframe\">\n",
       "  <thead>\n",
       "    <tr style=\"text-align: right;\">\n",
       "      <th></th>\n",
       "      <th>total_sqft</th>\n",
       "      <th>string_val</th>\n",
       "      <th>v_1</th>\n",
       "      <th>v_2</th>\n",
       "      <th>avg_val</th>\n",
       "      <th>conversion</th>\n",
       "    </tr>\n",
       "  </thead>\n",
       "  <tbody>\n",
       "    <tr>\n",
       "      <th>30</th>\n",
       "      <td>2100 - 2850</td>\n",
       "      <td>2100 - 2850</td>\n",
       "      <td>2100</td>\n",
       "      <td>2850</td>\n",
       "      <td>2475</td>\n",
       "      <td>NaN</td>\n",
       "    </tr>\n",
       "    <tr>\n",
       "      <th>56</th>\n",
       "      <td>3010 - 3410</td>\n",
       "      <td>3010 - 3410</td>\n",
       "      <td>3010</td>\n",
       "      <td>3410</td>\n",
       "      <td>3210</td>\n",
       "      <td>NaN</td>\n",
       "    </tr>\n",
       "    <tr>\n",
       "      <th>81</th>\n",
       "      <td>2957 - 3450</td>\n",
       "      <td>2957 - 3450</td>\n",
       "      <td>2957</td>\n",
       "      <td>3450</td>\n",
       "      <td>3203.5</td>\n",
       "      <td>NaN</td>\n",
       "    </tr>\n",
       "    <tr>\n",
       "      <th>122</th>\n",
       "      <td>3067 - 8156</td>\n",
       "      <td>3067 - 8156</td>\n",
       "      <td>3067</td>\n",
       "      <td>8156</td>\n",
       "      <td>5611.5</td>\n",
       "      <td>NaN</td>\n",
       "    </tr>\n",
       "    <tr>\n",
       "      <th>137</th>\n",
       "      <td>1042 - 1105</td>\n",
       "      <td>1042 - 1105</td>\n",
       "      <td>1042</td>\n",
       "      <td>1105</td>\n",
       "      <td>1073.5</td>\n",
       "      <td>NaN</td>\n",
       "    </tr>\n",
       "    <tr>\n",
       "      <th>165</th>\n",
       "      <td>1145 - 1340</td>\n",
       "      <td>1145 - 1340</td>\n",
       "      <td>1145</td>\n",
       "      <td>1340</td>\n",
       "      <td>1242.5</td>\n",
       "      <td>NaN</td>\n",
       "    </tr>\n",
       "    <tr>\n",
       "      <th>188</th>\n",
       "      <td>1015 - 1540</td>\n",
       "      <td>1015 - 1540</td>\n",
       "      <td>1015</td>\n",
       "      <td>1540</td>\n",
       "      <td>1277.5</td>\n",
       "      <td>NaN</td>\n",
       "    </tr>\n",
       "    <tr>\n",
       "      <th>224</th>\n",
       "      <td>1520 - 1740</td>\n",
       "      <td>1520 - 1740</td>\n",
       "      <td>1520</td>\n",
       "      <td>1740</td>\n",
       "      <td>1630</td>\n",
       "      <td>NaN</td>\n",
       "    </tr>\n",
       "    <tr>\n",
       "      <th>410</th>\n",
       "      <td>34.46Sq. Meter</td>\n",
       "      <td>34.46Sq. Meter</td>\n",
       "      <td>34.46Sq. Meter</td>\n",
       "      <td>34.46Sq. Meter</td>\n",
       "      <td>34.46Sq. Meter</td>\n",
       "      <td>34.46Sq. Meter</td>\n",
       "    </tr>\n",
       "    <tr>\n",
       "      <th>549</th>\n",
       "      <td>1195 - 1440</td>\n",
       "      <td>1195 - 1440</td>\n",
       "      <td>1195</td>\n",
       "      <td>1440</td>\n",
       "      <td>1317.5</td>\n",
       "      <td>NaN</td>\n",
       "    </tr>\n",
       "  </tbody>\n",
       "</table>\n",
       "</div>"
      ],
      "text/plain": [
       "         total_sqft      string_val             v_1             v_2  \\\n",
       "30      2100 - 2850     2100 - 2850           2100             2850   \n",
       "56      3010 - 3410     3010 - 3410           3010             3410   \n",
       "81      2957 - 3450     2957 - 3450           2957             3450   \n",
       "122     3067 - 8156     3067 - 8156           3067             8156   \n",
       "137     1042 - 1105     1042 - 1105           1042             1105   \n",
       "165     1145 - 1340     1145 - 1340           1145             1340   \n",
       "188     1015 - 1540     1015 - 1540           1015             1540   \n",
       "224     1520 - 1740     1520 - 1740           1520             1740   \n",
       "410  34.46Sq. Meter  34.46Sq. Meter  34.46Sq. Meter  34.46Sq. Meter   \n",
       "549     1195 - 1440     1195 - 1440           1195             1440   \n",
       "\n",
       "            avg_val      conversion  \n",
       "30             2475             NaN  \n",
       "56             3210             NaN  \n",
       "81           3203.5             NaN  \n",
       "122          5611.5             NaN  \n",
       "137          1073.5             NaN  \n",
       "165          1242.5             NaN  \n",
       "188          1277.5             NaN  \n",
       "224            1630             NaN  \n",
       "410  34.46Sq. Meter  34.46Sq. Meter  \n",
       "549          1317.5             NaN  "
      ]
     },
     "execution_count": 35,
     "metadata": {},
     "output_type": "execute_result"
    }
   ],
   "source": [
    "sqft_string['conversion'] = sqft_string['avg_val'].apply(string_val)\n",
    "\n",
    "sqft_string.head(10)"
   ]
  },
  {
   "cell_type": "markdown",
   "metadata": {},
   "source": [
    "### Extracting Conversion Units with 'Re'"
   ]
  },
  {
   "cell_type": "code",
   "execution_count": 36,
   "metadata": {
    "ExecuteTime": {
     "end_time": "2019-11-01T04:23:25.587178Z",
     "start_time": "2019-11-01T04:23:25.514491Z"
    }
   },
   "outputs": [],
   "source": [
    "import re\n",
    "sqft_string['con_val'] = sqft_string['conversion'].apply(lambda x: \"\".join(re.findall(r\"[a-zA-Z_]\", str(x))))\n",
    "\n",
    "sqft_string['num_val'] = sqft_string['conversion'].apply(lambda x: \".\".join(re.findall(\"\\d+\", str(x))))"
   ]
  },
  {
   "cell_type": "code",
   "execution_count": 37,
   "metadata": {
    "ExecuteTime": {
     "end_time": "2019-11-01T04:23:25.700112Z",
     "start_time": "2019-11-01T04:23:25.590177Z"
    }
   },
   "outputs": [
    {
     "data": {
      "text/html": [
       "<div>\n",
       "<style scoped>\n",
       "    .dataframe tbody tr th:only-of-type {\n",
       "        vertical-align: middle;\n",
       "    }\n",
       "\n",
       "    .dataframe tbody tr th {\n",
       "        vertical-align: top;\n",
       "    }\n",
       "\n",
       "    .dataframe thead th {\n",
       "        text-align: right;\n",
       "    }\n",
       "</style>\n",
       "<table border=\"1\" class=\"dataframe\">\n",
       "  <thead>\n",
       "    <tr style=\"text-align: right;\">\n",
       "      <th></th>\n",
       "      <th>total_sqft</th>\n",
       "      <th>string_val</th>\n",
       "      <th>v_1</th>\n",
       "      <th>v_2</th>\n",
       "      <th>avg_val</th>\n",
       "      <th>conversion</th>\n",
       "      <th>con_val</th>\n",
       "      <th>num_val</th>\n",
       "    </tr>\n",
       "  </thead>\n",
       "  <tbody>\n",
       "    <tr>\n",
       "      <th>30</th>\n",
       "      <td>2100 - 2850</td>\n",
       "      <td>2100 - 2850</td>\n",
       "      <td>2100</td>\n",
       "      <td>2850</td>\n",
       "      <td>2475</td>\n",
       "      <td>NaN</td>\n",
       "      <td>nan</td>\n",
       "      <td></td>\n",
       "    </tr>\n",
       "    <tr>\n",
       "      <th>56</th>\n",
       "      <td>3010 - 3410</td>\n",
       "      <td>3010 - 3410</td>\n",
       "      <td>3010</td>\n",
       "      <td>3410</td>\n",
       "      <td>3210</td>\n",
       "      <td>NaN</td>\n",
       "      <td>nan</td>\n",
       "      <td></td>\n",
       "    </tr>\n",
       "    <tr>\n",
       "      <th>81</th>\n",
       "      <td>2957 - 3450</td>\n",
       "      <td>2957 - 3450</td>\n",
       "      <td>2957</td>\n",
       "      <td>3450</td>\n",
       "      <td>3203.5</td>\n",
       "      <td>NaN</td>\n",
       "      <td>nan</td>\n",
       "      <td></td>\n",
       "    </tr>\n",
       "    <tr>\n",
       "      <th>122</th>\n",
       "      <td>3067 - 8156</td>\n",
       "      <td>3067 - 8156</td>\n",
       "      <td>3067</td>\n",
       "      <td>8156</td>\n",
       "      <td>5611.5</td>\n",
       "      <td>NaN</td>\n",
       "      <td>nan</td>\n",
       "      <td></td>\n",
       "    </tr>\n",
       "    <tr>\n",
       "      <th>137</th>\n",
       "      <td>1042 - 1105</td>\n",
       "      <td>1042 - 1105</td>\n",
       "      <td>1042</td>\n",
       "      <td>1105</td>\n",
       "      <td>1073.5</td>\n",
       "      <td>NaN</td>\n",
       "      <td>nan</td>\n",
       "      <td></td>\n",
       "    </tr>\n",
       "    <tr>\n",
       "      <th>165</th>\n",
       "      <td>1145 - 1340</td>\n",
       "      <td>1145 - 1340</td>\n",
       "      <td>1145</td>\n",
       "      <td>1340</td>\n",
       "      <td>1242.5</td>\n",
       "      <td>NaN</td>\n",
       "      <td>nan</td>\n",
       "      <td></td>\n",
       "    </tr>\n",
       "    <tr>\n",
       "      <th>188</th>\n",
       "      <td>1015 - 1540</td>\n",
       "      <td>1015 - 1540</td>\n",
       "      <td>1015</td>\n",
       "      <td>1540</td>\n",
       "      <td>1277.5</td>\n",
       "      <td>NaN</td>\n",
       "      <td>nan</td>\n",
       "      <td></td>\n",
       "    </tr>\n",
       "    <tr>\n",
       "      <th>224</th>\n",
       "      <td>1520 - 1740</td>\n",
       "      <td>1520 - 1740</td>\n",
       "      <td>1520</td>\n",
       "      <td>1740</td>\n",
       "      <td>1630</td>\n",
       "      <td>NaN</td>\n",
       "      <td>nan</td>\n",
       "      <td></td>\n",
       "    </tr>\n",
       "    <tr>\n",
       "      <th>410</th>\n",
       "      <td>34.46Sq. Meter</td>\n",
       "      <td>34.46Sq. Meter</td>\n",
       "      <td>34.46Sq. Meter</td>\n",
       "      <td>34.46Sq. Meter</td>\n",
       "      <td>34.46Sq. Meter</td>\n",
       "      <td>34.46Sq. Meter</td>\n",
       "      <td>SqMeter</td>\n",
       "      <td>34.46</td>\n",
       "    </tr>\n",
       "    <tr>\n",
       "      <th>549</th>\n",
       "      <td>1195 - 1440</td>\n",
       "      <td>1195 - 1440</td>\n",
       "      <td>1195</td>\n",
       "      <td>1440</td>\n",
       "      <td>1317.5</td>\n",
       "      <td>NaN</td>\n",
       "      <td>nan</td>\n",
       "      <td></td>\n",
       "    </tr>\n",
       "    <tr>\n",
       "      <th>579</th>\n",
       "      <td>1200 - 2400</td>\n",
       "      <td>1200 - 2400</td>\n",
       "      <td>1200</td>\n",
       "      <td>2400</td>\n",
       "      <td>1800</td>\n",
       "      <td>NaN</td>\n",
       "      <td>nan</td>\n",
       "      <td></td>\n",
       "    </tr>\n",
       "    <tr>\n",
       "      <th>648</th>\n",
       "      <td>4125Perch</td>\n",
       "      <td>4125Perch</td>\n",
       "      <td>4125Perch</td>\n",
       "      <td>4125Perch</td>\n",
       "      <td>4125Perch</td>\n",
       "      <td>4125Perch</td>\n",
       "      <td>Perch</td>\n",
       "      <td>4125</td>\n",
       "    </tr>\n",
       "    <tr>\n",
       "      <th>661</th>\n",
       "      <td>1120 - 1145</td>\n",
       "      <td>1120 - 1145</td>\n",
       "      <td>1120</td>\n",
       "      <td>1145</td>\n",
       "      <td>1132.5</td>\n",
       "      <td>NaN</td>\n",
       "      <td>nan</td>\n",
       "      <td></td>\n",
       "    </tr>\n",
       "  </tbody>\n",
       "</table>\n",
       "</div>"
      ],
      "text/plain": [
       "         total_sqft      string_val             v_1             v_2  \\\n",
       "30      2100 - 2850     2100 - 2850           2100             2850   \n",
       "56      3010 - 3410     3010 - 3410           3010             3410   \n",
       "81      2957 - 3450     2957 - 3450           2957             3450   \n",
       "122     3067 - 8156     3067 - 8156           3067             8156   \n",
       "137     1042 - 1105     1042 - 1105           1042             1105   \n",
       "165     1145 - 1340     1145 - 1340           1145             1340   \n",
       "188     1015 - 1540     1015 - 1540           1015             1540   \n",
       "224     1520 - 1740     1520 - 1740           1520             1740   \n",
       "410  34.46Sq. Meter  34.46Sq. Meter  34.46Sq. Meter  34.46Sq. Meter   \n",
       "549     1195 - 1440     1195 - 1440           1195             1440   \n",
       "579     1200 - 2400     1200 - 2400           1200             2400   \n",
       "648       4125Perch       4125Perch       4125Perch       4125Perch   \n",
       "661     1120 - 1145     1120 - 1145           1120             1145   \n",
       "\n",
       "            avg_val      conversion  con_val num_val  \n",
       "30             2475             NaN      nan          \n",
       "56             3210             NaN      nan          \n",
       "81           3203.5             NaN      nan          \n",
       "122          5611.5             NaN      nan          \n",
       "137          1073.5             NaN      nan          \n",
       "165          1242.5             NaN      nan          \n",
       "188          1277.5             NaN      nan          \n",
       "224            1630             NaN      nan          \n",
       "410  34.46Sq. Meter  34.46Sq. Meter  SqMeter   34.46  \n",
       "549          1317.5             NaN      nan          \n",
       "579            1800             NaN      nan          \n",
       "648       4125Perch       4125Perch    Perch    4125  \n",
       "661          1132.5             NaN      nan          "
      ]
     },
     "execution_count": 37,
     "metadata": {},
     "output_type": "execute_result"
    }
   ],
   "source": [
    "sqft_string.head(13)"
   ]
  },
  {
   "cell_type": "code",
   "execution_count": 38,
   "metadata": {
    "ExecuteTime": {
     "end_time": "2019-11-01T04:23:25.783060Z",
     "start_time": "2019-11-01T04:23:25.704108Z"
    }
   },
   "outputs": [],
   "source": [
    "sqft_string['num_val'] = sqft_string['num_val'].replace('', np.nan).fillna(0).astype(float)"
   ]
  },
  {
   "cell_type": "code",
   "execution_count": 39,
   "metadata": {
    "ExecuteTime": {
     "end_time": "2019-11-01T04:23:25.859014Z",
     "start_time": "2019-11-01T04:23:25.786061Z"
    }
   },
   "outputs": [],
   "source": [
    "sqft_string['num_val'] = np.where(sqft_string['num_val'] == 0,\n",
    "                                  sqft_string['avg_val'],\n",
    "                                  sqft_string['num_val'])"
   ]
  },
  {
   "cell_type": "code",
   "execution_count": 40,
   "metadata": {
    "ExecuteTime": {
     "end_time": "2019-11-01T04:23:25.956952Z",
     "start_time": "2019-11-01T04:23:25.862011Z"
    },
    "scrolled": false
   },
   "outputs": [
    {
     "data": {
      "text/html": [
       "<div>\n",
       "<style scoped>\n",
       "    .dataframe tbody tr th:only-of-type {\n",
       "        vertical-align: middle;\n",
       "    }\n",
       "\n",
       "    .dataframe tbody tr th {\n",
       "        vertical-align: top;\n",
       "    }\n",
       "\n",
       "    .dataframe thead th {\n",
       "        text-align: right;\n",
       "    }\n",
       "</style>\n",
       "<table border=\"1\" class=\"dataframe\">\n",
       "  <thead>\n",
       "    <tr style=\"text-align: right;\">\n",
       "      <th></th>\n",
       "      <th>total_sqft</th>\n",
       "      <th>string_val</th>\n",
       "      <th>v_1</th>\n",
       "      <th>v_2</th>\n",
       "      <th>avg_val</th>\n",
       "      <th>conversion</th>\n",
       "      <th>con_val</th>\n",
       "      <th>num_val</th>\n",
       "    </tr>\n",
       "  </thead>\n",
       "  <tbody>\n",
       "    <tr>\n",
       "      <th>30</th>\n",
       "      <td>2100 - 2850</td>\n",
       "      <td>2100 - 2850</td>\n",
       "      <td>2100</td>\n",
       "      <td>2850</td>\n",
       "      <td>2475</td>\n",
       "      <td>NaN</td>\n",
       "      <td>nan</td>\n",
       "      <td>2475</td>\n",
       "    </tr>\n",
       "    <tr>\n",
       "      <th>56</th>\n",
       "      <td>3010 - 3410</td>\n",
       "      <td>3010 - 3410</td>\n",
       "      <td>3010</td>\n",
       "      <td>3410</td>\n",
       "      <td>3210</td>\n",
       "      <td>NaN</td>\n",
       "      <td>nan</td>\n",
       "      <td>3210</td>\n",
       "    </tr>\n",
       "    <tr>\n",
       "      <th>81</th>\n",
       "      <td>2957 - 3450</td>\n",
       "      <td>2957 - 3450</td>\n",
       "      <td>2957</td>\n",
       "      <td>3450</td>\n",
       "      <td>3203.5</td>\n",
       "      <td>NaN</td>\n",
       "      <td>nan</td>\n",
       "      <td>3203.5</td>\n",
       "    </tr>\n",
       "    <tr>\n",
       "      <th>122</th>\n",
       "      <td>3067 - 8156</td>\n",
       "      <td>3067 - 8156</td>\n",
       "      <td>3067</td>\n",
       "      <td>8156</td>\n",
       "      <td>5611.5</td>\n",
       "      <td>NaN</td>\n",
       "      <td>nan</td>\n",
       "      <td>5611.5</td>\n",
       "    </tr>\n",
       "    <tr>\n",
       "      <th>137</th>\n",
       "      <td>1042 - 1105</td>\n",
       "      <td>1042 - 1105</td>\n",
       "      <td>1042</td>\n",
       "      <td>1105</td>\n",
       "      <td>1073.5</td>\n",
       "      <td>NaN</td>\n",
       "      <td>nan</td>\n",
       "      <td>1073.5</td>\n",
       "    </tr>\n",
       "    <tr>\n",
       "      <th>165</th>\n",
       "      <td>1145 - 1340</td>\n",
       "      <td>1145 - 1340</td>\n",
       "      <td>1145</td>\n",
       "      <td>1340</td>\n",
       "      <td>1242.5</td>\n",
       "      <td>NaN</td>\n",
       "      <td>nan</td>\n",
       "      <td>1242.5</td>\n",
       "    </tr>\n",
       "    <tr>\n",
       "      <th>188</th>\n",
       "      <td>1015 - 1540</td>\n",
       "      <td>1015 - 1540</td>\n",
       "      <td>1015</td>\n",
       "      <td>1540</td>\n",
       "      <td>1277.5</td>\n",
       "      <td>NaN</td>\n",
       "      <td>nan</td>\n",
       "      <td>1277.5</td>\n",
       "    </tr>\n",
       "    <tr>\n",
       "      <th>224</th>\n",
       "      <td>1520 - 1740</td>\n",
       "      <td>1520 - 1740</td>\n",
       "      <td>1520</td>\n",
       "      <td>1740</td>\n",
       "      <td>1630</td>\n",
       "      <td>NaN</td>\n",
       "      <td>nan</td>\n",
       "      <td>1630</td>\n",
       "    </tr>\n",
       "    <tr>\n",
       "      <th>410</th>\n",
       "      <td>34.46Sq. Meter</td>\n",
       "      <td>34.46Sq. Meter</td>\n",
       "      <td>34.46Sq. Meter</td>\n",
       "      <td>34.46Sq. Meter</td>\n",
       "      <td>34.46Sq. Meter</td>\n",
       "      <td>34.46Sq. Meter</td>\n",
       "      <td>SqMeter</td>\n",
       "      <td>34.46</td>\n",
       "    </tr>\n",
       "    <tr>\n",
       "      <th>549</th>\n",
       "      <td>1195 - 1440</td>\n",
       "      <td>1195 - 1440</td>\n",
       "      <td>1195</td>\n",
       "      <td>1440</td>\n",
       "      <td>1317.5</td>\n",
       "      <td>NaN</td>\n",
       "      <td>nan</td>\n",
       "      <td>1317.5</td>\n",
       "    </tr>\n",
       "    <tr>\n",
       "      <th>579</th>\n",
       "      <td>1200 - 2400</td>\n",
       "      <td>1200 - 2400</td>\n",
       "      <td>1200</td>\n",
       "      <td>2400</td>\n",
       "      <td>1800</td>\n",
       "      <td>NaN</td>\n",
       "      <td>nan</td>\n",
       "      <td>1800</td>\n",
       "    </tr>\n",
       "    <tr>\n",
       "      <th>648</th>\n",
       "      <td>4125Perch</td>\n",
       "      <td>4125Perch</td>\n",
       "      <td>4125Perch</td>\n",
       "      <td>4125Perch</td>\n",
       "      <td>4125Perch</td>\n",
       "      <td>4125Perch</td>\n",
       "      <td>Perch</td>\n",
       "      <td>4125</td>\n",
       "    </tr>\n",
       "    <tr>\n",
       "      <th>661</th>\n",
       "      <td>1120 - 1145</td>\n",
       "      <td>1120 - 1145</td>\n",
       "      <td>1120</td>\n",
       "      <td>1145</td>\n",
       "      <td>1132.5</td>\n",
       "      <td>NaN</td>\n",
       "      <td>nan</td>\n",
       "      <td>1132.5</td>\n",
       "    </tr>\n",
       "    <tr>\n",
       "      <th>669</th>\n",
       "      <td>4400 - 6640</td>\n",
       "      <td>4400 - 6640</td>\n",
       "      <td>4400</td>\n",
       "      <td>6640</td>\n",
       "      <td>5520</td>\n",
       "      <td>NaN</td>\n",
       "      <td>nan</td>\n",
       "      <td>5520</td>\n",
       "    </tr>\n",
       "  </tbody>\n",
       "</table>\n",
       "</div>"
      ],
      "text/plain": [
       "         total_sqft      string_val             v_1             v_2  \\\n",
       "30      2100 - 2850     2100 - 2850           2100             2850   \n",
       "56      3010 - 3410     3010 - 3410           3010             3410   \n",
       "81      2957 - 3450     2957 - 3450           2957             3450   \n",
       "122     3067 - 8156     3067 - 8156           3067             8156   \n",
       "137     1042 - 1105     1042 - 1105           1042             1105   \n",
       "165     1145 - 1340     1145 - 1340           1145             1340   \n",
       "188     1015 - 1540     1015 - 1540           1015             1540   \n",
       "224     1520 - 1740     1520 - 1740           1520             1740   \n",
       "410  34.46Sq. Meter  34.46Sq. Meter  34.46Sq. Meter  34.46Sq. Meter   \n",
       "549     1195 - 1440     1195 - 1440           1195             1440   \n",
       "579     1200 - 2400     1200 - 2400           1200             2400   \n",
       "648       4125Perch       4125Perch       4125Perch       4125Perch   \n",
       "661     1120 - 1145     1120 - 1145           1120             1145   \n",
       "669     4400 - 6640     4400 - 6640           4400             6640   \n",
       "\n",
       "            avg_val      conversion  con_val num_val  \n",
       "30             2475             NaN      nan    2475  \n",
       "56             3210             NaN      nan    3210  \n",
       "81           3203.5             NaN      nan  3203.5  \n",
       "122          5611.5             NaN      nan  5611.5  \n",
       "137          1073.5             NaN      nan  1073.5  \n",
       "165          1242.5             NaN      nan  1242.5  \n",
       "188          1277.5             NaN      nan  1277.5  \n",
       "224            1630             NaN      nan    1630  \n",
       "410  34.46Sq. Meter  34.46Sq. Meter  SqMeter   34.46  \n",
       "549          1317.5             NaN      nan  1317.5  \n",
       "579            1800             NaN      nan    1800  \n",
       "648       4125Perch       4125Perch    Perch    4125  \n",
       "661          1132.5             NaN      nan  1132.5  \n",
       "669            5520             NaN      nan    5520  "
      ]
     },
     "execution_count": 40,
     "metadata": {},
     "output_type": "execute_result"
    }
   ],
   "source": [
    "sqft_string.head(14)"
   ]
  },
  {
   "cell_type": "markdown",
   "metadata": {},
   "source": [
    "### Loading Conversion Factor"
   ]
  },
  {
   "cell_type": "code",
   "execution_count": 41,
   "metadata": {
    "ExecuteTime": {
     "end_time": "2019-11-01T04:23:26.034908Z",
     "start_time": "2019-11-01T04:23:25.959952Z"
    }
   },
   "outputs": [],
   "source": [
    "# The list of conversion factor\n",
    "conversion_factor = pd.read_csv(r\"..\\data\\additional_data\\conversion_factor.csv\")"
   ]
  },
  {
   "cell_type": "code",
   "execution_count": 42,
   "metadata": {
    "ExecuteTime": {
     "end_time": "2019-11-01T04:23:26.114858Z",
     "start_time": "2019-11-01T04:23:26.037901Z"
    }
   },
   "outputs": [
    {
     "data": {
      "text/html": [
       "<div>\n",
       "<style scoped>\n",
       "    .dataframe tbody tr th:only-of-type {\n",
       "        vertical-align: middle;\n",
       "    }\n",
       "\n",
       "    .dataframe tbody tr th {\n",
       "        vertical-align: top;\n",
       "    }\n",
       "\n",
       "    .dataframe thead th {\n",
       "        text-align: right;\n",
       "    }\n",
       "</style>\n",
       "<table border=\"1\" class=\"dataframe\">\n",
       "  <thead>\n",
       "    <tr style=\"text-align: right;\">\n",
       "      <th></th>\n",
       "      <th>unit</th>\n",
       "      <th>conversion_factor</th>\n",
       "    </tr>\n",
       "  </thead>\n",
       "  <tbody>\n",
       "    <tr>\n",
       "      <th>0</th>\n",
       "      <td>Acres</td>\n",
       "      <td>43560.0000</td>\n",
       "    </tr>\n",
       "    <tr>\n",
       "      <th>1</th>\n",
       "      <td>SqMeter</td>\n",
       "      <td>10.7639</td>\n",
       "    </tr>\n",
       "    <tr>\n",
       "      <th>2</th>\n",
       "      <td>SqYards</td>\n",
       "      <td>9.0000</td>\n",
       "    </tr>\n",
       "    <tr>\n",
       "      <th>3</th>\n",
       "      <td>Cents</td>\n",
       "      <td>435.6000</td>\n",
       "    </tr>\n",
       "    <tr>\n",
       "      <th>4</th>\n",
       "      <td>Grounds</td>\n",
       "      <td>2400.0000</td>\n",
       "    </tr>\n",
       "    <tr>\n",
       "      <th>5</th>\n",
       "      <td>Guntha</td>\n",
       "      <td>1089.0000</td>\n",
       "    </tr>\n",
       "    <tr>\n",
       "      <th>6</th>\n",
       "      <td>Perch</td>\n",
       "      <td>272.2500</td>\n",
       "    </tr>\n",
       "  </tbody>\n",
       "</table>\n",
       "</div>"
      ],
      "text/plain": [
       "      unit  conversion_factor\n",
       "0    Acres         43560.0000\n",
       "1  SqMeter            10.7639\n",
       "2  SqYards             9.0000\n",
       "3    Cents           435.6000\n",
       "4  Grounds          2400.0000\n",
       "5   Guntha          1089.0000\n",
       "6    Perch           272.2500"
      ]
     },
     "execution_count": 42,
     "metadata": {},
     "output_type": "execute_result"
    }
   ],
   "source": [
    "conversion_factor"
   ]
  },
  {
   "cell_type": "markdown",
   "metadata": {},
   "source": [
    "Mapping the conversion factor and filling remaining values with 1."
   ]
  },
  {
   "cell_type": "code",
   "execution_count": 43,
   "metadata": {
    "ExecuteTime": {
     "end_time": "2019-11-01T04:23:26.234784Z",
     "start_time": "2019-11-01T04:23:26.116854Z"
    }
   },
   "outputs": [],
   "source": [
    "sqft_string['conversion_factor'] = (sqft_string['con_val']\n",
    "                                           .map(dict(zip(conversion_factor['unit']\n",
    "                                                         ,conversion_factor['conversion_factor']))).fillna(1))"
   ]
  },
  {
   "cell_type": "code",
   "execution_count": 44,
   "metadata": {
    "ExecuteTime": {
     "end_time": "2019-11-01T04:23:26.353708Z",
     "start_time": "2019-11-01T04:23:26.237780Z"
    },
    "scrolled": true
   },
   "outputs": [
    {
     "data": {
      "text/html": [
       "<div>\n",
       "<style scoped>\n",
       "    .dataframe tbody tr th:only-of-type {\n",
       "        vertical-align: middle;\n",
       "    }\n",
       "\n",
       "    .dataframe tbody tr th {\n",
       "        vertical-align: top;\n",
       "    }\n",
       "\n",
       "    .dataframe thead th {\n",
       "        text-align: right;\n",
       "    }\n",
       "</style>\n",
       "<table border=\"1\" class=\"dataframe\">\n",
       "  <thead>\n",
       "    <tr style=\"text-align: right;\">\n",
       "      <th></th>\n",
       "      <th>total_sqft</th>\n",
       "      <th>string_val</th>\n",
       "      <th>v_1</th>\n",
       "      <th>v_2</th>\n",
       "      <th>avg_val</th>\n",
       "      <th>conversion</th>\n",
       "      <th>con_val</th>\n",
       "      <th>num_val</th>\n",
       "      <th>conversion_factor</th>\n",
       "      <th>after_conversion</th>\n",
       "    </tr>\n",
       "  </thead>\n",
       "  <tbody>\n",
       "    <tr>\n",
       "      <th>30</th>\n",
       "      <td>2100 - 2850</td>\n",
       "      <td>2100 - 2850</td>\n",
       "      <td>2100</td>\n",
       "      <td>2850</td>\n",
       "      <td>2475</td>\n",
       "      <td>NaN</td>\n",
       "      <td>nan</td>\n",
       "      <td>2475</td>\n",
       "      <td>1.0000</td>\n",
       "      <td>2475.00</td>\n",
       "    </tr>\n",
       "    <tr>\n",
       "      <th>56</th>\n",
       "      <td>3010 - 3410</td>\n",
       "      <td>3010 - 3410</td>\n",
       "      <td>3010</td>\n",
       "      <td>3410</td>\n",
       "      <td>3210</td>\n",
       "      <td>NaN</td>\n",
       "      <td>nan</td>\n",
       "      <td>3210</td>\n",
       "      <td>1.0000</td>\n",
       "      <td>3210.00</td>\n",
       "    </tr>\n",
       "    <tr>\n",
       "      <th>81</th>\n",
       "      <td>2957 - 3450</td>\n",
       "      <td>2957 - 3450</td>\n",
       "      <td>2957</td>\n",
       "      <td>3450</td>\n",
       "      <td>3203.5</td>\n",
       "      <td>NaN</td>\n",
       "      <td>nan</td>\n",
       "      <td>3203.5</td>\n",
       "      <td>1.0000</td>\n",
       "      <td>3203.50</td>\n",
       "    </tr>\n",
       "    <tr>\n",
       "      <th>122</th>\n",
       "      <td>3067 - 8156</td>\n",
       "      <td>3067 - 8156</td>\n",
       "      <td>3067</td>\n",
       "      <td>8156</td>\n",
       "      <td>5611.5</td>\n",
       "      <td>NaN</td>\n",
       "      <td>nan</td>\n",
       "      <td>5611.5</td>\n",
       "      <td>1.0000</td>\n",
       "      <td>5611.50</td>\n",
       "    </tr>\n",
       "    <tr>\n",
       "      <th>137</th>\n",
       "      <td>1042 - 1105</td>\n",
       "      <td>1042 - 1105</td>\n",
       "      <td>1042</td>\n",
       "      <td>1105</td>\n",
       "      <td>1073.5</td>\n",
       "      <td>NaN</td>\n",
       "      <td>nan</td>\n",
       "      <td>1073.5</td>\n",
       "      <td>1.0000</td>\n",
       "      <td>1073.50</td>\n",
       "    </tr>\n",
       "    <tr>\n",
       "      <th>165</th>\n",
       "      <td>1145 - 1340</td>\n",
       "      <td>1145 - 1340</td>\n",
       "      <td>1145</td>\n",
       "      <td>1340</td>\n",
       "      <td>1242.5</td>\n",
       "      <td>NaN</td>\n",
       "      <td>nan</td>\n",
       "      <td>1242.5</td>\n",
       "      <td>1.0000</td>\n",
       "      <td>1242.50</td>\n",
       "    </tr>\n",
       "    <tr>\n",
       "      <th>188</th>\n",
       "      <td>1015 - 1540</td>\n",
       "      <td>1015 - 1540</td>\n",
       "      <td>1015</td>\n",
       "      <td>1540</td>\n",
       "      <td>1277.5</td>\n",
       "      <td>NaN</td>\n",
       "      <td>nan</td>\n",
       "      <td>1277.5</td>\n",
       "      <td>1.0000</td>\n",
       "      <td>1277.50</td>\n",
       "    </tr>\n",
       "    <tr>\n",
       "      <th>224</th>\n",
       "      <td>1520 - 1740</td>\n",
       "      <td>1520 - 1740</td>\n",
       "      <td>1520</td>\n",
       "      <td>1740</td>\n",
       "      <td>1630</td>\n",
       "      <td>NaN</td>\n",
       "      <td>nan</td>\n",
       "      <td>1630</td>\n",
       "      <td>1.0000</td>\n",
       "      <td>1630.00</td>\n",
       "    </tr>\n",
       "    <tr>\n",
       "      <th>410</th>\n",
       "      <td>34.46Sq. Meter</td>\n",
       "      <td>34.46Sq. Meter</td>\n",
       "      <td>34.46Sq. Meter</td>\n",
       "      <td>34.46Sq. Meter</td>\n",
       "      <td>34.46Sq. Meter</td>\n",
       "      <td>34.46Sq. Meter</td>\n",
       "      <td>SqMeter</td>\n",
       "      <td>34.46</td>\n",
       "      <td>10.7639</td>\n",
       "      <td>370.92</td>\n",
       "    </tr>\n",
       "    <tr>\n",
       "      <th>549</th>\n",
       "      <td>1195 - 1440</td>\n",
       "      <td>1195 - 1440</td>\n",
       "      <td>1195</td>\n",
       "      <td>1440</td>\n",
       "      <td>1317.5</td>\n",
       "      <td>NaN</td>\n",
       "      <td>nan</td>\n",
       "      <td>1317.5</td>\n",
       "      <td>1.0000</td>\n",
       "      <td>1317.50</td>\n",
       "    </tr>\n",
       "  </tbody>\n",
       "</table>\n",
       "</div>"
      ],
      "text/plain": [
       "         total_sqft      string_val             v_1             v_2  \\\n",
       "30      2100 - 2850     2100 - 2850           2100             2850   \n",
       "56      3010 - 3410     3010 - 3410           3010             3410   \n",
       "81      2957 - 3450     2957 - 3450           2957             3450   \n",
       "122     3067 - 8156     3067 - 8156           3067             8156   \n",
       "137     1042 - 1105     1042 - 1105           1042             1105   \n",
       "165     1145 - 1340     1145 - 1340           1145             1340   \n",
       "188     1015 - 1540     1015 - 1540           1015             1540   \n",
       "224     1520 - 1740     1520 - 1740           1520             1740   \n",
       "410  34.46Sq. Meter  34.46Sq. Meter  34.46Sq. Meter  34.46Sq. Meter   \n",
       "549     1195 - 1440     1195 - 1440           1195             1440   \n",
       "\n",
       "            avg_val      conversion  con_val num_val  conversion_factor  \\\n",
       "30             2475             NaN      nan    2475             1.0000   \n",
       "56             3210             NaN      nan    3210             1.0000   \n",
       "81           3203.5             NaN      nan  3203.5             1.0000   \n",
       "122          5611.5             NaN      nan  5611.5             1.0000   \n",
       "137          1073.5             NaN      nan  1073.5             1.0000   \n",
       "165          1242.5             NaN      nan  1242.5             1.0000   \n",
       "188          1277.5             NaN      nan  1277.5             1.0000   \n",
       "224            1630             NaN      nan    1630             1.0000   \n",
       "410  34.46Sq. Meter  34.46Sq. Meter  SqMeter   34.46            10.7639   \n",
       "549          1317.5             NaN      nan  1317.5             1.0000   \n",
       "\n",
       "     after_conversion  \n",
       "30            2475.00  \n",
       "56            3210.00  \n",
       "81            3203.50  \n",
       "122           5611.50  \n",
       "137           1073.50  \n",
       "165           1242.50  \n",
       "188           1277.50  \n",
       "224           1630.00  \n",
       "410            370.92  \n",
       "549           1317.50  "
      ]
     },
     "execution_count": 44,
     "metadata": {},
     "output_type": "execute_result"
    }
   ],
   "source": [
    "sqft_string['after_conversion'] = sqft_string['num_val']*sqft_string['conversion_factor']\n",
    "\n",
    "sqft_string['after_conversion'] = sqft_string['after_conversion'].apply(lambda x: round(x, 2))\n",
    "\n",
    "sqft_string.head(10)"
   ]
  },
  {
   "cell_type": "code",
   "execution_count": 45,
   "metadata": {
    "ExecuteTime": {
     "end_time": "2019-11-01T04:23:26.391684Z",
     "start_time": "2019-11-01T04:23:26.355707Z"
    }
   },
   "outputs": [],
   "source": [
    "string_val_dict = dict(zip(sqft_string['total_sqft'],sqft_string['after_conversion']))"
   ]
  },
  {
   "cell_type": "markdown",
   "metadata": {},
   "source": [
    "### Mapping Converted Rates with Original DF"
   ]
  },
  {
   "cell_type": "code",
   "execution_count": 46,
   "metadata": {
    "ExecuteTime": {
     "end_time": "2019-11-01T04:23:26.471637Z",
     "start_time": "2019-11-01T04:23:26.394685Z"
    }
   },
   "outputs": [],
   "source": [
    "df['total_sqft_new'] = df['total_sqft'].map(string_val_dict)"
   ]
  },
  {
   "cell_type": "code",
   "execution_count": 47,
   "metadata": {
    "ExecuteTime": {
     "end_time": "2019-11-01T04:23:27.428047Z",
     "start_time": "2019-11-01T04:23:26.474635Z"
    }
   },
   "outputs": [],
   "source": [
    "df['total_sqft'] = (df.apply(lambda row: row['total_sqft'] \n",
    "                             if np.isnan(row['total_sqft_new']) \n",
    "                             else row['total_sqft_new'],axis=1))"
   ]
  },
  {
   "cell_type": "code",
   "execution_count": 48,
   "metadata": {
    "ExecuteTime": {
     "end_time": "2019-11-01T04:23:27.446039Z",
     "start_time": "2019-11-01T04:23:27.431044Z"
    }
   },
   "outputs": [],
   "source": [
    "df['total_sqft'] = df['total_sqft'].astype(float)\n",
    "\n",
    "df.drop(['total_sqft_new'], axis=1, inplace=True)"
   ]
  },
  {
   "cell_type": "code",
   "execution_count": 49,
   "metadata": {
    "ExecuteTime": {
     "end_time": "2019-11-01T04:23:27.533983Z",
     "start_time": "2019-11-01T04:23:27.449039Z"
    },
    "scrolled": false
   },
   "outputs": [
    {
     "data": {
      "text/plain": [
       "0"
      ]
     },
     "execution_count": 49,
     "metadata": {},
     "output_type": "execute_result"
    }
   ],
   "source": [
    "df['total_sqft'].isnull().sum()"
   ]
  },
  {
   "cell_type": "markdown",
   "metadata": {},
   "source": [
    "## Society"
   ]
  },
  {
   "cell_type": "code",
   "execution_count": 50,
   "metadata": {
    "ExecuteTime": {
     "end_time": "2019-11-01T04:23:27.626925Z",
     "start_time": "2019-11-01T04:23:27.536979Z"
    }
   },
   "outputs": [
    {
     "data": {
      "text/plain": [
       "6128"
      ]
     },
     "execution_count": 50,
     "metadata": {},
     "output_type": "execute_result"
    }
   ],
   "source": [
    "df['society'].isnull().sum()"
   ]
  },
  {
   "cell_type": "code",
   "execution_count": 51,
   "metadata": {
    "ExecuteTime": {
     "end_time": "2019-11-01T04:23:27.725865Z",
     "start_time": "2019-11-01T04:23:27.628923Z"
    },
    "scrolled": true
   },
   "outputs": [
    {
     "data": {
      "text/html": [
       "<div>\n",
       "<style scoped>\n",
       "    .dataframe tbody tr th:only-of-type {\n",
       "        vertical-align: middle;\n",
       "    }\n",
       "\n",
       "    .dataframe tbody tr th {\n",
       "        vertical-align: top;\n",
       "    }\n",
       "\n",
       "    .dataframe thead th {\n",
       "        text-align: right;\n",
       "    }\n",
       "</style>\n",
       "<table border=\"1\" class=\"dataframe\">\n",
       "  <thead>\n",
       "    <tr style=\"text-align: right;\">\n",
       "      <th></th>\n",
       "      <th>area_type</th>\n",
       "      <th>availability</th>\n",
       "      <th>location</th>\n",
       "      <th>size</th>\n",
       "      <th>society</th>\n",
       "      <th>total_sqft</th>\n",
       "      <th>bath</th>\n",
       "      <th>balcony</th>\n",
       "      <th>price</th>\n",
       "      <th>data_category</th>\n",
       "    </tr>\n",
       "  </thead>\n",
       "  <tbody>\n",
       "    <tr>\n",
       "      <th>2</th>\n",
       "      <td>Built-up  Area</td>\n",
       "      <td>Ready To Move</td>\n",
       "      <td>560061</td>\n",
       "      <td>3.0</td>\n",
       "      <td>NaN</td>\n",
       "      <td>1440.0</td>\n",
       "      <td>2.0</td>\n",
       "      <td>3.0</td>\n",
       "      <td>62.00</td>\n",
       "      <td>train</td>\n",
       "    </tr>\n",
       "    <tr>\n",
       "      <th>4</th>\n",
       "      <td>Super built-up  Area</td>\n",
       "      <td>Ready To Move</td>\n",
       "      <td>560077</td>\n",
       "      <td>2.0</td>\n",
       "      <td>NaN</td>\n",
       "      <td>1200.0</td>\n",
       "      <td>2.0</td>\n",
       "      <td>1.0</td>\n",
       "      <td>51.00</td>\n",
       "      <td>train</td>\n",
       "    </tr>\n",
       "    <tr>\n",
       "      <th>8</th>\n",
       "      <td>Super built-up  Area</td>\n",
       "      <td>Ready To Move</td>\n",
       "      <td>560037</td>\n",
       "      <td>3.0</td>\n",
       "      <td>NaN</td>\n",
       "      <td>1310.0</td>\n",
       "      <td>3.0</td>\n",
       "      <td>1.0</td>\n",
       "      <td>63.25</td>\n",
       "      <td>train</td>\n",
       "    </tr>\n",
       "    <tr>\n",
       "      <th>9</th>\n",
       "      <td>Plot  Area</td>\n",
       "      <td>Ready To Move</td>\n",
       "      <td>560004</td>\n",
       "      <td>6.0</td>\n",
       "      <td>NaN</td>\n",
       "      <td>1020.0</td>\n",
       "      <td>6.0</td>\n",
       "      <td>NaN</td>\n",
       "      <td>370.00</td>\n",
       "      <td>train</td>\n",
       "    </tr>\n",
       "    <tr>\n",
       "      <th>10</th>\n",
       "      <td>Super built-up  Area</td>\n",
       "      <td>18-Feb</td>\n",
       "      <td>560066</td>\n",
       "      <td>3.0</td>\n",
       "      <td>NaN</td>\n",
       "      <td>1800.0</td>\n",
       "      <td>2.0</td>\n",
       "      <td>2.0</td>\n",
       "      <td>70.00</td>\n",
       "      <td>train</td>\n",
       "    </tr>\n",
       "  </tbody>\n",
       "</table>\n",
       "</div>"
      ],
      "text/plain": [
       "               area_type   availability  location  size society  total_sqft  \\\n",
       "2         Built-up  Area  Ready To Move    560061   3.0     NaN      1440.0   \n",
       "4   Super built-up  Area  Ready To Move    560077   2.0     NaN      1200.0   \n",
       "8   Super built-up  Area  Ready To Move    560037   3.0     NaN      1310.0   \n",
       "9             Plot  Area  Ready To Move    560004   6.0     NaN      1020.0   \n",
       "10  Super built-up  Area         18-Feb    560066   3.0     NaN      1800.0   \n",
       "\n",
       "    bath  balcony   price data_category  \n",
       "2    2.0      3.0   62.00         train  \n",
       "4    2.0      1.0   51.00         train  \n",
       "8    3.0      1.0   63.25         train  \n",
       "9    6.0      NaN  370.00         train  \n",
       "10   2.0      2.0   70.00         train  "
      ]
     },
     "execution_count": 51,
     "metadata": {},
     "output_type": "execute_result"
    }
   ],
   "source": [
    "df[df['society'].isnull()].head()"
   ]
  },
  {
   "cell_type": "markdown",
   "metadata": {},
   "source": [
    "Here, just making a binary classification whether the House is in a Society or not, filling NaNs with zero and remaining with 1."
   ]
  },
  {
   "cell_type": "code",
   "execution_count": 52,
   "metadata": {
    "ExecuteTime": {
     "end_time": "2019-11-01T04:23:27.815810Z",
     "start_time": "2019-11-01T04:23:27.728862Z"
    }
   },
   "outputs": [
    {
     "data": {
      "text/plain": [
       "1    8672\n",
       "0    6128\n",
       "Name: society, dtype: int64"
      ]
     },
     "execution_count": 52,
     "metadata": {},
     "output_type": "execute_result"
    }
   ],
   "source": [
    "df.loc[(df['society'].isnull()), 'society']= 0\n",
    "\n",
    "df.loc[(df['society']!=0),'society'] = 1\n",
    "\n",
    "df['society'].value_counts()"
   ]
  },
  {
   "cell_type": "markdown",
   "metadata": {},
   "source": [
    "## Availability"
   ]
  },
  {
   "cell_type": "code",
   "execution_count": 53,
   "metadata": {
    "ExecuteTime": {
     "end_time": "2019-11-01T04:23:27.888763Z",
     "start_time": "2019-11-01T04:23:27.818807Z"
    }
   },
   "outputs": [
    {
     "data": {
      "text/plain": [
       "Ready To Move    11743\n",
       "18-Dec             351\n",
       "18-May             324\n",
       "18-Apr             296\n",
       "18-Aug             225\n",
       "Name: availability, dtype: int64"
      ]
     },
     "execution_count": 53,
     "metadata": {},
     "output_type": "execute_result"
    }
   ],
   "source": [
    "df['availability'].value_counts().head()"
   ]
  },
  {
   "cell_type": "markdown",
   "metadata": {},
   "source": [
    "In 'availability' column, we can broadly categorised the data into two ways:\n",
    "- \"Ready To Move\" or \"Immediate Possession\"\n",
    "- A future date\n",
    "\n",
    "Since, the year is not mentioned in these dates, hence we cannot utilise this column further.\n",
    "Therefore, categorising the data points as '1' for \"Ready To Move\" or \"Immediate Possession\" and \n",
    "'0' for the dates."
   ]
  },
  {
   "cell_type": "code",
   "execution_count": 54,
   "metadata": {
    "ExecuteTime": {
     "end_time": "2019-11-01T04:23:27.988704Z",
     "start_time": "2019-11-01T04:23:27.890762Z"
    }
   },
   "outputs": [
    {
     "data": {
      "text/plain": [
       "1    11761\n",
       "0     3039\n",
       "Name: availability, dtype: int64"
      ]
     },
     "execution_count": 54,
     "metadata": {},
     "output_type": "execute_result"
    }
   ],
   "source": [
    "df['availability'].replace([\"Ready To Move\",\"Immediate Possession\"], 1, inplace=True)\n",
    "\n",
    "df.loc[(df['availability']!=1),'availability'] = 0\n",
    "\n",
    "df['availability'].value_counts()"
   ]
  },
  {
   "cell_type": "markdown",
   "metadata": {},
   "source": [
    "# Imputation"
   ]
  },
  {
   "cell_type": "code",
   "execution_count": 55,
   "metadata": {
    "ExecuteTime": {
     "end_time": "2019-11-01T04:23:28.055663Z",
     "start_time": "2019-11-01T04:23:27.991701Z"
    }
   },
   "outputs": [
    {
     "data": {
      "text/plain": [
       "area_type           0\n",
       "availability        0\n",
       "location            0\n",
       "size               18\n",
       "society             0\n",
       "total_sqft          0\n",
       "bath               80\n",
       "balcony           678\n",
       "price            1480\n",
       "data_category       0\n",
       "dtype: int64"
      ]
     },
     "execution_count": 55,
     "metadata": {},
     "output_type": "execute_result"
    }
   ],
   "source": [
    "df.isnull().sum()"
   ]
  },
  {
   "cell_type": "markdown",
   "metadata": {},
   "source": [
    "## Size"
   ]
  },
  {
   "cell_type": "code",
   "execution_count": 56,
   "metadata": {
    "ExecuteTime": {
     "end_time": "2019-11-01T04:23:28.130614Z",
     "start_time": "2019-11-01T04:23:28.058658Z"
    },
    "scrolled": true
   },
   "outputs": [
    {
     "data": {
      "text/html": [
       "<div>\n",
       "<style scoped>\n",
       "    .dataframe tbody tr th:only-of-type {\n",
       "        vertical-align: middle;\n",
       "    }\n",
       "\n",
       "    .dataframe tbody tr th {\n",
       "        vertical-align: top;\n",
       "    }\n",
       "\n",
       "    .dataframe thead th {\n",
       "        text-align: right;\n",
       "    }\n",
       "</style>\n",
       "<table border=\"1\" class=\"dataframe\">\n",
       "  <thead>\n",
       "    <tr style=\"text-align: right;\">\n",
       "      <th></th>\n",
       "      <th>area_type</th>\n",
       "      <th>availability</th>\n",
       "      <th>location</th>\n",
       "      <th>size</th>\n",
       "      <th>society</th>\n",
       "      <th>total_sqft</th>\n",
       "      <th>bath</th>\n",
       "      <th>balcony</th>\n",
       "      <th>price</th>\n",
       "      <th>data_category</th>\n",
       "    </tr>\n",
       "  </thead>\n",
       "  <tbody>\n",
       "    <tr>\n",
       "      <th>579</th>\n",
       "      <td>Plot  Area</td>\n",
       "      <td>1</td>\n",
       "      <td>562125</td>\n",
       "      <td>NaN</td>\n",
       "      <td>1</td>\n",
       "      <td>1800.0</td>\n",
       "      <td>NaN</td>\n",
       "      <td>NaN</td>\n",
       "      <td>34.185</td>\n",
       "      <td>train</td>\n",
       "    </tr>\n",
       "    <tr>\n",
       "      <th>1775</th>\n",
       "      <td>Plot  Area</td>\n",
       "      <td>1</td>\n",
       "      <td>562110</td>\n",
       "      <td>NaN</td>\n",
       "      <td>1</td>\n",
       "      <td>3817.0</td>\n",
       "      <td>NaN</td>\n",
       "      <td>NaN</td>\n",
       "      <td>124.000</td>\n",
       "      <td>train</td>\n",
       "    </tr>\n",
       "    <tr>\n",
       "      <th>2264</th>\n",
       "      <td>Plot  Area</td>\n",
       "      <td>1</td>\n",
       "      <td>560050</td>\n",
       "      <td>NaN</td>\n",
       "      <td>0</td>\n",
       "      <td>2400.0</td>\n",
       "      <td>NaN</td>\n",
       "      <td>NaN</td>\n",
       "      <td>460.000</td>\n",
       "      <td>train</td>\n",
       "    </tr>\n",
       "    <tr>\n",
       "      <th>2809</th>\n",
       "      <td>Plot  Area</td>\n",
       "      <td>1</td>\n",
       "      <td>562125</td>\n",
       "      <td>NaN</td>\n",
       "      <td>1</td>\n",
       "      <td>1800.0</td>\n",
       "      <td>NaN</td>\n",
       "      <td>NaN</td>\n",
       "      <td>28.785</td>\n",
       "      <td>train</td>\n",
       "    </tr>\n",
       "    <tr>\n",
       "      <th>2862</th>\n",
       "      <td>Plot  Area</td>\n",
       "      <td>1</td>\n",
       "      <td>562110</td>\n",
       "      <td>NaN</td>\n",
       "      <td>1</td>\n",
       "      <td>1950.0</td>\n",
       "      <td>NaN</td>\n",
       "      <td>NaN</td>\n",
       "      <td>46.800</td>\n",
       "      <td>train</td>\n",
       "    </tr>\n",
       "  </tbody>\n",
       "</table>\n",
       "</div>"
      ],
      "text/plain": [
       "       area_type  availability  location  size  society  total_sqft  bath  \\\n",
       "579   Plot  Area             1    562125   NaN        1      1800.0   NaN   \n",
       "1775  Plot  Area             1    562110   NaN        1      3817.0   NaN   \n",
       "2264  Plot  Area             1    560050   NaN        0      2400.0   NaN   \n",
       "2809  Plot  Area             1    562125   NaN        1      1800.0   NaN   \n",
       "2862  Plot  Area             1    562110   NaN        1      1950.0   NaN   \n",
       "\n",
       "      balcony    price data_category  \n",
       "579       NaN   34.185         train  \n",
       "1775      NaN  124.000         train  \n",
       "2264      NaN  460.000         train  \n",
       "2809      NaN   28.785         train  \n",
       "2862      NaN   46.800         train  "
      ]
     },
     "execution_count": 56,
     "metadata": {},
     "output_type": "execute_result"
    }
   ],
   "source": [
    "df[df['size'].isna()].head()"
   ]
  },
  {
   "cell_type": "markdown",
   "metadata": {},
   "source": [
    "To impute variable 'size' i.e. number of bedrooms, the variable 'total_sqft' is used. The 'total_sqft' is divided by 550(considering a generic factor per room in a house with hall and kitchen), and the roundup till the next integer."
   ]
  },
  {
   "cell_type": "code",
   "execution_count": 57,
   "metadata": {
    "ExecuteTime": {
     "end_time": "2019-11-01T04:23:28.215563Z",
     "start_time": "2019-11-01T04:23:28.133613Z"
    }
   },
   "outputs": [],
   "source": [
    "df['size'] = df['size'].astype(float)"
   ]
  },
  {
   "cell_type": "code",
   "execution_count": 58,
   "metadata": {
    "ExecuteTime": {
     "end_time": "2019-11-01T04:23:28.986088Z",
     "start_time": "2019-11-01T04:23:28.218563Z"
    },
    "scrolled": true
   },
   "outputs": [],
   "source": [
    "df['size'] = df.apply(lambda row: math.ceil(float(row['total_sqft']/550)) if np.isnan(row['size']) else row['size'], axis=1)"
   ]
  },
  {
   "cell_type": "code",
   "execution_count": 59,
   "metadata": {
    "ExecuteTime": {
     "end_time": "2019-11-01T04:23:29.013077Z",
     "start_time": "2019-11-01T04:23:28.990088Z"
    }
   },
   "outputs": [
    {
     "data": {
      "text/html": [
       "<div>\n",
       "<style scoped>\n",
       "    .dataframe tbody tr th:only-of-type {\n",
       "        vertical-align: middle;\n",
       "    }\n",
       "\n",
       "    .dataframe tbody tr th {\n",
       "        vertical-align: top;\n",
       "    }\n",
       "\n",
       "    .dataframe thead th {\n",
       "        text-align: right;\n",
       "    }\n",
       "</style>\n",
       "<table border=\"1\" class=\"dataframe\">\n",
       "  <thead>\n",
       "    <tr style=\"text-align: right;\">\n",
       "      <th></th>\n",
       "      <th>area_type</th>\n",
       "      <th>availability</th>\n",
       "      <th>location</th>\n",
       "      <th>size</th>\n",
       "      <th>society</th>\n",
       "      <th>total_sqft</th>\n",
       "      <th>bath</th>\n",
       "      <th>balcony</th>\n",
       "      <th>price</th>\n",
       "      <th>data_category</th>\n",
       "    </tr>\n",
       "  </thead>\n",
       "  <tbody>\n",
       "  </tbody>\n",
       "</table>\n",
       "</div>"
      ],
      "text/plain": [
       "Empty DataFrame\n",
       "Columns: [area_type, availability, location, size, society, total_sqft, bath, balcony, price, data_category]\n",
       "Index: []"
      ]
     },
     "execution_count": 59,
     "metadata": {},
     "output_type": "execute_result"
    }
   ],
   "source": [
    "df[df['size'].isna()]"
   ]
  },
  {
   "cell_type": "markdown",
   "metadata": {},
   "source": [
    "## Bath"
   ]
  },
  {
   "cell_type": "code",
   "execution_count": 60,
   "metadata": {
    "ExecuteTime": {
     "end_time": "2019-11-01T04:23:29.107015Z",
     "start_time": "2019-11-01T04:23:29.017069Z"
    },
    "scrolled": true
   },
   "outputs": [
    {
     "data": {
      "text/html": [
       "<div>\n",
       "<style scoped>\n",
       "    .dataframe tbody tr th:only-of-type {\n",
       "        vertical-align: middle;\n",
       "    }\n",
       "\n",
       "    .dataframe tbody tr th {\n",
       "        vertical-align: top;\n",
       "    }\n",
       "\n",
       "    .dataframe thead th {\n",
       "        text-align: right;\n",
       "    }\n",
       "</style>\n",
       "<table border=\"1\" class=\"dataframe\">\n",
       "  <thead>\n",
       "    <tr style=\"text-align: right;\">\n",
       "      <th></th>\n",
       "      <th>area_type</th>\n",
       "      <th>availability</th>\n",
       "      <th>location</th>\n",
       "      <th>size</th>\n",
       "      <th>society</th>\n",
       "      <th>total_sqft</th>\n",
       "      <th>bath</th>\n",
       "      <th>balcony</th>\n",
       "      <th>price</th>\n",
       "      <th>data_category</th>\n",
       "    </tr>\n",
       "  </thead>\n",
       "  <tbody>\n",
       "    <tr>\n",
       "      <th>56</th>\n",
       "      <td>Built-up  Area</td>\n",
       "      <td>0</td>\n",
       "      <td>562110</td>\n",
       "      <td>4.0</td>\n",
       "      <td>1</td>\n",
       "      <td>3210.0</td>\n",
       "      <td>NaN</td>\n",
       "      <td>NaN</td>\n",
       "      <td>192.000</td>\n",
       "      <td>train</td>\n",
       "    </tr>\n",
       "    <tr>\n",
       "      <th>81</th>\n",
       "      <td>Built-up  Area</td>\n",
       "      <td>0</td>\n",
       "      <td>560077</td>\n",
       "      <td>4.0</td>\n",
       "      <td>1</td>\n",
       "      <td>3203.5</td>\n",
       "      <td>NaN</td>\n",
       "      <td>NaN</td>\n",
       "      <td>224.500</td>\n",
       "      <td>train</td>\n",
       "    </tr>\n",
       "    <tr>\n",
       "      <th>224</th>\n",
       "      <td>Super built-up  Area</td>\n",
       "      <td>0</td>\n",
       "      <td>562110</td>\n",
       "      <td>3.0</td>\n",
       "      <td>1</td>\n",
       "      <td>1630.0</td>\n",
       "      <td>NaN</td>\n",
       "      <td>NaN</td>\n",
       "      <td>74.820</td>\n",
       "      <td>train</td>\n",
       "    </tr>\n",
       "    <tr>\n",
       "      <th>344</th>\n",
       "      <td>Super built-up  Area</td>\n",
       "      <td>0</td>\n",
       "      <td>560062</td>\n",
       "      <td>1.0</td>\n",
       "      <td>1</td>\n",
       "      <td>525.0</td>\n",
       "      <td>NaN</td>\n",
       "      <td>NaN</td>\n",
       "      <td>21.530</td>\n",
       "      <td>train</td>\n",
       "    </tr>\n",
       "    <tr>\n",
       "      <th>579</th>\n",
       "      <td>Plot  Area</td>\n",
       "      <td>1</td>\n",
       "      <td>562125</td>\n",
       "      <td>4.0</td>\n",
       "      <td>1</td>\n",
       "      <td>1800.0</td>\n",
       "      <td>NaN</td>\n",
       "      <td>NaN</td>\n",
       "      <td>34.185</td>\n",
       "      <td>train</td>\n",
       "    </tr>\n",
       "  </tbody>\n",
       "</table>\n",
       "</div>"
      ],
      "text/plain": [
       "                area_type  availability  location  size  society  total_sqft  \\\n",
       "56         Built-up  Area             0    562110   4.0        1      3210.0   \n",
       "81         Built-up  Area             0    560077   4.0        1      3203.5   \n",
       "224  Super built-up  Area             0    562110   3.0        1      1630.0   \n",
       "344  Super built-up  Area             0    560062   1.0        1       525.0   \n",
       "579            Plot  Area             1    562125   4.0        1      1800.0   \n",
       "\n",
       "     bath  balcony    price data_category  \n",
       "56    NaN      NaN  192.000         train  \n",
       "81    NaN      NaN  224.500         train  \n",
       "224   NaN      NaN   74.820         train  \n",
       "344   NaN      NaN   21.530         train  \n",
       "579   NaN      NaN   34.185         train  "
      ]
     },
     "execution_count": 60,
     "metadata": {},
     "output_type": "execute_result"
    }
   ],
   "source": [
    "df[df['bath'].isna()].head()"
   ]
  },
  {
   "cell_type": "code",
   "execution_count": 61,
   "metadata": {
    "ExecuteTime": {
     "end_time": "2019-11-01T04:23:29.182966Z",
     "start_time": "2019-11-01T04:23:29.110011Z"
    }
   },
   "outputs": [
    {
     "data": {
      "text/html": [
       "<div>\n",
       "<style scoped>\n",
       "    .dataframe tbody tr th:only-of-type {\n",
       "        vertical-align: middle;\n",
       "    }\n",
       "\n",
       "    .dataframe tbody tr th {\n",
       "        vertical-align: top;\n",
       "    }\n",
       "\n",
       "    .dataframe thead th {\n",
       "        text-align: right;\n",
       "    }\n",
       "</style>\n",
       "<table border=\"1\" class=\"dataframe\">\n",
       "  <thead>\n",
       "    <tr style=\"text-align: right;\">\n",
       "      <th></th>\n",
       "      <th>size</th>\n",
       "      <th>bath</th>\n",
       "    </tr>\n",
       "  </thead>\n",
       "  <tbody>\n",
       "    <tr>\n",
       "      <th>size</th>\n",
       "      <td>1.000000</td>\n",
       "      <td>0.897959</td>\n",
       "    </tr>\n",
       "    <tr>\n",
       "      <th>bath</th>\n",
       "      <td>0.897959</td>\n",
       "      <td>1.000000</td>\n",
       "    </tr>\n",
       "  </tbody>\n",
       "</table>\n",
       "</div>"
      ],
      "text/plain": [
       "          size      bath\n",
       "size  1.000000  0.897959\n",
       "bath  0.897959  1.000000"
      ]
     },
     "execution_count": 61,
     "metadata": {},
     "output_type": "execute_result"
    }
   ],
   "source": [
    "df[['size','bath']].corr()"
   ]
  },
  {
   "cell_type": "markdown",
   "metadata": {},
   "source": [
    "As we can see that number of bedrooms and bathrooms are highly correlated, we will fill the NaNs in variable 'bath' with values of variable 'size'."
   ]
  },
  {
   "cell_type": "code",
   "execution_count": 62,
   "metadata": {
    "ExecuteTime": {
     "end_time": "2019-11-01T04:23:29.968484Z",
     "start_time": "2019-11-01T04:23:29.185964Z"
    }
   },
   "outputs": [],
   "source": [
    "df['bath'] = df.apply(lambda row: row['size'] if np.isnan(row['bath']) else row['bath'], axis=1)"
   ]
  },
  {
   "cell_type": "markdown",
   "metadata": {},
   "source": [
    "## Balcony"
   ]
  },
  {
   "cell_type": "code",
   "execution_count": 63,
   "metadata": {
    "ExecuteTime": {
     "end_time": "2019-11-01T04:23:29.994468Z",
     "start_time": "2019-11-01T04:23:29.971482Z"
    },
    "scrolled": false
   },
   "outputs": [
    {
     "data": {
      "text/html": [
       "<div>\n",
       "<style scoped>\n",
       "    .dataframe tbody tr th:only-of-type {\n",
       "        vertical-align: middle;\n",
       "    }\n",
       "\n",
       "    .dataframe tbody tr th {\n",
       "        vertical-align: top;\n",
       "    }\n",
       "\n",
       "    .dataframe thead tr th {\n",
       "        text-align: left;\n",
       "    }\n",
       "\n",
       "    .dataframe thead tr:last-of-type th {\n",
       "        text-align: right;\n",
       "    }\n",
       "</style>\n",
       "<table border=\"1\" class=\"dataframe\">\n",
       "  <thead>\n",
       "    <tr>\n",
       "      <th></th>\n",
       "      <th colspan=\"3\" halign=\"left\">balcony</th>\n",
       "    </tr>\n",
       "    <tr>\n",
       "      <th></th>\n",
       "      <th>count</th>\n",
       "      <th>mean</th>\n",
       "      <th>median</th>\n",
       "    </tr>\n",
       "    <tr>\n",
       "      <th>size</th>\n",
       "      <th></th>\n",
       "      <th></th>\n",
       "      <th></th>\n",
       "    </tr>\n",
       "  </thead>\n",
       "  <tbody>\n",
       "    <tr>\n",
       "      <th>1.0</th>\n",
       "      <td>720</td>\n",
       "      <td>0.768056</td>\n",
       "      <td>1.0</td>\n",
       "    </tr>\n",
       "    <tr>\n",
       "      <th>2.0</th>\n",
       "      <td>6053</td>\n",
       "      <td>1.429704</td>\n",
       "      <td>1.0</td>\n",
       "    </tr>\n",
       "    <tr>\n",
       "      <th>3.0</th>\n",
       "      <td>5177</td>\n",
       "      <td>1.815723</td>\n",
       "      <td>2.0</td>\n",
       "    </tr>\n",
       "    <tr>\n",
       "      <th>4.0</th>\n",
       "      <td>1393</td>\n",
       "      <td>1.701364</td>\n",
       "      <td>2.0</td>\n",
       "    </tr>\n",
       "    <tr>\n",
       "      <th>5.0</th>\n",
       "      <td>335</td>\n",
       "      <td>1.665672</td>\n",
       "      <td>2.0</td>\n",
       "    </tr>\n",
       "    <tr>\n",
       "      <th>6.0</th>\n",
       "      <td>211</td>\n",
       "      <td>1.800948</td>\n",
       "      <td>2.0</td>\n",
       "    </tr>\n",
       "    <tr>\n",
       "      <th>7.0</th>\n",
       "      <td>97</td>\n",
       "      <td>1.917526</td>\n",
       "      <td>2.0</td>\n",
       "    </tr>\n",
       "    <tr>\n",
       "      <th>8.0</th>\n",
       "      <td>79</td>\n",
       "      <td>1.734177</td>\n",
       "      <td>2.0</td>\n",
       "    </tr>\n",
       "    <tr>\n",
       "      <th>9.0</th>\n",
       "      <td>44</td>\n",
       "      <td>1.909091</td>\n",
       "      <td>2.0</td>\n",
       "    </tr>\n",
       "    <tr>\n",
       "      <th>10.0</th>\n",
       "      <td>5</td>\n",
       "      <td>2.600000</td>\n",
       "      <td>3.0</td>\n",
       "    </tr>\n",
       "    <tr>\n",
       "      <th>11.0</th>\n",
       "      <td>3</td>\n",
       "      <td>2.000000</td>\n",
       "      <td>3.0</td>\n",
       "    </tr>\n",
       "    <tr>\n",
       "      <th>12.0</th>\n",
       "      <td>1</td>\n",
       "      <td>2.000000</td>\n",
       "      <td>2.0</td>\n",
       "    </tr>\n",
       "    <tr>\n",
       "      <th>13.0</th>\n",
       "      <td>1</td>\n",
       "      <td>0.000000</td>\n",
       "      <td>0.0</td>\n",
       "    </tr>\n",
       "    <tr>\n",
       "      <th>14.0</th>\n",
       "      <td>1</td>\n",
       "      <td>0.000000</td>\n",
       "      <td>0.0</td>\n",
       "    </tr>\n",
       "    <tr>\n",
       "      <th>16.0</th>\n",
       "      <td>0</td>\n",
       "      <td>NaN</td>\n",
       "      <td>NaN</td>\n",
       "    </tr>\n",
       "    <tr>\n",
       "      <th>18.0</th>\n",
       "      <td>0</td>\n",
       "      <td>NaN</td>\n",
       "      <td>NaN</td>\n",
       "    </tr>\n",
       "    <tr>\n",
       "      <th>19.0</th>\n",
       "      <td>0</td>\n",
       "      <td>NaN</td>\n",
       "      <td>NaN</td>\n",
       "    </tr>\n",
       "    <tr>\n",
       "      <th>27.0</th>\n",
       "      <td>1</td>\n",
       "      <td>0.000000</td>\n",
       "      <td>0.0</td>\n",
       "    </tr>\n",
       "    <tr>\n",
       "      <th>43.0</th>\n",
       "      <td>1</td>\n",
       "      <td>0.000000</td>\n",
       "      <td>0.0</td>\n",
       "    </tr>\n",
       "  </tbody>\n",
       "</table>\n",
       "</div>"
      ],
      "text/plain": [
       "     balcony                 \n",
       "       count      mean median\n",
       "size                         \n",
       "1.0      720  0.768056    1.0\n",
       "2.0     6053  1.429704    1.0\n",
       "3.0     5177  1.815723    2.0\n",
       "4.0     1393  1.701364    2.0\n",
       "5.0      335  1.665672    2.0\n",
       "6.0      211  1.800948    2.0\n",
       "7.0       97  1.917526    2.0\n",
       "8.0       79  1.734177    2.0\n",
       "9.0       44  1.909091    2.0\n",
       "10.0       5  2.600000    3.0\n",
       "11.0       3  2.000000    3.0\n",
       "12.0       1  2.000000    2.0\n",
       "13.0       1  0.000000    0.0\n",
       "14.0       1  0.000000    0.0\n",
       "16.0       0       NaN    NaN\n",
       "18.0       0       NaN    NaN\n",
       "19.0       0       NaN    NaN\n",
       "27.0       1  0.000000    0.0\n",
       "43.0       1  0.000000    0.0"
      ]
     },
     "execution_count": 63,
     "metadata": {},
     "output_type": "execute_result"
    }
   ],
   "source": [
    "df.groupby(['size']).agg({'balcony':['count','mean','median']})"
   ]
  },
  {
   "cell_type": "markdown",
   "metadata": {},
   "source": [
    "Looking at the mean and median of number of balconies grouped by number of bedrooms. We can infer, in general, that 2 or less than 2 bedrooms house has 1 balcony,  3 to 9 bedrooms house has 2 balconies, more than 9 bedrooms house has 3 or more balconies. We can impute these values with median, and for rooms where median is not available(16 to 19 rooms), filling NaNs with 4."
   ]
  },
  {
   "cell_type": "code",
   "execution_count": 64,
   "metadata": {
    "ExecuteTime": {
     "end_time": "2019-11-01T04:23:30.097403Z",
     "start_time": "2019-11-01T04:23:29.998465Z"
    }
   },
   "outputs": [],
   "source": [
    "balcony = df.groupby(['size']).agg({'balcony':'median'}).reset_index()\n",
    "\n",
    "balcony['balcony'].fillna(4, inplace=True)\n",
    "\n",
    "balcony_dict = dict(zip(balcony['size'], balcony['balcony']))\n",
    "\n",
    "df['new_balcony'] = df[df['balcony'].isna()]['size'].map(balcony_dict)"
   ]
  },
  {
   "cell_type": "code",
   "execution_count": 65,
   "metadata": {
    "ExecuteTime": {
     "end_time": "2019-11-01T04:23:30.941884Z",
     "start_time": "2019-11-01T04:23:30.100403Z"
    }
   },
   "outputs": [],
   "source": [
    "df['balcony'] = (df.apply(lambda row: row['new_balcony'] \n",
    "                          if np.isnan(row['balcony']) \n",
    "                          else row['balcony'], axis=1))"
   ]
  },
  {
   "cell_type": "code",
   "execution_count": 66,
   "metadata": {
    "ExecuteTime": {
     "end_time": "2019-11-01T04:23:30.951877Z",
     "start_time": "2019-11-01T04:23:30.944883Z"
    }
   },
   "outputs": [],
   "source": [
    "df.drop(['new_balcony'], axis=1, inplace=True)"
   ]
  },
  {
   "cell_type": "code",
   "execution_count": 67,
   "metadata": {
    "ExecuteTime": {
     "end_time": "2019-11-01T04:23:31.043825Z",
     "start_time": "2019-11-01T04:23:30.954879Z"
    },
    "scrolled": true
   },
   "outputs": [
    {
     "data": {
      "text/plain": [
       "0"
      ]
     },
     "execution_count": 67,
     "metadata": {},
     "output_type": "execute_result"
    }
   ],
   "source": [
    "df['balcony'].isnull().sum()"
   ]
  },
  {
   "cell_type": "markdown",
   "metadata": {},
   "source": [
    "# Outlier Removal"
   ]
  },
  {
   "cell_type": "markdown",
   "metadata": {},
   "source": [
    "Checking the outliers in the training dataset and removing them from it. Removing outliers from 'total_sqft' first so it doesn't create any skewness in next step deriving any new feature.\n",
    "\n",
    "For this operation, splitting the data based on train and test and joining it back later."
   ]
  },
  {
   "cell_type": "code",
   "execution_count": 68,
   "metadata": {
    "ExecuteTime": {
     "end_time": "2019-11-01T04:23:31.129773Z",
     "start_time": "2019-11-01T04:23:31.046820Z"
    }
   },
   "outputs": [],
   "source": [
    "train_df = df[df['data_category']=='train']\n",
    "test_df = df[df['data_category']=='test']"
   ]
  },
  {
   "cell_type": "code",
   "execution_count": 69,
   "metadata": {
    "ExecuteTime": {
     "end_time": "2019-11-01T04:23:31.538520Z",
     "start_time": "2019-11-01T04:23:31.132765Z"
    }
   },
   "outputs": [
    {
     "data": {
      "text/plain": [
       "<Figure size 2160x720 with 0 Axes>"
      ]
     },
     "execution_count": 69,
     "metadata": {},
     "output_type": "execute_result"
    },
    {
     "data": {
      "text/plain": [
       "<matplotlib.axes._subplots.AxesSubplot at 0x2f02b3013c8>"
      ]
     },
     "execution_count": 69,
     "metadata": {},
     "output_type": "execute_result"
    },
    {
     "data": {
      "image/png": "[encoded data removed]",
      "text/plain": [
       "<Figure size 2160x720 with 1 Axes>"
      ]
     },
     "metadata": {},
     "output_type": "display_data"
    }
   ],
   "source": [
    "plt.figure(figsize=(30,10))\n",
    "sns.boxplot(train_df['total_sqft'])\n",
    "plt.show()"
   ]
  },
  {
   "cell_type": "markdown",
   "metadata": {},
   "source": [
    "We can see that there are some outliers which are exobitant, hence we need to remove them. Setting a lower and upper limit to remove these outliers."
   ]
  },
  {
   "cell_type": "code",
   "execution_count": 70,
   "metadata": {
    "ExecuteTime": {
     "end_time": "2019-11-01T04:23:31.550511Z",
     "start_time": "2019-11-01T04:23:31.541514Z"
    }
   },
   "outputs": [
    {
     "name": "stdout",
     "output_type": "stream",
     "text": [
      "400.0\n",
      "11000.0\n"
     ]
    }
   ],
   "source": [
    "lower_limit = np.nanpercentile(train_df['total_sqft'],0.25)\n",
    "upper_limit = np.nanpercentile(train_df['total_sqft'],99.75)\n",
    "print(lower_limit)\n",
    "print(upper_limit)"
   ]
  },
  {
   "cell_type": "code",
   "execution_count": 71,
   "metadata": {
    "ExecuteTime": {
     "end_time": "2019-11-01T04:23:31.667652Z",
     "start_time": "2019-11-01T04:23:31.553507Z"
    }
   },
   "outputs": [
    {
     "data": {
      "text/plain": [
       "13320"
      ]
     },
     "execution_count": 71,
     "metadata": {},
     "output_type": "execute_result"
    }
   ],
   "source": [
    "len(train_df)"
   ]
  },
  {
   "cell_type": "code",
   "execution_count": 72,
   "metadata": {
    "ExecuteTime": {
     "end_time": "2019-11-01T04:23:31.744604Z",
     "start_time": "2019-11-01T04:23:31.670650Z"
    },
    "scrolled": true
   },
   "outputs": [],
   "source": [
    "train_df = train_df[train_df['total_sqft'].between(lower_limit, upper_limit)]"
   ]
  },
  {
   "cell_type": "code",
   "execution_count": 73,
   "metadata": {
    "ExecuteTime": {
     "end_time": "2019-11-01T04:23:31.809566Z",
     "start_time": "2019-11-01T04:23:31.746604Z"
    }
   },
   "outputs": [
    {
     "data": {
      "text/plain": [
       "13256"
      ]
     },
     "execution_count": 73,
     "metadata": {},
     "output_type": "execute_result"
    }
   ],
   "source": [
    "len(train_df)"
   ]
  },
  {
   "cell_type": "markdown",
   "metadata": {},
   "source": [
    "So, we have removed 64 data points from training dataset."
   ]
  },
  {
   "cell_type": "code",
   "execution_count": 74,
   "metadata": {
    "ExecuteTime": {
     "end_time": "2019-11-01T04:23:31.880520Z",
     "start_time": "2019-11-01T04:23:31.811564Z"
    }
   },
   "outputs": [],
   "source": [
    "df = pd.concat([train_df,test_df])"
   ]
  },
  {
   "cell_type": "markdown",
   "metadata": {},
   "source": [
    "# Deriving New Feature"
   ]
  },
  {
   "cell_type": "markdown",
   "metadata": {},
   "source": [
    "Pincodes, a categorical variable, with 128 distinct values will increase the number of columns with one-hot encoding. This will also increase the overall computational time for training the model. To solve this issue, we can optimise the model with a new numeric feature derived from 'location', 'area_type','society' and drop 'location' from the dataset later.\n",
    "\n",
    "This new feature will be derived from 'Training Data' only and will be common for both training and test data."
   ]
  },
  {
   "cell_type": "markdown",
   "metadata": {},
   "source": [
    "## Price Per Location - Combining Location, Society and Area Type"
   ]
  },
  {
   "cell_type": "code",
   "execution_count": 75,
   "metadata": {
    "ExecuteTime": {
     "end_time": "2019-11-01T04:23:31.972466Z",
     "start_time": "2019-11-01T04:23:31.882519Z"
    }
   },
   "outputs": [],
   "source": [
    "price_per_loc = (df[df['data_category']=='train'].groupby(['area_type','location','society'])\n",
    "                 .agg({'total_sqft': 'sum','price':'sum'}).reset_index())\n",
    "\n",
    "price_per_loc['avg_price_per_loc'] = price_per_loc['price']/price_per_loc['total_sqft']"
   ]
  },
  {
   "cell_type": "code",
   "execution_count": 76,
   "metadata": {
    "ExecuteTime": {
     "end_time": "2019-11-01T04:23:32.050416Z",
     "start_time": "2019-11-01T04:23:31.974465Z"
    }
   },
   "outputs": [
    {
     "data": {
      "text/html": [
       "<div>\n",
       "<style scoped>\n",
       "    .dataframe tbody tr th:only-of-type {\n",
       "        vertical-align: middle;\n",
       "    }\n",
       "\n",
       "    .dataframe tbody tr th {\n",
       "        vertical-align: top;\n",
       "    }\n",
       "\n",
       "    .dataframe thead th {\n",
       "        text-align: right;\n",
       "    }\n",
       "</style>\n",
       "<table border=\"1\" class=\"dataframe\">\n",
       "  <thead>\n",
       "    <tr style=\"text-align: right;\">\n",
       "      <th></th>\n",
       "      <th>area_type</th>\n",
       "      <th>location</th>\n",
       "      <th>society</th>\n",
       "      <th>total_sqft</th>\n",
       "      <th>price</th>\n",
       "      <th>avg_price_per_loc</th>\n",
       "    </tr>\n",
       "  </thead>\n",
       "  <tbody>\n",
       "    <tr>\n",
       "      <th>0</th>\n",
       "      <td>Built-up  Area</td>\n",
       "      <td>0</td>\n",
       "      <td>0</td>\n",
       "      <td>3420.0</td>\n",
       "      <td>410.0</td>\n",
       "      <td>0.119883</td>\n",
       "    </tr>\n",
       "    <tr>\n",
       "      <th>1</th>\n",
       "      <td>Built-up  Area</td>\n",
       "      <td>0</td>\n",
       "      <td>1</td>\n",
       "      <td>1130.0</td>\n",
       "      <td>68.0</td>\n",
       "      <td>0.060177</td>\n",
       "    </tr>\n",
       "    <tr>\n",
       "      <th>2</th>\n",
       "      <td>Built-up  Area</td>\n",
       "      <td>560001</td>\n",
       "      <td>0</td>\n",
       "      <td>4970.0</td>\n",
       "      <td>515.0</td>\n",
       "      <td>0.103622</td>\n",
       "    </tr>\n",
       "    <tr>\n",
       "      <th>3</th>\n",
       "      <td>Built-up  Area</td>\n",
       "      <td>560001</td>\n",
       "      <td>1</td>\n",
       "      <td>1000.0</td>\n",
       "      <td>50.0</td>\n",
       "      <td>0.050000</td>\n",
       "    </tr>\n",
       "    <tr>\n",
       "      <th>4</th>\n",
       "      <td>Built-up  Area</td>\n",
       "      <td>560003</td>\n",
       "      <td>0</td>\n",
       "      <td>11300.0</td>\n",
       "      <td>2410.0</td>\n",
       "      <td>0.213274</td>\n",
       "    </tr>\n",
       "  </tbody>\n",
       "</table>\n",
       "</div>"
      ],
      "text/plain": [
       "        area_type  location  society  total_sqft   price  avg_price_per_loc\n",
       "0  Built-up  Area         0        0      3420.0   410.0           0.119883\n",
       "1  Built-up  Area         0        1      1130.0    68.0           0.060177\n",
       "2  Built-up  Area    560001        0      4970.0   515.0           0.103622\n",
       "3  Built-up  Area    560001        1      1000.0    50.0           0.050000\n",
       "4  Built-up  Area    560003        0     11300.0  2410.0           0.213274"
      ]
     },
     "execution_count": 76,
     "metadata": {},
     "output_type": "execute_result"
    }
   ],
   "source": [
    "price_per_loc.head()"
   ]
  },
  {
   "cell_type": "markdown",
   "metadata": {},
   "source": [
    "Merging this new column with original 'df'."
   ]
  },
  {
   "cell_type": "code",
   "execution_count": 77,
   "metadata": {
    "ExecuteTime": {
     "end_time": "2019-11-01T04:23:32.151356Z",
     "start_time": "2019-11-01T04:23:32.054414Z"
    }
   },
   "outputs": [],
   "source": [
    "df = pd.merge(df,price_per_loc[['area_type','location', 'society','avg_price_per_loc']],\n",
    "                  on=['area_type','location', 'society'], how='left')"
   ]
  },
  {
   "cell_type": "code",
   "execution_count": 78,
   "metadata": {
    "ExecuteTime": {
     "end_time": "2019-11-01T04:23:32.219207Z",
     "start_time": "2019-11-01T04:23:32.158352Z"
    }
   },
   "outputs": [
    {
     "data": {
      "text/plain": [
       "13"
      ]
     },
     "execution_count": 78,
     "metadata": {},
     "output_type": "execute_result"
    }
   ],
   "source": [
    "df['avg_price_per_loc'].isnull().sum()"
   ]
  },
  {
   "cell_type": "markdown",
   "metadata": {},
   "source": [
    "## Price Per Location 2 - Combining Location and Society Only "
   ]
  },
  {
   "cell_type": "markdown",
   "metadata": {},
   "source": [
    "Since, there are 13 values in Test Data that not available to merge, we can create another variable 'avg_price_per_loc_2' from 'location' and 'society' only to fill NaNs."
   ]
  },
  {
   "cell_type": "code",
   "execution_count": 79,
   "metadata": {
    "ExecuteTime": {
     "end_time": "2019-11-01T04:23:32.328135Z",
     "start_time": "2019-11-01T04:23:32.223200Z"
    }
   },
   "outputs": [],
   "source": [
    "price_per_loc_2 = (df[df['data_category']=='train'].groupby(['location','society'])\n",
    "                   .agg({'total_sqft': 'sum','price':'sum'}).reset_index())\n",
    "\n",
    "price_per_loc_2['avg_price_per_loc_2'] = price_per_loc_2['price']/price_per_loc_2['total_sqft']"
   ]
  },
  {
   "cell_type": "code",
   "execution_count": 80,
   "metadata": {
    "ExecuteTime": {
     "end_time": "2019-11-01T04:23:32.387102Z",
     "start_time": "2019-11-01T04:23:32.332134Z"
    }
   },
   "outputs": [
    {
     "data": {
      "text/html": [
       "<div>\n",
       "<style scoped>\n",
       "    .dataframe tbody tr th:only-of-type {\n",
       "        vertical-align: middle;\n",
       "    }\n",
       "\n",
       "    .dataframe tbody tr th {\n",
       "        vertical-align: top;\n",
       "    }\n",
       "\n",
       "    .dataframe thead th {\n",
       "        text-align: right;\n",
       "    }\n",
       "</style>\n",
       "<table border=\"1\" class=\"dataframe\">\n",
       "  <thead>\n",
       "    <tr style=\"text-align: right;\">\n",
       "      <th></th>\n",
       "      <th>location</th>\n",
       "      <th>society</th>\n",
       "      <th>total_sqft</th>\n",
       "      <th>price</th>\n",
       "      <th>avg_price_per_loc_2</th>\n",
       "    </tr>\n",
       "  </thead>\n",
       "  <tbody>\n",
       "    <tr>\n",
       "      <th>0</th>\n",
       "      <td>0</td>\n",
       "      <td>0</td>\n",
       "      <td>16173.82</td>\n",
       "      <td>1774.84</td>\n",
       "      <td>0.109735</td>\n",
       "    </tr>\n",
       "    <tr>\n",
       "      <th>1</th>\n",
       "      <td>0</td>\n",
       "      <td>1</td>\n",
       "      <td>4734.00</td>\n",
       "      <td>229.00</td>\n",
       "      <td>0.048373</td>\n",
       "    </tr>\n",
       "    <tr>\n",
       "      <th>2</th>\n",
       "      <td>560001</td>\n",
       "      <td>0</td>\n",
       "      <td>32275.00</td>\n",
       "      <td>5385.00</td>\n",
       "      <td>0.166847</td>\n",
       "    </tr>\n",
       "    <tr>\n",
       "      <th>3</th>\n",
       "      <td>560001</td>\n",
       "      <td>1</td>\n",
       "      <td>8914.00</td>\n",
       "      <td>1610.00</td>\n",
       "      <td>0.180615</td>\n",
       "    </tr>\n",
       "    <tr>\n",
       "      <th>4</th>\n",
       "      <td>560003</td>\n",
       "      <td>0</td>\n",
       "      <td>54775.00</td>\n",
       "      <td>10588.80</td>\n",
       "      <td>0.193314</td>\n",
       "    </tr>\n",
       "  </tbody>\n",
       "</table>\n",
       "</div>"
      ],
      "text/plain": [
       "   location  society  total_sqft     price  avg_price_per_loc_2\n",
       "0         0        0    16173.82   1774.84             0.109735\n",
       "1         0        1     4734.00    229.00             0.048373\n",
       "2    560001        0    32275.00   5385.00             0.166847\n",
       "3    560001        1     8914.00   1610.00             0.180615\n",
       "4    560003        0    54775.00  10588.80             0.193314"
      ]
     },
     "execution_count": 80,
     "metadata": {},
     "output_type": "execute_result"
    }
   ],
   "source": [
    "price_per_loc_2.head()"
   ]
  },
  {
   "cell_type": "code",
   "execution_count": 81,
   "metadata": {
    "ExecuteTime": {
     "end_time": "2019-11-01T04:23:32.477046Z",
     "start_time": "2019-11-01T04:23:32.394098Z"
    }
   },
   "outputs": [],
   "source": [
    "df = pd.merge(df,price_per_loc_2[['location', 'society','avg_price_per_loc_2']],\n",
    "                  on=['location', 'society'], how='left')"
   ]
  },
  {
   "cell_type": "code",
   "execution_count": 82,
   "metadata": {
    "ExecuteTime": {
     "end_time": "2019-11-01T04:23:33.257564Z",
     "start_time": "2019-11-01T04:23:32.480043Z"
    }
   },
   "outputs": [],
   "source": [
    "df['avg_price_per_loc'] = df.apply(lambda row: row['avg_price_per_loc_2'] if np.isnan(row['avg_price_per_loc']) else row['avg_price_per_loc'], axis=1)"
   ]
  },
  {
   "cell_type": "code",
   "execution_count": 83,
   "metadata": {
    "ExecuteTime": {
     "end_time": "2019-11-01T04:23:33.270555Z",
     "start_time": "2019-11-01T04:23:33.261561Z"
    },
    "scrolled": true
   },
   "outputs": [
    {
     "data": {
      "text/plain": [
       "3"
      ]
     },
     "execution_count": 83,
     "metadata": {},
     "output_type": "execute_result"
    }
   ],
   "source": [
    "df['avg_price_per_loc'].isnull().sum()"
   ]
  },
  {
   "cell_type": "markdown",
   "metadata": {},
   "source": [
    "## Price Per Location 3 - Average Price per SqFt for remaining null values"
   ]
  },
  {
   "cell_type": "markdown",
   "metadata": {
    "ExecuteTime": {
     "end_time": "2019-10-28T18:58:48.919192Z",
     "start_time": "2019-10-28T18:58:48.913196Z"
    }
   },
   "source": [
    "There are still three values we need to fill."
   ]
  },
  {
   "cell_type": "code",
   "execution_count": 84,
   "metadata": {
    "ExecuteTime": {
     "end_time": "2019-11-01T04:23:33.392481Z",
     "start_time": "2019-11-01T04:23:33.273553Z"
    }
   },
   "outputs": [],
   "source": [
    "average_price = df[df['data_category']=='train']['price'].sum()/df[df['data_category']=='train']['total_sqft'].sum()"
   ]
  },
  {
   "cell_type": "code",
   "execution_count": 85,
   "metadata": {
    "ExecuteTime": {
     "end_time": "2019-11-01T04:23:33.510409Z",
     "start_time": "2019-11-01T04:23:33.395481Z"
    }
   },
   "outputs": [],
   "source": [
    "df['avg_price_per_loc'].fillna(average_price, inplace=True)"
   ]
  },
  {
   "cell_type": "code",
   "execution_count": 86,
   "metadata": {
    "ExecuteTime": {
     "end_time": "2019-11-01T04:23:34.418850Z",
     "start_time": "2019-11-01T04:23:33.512406Z"
    }
   },
   "outputs": [
    {
     "data": {
      "text/plain": [
       "<Figure size 2160x720 with 0 Axes>"
      ]
     },
     "execution_count": 86,
     "metadata": {},
     "output_type": "execute_result"
    },
    {
     "data": {
      "text/plain": [
       "<matplotlib.axes._subplots.AxesSubplot at 0x2f02b250940>"
      ]
     },
     "execution_count": 86,
     "metadata": {},
     "output_type": "execute_result"
    },
    {
     "data": {
      "image/png": "[encoded data removed]",
      "text/plain": [
       "<Figure size 2160x720 with 1 Axes>"
      ]
     },
     "metadata": {},
     "output_type": "display_data"
    }
   ],
   "source": [
    "plt.figure(figsize=(30,10))\n",
    "df['avg_price_per_loc'].hist(bins=200)\n",
    "plt.show()"
   ]
  },
  {
   "cell_type": "code",
   "execution_count": 87,
   "metadata": {
    "ExecuteTime": {
     "end_time": "2019-11-01T04:23:34.428843Z",
     "start_time": "2019-11-01T04:23:34.420848Z"
    }
   },
   "outputs": [],
   "source": [
    "df.drop(['location','avg_price_per_loc_2'],axis=1, inplace=True)"
   ]
  },
  {
   "cell_type": "code",
   "execution_count": 88,
   "metadata": {
    "ExecuteTime": {
     "end_time": "2019-11-01T04:23:34.523783Z",
     "start_time": "2019-11-01T04:23:34.431840Z"
    }
   },
   "outputs": [
    {
     "data": {
      "text/html": [
       "<div>\n",
       "<style scoped>\n",
       "    .dataframe tbody tr th:only-of-type {\n",
       "        vertical-align: middle;\n",
       "    }\n",
       "\n",
       "    .dataframe tbody tr th {\n",
       "        vertical-align: top;\n",
       "    }\n",
       "\n",
       "    .dataframe thead th {\n",
       "        text-align: right;\n",
       "    }\n",
       "</style>\n",
       "<table border=\"1\" class=\"dataframe\">\n",
       "  <thead>\n",
       "    <tr style=\"text-align: right;\">\n",
       "      <th></th>\n",
       "      <th>area_type</th>\n",
       "      <th>availability</th>\n",
       "      <th>size</th>\n",
       "      <th>society</th>\n",
       "      <th>total_sqft</th>\n",
       "      <th>bath</th>\n",
       "      <th>balcony</th>\n",
       "      <th>price</th>\n",
       "      <th>data_category</th>\n",
       "      <th>avg_price_per_loc</th>\n",
       "    </tr>\n",
       "  </thead>\n",
       "  <tbody>\n",
       "    <tr>\n",
       "      <th>0</th>\n",
       "      <td>Super built-up  Area</td>\n",
       "      <td>0</td>\n",
       "      <td>2.0</td>\n",
       "      <td>1</td>\n",
       "      <td>1056.0</td>\n",
       "      <td>2.0</td>\n",
       "      <td>1.0</td>\n",
       "      <td>39.07</td>\n",
       "      <td>train</td>\n",
       "      <td>0.047765</td>\n",
       "    </tr>\n",
       "    <tr>\n",
       "      <th>1</th>\n",
       "      <td>Plot  Area</td>\n",
       "      <td>1</td>\n",
       "      <td>4.0</td>\n",
       "      <td>1</td>\n",
       "      <td>2600.0</td>\n",
       "      <td>5.0</td>\n",
       "      <td>3.0</td>\n",
       "      <td>120.00</td>\n",
       "      <td>train</td>\n",
       "      <td>0.047257</td>\n",
       "    </tr>\n",
       "    <tr>\n",
       "      <th>2</th>\n",
       "      <td>Built-up  Area</td>\n",
       "      <td>1</td>\n",
       "      <td>3.0</td>\n",
       "      <td>0</td>\n",
       "      <td>1440.0</td>\n",
       "      <td>2.0</td>\n",
       "      <td>3.0</td>\n",
       "      <td>62.00</td>\n",
       "      <td>train</td>\n",
       "      <td>0.048929</td>\n",
       "    </tr>\n",
       "    <tr>\n",
       "      <th>3</th>\n",
       "      <td>Super built-up  Area</td>\n",
       "      <td>1</td>\n",
       "      <td>3.0</td>\n",
       "      <td>1</td>\n",
       "      <td>1521.0</td>\n",
       "      <td>3.0</td>\n",
       "      <td>1.0</td>\n",
       "      <td>95.00</td>\n",
       "      <td>train</td>\n",
       "      <td>0.075807</td>\n",
       "    </tr>\n",
       "    <tr>\n",
       "      <th>4</th>\n",
       "      <td>Super built-up  Area</td>\n",
       "      <td>1</td>\n",
       "      <td>2.0</td>\n",
       "      <td>0</td>\n",
       "      <td>1200.0</td>\n",
       "      <td>2.0</td>\n",
       "      <td>1.0</td>\n",
       "      <td>51.00</td>\n",
       "      <td>train</td>\n",
       "      <td>0.048198</td>\n",
       "    </tr>\n",
       "  </tbody>\n",
       "</table>\n",
       "</div>"
      ],
      "text/plain": [
       "              area_type  availability  size  society  total_sqft  bath  \\\n",
       "0  Super built-up  Area             0   2.0        1      1056.0   2.0   \n",
       "1            Plot  Area             1   4.0        1      2600.0   5.0   \n",
       "2        Built-up  Area             1   3.0        0      1440.0   2.0   \n",
       "3  Super built-up  Area             1   3.0        1      1521.0   3.0   \n",
       "4  Super built-up  Area             1   2.0        0      1200.0   2.0   \n",
       "\n",
       "   balcony   price data_category  avg_price_per_loc  \n",
       "0      1.0   39.07         train           0.047765  \n",
       "1      3.0  120.00         train           0.047257  \n",
       "2      3.0   62.00         train           0.048929  \n",
       "3      1.0   95.00         train           0.075807  \n",
       "4      1.0   51.00         train           0.048198  "
      ]
     },
     "execution_count": 88,
     "metadata": {},
     "output_type": "execute_result"
    }
   ],
   "source": [
    "df.head(5)"
   ]
  },
  {
   "cell_type": "markdown",
   "metadata": {
    "ExecuteTime": {
     "end_time": "2019-10-30T01:55:21.936625Z",
     "start_time": "2019-10-30T01:55:21.849676Z"
    },
    "scrolled": true
   },
   "source": [
    "Finally we have got a new feature which is created from variable 'location'."
   ]
  },
  {
   "cell_type": "markdown",
   "metadata": {},
   "source": [
    "# Checking the Distribution"
   ]
  },
  {
   "cell_type": "markdown",
   "metadata": {},
   "source": [
    "## Specifying data type to each variable"
   ]
  },
  {
   "cell_type": "code",
   "execution_count": 89,
   "metadata": {
    "ExecuteTime": {
     "end_time": "2019-11-01T04:23:34.620725Z",
     "start_time": "2019-11-01T04:23:34.526784Z"
    }
   },
   "outputs": [],
   "source": [
    "df['area_type'] = pd.Categorical(df['area_type'])\n",
    "df[['size','total_sqft','bath','balcony','avg_price_per_loc','price']] = df[['size','total_sqft','bath','balcony','avg_price_per_loc','price']].apply(pd.to_numeric)\n",
    "\n",
    "df[['availability','society']]  = df[['availability','society']].astype(int)"
   ]
  },
  {
   "cell_type": "code",
   "execution_count": 90,
   "metadata": {
    "ExecuteTime": {
     "end_time": "2019-11-01T04:23:34.702673Z",
     "start_time": "2019-11-01T04:23:34.623724Z"
    }
   },
   "outputs": [],
   "source": [
    "df = df[['area_type', 'availability', 'size', 'society', 'total_sqft', 'bath',\n",
    "       'balcony', 'avg_price_per_loc', 'price', 'data_category']]"
   ]
  },
  {
   "cell_type": "code",
   "execution_count": 91,
   "metadata": {
    "ExecuteTime": {
     "end_time": "2019-11-01T04:23:34.785624Z",
     "start_time": "2019-11-01T04:23:34.705673Z"
    },
    "scrolled": true
   },
   "outputs": [
    {
     "data": {
      "text/html": [
       "<div>\n",
       "<style scoped>\n",
       "    .dataframe tbody tr th:only-of-type {\n",
       "        vertical-align: middle;\n",
       "    }\n",
       "\n",
       "    .dataframe tbody tr th {\n",
       "        vertical-align: top;\n",
       "    }\n",
       "\n",
       "    .dataframe thead th {\n",
       "        text-align: right;\n",
       "    }\n",
       "</style>\n",
       "<table border=\"1\" class=\"dataframe\">\n",
       "  <thead>\n",
       "    <tr style=\"text-align: right;\">\n",
       "      <th></th>\n",
       "      <th>area_type</th>\n",
       "      <th>availability</th>\n",
       "      <th>size</th>\n",
       "      <th>society</th>\n",
       "      <th>total_sqft</th>\n",
       "      <th>bath</th>\n",
       "      <th>balcony</th>\n",
       "      <th>avg_price_per_loc</th>\n",
       "      <th>price</th>\n",
       "      <th>data_category</th>\n",
       "    </tr>\n",
       "  </thead>\n",
       "  <tbody>\n",
       "    <tr>\n",
       "      <th>0</th>\n",
       "      <td>Super built-up  Area</td>\n",
       "      <td>0</td>\n",
       "      <td>2.0</td>\n",
       "      <td>1</td>\n",
       "      <td>1056.0</td>\n",
       "      <td>2.0</td>\n",
       "      <td>1.0</td>\n",
       "      <td>0.047765</td>\n",
       "      <td>39.07</td>\n",
       "      <td>train</td>\n",
       "    </tr>\n",
       "    <tr>\n",
       "      <th>1</th>\n",
       "      <td>Plot  Area</td>\n",
       "      <td>1</td>\n",
       "      <td>4.0</td>\n",
       "      <td>1</td>\n",
       "      <td>2600.0</td>\n",
       "      <td>5.0</td>\n",
       "      <td>3.0</td>\n",
       "      <td>0.047257</td>\n",
       "      <td>120.00</td>\n",
       "      <td>train</td>\n",
       "    </tr>\n",
       "    <tr>\n",
       "      <th>2</th>\n",
       "      <td>Built-up  Area</td>\n",
       "      <td>1</td>\n",
       "      <td>3.0</td>\n",
       "      <td>0</td>\n",
       "      <td>1440.0</td>\n",
       "      <td>2.0</td>\n",
       "      <td>3.0</td>\n",
       "      <td>0.048929</td>\n",
       "      <td>62.00</td>\n",
       "      <td>train</td>\n",
       "    </tr>\n",
       "    <tr>\n",
       "      <th>3</th>\n",
       "      <td>Super built-up  Area</td>\n",
       "      <td>1</td>\n",
       "      <td>3.0</td>\n",
       "      <td>1</td>\n",
       "      <td>1521.0</td>\n",
       "      <td>3.0</td>\n",
       "      <td>1.0</td>\n",
       "      <td>0.075807</td>\n",
       "      <td>95.00</td>\n",
       "      <td>train</td>\n",
       "    </tr>\n",
       "    <tr>\n",
       "      <th>4</th>\n",
       "      <td>Super built-up  Area</td>\n",
       "      <td>1</td>\n",
       "      <td>2.0</td>\n",
       "      <td>0</td>\n",
       "      <td>1200.0</td>\n",
       "      <td>2.0</td>\n",
       "      <td>1.0</td>\n",
       "      <td>0.048198</td>\n",
       "      <td>51.00</td>\n",
       "      <td>train</td>\n",
       "    </tr>\n",
       "  </tbody>\n",
       "</table>\n",
       "</div>"
      ],
      "text/plain": [
       "              area_type  availability  size  society  total_sqft  bath  \\\n",
       "0  Super built-up  Area             0   2.0        1      1056.0   2.0   \n",
       "1            Plot  Area             1   4.0        1      2600.0   5.0   \n",
       "2        Built-up  Area             1   3.0        0      1440.0   2.0   \n",
       "3  Super built-up  Area             1   3.0        1      1521.0   3.0   \n",
       "4  Super built-up  Area             1   2.0        0      1200.0   2.0   \n",
       "\n",
       "   balcony  avg_price_per_loc   price data_category  \n",
       "0      1.0           0.047765   39.07         train  \n",
       "1      3.0           0.047257  120.00         train  \n",
       "2      3.0           0.048929   62.00         train  \n",
       "3      1.0           0.075807   95.00         train  \n",
       "4      1.0           0.048198   51.00         train  "
      ]
     },
     "execution_count": 91,
     "metadata": {},
     "output_type": "execute_result"
    }
   ],
   "source": [
    "df.head()"
   ]
  },
  {
   "cell_type": "markdown",
   "metadata": {},
   "source": [
    "## Total Sqft"
   ]
  },
  {
   "cell_type": "code",
   "execution_count": 92,
   "metadata": {
    "ExecuteTime": {
     "end_time": "2019-11-01T04:23:35.528166Z",
     "start_time": "2019-11-01T04:23:34.788623Z"
    }
   },
   "outputs": [
    {
     "data": {
      "text/plain": [
       "<Figure size 2160x720 with 0 Axes>"
      ]
     },
     "execution_count": 92,
     "metadata": {},
     "output_type": "execute_result"
    },
    {
     "data": {
      "text/plain": [
       "<matplotlib.axes._subplots.AxesSubplot at 0x2f02b5535f8>"
      ]
     },
     "execution_count": 92,
     "metadata": {},
     "output_type": "execute_result"
    },
    {
     "data": {
      "image/png": "[encoded data removed]",
      "text/plain": [
       "<Figure size 2160x720 with 1 Axes>"
      ]
     },
     "metadata": {},
     "output_type": "display_data"
    }
   ],
   "source": [
    "plt.figure(figsize=(30,10))\n",
    "df['total_sqft'].hist(bins=200)\n",
    "plt.show()"
   ]
  },
  {
   "cell_type": "markdown",
   "metadata": {},
   "source": [
    "The distribution is right skewed. Let's see if taking logrithmic value can remove this skewness."
   ]
  },
  {
   "cell_type": "code",
   "execution_count": 93,
   "metadata": {
    "ExecuteTime": {
     "end_time": "2019-11-01T04:23:36.332672Z",
     "start_time": "2019-11-01T04:23:35.531165Z"
    }
   },
   "outputs": [
    {
     "data": {
      "text/plain": [
       "<Figure size 2160x720 with 0 Axes>"
      ]
     },
     "execution_count": 93,
     "metadata": {},
     "output_type": "execute_result"
    },
    {
     "data": {
      "text/plain": [
       "<matplotlib.axes._subplots.AxesSubplot at 0x2f02b46a550>"
      ]
     },
     "execution_count": 93,
     "metadata": {},
     "output_type": "execute_result"
    },
    {
     "data": {
      "image/png": "[encoded data removed]",
      "text/plain": [
       "<Figure size 2160x720 with 1 Axes>"
      ]
     },
     "metadata": {},
     "output_type": "display_data"
    }
   ],
   "source": [
    "plt.figure(figsize=(30,10))\n",
    "np.log(df['total_sqft']).hist(bins=200)\n",
    "plt.show()"
   ]
  },
  {
   "cell_type": "markdown",
   "metadata": {},
   "source": [
    "Perfect. The skewness has decreased significantly with logrithmic conversion."
   ]
  },
  {
   "cell_type": "code",
   "execution_count": 94,
   "metadata": {
    "ExecuteTime": {
     "end_time": "2019-11-01T04:23:36.342665Z",
     "start_time": "2019-11-01T04:23:36.335669Z"
    }
   },
   "outputs": [],
   "source": [
    "df['total_sqft'] = np.log(df['total_sqft'])"
   ]
  },
  {
   "cell_type": "markdown",
   "metadata": {},
   "source": [
    "## Price"
   ]
  },
  {
   "cell_type": "markdown",
   "metadata": {},
   "source": [
    "Splitting the data to check for 'price' variable distribution."
   ]
  },
  {
   "cell_type": "code",
   "execution_count": 95,
   "metadata": {
    "ExecuteTime": {
     "end_time": "2019-11-01T04:23:36.424615Z",
     "start_time": "2019-11-01T04:23:36.345661Z"
    }
   },
   "outputs": [
    {
     "data": {
      "text/plain": [
       "13256"
      ]
     },
     "execution_count": 95,
     "metadata": {},
     "output_type": "execute_result"
    }
   ],
   "source": [
    "train_df = df[df['data_category']=='train']\n",
    "train_df.drop(['data_category'], axis=1, inplace=True)\n",
    "len(train_df)"
   ]
  },
  {
   "cell_type": "code",
   "execution_count": 96,
   "metadata": {
    "ExecuteTime": {
     "end_time": "2019-11-01T04:23:36.515557Z",
     "start_time": "2019-11-01T04:23:36.427612Z"
    }
   },
   "outputs": [
    {
     "data": {
      "text/plain": [
       "1480"
      ]
     },
     "execution_count": 96,
     "metadata": {},
     "output_type": "execute_result"
    }
   ],
   "source": [
    "test_df = df[df['data_category']=='test']\n",
    "test_df.drop(['data_category'], axis=1, inplace=True)\n",
    "len(test_df)"
   ]
  },
  {
   "cell_type": "code",
   "execution_count": 97,
   "metadata": {
    "ExecuteTime": {
     "end_time": "2019-11-01T04:23:37.476967Z",
     "start_time": "2019-11-01T04:23:36.518557Z"
    }
   },
   "outputs": [
    {
     "data": {
      "text/plain": [
       "<Figure size 2160x720 with 0 Axes>"
      ]
     },
     "execution_count": 97,
     "metadata": {},
     "output_type": "execute_result"
    },
    {
     "data": {
      "text/plain": [
       "<matplotlib.axes._subplots.AxesSubplot at 0x2f02b2f1550>"
      ]
     },
     "execution_count": 97,
     "metadata": {},
     "output_type": "execute_result"
    },
    {
     "data": {
      "image/png": "[encoded data removed]",
      "text/plain": [
       "<Figure size 2160x720 with 1 Axes>"
      ]
     },
     "metadata": {},
     "output_type": "display_data"
    }
   ],
   "source": [
    "plt.figure(figsize=(30,10))\n",
    "(train_df['price']).hist(bins=200)\n",
    "plt.show()"
   ]
  },
  {
   "cell_type": "markdown",
   "metadata": {},
   "source": [
    "Here also, the distribution is right skewed."
   ]
  },
  {
   "cell_type": "code",
   "execution_count": 98,
   "metadata": {
    "ExecuteTime": {
     "end_time": "2019-11-01T04:23:38.265482Z",
     "start_time": "2019-11-01T04:23:37.480964Z"
    }
   },
   "outputs": [
    {
     "data": {
      "text/plain": [
       "<Figure size 2160x720 with 0 Axes>"
      ]
     },
     "execution_count": 98,
     "metadata": {},
     "output_type": "execute_result"
    },
    {
     "data": {
      "text/plain": [
       "<matplotlib.axes._subplots.AxesSubplot at 0x2f02d930cc0>"
      ]
     },
     "execution_count": 98,
     "metadata": {},
     "output_type": "execute_result"
    },
    {
     "data": {
      "image/png": "[encoded data removed]",
      "text/plain": [
       "<Figure size 2160x720 with 1 Axes>"
      ]
     },
     "metadata": {},
     "output_type": "display_data"
    }
   ],
   "source": [
    "plt.figure(figsize=(30,10))\n",
    "np.log(train_df['price']).hist(bins=200)\n",
    "plt.show()"
   ]
  },
  {
   "cell_type": "code",
   "execution_count": 99,
   "metadata": {
    "ExecuteTime": {
     "end_time": "2019-11-01T04:23:38.274477Z",
     "start_time": "2019-11-01T04:23:38.268483Z"
    }
   },
   "outputs": [],
   "source": [
    "train_df['price'] = np.log(train_df['price'])"
   ]
  },
  {
   "cell_type": "code",
   "execution_count": 100,
   "metadata": {
    "ExecuteTime": {
     "end_time": "2019-11-01T04:23:38.378414Z",
     "start_time": "2019-11-01T04:23:38.276473Z"
    },
    "scrolled": true
   },
   "outputs": [
    {
     "data": {
      "text/plain": [
       "area_type            category\n",
       "availability            int32\n",
       "size                  float64\n",
       "society                 int32\n",
       "total_sqft            float64\n",
       "bath                  float64\n",
       "balcony               float64\n",
       "avg_price_per_loc     float64\n",
       "price                 float64\n",
       "dtype: object"
      ]
     },
     "execution_count": 100,
     "metadata": {},
     "output_type": "execute_result"
    }
   ],
   "source": [
    "train_df.dtypes"
   ]
  },
  {
   "cell_type": "markdown",
   "metadata": {},
   "source": [
    "# One-Hot Encoding"
   ]
  },
  {
   "cell_type": "code",
   "execution_count": 101,
   "metadata": {
    "ExecuteTime": {
     "end_time": "2019-11-01T04:23:38.490343Z",
     "start_time": "2019-11-01T04:23:38.380411Z"
    }
   },
   "outputs": [],
   "source": [
    "main_train = pd.get_dummies(train_df)\n",
    "main_test = pd.get_dummies(test_df)"
   ]
  },
  {
   "cell_type": "code",
   "execution_count": 102,
   "metadata": {
    "ExecuteTime": {
     "end_time": "2019-11-01T04:23:38.612270Z",
     "start_time": "2019-11-01T04:23:38.492342Z"
    },
    "scrolled": false
   },
   "outputs": [
    {
     "data": {
      "text/html": [
       "<div>\n",
       "<style scoped>\n",
       "    .dataframe tbody tr th:only-of-type {\n",
       "        vertical-align: middle;\n",
       "    }\n",
       "\n",
       "    .dataframe tbody tr th {\n",
       "        vertical-align: top;\n",
       "    }\n",
       "\n",
       "    .dataframe thead th {\n",
       "        text-align: right;\n",
       "    }\n",
       "</style>\n",
       "<table border=\"1\" class=\"dataframe\">\n",
       "  <thead>\n",
       "    <tr style=\"text-align: right;\">\n",
       "      <th></th>\n",
       "      <th>availability</th>\n",
       "      <th>size</th>\n",
       "      <th>society</th>\n",
       "      <th>total_sqft</th>\n",
       "      <th>bath</th>\n",
       "      <th>balcony</th>\n",
       "      <th>avg_price_per_loc</th>\n",
       "      <th>price</th>\n",
       "      <th>area_type_Built-up  Area</th>\n",
       "      <th>area_type_Carpet  Area</th>\n",
       "      <th>area_type_Plot  Area</th>\n",
       "      <th>area_type_Super built-up  Area</th>\n",
       "    </tr>\n",
       "  </thead>\n",
       "  <tbody>\n",
       "    <tr>\n",
       "      <th>0</th>\n",
       "      <td>0</td>\n",
       "      <td>2.0</td>\n",
       "      <td>1</td>\n",
       "      <td>6.962243</td>\n",
       "      <td>2.0</td>\n",
       "      <td>1.0</td>\n",
       "      <td>0.047765</td>\n",
       "      <td>3.665355</td>\n",
       "      <td>0</td>\n",
       "      <td>0</td>\n",
       "      <td>0</td>\n",
       "      <td>1</td>\n",
       "    </tr>\n",
       "    <tr>\n",
       "      <th>1</th>\n",
       "      <td>1</td>\n",
       "      <td>4.0</td>\n",
       "      <td>1</td>\n",
       "      <td>7.863267</td>\n",
       "      <td>5.0</td>\n",
       "      <td>3.0</td>\n",
       "      <td>0.047257</td>\n",
       "      <td>4.787492</td>\n",
       "      <td>0</td>\n",
       "      <td>0</td>\n",
       "      <td>1</td>\n",
       "      <td>0</td>\n",
       "    </tr>\n",
       "    <tr>\n",
       "      <th>2</th>\n",
       "      <td>1</td>\n",
       "      <td>3.0</td>\n",
       "      <td>0</td>\n",
       "      <td>7.272398</td>\n",
       "      <td>2.0</td>\n",
       "      <td>3.0</td>\n",
       "      <td>0.048929</td>\n",
       "      <td>4.127134</td>\n",
       "      <td>1</td>\n",
       "      <td>0</td>\n",
       "      <td>0</td>\n",
       "      <td>0</td>\n",
       "    </tr>\n",
       "  </tbody>\n",
       "</table>\n",
       "</div>"
      ],
      "text/plain": [
       "   availability  size  society  total_sqft  bath  balcony  avg_price_per_loc  \\\n",
       "0             0   2.0        1    6.962243   2.0      1.0           0.047765   \n",
       "1             1   4.0        1    7.863267   5.0      3.0           0.047257   \n",
       "2             1   3.0        0    7.272398   2.0      3.0           0.048929   \n",
       "\n",
       "      price  area_type_Built-up  Area  area_type_Carpet  Area  \\\n",
       "0  3.665355                         0                       0   \n",
       "1  4.787492                         0                       0   \n",
       "2  4.127134                         1                       0   \n",
       "\n",
       "   area_type_Plot  Area  area_type_Super built-up  Area  \n",
       "0                     0                               1  \n",
       "1                     1                               0  \n",
       "2                     0                               0  "
      ]
     },
     "execution_count": 102,
     "metadata": {},
     "output_type": "execute_result"
    },
    {
     "data": {
      "text/html": [
       "<div>\n",
       "<style scoped>\n",
       "    .dataframe tbody tr th:only-of-type {\n",
       "        vertical-align: middle;\n",
       "    }\n",
       "\n",
       "    .dataframe tbody tr th {\n",
       "        vertical-align: top;\n",
       "    }\n",
       "\n",
       "    .dataframe thead th {\n",
       "        text-align: right;\n",
       "    }\n",
       "</style>\n",
       "<table border=\"1\" class=\"dataframe\">\n",
       "  <thead>\n",
       "    <tr style=\"text-align: right;\">\n",
       "      <th></th>\n",
       "      <th>availability</th>\n",
       "      <th>size</th>\n",
       "      <th>society</th>\n",
       "      <th>total_sqft</th>\n",
       "      <th>bath</th>\n",
       "      <th>balcony</th>\n",
       "      <th>avg_price_per_loc</th>\n",
       "      <th>price</th>\n",
       "      <th>area_type_Built-up  Area</th>\n",
       "      <th>area_type_Carpet  Area</th>\n",
       "      <th>area_type_Plot  Area</th>\n",
       "      <th>area_type_Super built-up  Area</th>\n",
       "    </tr>\n",
       "  </thead>\n",
       "  <tbody>\n",
       "    <tr>\n",
       "      <th>13256</th>\n",
       "      <td>1</td>\n",
       "      <td>2.0</td>\n",
       "      <td>1</td>\n",
       "      <td>7.110696</td>\n",
       "      <td>2.0</td>\n",
       "      <td>2.0</td>\n",
       "      <td>0.060125</td>\n",
       "      <td>NaN</td>\n",
       "      <td>0</td>\n",
       "      <td>0</td>\n",
       "      <td>0</td>\n",
       "      <td>1</td>\n",
       "    </tr>\n",
       "    <tr>\n",
       "      <th>13257</th>\n",
       "      <td>1</td>\n",
       "      <td>9.0</td>\n",
       "      <td>0</td>\n",
       "      <td>7.783224</td>\n",
       "      <td>9.0</td>\n",
       "      <td>2.0</td>\n",
       "      <td>0.091662</td>\n",
       "      <td>NaN</td>\n",
       "      <td>0</td>\n",
       "      <td>0</td>\n",
       "      <td>1</td>\n",
       "      <td>0</td>\n",
       "    </tr>\n",
       "    <tr>\n",
       "      <th>13258</th>\n",
       "      <td>0</td>\n",
       "      <td>4.0</td>\n",
       "      <td>1</td>\n",
       "      <td>7.408531</td>\n",
       "      <td>5.0</td>\n",
       "      <td>2.0</td>\n",
       "      <td>0.100931</td>\n",
       "      <td>NaN</td>\n",
       "      <td>0</td>\n",
       "      <td>0</td>\n",
       "      <td>1</td>\n",
       "      <td>0</td>\n",
       "    </tr>\n",
       "  </tbody>\n",
       "</table>\n",
       "</div>"
      ],
      "text/plain": [
       "       availability  size  society  total_sqft  bath  balcony  \\\n",
       "13256             1   2.0        1    7.110696   2.0      2.0   \n",
       "13257             1   9.0        0    7.783224   9.0      2.0   \n",
       "13258             0   4.0        1    7.408531   5.0      2.0   \n",
       "\n",
       "       avg_price_per_loc  price  area_type_Built-up  Area  \\\n",
       "13256           0.060125    NaN                         0   \n",
       "13257           0.091662    NaN                         0   \n",
       "13258           0.100931    NaN                         0   \n",
       "\n",
       "       area_type_Carpet  Area  area_type_Plot  Area  \\\n",
       "13256                       0                     0   \n",
       "13257                       0                     1   \n",
       "13258                       0                     1   \n",
       "\n",
       "       area_type_Super built-up  Area  \n",
       "13256                               1  \n",
       "13257                               0  \n",
       "13258                               0  "
      ]
     },
     "execution_count": 102,
     "metadata": {},
     "output_type": "execute_result"
    }
   ],
   "source": [
    "main_train.head(3)\n",
    "\n",
    "main_test.head(3)"
   ]
  },
  {
   "cell_type": "markdown",
   "metadata": {},
   "source": [
    "Saving file post-processing."
   ]
  },
  {
   "cell_type": "code",
   "execution_count": 103,
   "metadata": {
    "ExecuteTime": {
     "end_time": "2019-11-01T04:23:38.974046Z",
     "start_time": "2019-11-01T04:23:38.616267Z"
    }
   },
   "outputs": [],
   "source": [
    "main_train.to_csv('../data/processed/train_df.csv', index=False)\n",
    "main_test.to_csv('../data/processed/test_df.csv', index=False)"
   ]
  },
  {
   "cell_type": "markdown",
   "metadata": {},
   "source": [
    "# Modeling"
   ]
  },
  {
   "cell_type": "markdown",
   "metadata": {},
   "source": [
    "## Import Models"
   ]
  },
  {
   "cell_type": "code",
   "execution_count": 104,
   "metadata": {
    "ExecuteTime": {
     "end_time": "2019-11-01T04:23:39.265865Z",
     "start_time": "2019-11-01T04:23:38.977042Z"
    }
   },
   "outputs": [
    {
     "name": "stderr",
     "output_type": "stream",
     "text": [
      "C:\\Users\\dev26\\Anaconda3\\lib\\site-packages\\sklearn\\ensemble\\weight_boosting.py:29: DeprecationWarning: numpy.core.umath_tests is an internal NumPy module and should not be imported. It will be removed in a future NumPy release.\n",
      "  from numpy.core.umath_tests import inner1d\n"
     ]
    }
   ],
   "source": [
    "# Accuracy and Cross-Validation scores.\n",
    "#Import models from scikit learn module:\n",
    "\n",
    "import pandas as pd\n",
    "import numpy as np\n",
    "import matplotlib.pyplot as plt\n",
    "\n",
    "from sklearn.model_selection import train_test_split\n",
    "from sklearn.tree import DecisionTreeRegressor\n",
    "from sklearn.model_selection import cross_val_score   #For K-fold cross validation\n",
    "from sklearn.ensemble import RandomForestRegressor\n",
    "from xgboost import XGBRegressor\n",
    "from sklearn.tree import DecisionTreeRegressor\n",
    "from sklearn import datasets, linear_model, metrics\n",
    "from sklearn import model_selection\n",
    "from sklearn.metrics import mean_squared_error, make_scorer\n",
    "from math import sqrt\n",
    "from sklearn.metrics import mean_squared_error\n",
    "from lightgbm import LGBMRegressor\n",
    "\n",
    "from IPython.core.interactiveshell import InteractiveShell\n",
    "InteractiveShell.ast_node_interactivity = \"last\"\n",
    "\n",
    "import warnings\n",
    "warnings.filterwarnings('ignore')"
   ]
  },
  {
   "cell_type": "code",
   "execution_count": 105,
   "metadata": {
    "ExecuteTime": {
     "end_time": "2019-11-01T04:23:39.320830Z",
     "start_time": "2019-11-01T04:23:39.268864Z"
    }
   },
   "outputs": [],
   "source": [
    "#read it back\n",
    "main_train=pd.read_csv(\"../data/processed/train_df.csv\")\n",
    "main_test=pd.read_csv(\"../data/processed/test_df.csv\")"
   ]
  },
  {
   "cell_type": "code",
   "execution_count": 106,
   "metadata": {
    "ExecuteTime": {
     "end_time": "2019-11-01T04:23:39.419769Z",
     "start_time": "2019-11-01T04:23:39.323829Z"
    }
   },
   "outputs": [],
   "source": [
    "X = main_train.drop('price', axis=1)\n",
    "Y = main_train['price']"
   ]
  },
  {
   "cell_type": "markdown",
   "metadata": {},
   "source": [
    "## Train-Test Split"
   ]
  },
  {
   "cell_type": "code",
   "execution_count": 107,
   "metadata": {
    "ExecuteTime": {
     "end_time": "2019-11-01T04:23:39.508715Z",
     "start_time": "2019-11-01T04:23:39.424768Z"
    }
   },
   "outputs": [
    {
     "name": "stdout",
     "output_type": "stream",
     "text": [
      "(10604, 11) (10604,)\n",
      "(2652, 11) (2652,)\n"
     ]
    }
   ],
   "source": [
    "X_train, X_test, y_train, y_test = train_test_split(X, Y, test_size=0.2)\n",
    "print (X_train.shape, y_train.shape)\n",
    "print (X_test.shape, y_test.shape)"
   ]
  },
  {
   "cell_type": "markdown",
   "metadata": {},
   "source": [
    "## Creating Custom Metric Function"
   ]
  },
  {
   "cell_type": "code",
   "execution_count": 108,
   "metadata": {
    "ExecuteTime": {
     "end_time": "2019-11-01T04:23:39.583668Z",
     "start_time": "2019-11-01T04:23:39.513712Z"
    }
   },
   "outputs": [],
   "source": [
    "#Generic function for making a classification model and accessing performance:\n",
    "## How to create your own metric function and make it as a scorer object\n",
    "\n",
    "def mean_sq_error(y,y_pred):\n",
    "    return sqrt(mean_squared_error(y,y_pred=y_pred))\n",
    "\n",
    "rmse = make_scorer(mean_sq_error)\n",
    "\n",
    "\n",
    "def regression_model(model, data, predictors, outcome):\n",
    "    scores = cross_val_score(model, data[predictors],data[outcome],cv=5,scoring=rmse)\n",
    "    for i in range(len(scores)):\n",
    "        print(\"CV %s\"%i + \" Score:%s\"%\"{0:.5}\".format(scores[i]) )\n",
    "        \n",
    "    print (\"Average RMSE Cross-Validation Score : %s\" % \"{0:.3}\".format(np.mean(scores)))"
   ]
  },
  {
   "cell_type": "markdown",
   "metadata": {},
   "source": [
    "## Fitting Models"
   ]
  },
  {
   "cell_type": "code",
   "execution_count": 109,
   "metadata": {
    "ExecuteTime": {
     "end_time": "2019-11-01T04:23:39.674612Z",
     "start_time": "2019-11-01T04:23:39.590667Z"
    }
   },
   "outputs": [],
   "source": [
    "all_variable=list(main_train)\n",
    "all_variable.remove('price')"
   ]
  },
  {
   "cell_type": "markdown",
   "metadata": {},
   "source": [
    "### Decision Tree"
   ]
  },
  {
   "cell_type": "code",
   "execution_count": 110,
   "metadata": {
    "ExecuteTime": {
     "end_time": "2019-11-01T04:23:40.144325Z",
     "start_time": "2019-11-01T04:23:39.678611Z"
    }
   },
   "outputs": [
    {
     "name": "stdout",
     "output_type": "stream",
     "text": [
      "CV 0 Score:0.37814\n",
      "CV 1 Score:0.39588\n",
      "CV 2 Score:0.39716\n",
      "CV 3 Score:0.38858\n",
      "CV 4 Score:0.37449\n",
      "Average RMSE Cross-Validation Score : 0.387\n"
     ]
    }
   ],
   "source": [
    "# DecisionTreeRegressor\n",
    "outcome_var = 'price'\n",
    "model = DecisionTreeRegressor()\n",
    "predictor_var = all_variable\n",
    "regression_model(model, main_train, predictor_var, outcome_var)"
   ]
  },
  {
   "cell_type": "markdown",
   "metadata": {},
   "source": [
    "### Random Forest"
   ]
  },
  {
   "cell_type": "code",
   "execution_count": 111,
   "metadata": {
    "ExecuteTime": {
     "end_time": "2019-11-01T04:24:00.184657Z",
     "start_time": "2019-11-01T04:23:40.148323Z"
    }
   },
   "outputs": [
    {
     "name": "stdout",
     "output_type": "stream",
     "text": [
      "CV 0 Score:0.28972\n",
      "CV 1 Score:0.29582\n",
      "CV 2 Score:0.30658\n",
      "CV 3 Score:0.29819\n",
      "CV 4 Score:0.29095\n",
      "Average RMSE Cross-Validation Score : 0.296\n"
     ]
    }
   ],
   "source": [
    "# Random Forest Regression\n",
    "outcome_var = 'price'\n",
    "model = RandomForestRegressor(n_estimators=200, random_state=0, n_jobs = -1)\n",
    "predictor_var = all_variable\n",
    "regression_model(model, main_train, predictor_var, outcome_var)"
   ]
  },
  {
   "cell_type": "markdown",
   "metadata": {},
   "source": [
    "### XGBoost"
   ]
  },
  {
   "cell_type": "code",
   "execution_count": 112,
   "metadata": {
    "ExecuteTime": {
     "end_time": "2019-11-01T04:24:20.530132Z",
     "start_time": "2019-11-01T04:24:00.187654Z"
    }
   },
   "outputs": [
    {
     "name": "stdout",
     "output_type": "stream",
     "text": [
      "[09:54:00] WARNING: C:/Jenkins/workspace/xgboost-win64_release_0.90/src/objective/regression_obj.cu:152: reg:linear is now deprecated in favor of reg:squarederror.\n",
      "[09:54:04] WARNING: C:/Jenkins/workspace/xgboost-win64_release_0.90/src/objective/regression_obj.cu:152: reg:linear is now deprecated in favor of reg:squarederror.\n",
      "[09:54:08] WARNING: C:/Jenkins/workspace/xgboost-win64_release_0.90/src/objective/regression_obj.cu:152: reg:linear is now deprecated in favor of reg:squarederror.\n",
      "[09:54:12] WARNING: C:/Jenkins/workspace/xgboost-win64_release_0.90/src/objective/regression_obj.cu:152: reg:linear is now deprecated in favor of reg:squarederror.\n",
      "[09:54:16] WARNING: C:/Jenkins/workspace/xgboost-win64_release_0.90/src/objective/regression_obj.cu:152: reg:linear is now deprecated in favor of reg:squarederror.\n",
      "CV 0 Score:0.2892\n",
      "CV 1 Score:0.29383\n",
      "CV 2 Score:0.30917\n",
      "CV 3 Score:0.30554\n",
      "CV 4 Score:0.2946\n",
      "Average RMSE Cross-Validation Score : 0.298\n"
     ]
    }
   ],
   "source": [
    "# XGBoost Regressor\n",
    "outcome_var = 'price'\n",
    "model = XGBRegressor(n_estimators=540,random_state=0,n_jobs=-1)\n",
    "predictor_var = all_variable\n",
    "regression_model(model, main_train, predictor_var, outcome_var)"
   ]
  },
  {
   "cell_type": "markdown",
   "metadata": {},
   "source": [
    "### LGBM"
   ]
  },
  {
   "cell_type": "code",
   "execution_count": 113,
   "metadata": {
    "ExecuteTime": {
     "end_time": "2019-11-01T04:24:26.275594Z",
     "start_time": "2019-11-01T04:24:20.533131Z"
    }
   },
   "outputs": [
    {
     "name": "stdout",
     "output_type": "stream",
     "text": [
      "CV 0 Score:0.28578\n",
      "CV 1 Score:0.29397\n",
      "CV 2 Score:0.30762\n",
      "CV 3 Score:0.2996\n",
      "CV 4 Score:0.28896\n",
      "Average RMSE Cross-Validation Score : 0.295\n"
     ]
    }
   ],
   "source": [
    "# LGBM Regressor\n",
    "outcome_var = 'price'\n",
    "model = LGBMRegressor(n_estimators=500)\n",
    "predictor_var = all_variable\n",
    "regression_model(model, main_train, predictor_var, outcome_var)"
   ]
  },
  {
   "cell_type": "markdown",
   "metadata": {},
   "source": [
    "We can see that all the ensemble models are giving similar cross validation score of ~0.29 without much hyper parameter tuning."
   ]
  },
  {
   "cell_type": "markdown",
   "metadata": {},
   "source": [
    "## Hyper Parameter Tuning"
   ]
  },
  {
   "cell_type": "markdown",
   "metadata": {},
   "source": [
    "### Randomised Search"
   ]
  },
  {
   "cell_type": "code",
   "execution_count": 114,
   "metadata": {
    "ExecuteTime": {
     "end_time": "2019-11-01T04:24:26.284589Z",
     "start_time": "2019-11-01T04:24:26.278593Z"
    }
   },
   "outputs": [],
   "source": [
    "from sklearn.model_selection import RandomizedSearchCV"
   ]
  },
  {
   "cell_type": "code",
   "execution_count": 115,
   "metadata": {
    "ExecuteTime": {
     "end_time": "2019-11-01T04:24:26.344552Z",
     "start_time": "2019-11-01T04:24:26.287588Z"
    }
   },
   "outputs": [],
   "source": [
    "# Number of trees in random forest\n",
    "n_estimators = list(np.arange(160,400,100))\n",
    "\n",
    "# Number of features to consider at every split\n",
    "max_features = ['auto', 'sqrt']\n",
    "\n",
    "# Maximum number of levels in tree\n",
    "max_depth = [int(x) for x in np.linspace(10, 80, num = 5)]\n",
    "max_depth.append(None)\n",
    "\n",
    "# Minimum number of samples required to split a node\n",
    "min_samples_split = [2, 5, 10]\n",
    "\n",
    "# Minimum number of samples required at each leaf node\n",
    "min_samples_leaf = [1, 2, 4]\n",
    "\n",
    "# Method of selecting samples for training each tree\n",
    "bootstrap = [True, False]"
   ]
  },
  {
   "cell_type": "code",
   "execution_count": 116,
   "metadata": {
    "ExecuteTime": {
     "end_time": "2019-11-01T04:24:26.409516Z",
     "start_time": "2019-11-01T04:24:26.347550Z"
    }
   },
   "outputs": [],
   "source": [
    "# Create the random grid\n",
    "random_grid = {'n_estimators': n_estimators,\n",
    "               'max_features': max_features,\n",
    "               'max_depth': max_depth,\n",
    "               'min_samples_split': min_samples_split,\n",
    "               'min_samples_leaf': min_samples_leaf,\n",
    "               'bootstrap': bootstrap}"
   ]
  },
  {
   "cell_type": "code",
   "execution_count": 117,
   "metadata": {
    "ExecuteTime": {
     "end_time": "2019-11-01T04:24:26.497459Z",
     "start_time": "2019-11-01T04:24:26.412515Z"
    }
   },
   "outputs": [
    {
     "data": {
      "text/plain": [
       "{'n_estimators': [160, 260, 360],\n",
       " 'max_features': ['auto', 'sqrt'],\n",
       " 'max_depth': [10, 27, 45, 62, 80, None],\n",
       " 'min_samples_split': [2, 5, 10],\n",
       " 'min_samples_leaf': [1, 2, 4],\n",
       " 'bootstrap': [True, False]}"
      ]
     },
     "execution_count": 117,
     "metadata": {},
     "output_type": "execute_result"
    }
   ],
   "source": [
    "random_grid"
   ]
  },
  {
   "cell_type": "code",
   "execution_count": 118,
   "metadata": {
    "ExecuteTime": {
     "end_time": "2019-11-01T04:27:56.237399Z",
     "start_time": "2019-11-01T04:24:26.501458Z"
    },
    "scrolled": true
   },
   "outputs": [
    {
     "name": "stdout",
     "output_type": "stream",
     "text": [
      "Fitting 3 folds for each of 33 candidates, totalling 99 fits\n"
     ]
    },
    {
     "name": "stderr",
     "output_type": "stream",
     "text": [
      "[Parallel(n_jobs=-1)]: Done  10 tasks      | elapsed:   22.5s\n",
      "[Parallel(n_jobs=-1)]: Done  64 tasks      | elapsed:  2.2min\n",
      "[Parallel(n_jobs=-1)]: Done  99 out of  99 | elapsed:  3.4min finished\n"
     ]
    },
    {
     "data": {
      "text/plain": [
       "209.6670045"
      ]
     },
     "execution_count": 118,
     "metadata": {},
     "output_type": "execute_result"
    }
   ],
   "source": [
    "import time\n",
    "start = time.clock()\n",
    "\n",
    "# Use the random grid to search for best hyperparameters\n",
    "# First create the base model to tune\n",
    "\n",
    "rf1 = RandomForestRegressor()\n",
    "# Random search of parameters, using 3 fold cross validation,\n",
    "# search across 100 different combinations, and use all available cores\n",
    "rf_random = RandomizedSearchCV(estimator=rf1,\n",
    "                               param_distributions=random_grid,\n",
    "                               n_iter=33,\n",
    "                               cv=3,\n",
    "                               verbose=5,\n",
    "                               random_state=0,\n",
    "                               n_jobs=-1,\n",
    "                               scoring=\"neg_mean_squared_error\")\n",
    "\n",
    "# Fit the random search model\n",
    "rf_random.fit(X, Y)\n",
    "\n",
    "end = time.clock()\n",
    "end - start"
   ]
  },
  {
   "cell_type": "code",
   "execution_count": 119,
   "metadata": {
    "ExecuteTime": {
     "end_time": "2019-11-01T04:28:10.788596Z",
     "start_time": "2019-11-01T04:27:56.240400Z"
    }
   },
   "outputs": [
    {
     "name": "stdout",
     "output_type": "stream",
     "text": [
      "CV 0 Score:0.27769\n",
      "CV 1 Score:0.2857\n",
      "CV 2 Score:0.30269\n",
      "CV 3 Score:0.29342\n",
      "CV 4 Score:0.29017\n",
      "Average RMSE Cross-Validation Score : 0.29\n"
     ]
    }
   ],
   "source": [
    "# Random Forest Regression\n",
    "outcome_var = 'price'\n",
    "model = rf_random.best_estimator_\n",
    "predictor_var = all_variable\n",
    "regression_model(model, main_train, predictor_var, outcome_var)"
   ]
  },
  {
   "cell_type": "code",
   "execution_count": 120,
   "metadata": {
    "ExecuteTime": {
     "end_time": "2019-11-01T04:28:13.608195Z",
     "start_time": "2019-11-01T04:28:10.791595Z"
    }
   },
   "outputs": [
    {
     "data": {
      "text/plain": [
       "RandomForestRegressor(bootstrap=True, criterion='mse', max_depth=27,\n",
       "           max_features='sqrt', max_leaf_nodes=None,\n",
       "           min_impurity_decrease=0.0, min_impurity_split=None,\n",
       "           min_samples_leaf=1, min_samples_split=5,\n",
       "           min_weight_fraction_leaf=0.0, n_estimators=260, n_jobs=1,\n",
       "           oob_score=False, random_state=None, verbose=0, warm_start=False)"
      ]
     },
     "execution_count": 120,
     "metadata": {},
     "output_type": "execute_result"
    }
   ],
   "source": [
    "rf1_main=rf_random.best_estimator_\n",
    "rf1_main.fit(X_train, y_train)"
   ]
  },
  {
   "cell_type": "code",
   "execution_count": 121,
   "metadata": {
    "ExecuteTime": {
     "end_time": "2019-11-01T04:28:13.761203Z",
     "start_time": "2019-11-01T04:28:13.611192Z"
    }
   },
   "outputs": [
    {
     "name": "stdout",
     "output_type": "stream",
     "text": [
      "0.2921994409239012\n"
     ]
    }
   ],
   "source": [
    "predictions=rf1_main.predict(X_test)\n",
    "\n",
    "print(np.sqrt(metrics.mean_squared_error(y_test,predictions)))"
   ]
  },
  {
   "cell_type": "code",
   "execution_count": 143,
   "metadata": {
    "ExecuteTime": {
     "end_time": "2019-11-01T15:46:37.486698Z",
     "start_time": "2019-11-01T15:46:37.481699Z"
    },
    "scrolled": true
   },
   "outputs": [],
   "source": [
    "estimators = np.arange(200, 930, 40) #850 #880\n",
    "\n",
    "model=RandomForestRegressor()\n",
    "\n",
    "rmse_scores = []\n",
    "for n in estimators:\n",
    "    model.set_params(bootstrap=True, criterion='mse', max_depth=None,\n",
    "           max_features='sqrt', max_leaf_nodes=None,\n",
    "           min_impurity_decrease=0.0, min_impurity_split=None,\n",
    "           min_samples_leaf=2, min_samples_split=2,\n",
    "           min_weight_fraction_leaf=0.0, n_estimators=n, n_jobs=-1,\n",
    "           oob_score=False, random_state=None, warm_start=False)\n",
    "    model.fit(X_train, y_train)\n",
    "    predictions=model.predict(X_test)\n",
    "    rmse_scores.append(np.sqrt(metrics.mean_squared_error(y_test,predictions)))"
   ]
  },
  {
   "cell_type": "code",
   "execution_count": 142,
   "metadata": {
    "ExecuteTime": {
     "end_time": "2019-11-01T15:46:16.400823Z",
     "start_time": "2019-11-01T15:46:15.940989Z"
    },
    "scrolled": true
   },
   "outputs": [
    {
     "data": {
      "text/plain": [
       "[<matplotlib.lines.Line2D at 0x2f03cbf4be0>]"
      ]
     },
     "execution_count": 142,
     "metadata": {},
     "output_type": "execute_result"
    },
    {
     "data": {
      "image/png": "[encoded data removed]",
      "text/plain": [
       "<Figure size 2160x720 with 1 Axes>"
      ]
     },
     "metadata": {},
     "output_type": "display_data"
    }
   ],
   "source": [
    "plt.figure(figsize=(30,10))\n",
    "plt.title(\"Effect of Estimators\")\n",
    "plt.xlabel(\"Number of Estimators\")\n",
    "plt.ylabel(\"RMSE\")\n",
    "plt.plot(estimators, rmse_scores)"
   ]
  },
  {
   "cell_type": "markdown",
   "metadata": {},
   "source": [
    "### Grid Search"
   ]
  },
  {
   "cell_type": "code",
   "execution_count": 122,
   "metadata": {
    "ExecuteTime": {
     "end_time": "2019-11-01T04:28:13.769200Z",
     "start_time": "2019-11-01T04:28:13.764202Z"
    }
   },
   "outputs": [],
   "source": [
    "from sklearn.model_selection import GridSearchCV"
   ]
  },
  {
   "cell_type": "code",
   "execution_count": 123,
   "metadata": {
    "ExecuteTime": {
     "end_time": "2019-11-01T04:28:13.852146Z",
     "start_time": "2019-11-01T04:28:13.772199Z"
    }
   },
   "outputs": [],
   "source": [
    "XG_grid = {\"learning_rate\":[0.01,0.05,0.1],\n",
    "           \"n_estimators\":[600],\n",
    "           \"silent\":[True],\n",
    "           \"n_jobs\":[-1],\n",
    "           \"min_child_weight\":[1,3],\n",
    "           \"max_depth\":[4,6],\n",
    "           \"booster\":['gbtree'],\n",
    "           \"gamma\":[0.01,0.1],\n",
    "           \"colsample_bytree\":[0.8],\n",
    "          \"subsample\":[0.75,0.85]}"
   ]
  },
  {
   "cell_type": "code",
   "execution_count": 124,
   "metadata": {
    "ExecuteTime": {
     "end_time": "2019-11-01T04:39:34.760634Z",
     "start_time": "2019-11-01T04:28:13.855145Z"
    },
    "scrolled": true
   },
   "outputs": [
    {
     "name": "stdout",
     "output_type": "stream",
     "text": [
      "Fitting 4 folds for each of 48 candidates, totalling 192 fits\n"
     ]
    },
    {
     "name": "stderr",
     "output_type": "stream",
     "text": [
      "[Parallel(n_jobs=-1)]: Done  10 tasks      | elapsed:   38.2s\n",
      "[Parallel(n_jobs=-1)]: Done  64 tasks      | elapsed:  3.9min\n",
      "[Parallel(n_jobs=-1)]: Done 154 tasks      | elapsed:  9.1min\n",
      "[Parallel(n_jobs=-1)]: Done 192 out of 192 | elapsed: 11.2min finished\n"
     ]
    },
    {
     "data": {
      "text/plain": [
       "680.8390551"
      ]
     },
     "execution_count": 124,
     "metadata": {},
     "output_type": "execute_result"
    }
   ],
   "source": [
    "import time\n",
    "start = time.clock()\n",
    "\n",
    "\n",
    "XG=XGBRegressor()\n",
    "\n",
    "XG_Boost = GridSearchCV(estimator=XG,\n",
    "                        param_grid=XG_grid,\n",
    "                        n_jobs=-1,\n",
    "                        cv=4,\n",
    "                        scoring=\"neg_mean_squared_error\",\n",
    "                        verbose=5)\n",
    "\n",
    "\n",
    "XG_Boost.fit(X,Y)\n",
    "\n",
    "end = time.clock()\n",
    "end - start"
   ]
  },
  {
   "cell_type": "code",
   "execution_count": 125,
   "metadata": {
    "ExecuteTime": {
     "end_time": "2019-11-01T04:39:34.766633Z",
     "start_time": "2019-11-01T04:39:34.763633Z"
    },
    "scrolled": true
   },
   "outputs": [],
   "source": [
    "# cv_results = XG_Boost.cv_results_\n",
    "# for mean_score, params in zip(cv_results[\"mean_test_score\"], cv_results[\"params\"]):\n",
    "#     print(np.sqrt(-mean_score), params)"
   ]
  },
  {
   "cell_type": "code",
   "execution_count": 126,
   "metadata": {
    "ExecuteTime": {
     "end_time": "2019-11-01T04:39:58.916764Z",
     "start_time": "2019-11-01T04:39:34.769630Z"
    }
   },
   "outputs": [
    {
     "name": "stdout",
     "output_type": "stream",
     "text": [
      "CV 0 Score:0.28537\n",
      "CV 1 Score:0.29053\n",
      "CV 2 Score:0.30411\n",
      "CV 3 Score:0.29754\n",
      "CV 4 Score:0.28717\n",
      "Average RMSE Cross-Validation Score : 0.293\n"
     ]
    }
   ],
   "source": [
    "# XGBoost Regression\n",
    "rmse = make_scorer(mean_sq_error,greater_is_better=True)\n",
    "outcome_var = 'price'\n",
    "model = XG_Boost.best_estimator_\n",
    "predictor_var = all_variable\n",
    "regression_model(model, main_train, predictor_var, outcome_var)"
   ]
  },
  {
   "cell_type": "code",
   "execution_count": 127,
   "metadata": {
    "ExecuteTime": {
     "end_time": "2019-11-01T04:40:03.734799Z",
     "start_time": "2019-11-01T04:39:58.919762Z"
    }
   },
   "outputs": [
    {
     "data": {
      "text/plain": [
       "XGBRegressor(base_score=0.5, booster='gbtree', colsample_bylevel=1,\n",
       "       colsample_bynode=1, colsample_bytree=0.8, gamma=0.01,\n",
       "       importance_type='gain', learning_rate=0.05, max_delta_step=0,\n",
       "       max_depth=6, min_child_weight=1, missing=None, n_estimators=600,\n",
       "       n_jobs=-1, nthread=None, objective='reg:linear', random_state=0,\n",
       "       reg_alpha=0, reg_lambda=1, scale_pos_weight=1, seed=None,\n",
       "       silent=True, subsample=0.85, verbosity=1)"
      ]
     },
     "execution_count": 127,
     "metadata": {},
     "output_type": "execute_result"
    }
   ],
   "source": [
    "# XG_Boost1=XG_Boost.best_estimator_\n",
    "XG_Boost1 = XGBRegressor(base_score=0.5, booster='gbtree', colsample_bylevel=1,\n",
    "                           colsample_bynode=1, colsample_bytree=0.8, gamma=0.01,\n",
    "                           importance_type='gain', learning_rate=0.05, max_delta_step=0,\n",
    "                           max_depth=6, min_child_weight=1, missing=None, n_estimators=600,\n",
    "                           n_jobs=-1, nthread=None, objective='reg:linear', random_state=0,\n",
    "                           reg_alpha=0, reg_lambda=1, scale_pos_weight=1, seed=None,\n",
    "                           silent=True, subsample=0.85, verbosity=1)\n",
    "\n",
    "XG_Boost1.fit(X_train, y_train)"
   ]
  },
  {
   "cell_type": "code",
   "execution_count": 128,
   "metadata": {
    "ExecuteTime": {
     "end_time": "2019-11-01T04:40:03.790764Z",
     "start_time": "2019-11-01T04:40:03.737797Z"
    }
   },
   "outputs": [
    {
     "name": "stdout",
     "output_type": "stream",
     "text": [
      "0.29364260042849566\n"
     ]
    }
   ],
   "source": [
    "predictions=XG_Boost1.predict(X_test)\n",
    "\n",
    "#RMSE\n",
    "print(np.sqrt(metrics.mean_squared_error(y_test,predictions)))"
   ]
  },
  {
   "cell_type": "markdown",
   "metadata": {},
   "source": [
    "## Feature Importance"
   ]
  },
  {
   "cell_type": "markdown",
   "metadata": {},
   "source": [
    "### Random Forest"
   ]
  },
  {
   "cell_type": "code",
   "execution_count": 129,
   "metadata": {
    "ExecuteTime": {
     "end_time": "2019-11-01T04:40:04.189520Z",
     "start_time": "2019-11-01T04:40:03.793763Z"
    }
   },
   "outputs": [
    {
     "data": {
      "image/png": "[encoded data removed]",
      "text/plain": [
       "<Figure size 432x288 with 1 Axes>"
      ]
     },
     "metadata": {},
     "output_type": "display_data"
    }
   ],
   "source": [
    "features = X_train.columns\n",
    "importances = rf1_main.feature_importances_\n",
    "indices = np.argsort(importances)\n",
    "\n",
    "plt.title('Feature Importances')\n",
    "plt.barh(range(len(indices)), importances[indices], color='b', align='center')\n",
    "plt.yticks(range(len(indices)), [features[i] for i in indices])\n",
    "plt.xlabel('Relative Importance')\n",
    "plt.show()"
   ]
  },
  {
   "cell_type": "markdown",
   "metadata": {},
   "source": [
    "### XGBoost"
   ]
  },
  {
   "cell_type": "code",
   "execution_count": 130,
   "metadata": {
    "ExecuteTime": {
     "end_time": "2019-11-01T04:40:04.197515Z",
     "start_time": "2019-11-01T04:40:04.192520Z"
    }
   },
   "outputs": [],
   "source": [
    "from xgboost import plot_importance"
   ]
  },
  {
   "cell_type": "code",
   "execution_count": 131,
   "metadata": {
    "ExecuteTime": {
     "end_time": "2019-11-01T04:40:04.762699Z",
     "start_time": "2019-11-01T04:40:04.201513Z"
    }
   },
   "outputs": [
    {
     "data": {
      "text/plain": [
       "<matplotlib.axes._subplots.AxesSubplot at 0x2f02e777b38>"
      ]
     },
     "execution_count": 131,
     "metadata": {},
     "output_type": "execute_result"
    },
    {
     "data": {
      "image/png": "[encoded data removed]",
      "text/plain": [
       "<Figure size 432x288 with 1 Axes>"
      ]
     },
     "metadata": {},
     "output_type": "display_data"
    }
   ],
   "source": [
    "plot_importance(XG_Boost1)"
   ]
  },
  {
   "cell_type": "markdown",
   "metadata": {},
   "source": [
    "## Recursive Feature Elimination"
   ]
  },
  {
   "cell_type": "code",
   "execution_count": 132,
   "metadata": {
    "ExecuteTime": {
     "end_time": "2019-11-01T04:40:04.769693Z",
     "start_time": "2019-11-01T04:40:04.764697Z"
    }
   },
   "outputs": [],
   "source": [
    "from sklearn.feature_selection import RFECV"
   ]
  },
  {
   "cell_type": "markdown",
   "metadata": {},
   "source": [
    "### Random Forest"
   ]
  },
  {
   "cell_type": "code",
   "execution_count": 133,
   "metadata": {
    "ExecuteTime": {
     "end_time": "2019-11-01T04:40:30.262782Z",
     "start_time": "2019-11-01T04:40:04.772696Z"
    }
   },
   "outputs": [
    {
     "data": {
      "text/plain": [
       "RFECV(cv=3,\n",
       "   estimator=RandomForestRegressor(bootstrap=True, criterion='mse', max_depth=27,\n",
       "           max_features='sqrt', max_leaf_nodes=None,\n",
       "           min_impurity_decrease=0.0, min_impurity_split=None,\n",
       "           min_samples_leaf=1, min_samples_split=5,\n",
       "           min_weight_fraction_leaf=0.0, n_estimators=260, n_jobs=1,\n",
       "           oob_score=False, random_state=None, verbose=0, warm_start=False),\n",
       "   n_jobs=-1, scoring='neg_mean_squared_error', step=3, verbose=50)"
      ]
     },
     "execution_count": 133,
     "metadata": {},
     "output_type": "execute_result"
    }
   ],
   "source": [
    "RFE = RFECV(rf1_main, step=3, cv=3, n_jobs=-1,\n",
    "            scoring=\"neg_mean_squared_error\", verbose=50)\n",
    "\n",
    "RFE.fit(X=X_train, y=y_train)"
   ]
  },
  {
   "cell_type": "code",
   "execution_count": 134,
   "metadata": {
    "ExecuteTime": {
     "end_time": "2019-11-01T04:40:30.272775Z",
     "start_time": "2019-11-01T04:40:30.265778Z"
    }
   },
   "outputs": [
    {
     "data": {
      "text/plain": [
       "array([ True,  True,  True,  True,  True,  True,  True,  True,  True,\n",
       "        True,  True])"
      ]
     },
     "execution_count": 134,
     "metadata": {},
     "output_type": "execute_result"
    }
   ],
   "source": [
    "RFE.support_"
   ]
  },
  {
   "cell_type": "code",
   "execution_count": 135,
   "metadata": {
    "ExecuteTime": {
     "end_time": "2019-11-01T04:40:30.676696Z",
     "start_time": "2019-11-01T04:40:30.275775Z"
    }
   },
   "outputs": [],
   "source": [
    "selected_feature_rf = dict(zip(X_train.columns,RFE.support_))\n",
    "\n",
    "selected_rf = []\n",
    "for k,v in selected_feature_rf.items():\n",
    "    if (v==True):\n",
    "        selected_rf.append(k)"
   ]
  },
  {
   "cell_type": "code",
   "execution_count": 136,
   "metadata": {
    "ExecuteTime": {
     "end_time": "2019-11-01T04:40:30.758638Z",
     "start_time": "2019-11-01T04:40:30.688683Z"
    }
   },
   "outputs": [
    {
     "data": {
      "text/plain": [
       "['availability',\n",
       " 'size',\n",
       " 'society',\n",
       " 'total_sqft',\n",
       " 'bath',\n",
       " 'balcony',\n",
       " 'avg_price_per_loc',\n",
       " 'area_type_Built-up  Area',\n",
       " 'area_type_Carpet  Area',\n",
       " 'area_type_Plot  Area',\n",
       " 'area_type_Super built-up  Area']"
      ]
     },
     "execution_count": 136,
     "metadata": {},
     "output_type": "execute_result"
    }
   ],
   "source": [
    "selected_rf"
   ]
  },
  {
   "cell_type": "markdown",
   "metadata": {},
   "source": [
    "This means that all the features are contributing to the model."
   ]
  },
  {
   "cell_type": "markdown",
   "metadata": {},
   "source": [
    "### XGBoost"
   ]
  },
  {
   "cell_type": "code",
   "execution_count": 137,
   "metadata": {
    "ExecuteTime": {
     "end_time": "2019-11-01T04:41:14.395782Z",
     "start_time": "2019-11-01T04:40:30.761638Z"
    }
   },
   "outputs": [
    {
     "data": {
      "text/plain": [
       "RFECV(cv=3,\n",
       "   estimator=XGBRegressor(base_score=0.5, booster='gbtree', colsample_bylevel=1,\n",
       "       colsample_bynode=1, colsample_bytree=0.8, gamma=0.01,\n",
       "       importance_type='gain', learning_rate=0.05, max_delta_step=0,\n",
       "       max_depth=6, min_child_weight=1, missing=None, n_estimators=600,\n",
       "       n_jobs=-1, nthread=None, objective='reg:linear', random_state=0,\n",
       "       reg_alpha=0, reg_lambda=1, scale_pos_weight=1, seed=None,\n",
       "       silent=True, subsample=0.85, verbosity=1),\n",
       "   n_jobs=-1, scoring='neg_mean_squared_error', step=3, verbose=50)"
      ]
     },
     "execution_count": 137,
     "metadata": {},
     "output_type": "execute_result"
    }
   ],
   "source": [
    "RFE = RFECV(XG_Boost1, step=3, cv=3, n_jobs=-1,\n",
    "            scoring=\"neg_mean_squared_error\", verbose=50)\n",
    "\n",
    "RFE.fit(X=X_train, y=y_train)"
   ]
  },
  {
   "cell_type": "code",
   "execution_count": 138,
   "metadata": {
    "ExecuteTime": {
     "end_time": "2019-11-01T04:41:14.405776Z",
     "start_time": "2019-11-01T04:41:14.398782Z"
    }
   },
   "outputs": [
    {
     "data": {
      "text/plain": [
       "array([ True,  True,  True,  True,  True,  True,  True,  True,  True,\n",
       "        True,  True])"
      ]
     },
     "execution_count": 138,
     "metadata": {},
     "output_type": "execute_result"
    }
   ],
   "source": [
    "RFE.support_"
   ]
  },
  {
   "cell_type": "code",
   "execution_count": 139,
   "metadata": {
    "ExecuteTime": {
     "end_time": "2019-11-01T04:41:14.491815Z",
     "start_time": "2019-11-01T04:41:14.409776Z"
    }
   },
   "outputs": [],
   "source": [
    "selected_feature_xgb = dict(zip(X_train.columns,RFE.support_))\n",
    "\n",
    "selected_xgb = []\n",
    "for k,v in selected_feature_xgb.items():\n",
    "    if (v==True):\n",
    "        selected_xgb.append(k)"
   ]
  },
  {
   "cell_type": "code",
   "execution_count": 140,
   "metadata": {
    "ExecuteTime": {
     "end_time": "2019-11-01T04:41:14.577672Z",
     "start_time": "2019-11-01T04:41:14.494723Z"
    },
    "scrolled": true
   },
   "outputs": [
    {
     "data": {
      "text/plain": [
       "['availability',\n",
       " 'size',\n",
       " 'society',\n",
       " 'total_sqft',\n",
       " 'bath',\n",
       " 'balcony',\n",
       " 'avg_price_per_loc',\n",
       " 'area_type_Built-up  Area',\n",
       " 'area_type_Carpet  Area',\n",
       " 'area_type_Plot  Area',\n",
       " 'area_type_Super built-up  Area']"
      ]
     },
     "execution_count": 140,
     "metadata": {},
     "output_type": "execute_result"
    }
   ],
   "source": [
    "selected_xgb"
   ]
  },
  {
   "cell_type": "markdown",
   "metadata": {},
   "source": [
    "This means that all the features are contributing to the model."
   ]
  },
  {
   "cell_type": "markdown",
   "metadata": {},
   "source": [
    "# Final Results"
   ]
  },
  {
   "cell_type": "markdown",
   "metadata": {},
   "source": [
    "Analyzing the results above, almost all models are giving similar rmse. We find that Random Forest model is performing best with least rmse of 0.292. So, we'll select the parameters of that model to train the final model to predict the test dataset."
   ]
  },
  {
   "cell_type": "code",
   "execution_count": 144,
   "metadata": {
    "ExecuteTime": {
     "end_time": "2019-11-01T16:12:09.808127Z",
     "start_time": "2019-11-01T16:12:09.795136Z"
    }
   },
   "outputs": [],
   "source": [
    "RF = RandomForestRegressor(bootstrap=True,\n",
    "                           criterion='mse',\n",
    "                           max_depth=27,\n",
    "                           max_features='sqrt',\n",
    "                           max_leaf_nodes=None,\n",
    "                           min_impurity_decrease=0.0,\n",
    "                           min_impurity_split=None,\n",
    "                           min_samples_leaf=1,\n",
    "                           min_samples_split=5,\n",
    "                           min_weight_fraction_leaf=0.0,\n",
    "                           n_estimators=260,\n",
    "                           n_jobs=1,\n",
    "                           oob_score=False,\n",
    "                           random_state=None,\n",
    "                           verbose=0,\n",
    "                           warm_start=False)"
   ]
  },
  {
   "cell_type": "code",
   "execution_count": 145,
   "metadata": {
    "ExecuteTime": {
     "end_time": "2019-11-01T16:32:36.871075Z",
     "start_time": "2019-11-01T16:32:36.862082Z"
    }
   },
   "outputs": [],
   "source": [
    "X_train = main_train.drop('price', axis=1)\n",
    "y_train = main_train['price']\n",
    "\n",
    "X_test = main_test.drop('price', axis=1)"
   ]
  },
  {
   "cell_type": "code",
   "execution_count": 146,
   "metadata": {
    "ExecuteTime": {
     "end_time": "2019-11-01T16:33:34.162689Z",
     "start_time": "2019-11-01T16:33:30.167149Z"
    }
   },
   "outputs": [
    {
     "data": {
      "text/plain": [
       "RandomForestRegressor(bootstrap=True, criterion='mse', max_depth=27,\n",
       "           max_features='sqrt', max_leaf_nodes=None,\n",
       "           min_impurity_decrease=0.0, min_impurity_split=None,\n",
       "           min_samples_leaf=1, min_samples_split=5,\n",
       "           min_weight_fraction_leaf=0.0, n_estimators=260, n_jobs=1,\n",
       "           oob_score=False, random_state=None, verbose=0, warm_start=False)"
      ]
     },
     "execution_count": 146,
     "metadata": {},
     "output_type": "execute_result"
    }
   ],
   "source": [
    "RF.fit(X_train, y_train)"
   ]
  },
  {
   "cell_type": "code",
   "execution_count": 148,
   "metadata": {
    "ExecuteTime": {
     "end_time": "2019-11-01T16:35:56.026741Z",
     "start_time": "2019-11-01T16:35:55.890828Z"
    }
   },
   "outputs": [],
   "source": [
    "final_predictions = RF.predict(X_test)"
   ]
  },
  {
   "cell_type": "code",
   "execution_count": 155,
   "metadata": {
    "ExecuteTime": {
     "end_time": "2019-11-01T20:22:45.772142Z",
     "start_time": "2019-11-01T20:22:45.754157Z"
    }
   },
   "outputs": [
    {
     "data": {
      "text/html": [
       "<div>\n",
       "<style scoped>\n",
       "    .dataframe tbody tr th:only-of-type {\n",
       "        vertical-align: middle;\n",
       "    }\n",
       "\n",
       "    .dataframe tbody tr th {\n",
       "        vertical-align: top;\n",
       "    }\n",
       "\n",
       "    .dataframe thead th {\n",
       "        text-align: right;\n",
       "    }\n",
       "</style>\n",
       "<table border=\"1\" class=\"dataframe\">\n",
       "  <thead>\n",
       "    <tr style=\"text-align: right;\">\n",
       "      <th></th>\n",
       "      <th>log_price</th>\n",
       "      <th>price</th>\n",
       "    </tr>\n",
       "  </thead>\n",
       "  <tbody>\n",
       "    <tr>\n",
       "      <th>0</th>\n",
       "      <td>4.142000</td>\n",
       "      <td>62.928347</td>\n",
       "    </tr>\n",
       "    <tr>\n",
       "      <th>1</th>\n",
       "      <td>5.478141</td>\n",
       "      <td>239.400284</td>\n",
       "    </tr>\n",
       "    <tr>\n",
       "      <th>2</th>\n",
       "      <td>5.354329</td>\n",
       "      <td>211.521305</td>\n",
       "    </tr>\n",
       "    <tr>\n",
       "      <th>3</th>\n",
       "      <td>4.014180</td>\n",
       "      <td>55.377733</td>\n",
       "    </tr>\n",
       "    <tr>\n",
       "      <th>4</th>\n",
       "      <td>3.975499</td>\n",
       "      <td>53.276554</td>\n",
       "    </tr>\n",
       "  </tbody>\n",
       "</table>\n",
       "</div>"
      ],
      "text/plain": [
       "   log_price       price\n",
       "0   4.142000   62.928347\n",
       "1   5.478141  239.400284\n",
       "2   5.354329  211.521305\n",
       "3   4.014180   55.377733\n",
       "4   3.975499   53.276554"
      ]
     },
     "execution_count": 155,
     "metadata": {},
     "output_type": "execute_result"
    }
   ],
   "source": [
    "pred_df = pd.DataFrame({'log_price': final_predictions})\n",
    "\n",
    "pred_df['price'] = pred_df['log_price'].apply(lambda x: 2.71828**x)\n",
    "\n",
    "pred_df.head()"
   ]
  },
  {
   "cell_type": "markdown",
   "metadata": {},
   "source": [
    "-----------------------------------------------------End-----------------------------------------------------"
   ]
  }
 ],
 "metadata": {
  "kernelspec": {
   "display_name": "Python 3",
   "language": "python",
   "name": "python3"
  },
  "language_info": {
   "codemirror_mode": {
    "name": "ipython",
    "version": 3
   },
   "file_extension": ".py",
   "mimetype": "text/x-python",
   "name": "python",
   "nbconvert_exporter": "python",
   "pygments_lexer": "ipython3",
   "version": "3.6.5"
  },
  "toc": {
   "base_numbering": 1,
   "nav_menu": {},
   "number_sections": true,
   "sideBar": true,
   "skip_h1_title": false,
   "title_cell": "Table of Contents",
   "title_sidebar": "Contents",
   "toc_cell": false,
   "toc_position": {
    "height": "calc(100% - 180px)",
    "left": "10px",
    "top": "150px",
    "width": "257px"
   },
   "toc_section_display": true,
   "toc_window_display": true
  }
 },
 "nbformat": 4,
 "nbformat_minor": 2
}
