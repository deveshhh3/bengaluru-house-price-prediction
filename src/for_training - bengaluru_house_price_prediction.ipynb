{
 "cells": [
  {
   "cell_type": "markdown",
   "metadata": {},
   "source": [
    "<strong> Bengaluru House Price Prediction </strong>"
   ]
  },
  {
   "cell_type": "markdown",
   "metadata": {},
   "source": [
    "<b> Data: </b>\n",
    "\n",
    "The train and test data will consist of various features that describe that property in Bengaluru. This is an actual data set that is curated over months of primary & secondary research by our team. Each row contains fixed size object of features. There are 9 features and each feature can be accessed by its name.\n",
    "\n",
    "<b>Features:</b>\n",
    "\n",
    "- Area_type – describes the area\n",
    "- Availability – when it can be possessed or when it is ready(categorical and time-series)\n",
    "- Location – where it is located in Bengaluru\n",
    "- Price – Value of the property in lakhs(INR)\n",
    "- Size – in BHK or Bedroom (1-10 or more)\n",
    "- Society – to which society it belongs\n",
    "- Total_sqft – size of the property in sq.ft\n",
    "- Bath – No. of bathrooms\n",
    "- Balcony – No. of the balcony\n",
    "\n",
    "<b>Problem Statement:</b>\n",
    "\n",
    "With the given 9 features(categorical and continuous) build a model to predict the price of houses in Bengaluru."
   ]
  },
  {
   "cell_type": "markdown",
   "metadata": {},
   "source": [
    "# Imports - DAY 1"
   ]
  },
  {
   "cell_type": "code",
   "execution_count": 1,
   "metadata": {
    "ExecuteTime": {
     "end_time": "2021-05-17T04:19:47.088750Z",
     "start_time": "2021-05-17T04:19:28.430279Z"
    }
   },
   "outputs": [],
   "source": [
    "import numpy as np\n",
    "import pandas as pd\n",
    "import string\n",
    "import matplotlib.pyplot as plt\n",
    "import seaborn as sns\n",
    "import math\n",
    "\n",
    "from IPython.core.interactiveshell import InteractiveShell\n",
    "InteractiveShell.ast_node_interactivity = \"all\"\n",
    "\n",
    "import warnings\n",
    "warnings.filterwarnings('ignore')"
   ]
  },
  {
   "cell_type": "markdown",
   "metadata": {},
   "source": [
    "## Discussion\n",
    "- RapidMiner Interface\n",
    "- Operators and Processes, Data Load Type\n",
    "## Hands On\n",
    "- Load  train and test dataframes \n",
    "- Merge the 2 datasets into 1 and create a new column to specify the source of the data, name the column as \"data_category\"\n",
    "    - Use Values under \"data_category\" - \"train\" and \"test\" respectively\n",
    "        \n",
    "- Remove \"s_no\" column from the dataset, it has no use"
   ]
  },
  {
   "cell_type": "markdown",
   "metadata": {},
   "source": [
    "# Data Loads"
   ]
  },
  {
   "cell_type": "code",
   "execution_count": 2,
   "metadata": {
    "ExecuteTime": {
     "end_time": "2021-05-17T04:19:48.659463Z",
     "start_time": "2021-05-17T04:19:48.555194Z"
    }
   },
   "outputs": [],
   "source": [
    "train_data=pd.read_csv(r\"..\\data\\raw\\train_data.csv\") #Load train and test data in RapidMiner - Load it in repository\n",
    "test_data=pd.read_csv(r\"..\\data\\raw\\test_data.csv\")"
   ]
  },
  {
   "cell_type": "code",
   "execution_count": 3,
   "metadata": {
    "ExecuteTime": {
     "end_time": "2021-05-17T04:19:49.138251Z",
     "start_time": "2021-05-17T04:19:49.088130Z"
    },
    "scrolled": true
   },
   "outputs": [
    {
     "data": {
      "text/html": [
       "<div>\n",
       "<style scoped>\n",
       "    .dataframe tbody tr th:only-of-type {\n",
       "        vertical-align: middle;\n",
       "    }\n",
       "\n",
       "    .dataframe tbody tr th {\n",
       "        vertical-align: top;\n",
       "    }\n",
       "\n",
       "    .dataframe thead th {\n",
       "        text-align: right;\n",
       "    }\n",
       "</style>\n",
       "<table border=\"1\" class=\"dataframe\">\n",
       "  <thead>\n",
       "    <tr style=\"text-align: right;\">\n",
       "      <th></th>\n",
       "      <th>s_no</th>\n",
       "      <th>area_type</th>\n",
       "      <th>availability</th>\n",
       "      <th>location</th>\n",
       "      <th>size</th>\n",
       "      <th>society</th>\n",
       "      <th>total_sqft</th>\n",
       "      <th>bath</th>\n",
       "      <th>balcony</th>\n",
       "      <th>price</th>\n",
       "    </tr>\n",
       "  </thead>\n",
       "  <tbody>\n",
       "    <tr>\n",
       "      <th>0</th>\n",
       "      <td>1</td>\n",
       "      <td>Super built-up  Area</td>\n",
       "      <td>19-Dec</td>\n",
       "      <td>Electronic City Phase II</td>\n",
       "      <td>2 BHK</td>\n",
       "      <td>Coomee</td>\n",
       "      <td>1056</td>\n",
       "      <td>2.0</td>\n",
       "      <td>1.0</td>\n",
       "      <td>39.07</td>\n",
       "    </tr>\n",
       "    <tr>\n",
       "      <th>1</th>\n",
       "      <td>2</td>\n",
       "      <td>Plot  Area</td>\n",
       "      <td>Ready To Move</td>\n",
       "      <td>Chikka Tirupathi</td>\n",
       "      <td>4 Bedroom</td>\n",
       "      <td>Theanmp</td>\n",
       "      <td>2600</td>\n",
       "      <td>5.0</td>\n",
       "      <td>3.0</td>\n",
       "      <td>120.00</td>\n",
       "    </tr>\n",
       "    <tr>\n",
       "      <th>2</th>\n",
       "      <td>3</td>\n",
       "      <td>Built-up  Area</td>\n",
       "      <td>Ready To Move</td>\n",
       "      <td>Uttarahalli</td>\n",
       "      <td>3 BHK</td>\n",
       "      <td>NaN</td>\n",
       "      <td>1440</td>\n",
       "      <td>2.0</td>\n",
       "      <td>3.0</td>\n",
       "      <td>62.00</td>\n",
       "    </tr>\n",
       "    <tr>\n",
       "      <th>3</th>\n",
       "      <td>4</td>\n",
       "      <td>Super built-up  Area</td>\n",
       "      <td>Ready To Move</td>\n",
       "      <td>Lingadheeranahalli</td>\n",
       "      <td>3 BHK</td>\n",
       "      <td>Soiewre</td>\n",
       "      <td>1521</td>\n",
       "      <td>3.0</td>\n",
       "      <td>1.0</td>\n",
       "      <td>95.00</td>\n",
       "    </tr>\n",
       "    <tr>\n",
       "      <th>4</th>\n",
       "      <td>5</td>\n",
       "      <td>Super built-up  Area</td>\n",
       "      <td>Ready To Move</td>\n",
       "      <td>Kothanur</td>\n",
       "      <td>2 BHK</td>\n",
       "      <td>NaN</td>\n",
       "      <td>1200</td>\n",
       "      <td>2.0</td>\n",
       "      <td>1.0</td>\n",
       "      <td>51.00</td>\n",
       "    </tr>\n",
       "  </tbody>\n",
       "</table>\n",
       "</div>"
      ],
      "text/plain": [
       "   s_no             area_type   availability                  location  \\\n",
       "0     1  Super built-up  Area         19-Dec  Electronic City Phase II   \n",
       "1     2            Plot  Area  Ready To Move          Chikka Tirupathi   \n",
       "2     3        Built-up  Area  Ready To Move               Uttarahalli   \n",
       "3     4  Super built-up  Area  Ready To Move        Lingadheeranahalli   \n",
       "4     5  Super built-up  Area  Ready To Move                  Kothanur   \n",
       "\n",
       "        size  society total_sqft  bath  balcony   price  \n",
       "0      2 BHK  Coomee        1056   2.0      1.0   39.07  \n",
       "1  4 Bedroom  Theanmp       2600   5.0      3.0  120.00  \n",
       "2      3 BHK      NaN       1440   2.0      3.0   62.00  \n",
       "3      3 BHK  Soiewre       1521   3.0      1.0   95.00  \n",
       "4      2 BHK      NaN       1200   2.0      1.0   51.00  "
      ]
     },
     "execution_count": 3,
     "metadata": {},
     "output_type": "execute_result"
    }
   ],
   "source": [
    "train_data.head()"
   ]
  },
  {
   "cell_type": "code",
   "execution_count": 4,
   "metadata": {
    "ExecuteTime": {
     "end_time": "2021-05-17T04:19:49.496185Z",
     "start_time": "2021-05-17T04:19:49.482036Z"
    }
   },
   "outputs": [
    {
     "data": {
      "text/plain": [
       "(13320, 10)"
      ]
     },
     "execution_count": 4,
     "metadata": {},
     "output_type": "execute_result"
    },
    {
     "data": {
      "text/plain": [
       "(1480, 10)"
      ]
     },
     "execution_count": 4,
     "metadata": {},
     "output_type": "execute_result"
    }
   ],
   "source": [
    "train_data.shape\n",
    "test_data.shape"
   ]
  },
  {
   "cell_type": "markdown",
   "metadata": {},
   "source": [
    "## Adding Train and Test Data"
   ]
  },
  {
   "cell_type": "markdown",
   "metadata": {},
   "source": [
    "To apply the same set of data cleaning operations on Train and Test dataset, concatenating them both. Adding a column 'data_category' in both datasets with values 'train' and 'test' respectively. Later, we can separate the dataset based on these values easily. Please note that any data which needs to be removed (such as outlier) will only be removed from training set."
   ]
  },
  {
   "cell_type": "code",
   "execution_count": 5,
   "metadata": {
    "ExecuteTime": {
     "end_time": "2021-05-17T04:19:50.470025Z",
     "start_time": "2021-05-17T04:19:50.460289Z"
    }
   },
   "outputs": [],
   "source": [
    "# Generate a column in each dataset named - \"data_category\" and fill values as \"train\" and \"test\" respectively\n",
    "train_data['data_category'] = 'train' \n",
    "test_data['data_category'] = 'test'"
   ]
  },
  {
   "cell_type": "code",
   "execution_count": 6,
   "metadata": {
    "ExecuteTime": {
     "end_time": "2021-05-17T04:19:50.794278Z",
     "start_time": "2021-05-17T04:19:50.752849Z"
    }
   },
   "outputs": [],
   "source": [
    "df = pd.concat([train_data,test_data], ignore_index=True) # Concatenate the train and test data\n",
    "df.drop(['s_no'], axis=1, inplace=True) # drop this column, it is not required"
   ]
  },
  {
   "cell_type": "code",
   "execution_count": 7,
   "metadata": {
    "ExecuteTime": {
     "end_time": "2021-05-17T04:19:51.352016Z",
     "start_time": "2021-05-17T04:19:51.319314Z"
    }
   },
   "outputs": [
    {
     "data": {
      "text/plain": [
       "(14800, 10)"
      ]
     },
     "execution_count": 7,
     "metadata": {},
     "output_type": "execute_result"
    },
    {
     "data": {
      "text/html": [
       "<div>\n",
       "<style scoped>\n",
       "    .dataframe tbody tr th:only-of-type {\n",
       "        vertical-align: middle;\n",
       "    }\n",
       "\n",
       "    .dataframe tbody tr th {\n",
       "        vertical-align: top;\n",
       "    }\n",
       "\n",
       "    .dataframe thead th {\n",
       "        text-align: right;\n",
       "    }\n",
       "</style>\n",
       "<table border=\"1\" class=\"dataframe\">\n",
       "  <thead>\n",
       "    <tr style=\"text-align: right;\">\n",
       "      <th></th>\n",
       "      <th>area_type</th>\n",
       "      <th>availability</th>\n",
       "      <th>location</th>\n",
       "      <th>size</th>\n",
       "      <th>society</th>\n",
       "      <th>total_sqft</th>\n",
       "      <th>bath</th>\n",
       "      <th>balcony</th>\n",
       "      <th>price</th>\n",
       "      <th>data_category</th>\n",
       "    </tr>\n",
       "  </thead>\n",
       "  <tbody>\n",
       "    <tr>\n",
       "      <th>14795</th>\n",
       "      <td>Super built-up  Area</td>\n",
       "      <td>Ready To Move</td>\n",
       "      <td>Vittasandra</td>\n",
       "      <td>2 BHK</td>\n",
       "      <td>Prlla C</td>\n",
       "      <td>1246</td>\n",
       "      <td>2.0</td>\n",
       "      <td>1.0</td>\n",
       "      <td>NaN</td>\n",
       "      <td>test</td>\n",
       "    </tr>\n",
       "    <tr>\n",
       "      <th>14796</th>\n",
       "      <td>Super built-up  Area</td>\n",
       "      <td>Ready To Move</td>\n",
       "      <td>Gottigere</td>\n",
       "      <td>3 BHK</td>\n",
       "      <td>NaN</td>\n",
       "      <td>1660</td>\n",
       "      <td>3.0</td>\n",
       "      <td>2.0</td>\n",
       "      <td>NaN</td>\n",
       "      <td>test</td>\n",
       "    </tr>\n",
       "    <tr>\n",
       "      <th>14797</th>\n",
       "      <td>Super built-up  Area</td>\n",
       "      <td>Ready To Move</td>\n",
       "      <td>Channasandra</td>\n",
       "      <td>2 BHK</td>\n",
       "      <td>Unm 2El</td>\n",
       "      <td>1216</td>\n",
       "      <td>2.0</td>\n",
       "      <td>2.0</td>\n",
       "      <td>NaN</td>\n",
       "      <td>test</td>\n",
       "    </tr>\n",
       "    <tr>\n",
       "      <th>14798</th>\n",
       "      <td>Built-up  Area</td>\n",
       "      <td>18-Feb</td>\n",
       "      <td>Tumkur Road</td>\n",
       "      <td>2 BHK</td>\n",
       "      <td>Sahtsva</td>\n",
       "      <td>996</td>\n",
       "      <td>2.0</td>\n",
       "      <td>1.0</td>\n",
       "      <td>NaN</td>\n",
       "      <td>test</td>\n",
       "    </tr>\n",
       "    <tr>\n",
       "      <th>14799</th>\n",
       "      <td>Built-up  Area</td>\n",
       "      <td>Ready To Move</td>\n",
       "      <td>7th Phase JP Nagar</td>\n",
       "      <td>2 BHK</td>\n",
       "      <td>MaicaRS</td>\n",
       "      <td>1150</td>\n",
       "      <td>2.0</td>\n",
       "      <td>2.0</td>\n",
       "      <td>NaN</td>\n",
       "      <td>test</td>\n",
       "    </tr>\n",
       "  </tbody>\n",
       "</table>\n",
       "</div>"
      ],
      "text/plain": [
       "                  area_type   availability            location   size  \\\n",
       "14795  Super built-up  Area  Ready To Move         Vittasandra  2 BHK   \n",
       "14796  Super built-up  Area  Ready To Move           Gottigere  3 BHK   \n",
       "14797  Super built-up  Area  Ready To Move        Channasandra  2 BHK   \n",
       "14798        Built-up  Area         18-Feb         Tumkur Road  2 BHK   \n",
       "14799        Built-up  Area  Ready To Move  7th Phase JP Nagar  2 BHK   \n",
       "\n",
       "       society total_sqft  bath  balcony  price data_category  \n",
       "14795  Prlla C       1246   2.0      1.0    NaN          test  \n",
       "14796      NaN       1660   3.0      2.0    NaN          test  \n",
       "14797  Unm 2El       1216   2.0      2.0    NaN          test  \n",
       "14798  Sahtsva        996   2.0      1.0    NaN          test  \n",
       "14799  MaicaRS       1150   2.0      2.0    NaN          test  "
      ]
     },
     "execution_count": 7,
     "metadata": {},
     "output_type": "execute_result"
    }
   ],
   "source": [
    "df.shape\n",
    "df.tail()"
   ]
  },
  {
   "cell_type": "markdown",
   "metadata": {},
   "source": [
    "# EDA"
   ]
  },
  {
   "cell_type": "markdown",
   "metadata": {},
   "source": [
    "## Checking Null Values"
   ]
  },
  {
   "cell_type": "code",
   "execution_count": 8,
   "metadata": {
    "ExecuteTime": {
     "end_time": "2021-05-17T04:19:52.454606Z",
     "start_time": "2021-05-17T04:19:52.428652Z"
    }
   },
   "outputs": [
    {
     "data": {
      "text/plain": [
       "area_type           0\n",
       "availability        0\n",
       "location            1\n",
       "size               18\n",
       "society          6128\n",
       "total_sqft          0\n",
       "bath               80\n",
       "balcony           678\n",
       "price            1480\n",
       "data_category       0\n",
       "dtype: int64"
      ]
     },
     "execution_count": 8,
     "metadata": {},
     "output_type": "execute_result"
    }
   ],
   "source": [
    "df.isnull().sum() #Check the Null Values for each column"
   ]
  },
  {
   "cell_type": "code",
   "execution_count": 9,
   "metadata": {
    "ExecuteTime": {
     "end_time": "2021-05-17T04:19:53.427943Z",
     "start_time": "2021-05-17T04:19:52.787147Z"
    }
   },
   "outputs": [
    {
     "data": {
      "text/plain": [
       "<Figure size 1152x504 with 0 Axes>"
      ]
     },
     "execution_count": 9,
     "metadata": {},
     "output_type": "execute_result"
    },
    {
     "data": {
      "text/plain": [
       "<AxesSubplot:xlabel='price', ylabel='area_type'>"
      ]
     },
     "execution_count": 9,
     "metadata": {},
     "output_type": "execute_result"
    },
    {
     "data": {
      "image/png": "[encoded data removed]",
      "text/plain": [
       "<Figure size 1152x504 with 1 Axes>"
      ]
     },
     "metadata": {
      "needs_background": "light"
     },
     "output_type": "display_data"
    }
   ],
   "source": [
    "# Create a box plot between Area Type and Price\n",
    "\n",
    "plt.figure(figsize=(16,7))\n",
    "sns.boxplot(x=train_data['price'],y=train_data['area_type'])"
   ]
  },
  {
   "cell_type": "markdown",
   "metadata": {},
   "source": [
    "As per the analysis, the median cost for 'Plot Area' house type is the highest among other categories."
   ]
  },
  {
   "cell_type": "code",
   "execution_count": 10,
   "metadata": {
    "ExecuteTime": {
     "end_time": "2021-05-17T04:19:53.752996Z",
     "start_time": "2021-05-17T04:19:53.734402Z"
    }
   },
   "outputs": [
    {
     "data": {
      "text/plain": [
       "area_type         object\n",
       "availability      object\n",
       "location          object\n",
       "size              object\n",
       "society           object\n",
       "total_sqft        object\n",
       "bath             float64\n",
       "balcony          float64\n",
       "price            float64\n",
       "data_category     object\n",
       "dtype: object"
      ]
     },
     "execution_count": 10,
     "metadata": {},
     "output_type": "execute_result"
    }
   ],
   "source": [
    "df.dtypes"
   ]
  },
  {
   "cell_type": "markdown",
   "metadata": {},
   "source": [
    "We can see that the two main columns 'size' and 'total_sqft' are objects instead of numeric. Hence, we cannot go further with EDA till we clean these columns. Let's do the cleaning and data exploration simultaneously. "
   ]
  },
  {
   "cell_type": "markdown",
   "metadata": {},
   "source": [
    "## Checking unique and number of unique values present in each categorical variable"
   ]
  },
  {
   "cell_type": "code",
   "execution_count": 11,
   "metadata": {
    "ExecuteTime": {
     "end_time": "2021-05-17T04:19:55.232237Z",
     "start_time": "2021-05-17T04:19:55.171981Z"
    },
    "scrolled": false
   },
   "outputs": [
    {
     "name": "stdout",
     "output_type": "stream",
     "text": [
      "\n",
      "Number of unique values in area_type category:  4\n",
      "Unique data in area_type category:\n",
      " ['Super built-up  Area' 'Plot  Area' 'Built-up  Area' 'Carpet  Area']\n",
      "\n",
      "Number of unique values in availability category:  82\n",
      "Unique data in availability category:\n",
      " ['19-Dec' 'Ready To Move' '18-May' '18-Feb' '18-Nov' '20-Dec' '17-Oct'\n",
      " '21-Dec' '19-Sep' '20-Sep' '18-Mar' '20-Feb' '18-Apr' '20-Aug' '18-Oct'\n",
      " '19-Mar' '17-Sep' '18-Dec' '17-Aug' '19-Apr' '18-Jun' '22-Dec' '22-Jan'\n",
      " '18-Aug' '19-Jan' '17-Jul' '18-Jul' '21-Jun' '20-May' '19-Aug' '18-Sep'\n",
      " '17-May' '17-Jun' '21-May' '18-Jan' '20-Mar' '17-Dec' '16-Mar' '19-Jun'\n",
      " '22-Jun' '19-Jul' '21-Feb' 'Immediate Possession' '19-May' '17-Nov'\n",
      " '20-Oct' '20-Jun' '19-Feb' '21-Oct' '21-Jan' '17-Mar' '17-Apr' '22-May'\n",
      " '19-Oct' '21-Jul' '21-Nov' '21-Mar' '16-Dec' '22-Mar' '20-Jan' '21-Sep'\n",
      " '21-Aug' '14-Nov' '19-Nov' '15-Nov' '16-Jul' '15-Jun' '17-Feb' '20-Nov'\n",
      " '20-Jul' '16-Sep' '15-Oct' '15-Dec' '16-Oct' '22-Nov' '15-Aug' '17-Jan'\n",
      " '16-Nov' '20-Apr' '16-Jan' '14-Jul' '16-Apr']\n",
      "\n",
      "Number of unique values in location category:  1358\n",
      "Unique data in location category:\n",
      " ['Electronic City Phase II' 'Chikka Tirupathi' 'Uttarahalli' ...\n",
      " 'Raj Mahal Vilas Extension' '15th Block Hbr Layout'\n",
      " 'Vishweswaraiah Layout 4th Block']\n",
      "\n",
      "Number of unique values in size category:  32\n",
      "Unique data in size category:\n",
      " ['2 BHK' '4 Bedroom' '3 BHK' '4 BHK' '6 Bedroom' '3 Bedroom' '1 BHK'\n",
      " '1 RK' '1 Bedroom' '8 Bedroom' '2 Bedroom' '7 Bedroom' '5 BHK' '7 BHK'\n",
      " '6 BHK' '5 Bedroom' '11 BHK' '9 BHK' nan '9 Bedroom' '27 BHK'\n",
      " '10 Bedroom' '11 Bedroom' '10 BHK' '19 BHK' '16 BHK' '43 Bedroom'\n",
      " '14 BHK' '8 BHK' '12 Bedroom' '13 BHK' '18 Bedroom' '16 Bedroom']\n",
      "\n",
      "Number of unique values in society category:  2832\n",
      "Unique data in society category:\n",
      " ['Coomee ' 'Theanmp' nan ... 'Udayaur' 'Brent C' 'MaicaRS']\n",
      "\n",
      "Number of unique values in total_sqft category:  2221\n",
      "Unique data in total_sqft category:\n",
      " ['1056' '2600' '1440' ... '3383' '5149' '6750']\n",
      "\n",
      "Number of unique values in data_category category:  2\n",
      "Unique data in data_category category:\n",
      " ['train' 'test']\n"
     ]
    }
   ],
   "source": [
    "# Analyse the same in RapidMiner, how can we see these insights?\n",
    "\n",
    "for i in df.columns:\n",
    "    if df[i].dtype == 'O':\n",
    "        print('\\nNumber of unique values in {} category: '.format(i), df[i].nunique())\n",
    "        print('Unique data in {} category:\\n'.format(i), df[i].unique())"
   ]
  },
  {
   "cell_type": "markdown",
   "metadata": {},
   "source": [
    "# Data Cleaning and Feature Engineering"
   ]
  },
  {
   "cell_type": "markdown",
   "metadata": {},
   "source": [
    "## Size - Number of Bedrooms"
   ]
  },
  {
   "cell_type": "code",
   "execution_count": 12,
   "metadata": {
    "ExecuteTime": {
     "end_time": "2021-05-17T04:19:56.335068Z",
     "start_time": "2021-05-17T04:19:56.319067Z"
    },
    "scrolled": true
   },
   "outputs": [
    {
     "data": {
      "text/plain": [
       "2 BHK        5739\n",
       "3 BHK        4788\n",
       "4 Bedroom     918\n",
       "4 BHK         673\n",
       "3 Bedroom     613\n",
       "Name: size, dtype: int64"
      ]
     },
     "execution_count": 12,
     "metadata": {},
     "output_type": "execute_result"
    }
   ],
   "source": [
    "df['size'].value_counts().head()"
   ]
  },
  {
   "cell_type": "markdown",
   "metadata": {},
   "source": [
    "Since, number of bedrooms should be a continuos variable, we'll only extract the numeric value from this series of string values."
   ]
  },
  {
   "cell_type": "code",
   "execution_count": 13,
   "metadata": {
    "ExecuteTime": {
     "end_time": "2021-05-17T04:19:57.096045Z",
     "start_time": "2021-05-17T04:19:57.061040Z"
    }
   },
   "outputs": [],
   "source": [
    "# Remove String part from the columns and retain only the numeric value of the column and \n",
    "# then convert this column into float/int\n",
    "\n",
    "df['size'] = df['size'].apply(lambda x: x.split(' ')[0] if isinstance(x,str) else np.nan)\n",
    "df['size'] = df['size'].astype(float)"
   ]
  },
  {
   "cell_type": "code",
   "execution_count": 14,
   "metadata": {
    "ExecuteTime": {
     "end_time": "2021-05-17T04:19:57.480598Z",
     "start_time": "2021-05-17T04:19:57.459991Z"
    }
   },
   "outputs": [
    {
     "data": {
      "text/plain": [
       "18"
      ]
     },
     "execution_count": 14,
     "metadata": {},
     "output_type": "execute_result"
    }
   ],
   "source": [
    "# Check whether the column has any missing values\n",
    "df['size'].isnull().sum()"
   ]
  },
  {
   "cell_type": "markdown",
   "metadata": {},
   "source": [
    "## Location"
   ]
  },
  {
   "cell_type": "code",
   "execution_count": 15,
   "metadata": {
    "ExecuteTime": {
     "end_time": "2021-05-17T04:19:58.905044Z",
     "start_time": "2021-05-17T04:19:58.887939Z"
    }
   },
   "outputs": [
    {
     "data": {
      "text/plain": [
       "Whitefield                     591\n",
       "Sarjapur  Road                 437\n",
       "Electronic City                337\n",
       "Kanakpura Road                 298\n",
       "Thanisandra                    277\n",
       "                              ... \n",
       "yelahanka, north                 1\n",
       "BEL Layout                       1\n",
       "Jaraganahalli Jp Nagar Post      1\n",
       "Kurudusonnenahalli               1\n",
       "Gopal Reddy Layout               1\n",
       "Name: location, Length: 1358, dtype: int64"
      ]
     },
     "execution_count": 15,
     "metadata": {},
     "output_type": "execute_result"
    }
   ],
   "source": [
    "df['location'].value_counts()"
   ]
  },
  {
   "cell_type": "markdown",
   "metadata": {},
   "source": [
    "We can see that, there are 1358 unique locations in this dataset. Looking closely at the dataset, most of these locations are repeated but with a slight change in name. Further, these locations may belong to the same area. Hence to clean this column, we are going group areas belonging to same pincodes together. To find the common pincodes for each of these locations we'll build a Web Scraper."
   ]
  },
  {
   "cell_type": "markdown",
   "metadata": {},
   "source": [
    "### Searching Location Pincode through Selenium Webdriver"
   ]
  },
  {
   "cell_type": "code",
   "execution_count": null,
   "metadata": {
    "ExecuteTime": {
     "end_time": "2019-10-31T17:37:28.244206Z",
     "start_time": "2019-10-31T17:37:28.234213Z"
    },
    "deletable": false,
    "editable": false,
    "run_control": {
     "frozen": true
    }
   },
   "outputs": [],
   "source": [
    "import os\n",
    "from selenium import webdriver\n",
    "from selenium.webdriver.common.keys import Keys\n",
    "from selenium.webdriver.common.by import By\n",
    "from selenium.common.exceptions import NoSuchElementException, WebDriverException\n",
    "import requests\n",
    "\n",
    "# get the path of ChromeDriverServer\n",
    "dir = os.path.dirname(r\"C:\\Users\\Devesh Singh\\Python Scripts\\Machine Hack\\chromedriver.exe\")\n",
    "chrome_driver_path = dir + \"\\chromedriver.exe\"\n",
    "\n",
    "uniq_test = uniq_locn.copy(deep=True)\n",
    "\n",
    "final_list=pd.DataFrame({'Place':[],\n",
    "                         'Pin Code':[],\n",
    "                         'Taluk':[],\n",
    "                         'Division':[],\n",
    "                         'District':[],\n",
    "                         'State':[],\n",
    "                        'Uniq':[]})\n",
    "\n",
    "count=0\n",
    "m=0\n",
    "# create a new Chrome session\n",
    "driver = webdriver.Chrome(chrome_driver_path)\n",
    "driver.implicitly_wait(5)\n",
    "driver.maximize_window()\n",
    "\n",
    "for i in range(len(uniq_test)):\n",
    "    \n",
    "    # Navigate to the application home page\n",
    "    driver.get(\"http://www.bing.com/\")\n",
    "    \n",
    "    # get the search textbox\n",
    "    #search_field = driver.find_element_by_name(\"q\")    #worked, for Google.com only\n",
    "    search_field = driver.find_element_by_id(\"sb_form_q\")    #worked, for Bing Search\n",
    "    \n",
    "    # enter search keyword and submit\n",
    "    search_field.send_keys(uniq_test.iloc[i,0])\n",
    "    search_field.submit()\n",
    "    \n",
    "    try:\n",
    "        #clicking the first link\n",
    "        #driver.find_element(By.XPATH, '(//h3)[1]/a').click()    #worked, for Google.com only\n",
    "        driver.find_element_by_partial_link_text(\"PIN CODE\").click()   #worked, for Bing Search\n",
    "\n",
    "        #waiting for link to open fully\n",
    "        driver.implicitly_wait(5)\n",
    "\n",
    "        #copying the url of the browser\n",
    "        url = driver.current_url\n",
    "\n",
    "        html = requests.get(url).content\n",
    "        df_list = pd.read_html(html)\n",
    "\n",
    "\n",
    "        df = df_list[-1]\n",
    "        df2=pd.DataFrame(df.iloc[1,:])\n",
    "        df3=pd.DataFrame.transpose(df2).reset_index(drop=True)\n",
    "        value=pd.DataFrame({'Place':[df3.iloc[0,0]],\n",
    "                            'Pin Code':[df3.iloc[0,1]],\n",
    "                            'Taluk':[df3.iloc[0,2]],\n",
    "                            'Division':[df3.iloc[0,3]],\n",
    "                            'District':[df3.iloc[0,4]],\n",
    "                            'State':[df3.iloc[0,5]],\n",
    "                            'Uniq':[uniq_test.iloc[i,0]]})\n",
    "\n",
    "        final_list=final_list.append(value, ignore_index=True)\n",
    "        m+=1\n",
    "        print(m,\"  \",uniq_test.iloc[i,0])\n",
    "    \n",
    "    except (NoSuchElementException, WebDriverException) as e:\n",
    "        count += 1\n",
    "        pass\n",
    "    driver.delete_all_cookies()\n",
    "    \n",
    "driver.close()"
   ]
  },
  {
   "cell_type": "markdown",
   "metadata": {},
   "source": [
    "### Pincode File"
   ]
  },
  {
   "cell_type": "markdown",
   "metadata": {},
   "source": [
    "Reading the dataframe of scraped pincodes."
   ]
  },
  {
   "cell_type": "code",
   "execution_count": 16,
   "metadata": {
    "ExecuteTime": {
     "end_time": "2021-05-17T04:20:10.523457Z",
     "start_time": "2021-05-17T04:20:10.340856Z"
    }
   },
   "outputs": [],
   "source": [
    "# Downloaded list of pincodes\n",
    "location_df = pd.read_excel(r'..\\data\\\\additional_data\\location_pincodes.xlsx')"
   ]
  },
  {
   "cell_type": "code",
   "execution_count": 17,
   "metadata": {
    "ExecuteTime": {
     "end_time": "2021-05-17T04:20:13.214219Z",
     "start_time": "2021-05-17T04:20:13.197788Z"
    }
   },
   "outputs": [],
   "source": [
    "location_df[\"browser_link\"] = location_df[\"browser_link\"].apply(lambda x: x.replace(\" Bangalore site:codepin.in\",\"\"))"
   ]
  },
  {
   "cell_type": "markdown",
   "metadata": {},
   "source": [
    "Mapping this list with original dataframe."
   ]
  },
  {
   "cell_type": "code",
   "execution_count": 18,
   "metadata": {
    "ExecuteTime": {
     "end_time": "2021-05-17T04:20:13.962147Z",
     "start_time": "2021-05-17T04:20:13.942066Z"
    }
   },
   "outputs": [],
   "source": [
    "df['location'] = df['location'].map(dict(zip(location_df['browser_link'],location_df['pincode'])))"
   ]
  },
  {
   "cell_type": "code",
   "execution_count": 19,
   "metadata": {
    "ExecuteTime": {
     "end_time": "2021-05-17T04:20:14.921985Z",
     "start_time": "2021-05-17T04:20:14.894195Z"
    }
   },
   "outputs": [
    {
     "data": {
      "text/html": [
       "<div>\n",
       "<style scoped>\n",
       "    .dataframe tbody tr th:only-of-type {\n",
       "        vertical-align: middle;\n",
       "    }\n",
       "\n",
       "    .dataframe tbody tr th {\n",
       "        vertical-align: top;\n",
       "    }\n",
       "\n",
       "    .dataframe thead th {\n",
       "        text-align: right;\n",
       "    }\n",
       "</style>\n",
       "<table border=\"1\" class=\"dataframe\">\n",
       "  <thead>\n",
       "    <tr style=\"text-align: right;\">\n",
       "      <th></th>\n",
       "      <th>area_type</th>\n",
       "      <th>availability</th>\n",
       "      <th>location</th>\n",
       "      <th>size</th>\n",
       "      <th>society</th>\n",
       "      <th>total_sqft</th>\n",
       "      <th>bath</th>\n",
       "      <th>balcony</th>\n",
       "      <th>price</th>\n",
       "      <th>data_category</th>\n",
       "    </tr>\n",
       "  </thead>\n",
       "  <tbody>\n",
       "    <tr>\n",
       "      <th>0</th>\n",
       "      <td>Super built-up  Area</td>\n",
       "      <td>19-Dec</td>\n",
       "      <td>560100.0</td>\n",
       "      <td>2.0</td>\n",
       "      <td>Coomee</td>\n",
       "      <td>1056</td>\n",
       "      <td>2.0</td>\n",
       "      <td>1.0</td>\n",
       "      <td>39.07</td>\n",
       "      <td>train</td>\n",
       "    </tr>\n",
       "    <tr>\n",
       "      <th>1</th>\n",
       "      <td>Plot  Area</td>\n",
       "      <td>Ready To Move</td>\n",
       "      <td>561203.0</td>\n",
       "      <td>4.0</td>\n",
       "      <td>Theanmp</td>\n",
       "      <td>2600</td>\n",
       "      <td>5.0</td>\n",
       "      <td>3.0</td>\n",
       "      <td>120.00</td>\n",
       "      <td>train</td>\n",
       "    </tr>\n",
       "    <tr>\n",
       "      <th>2</th>\n",
       "      <td>Built-up  Area</td>\n",
       "      <td>Ready To Move</td>\n",
       "      <td>560061.0</td>\n",
       "      <td>3.0</td>\n",
       "      <td>NaN</td>\n",
       "      <td>1440</td>\n",
       "      <td>2.0</td>\n",
       "      <td>3.0</td>\n",
       "      <td>62.00</td>\n",
       "      <td>train</td>\n",
       "    </tr>\n",
       "    <tr>\n",
       "      <th>3</th>\n",
       "      <td>Super built-up  Area</td>\n",
       "      <td>Ready To Move</td>\n",
       "      <td>560091.0</td>\n",
       "      <td>3.0</td>\n",
       "      <td>Soiewre</td>\n",
       "      <td>1521</td>\n",
       "      <td>3.0</td>\n",
       "      <td>1.0</td>\n",
       "      <td>95.00</td>\n",
       "      <td>train</td>\n",
       "    </tr>\n",
       "    <tr>\n",
       "      <th>4</th>\n",
       "      <td>Super built-up  Area</td>\n",
       "      <td>Ready To Move</td>\n",
       "      <td>560077.0</td>\n",
       "      <td>2.0</td>\n",
       "      <td>NaN</td>\n",
       "      <td>1200</td>\n",
       "      <td>2.0</td>\n",
       "      <td>1.0</td>\n",
       "      <td>51.00</td>\n",
       "      <td>train</td>\n",
       "    </tr>\n",
       "  </tbody>\n",
       "</table>\n",
       "</div>"
      ],
      "text/plain": [
       "              area_type   availability  location  size  society total_sqft  \\\n",
       "0  Super built-up  Area         19-Dec  560100.0   2.0  Coomee        1056   \n",
       "1            Plot  Area  Ready To Move  561203.0   4.0  Theanmp       2600   \n",
       "2        Built-up  Area  Ready To Move  560061.0   3.0      NaN       1440   \n",
       "3  Super built-up  Area  Ready To Move  560091.0   3.0  Soiewre       1521   \n",
       "4  Super built-up  Area  Ready To Move  560077.0   2.0      NaN       1200   \n",
       "\n",
       "   bath  balcony   price data_category  \n",
       "0   2.0      1.0   39.07         train  \n",
       "1   5.0      3.0  120.00         train  \n",
       "2   2.0      3.0   62.00         train  \n",
       "3   3.0      1.0   95.00         train  \n",
       "4   2.0      1.0   51.00         train  "
      ]
     },
     "execution_count": 19,
     "metadata": {},
     "output_type": "execute_result"
    }
   ],
   "source": [
    "df.head()"
   ]
  },
  {
   "cell_type": "code",
   "execution_count": 20,
   "metadata": {
    "ExecuteTime": {
     "end_time": "2021-05-17T04:20:18.470448Z",
     "start_time": "2021-05-17T04:20:18.461125Z"
    },
    "scrolled": true
   },
   "outputs": [
    {
     "data": {
      "text/plain": [
       "560100.0    914\n",
       "560066.0    896\n",
       "560077.0    631\n",
       "560078.0    618\n",
       "562125.0    484\n",
       "Name: location, dtype: int64"
      ]
     },
     "execution_count": 20,
     "metadata": {},
     "output_type": "execute_result"
    }
   ],
   "source": [
    "df['location'].value_counts().head()"
   ]
  },
  {
   "cell_type": "code",
   "execution_count": 21,
   "metadata": {
    "ExecuteTime": {
     "end_time": "2021-05-17T04:20:18.904006Z",
     "start_time": "2021-05-17T04:20:18.889044Z"
    }
   },
   "outputs": [
    {
     "data": {
      "text/plain": [
       "1"
      ]
     },
     "execution_count": 21,
     "metadata": {},
     "output_type": "execute_result"
    }
   ],
   "source": [
    "df['location'].isnull().sum()"
   ]
  },
  {
   "cell_type": "code",
   "execution_count": 22,
   "metadata": {
    "ExecuteTime": {
     "end_time": "2021-05-17T04:20:20.425266Z",
     "start_time": "2021-05-17T04:20:20.396127Z"
    }
   },
   "outputs": [
    {
     "data": {
      "text/html": [
       "<div>\n",
       "<style scoped>\n",
       "    .dataframe tbody tr th:only-of-type {\n",
       "        vertical-align: middle;\n",
       "    }\n",
       "\n",
       "    .dataframe tbody tr th {\n",
       "        vertical-align: top;\n",
       "    }\n",
       "\n",
       "    .dataframe thead th {\n",
       "        text-align: right;\n",
       "    }\n",
       "</style>\n",
       "<table border=\"1\" class=\"dataframe\">\n",
       "  <thead>\n",
       "    <tr style=\"text-align: right;\">\n",
       "      <th></th>\n",
       "      <th>area_type</th>\n",
       "      <th>availability</th>\n",
       "      <th>location</th>\n",
       "      <th>size</th>\n",
       "      <th>society</th>\n",
       "      <th>total_sqft</th>\n",
       "      <th>bath</th>\n",
       "      <th>balcony</th>\n",
       "      <th>price</th>\n",
       "      <th>data_category</th>\n",
       "    </tr>\n",
       "  </thead>\n",
       "  <tbody>\n",
       "    <tr>\n",
       "      <th>568</th>\n",
       "      <td>Super built-up  Area</td>\n",
       "      <td>Ready To Move</td>\n",
       "      <td>NaN</td>\n",
       "      <td>3.0</td>\n",
       "      <td>Grare S</td>\n",
       "      <td>1600</td>\n",
       "      <td>3.0</td>\n",
       "      <td>2.0</td>\n",
       "      <td>86.0</td>\n",
       "      <td>train</td>\n",
       "    </tr>\n",
       "  </tbody>\n",
       "</table>\n",
       "</div>"
      ],
      "text/plain": [
       "                area_type   availability  location  size  society total_sqft  \\\n",
       "568  Super built-up  Area  Ready To Move       NaN   3.0  Grare S       1600   \n",
       "\n",
       "     bath  balcony  price data_category  \n",
       "568   3.0      2.0   86.0         train  "
      ]
     },
     "execution_count": 22,
     "metadata": {},
     "output_type": "execute_result"
    }
   ],
   "source": [
    "df[df[\"location\"].isnull()]"
   ]
  },
  {
   "cell_type": "markdown",
   "metadata": {},
   "source": [
    "By grouping locations through pincodes we have reduced 1358 locations to 128 locations."
   ]
  },
  {
   "cell_type": "markdown",
   "metadata": {},
   "source": [
    "## Total Square Feet - DAY 2"
   ]
  },
  {
   "cell_type": "code",
   "execution_count": null,
   "metadata": {
    "ExecuteTime": {
     "end_time": "2019-11-01T04:23:24.635033Z",
     "start_time": "2019-11-01T04:23:24.562076Z"
    },
    "scrolled": true
   },
   "outputs": [],
   "source": [
    "df['total_sqft'].unique()"
   ]
  },
  {
   "cell_type": "markdown",
   "metadata": {},
   "source": [
    "Since, there are multiple string values in this column, we are going to extract these string values and clean them. Since, this process is going to be of multiple step, we'll take only 'total_sqft' column into another dataframe."
   ]
  },
  {
   "cell_type": "code",
   "execution_count": null,
   "metadata": {
    "ExecuteTime": {
     "end_time": "2019-11-01T04:23:24.717983Z",
     "start_time": "2019-11-01T04:23:24.638028Z"
    },
    "scrolled": true
   },
   "outputs": [],
   "source": [
    "sqft = df[['total_sqft']]"
   ]
  },
  {
   "cell_type": "code",
   "execution_count": null,
   "metadata": {
    "ExecuteTime": {
     "end_time": "2019-11-01T04:23:24.805931Z",
     "start_time": "2019-11-01T04:23:24.720979Z"
    }
   },
   "outputs": [],
   "source": [
    "sqft.dtypes"
   ]
  },
  {
   "cell_type": "markdown",
   "metadata": {},
   "source": [
    "### Extracting Only Float Val or Only String Val"
   ]
  },
  {
   "cell_type": "markdown",
   "metadata": {},
   "source": [
    "Function to extract only float value, other values will be replaced as NaNs."
   ]
  },
  {
   "cell_type": "code",
   "execution_count": null,
   "metadata": {
    "ExecuteTime": {
     "end_time": "2019-11-01T04:23:24.873884Z",
     "start_time": "2019-11-01T04:23:24.810923Z"
    }
   },
   "outputs": [],
   "source": [
    "def float_val(x):\n",
    "    try:\n",
    "        x = float(x)\n",
    "    except:\n",
    "        x = np.nan\n",
    "    return x"
   ]
  },
  {
   "cell_type": "markdown",
   "metadata": {},
   "source": [
    "Function to extract only string value, other values will be replaced as NaNs."
   ]
  },
  {
   "cell_type": "code",
   "execution_count": null,
   "metadata": {
    "ExecuteTime": {
     "end_time": "2019-11-01T04:23:24.970825Z",
     "start_time": "2019-11-01T04:23:24.876885Z"
    }
   },
   "outputs": [],
   "source": [
    "def string_val(x):\n",
    "    try:\n",
    "        x = float(x)\n",
    "        if isinstance(x,float):\n",
    "            x = np.nan\n",
    "    except:\n",
    "        pass    \n",
    "    return x"
   ]
  },
  {
   "cell_type": "code",
   "execution_count": null,
   "metadata": {
    "ExecuteTime": {
     "end_time": "2019-11-01T04:23:25.108740Z",
     "start_time": "2019-11-01T04:23:24.973824Z"
    }
   },
   "outputs": [],
   "source": [
    "sqft['float_val'] = sqft['total_sqft'].apply(float_val)\n",
    "\n",
    "sqft['string_val'] = sqft['total_sqft'].apply(string_val)\n",
    "\n",
    "sqft[sqft['string_val'].notnull()].head(10)"
   ]
  },
  {
   "cell_type": "markdown",
   "metadata": {},
   "source": [
    "### Processing String Vals"
   ]
  },
  {
   "cell_type": "markdown",
   "metadata": {},
   "source": [
    "The errorneous string values present in the 'total_sqft' column are of two types:\n",
    "- Range, e.g. 2100 - 2850, to clean this types of error, we are going to take the average of these ranges\n",
    "- Values in other unit, e.g. 34.46Sq. Meter, to clean this, we are going to extract the float and string values, convert this values in square feet."
   ]
  },
  {
   "cell_type": "code",
   "execution_count": null,
   "metadata": {
    "ExecuteTime": {
     "end_time": "2019-11-01T04:23:25.143720Z",
     "start_time": "2019-11-01T04:23:25.111737Z"
    }
   },
   "outputs": [],
   "source": [
    "sqft_string = sqft[['total_sqft','string_val']][sqft['string_val'].notnull()]"
   ]
  },
  {
   "cell_type": "code",
   "execution_count": null,
   "metadata": {
    "ExecuteTime": {
     "end_time": "2019-11-01T04:23:25.218672Z",
     "start_time": "2019-11-01T04:23:25.147715Z"
    }
   },
   "outputs": [],
   "source": [
    "sqft_string['v_1'] = sqft_string['string_val'].apply(lambda x: x.split(\"-\")[0])\n",
    "sqft_string['v_2'] = sqft_string['string_val'].apply(lambda x: x.split(\"-\")[-1])"
   ]
  },
  {
   "cell_type": "code",
   "execution_count": null,
   "metadata": {
    "ExecuteTime": {
     "end_time": "2019-11-01T04:23:25.298623Z",
     "start_time": "2019-11-01T04:23:25.220671Z"
    },
    "scrolled": true
   },
   "outputs": [],
   "source": [
    "def average_val(v_1, v_2):\n",
    "    try:\n",
    "        v_1 = float(v_1)\n",
    "        v_2 = float(v_2)\n",
    "        avg = (v_1 + v_2)/2\n",
    "    except:\n",
    "        avg = v_1\n",
    "    return avg"
   ]
  },
  {
   "cell_type": "code",
   "execution_count": null,
   "metadata": {
    "ExecuteTime": {
     "end_time": "2019-11-01T04:23:25.420549Z",
     "start_time": "2019-11-01T04:23:25.301621Z"
    }
   },
   "outputs": [],
   "source": [
    "sqft_string['avg_val'] = sqft_string.apply(lambda x: average_val(x.v_1,x.v_2),axis=1 )\n",
    "sqft_string.head()"
   ]
  },
  {
   "cell_type": "code",
   "execution_count": null,
   "metadata": {
    "ExecuteTime": {
     "end_time": "2019-11-01T04:23:25.512492Z",
     "start_time": "2019-11-01T04:23:25.423547Z"
    }
   },
   "outputs": [],
   "source": [
    "sqft_string['conversion'] = sqft_string['avg_val'].apply(string_val)\n",
    "\n",
    "sqft_string.head(10)"
   ]
  },
  {
   "cell_type": "markdown",
   "metadata": {},
   "source": [
    "### Extracting Conversion Units with 'Re'"
   ]
  },
  {
   "cell_type": "code",
   "execution_count": null,
   "metadata": {
    "ExecuteTime": {
     "end_time": "2019-11-01T04:23:25.587178Z",
     "start_time": "2019-11-01T04:23:25.514491Z"
    }
   },
   "outputs": [],
   "source": [
    "import re\n",
    "sqft_string['con_val'] = sqft_string['conversion'].apply(lambda x: \"\".join(re.findall(r\"[a-zA-Z_]\", str(x))))\n",
    "\n",
    "sqft_string['num_val'] = sqft_string['conversion'].apply(lambda x: \".\".join(re.findall(\"\\d+\", str(x))))"
   ]
  },
  {
   "cell_type": "code",
   "execution_count": null,
   "metadata": {
    "ExecuteTime": {
     "end_time": "2019-11-01T04:23:25.700112Z",
     "start_time": "2019-11-01T04:23:25.590177Z"
    }
   },
   "outputs": [],
   "source": [
    "sqft_string.head(13)"
   ]
  },
  {
   "cell_type": "code",
   "execution_count": null,
   "metadata": {
    "ExecuteTime": {
     "end_time": "2019-11-01T04:23:25.783060Z",
     "start_time": "2019-11-01T04:23:25.704108Z"
    }
   },
   "outputs": [],
   "source": [
    "sqft_string['num_val'] = sqft_string['num_val'].replace('', np.nan).fillna(0).astype(float)"
   ]
  },
  {
   "cell_type": "code",
   "execution_count": null,
   "metadata": {
    "ExecuteTime": {
     "end_time": "2019-11-01T04:23:25.859014Z",
     "start_time": "2019-11-01T04:23:25.786061Z"
    }
   },
   "outputs": [],
   "source": [
    "sqft_string['num_val'] = np.where(sqft_string['num_val'] == 0,\n",
    "                                  sqft_string['avg_val'],\n",
    "                                  sqft_string['num_val'])"
   ]
  },
  {
   "cell_type": "code",
   "execution_count": null,
   "metadata": {
    "ExecuteTime": {
     "end_time": "2019-11-01T04:23:25.956952Z",
     "start_time": "2019-11-01T04:23:25.862011Z"
    },
    "scrolled": false
   },
   "outputs": [],
   "source": [
    "sqft_string.head(14)"
   ]
  },
  {
   "cell_type": "markdown",
   "metadata": {},
   "source": [
    "### Loading Conversion Factor"
   ]
  },
  {
   "cell_type": "code",
   "execution_count": null,
   "metadata": {
    "ExecuteTime": {
     "end_time": "2019-11-01T04:23:26.034908Z",
     "start_time": "2019-11-01T04:23:25.959952Z"
    }
   },
   "outputs": [],
   "source": [
    "# The list of conversion factor\n",
    "conversion_factor = pd.read_csv(r\"..\\data\\additional_data\\conversion_factor.csv\")"
   ]
  },
  {
   "cell_type": "code",
   "execution_count": null,
   "metadata": {
    "ExecuteTime": {
     "end_time": "2019-11-01T04:23:26.114858Z",
     "start_time": "2019-11-01T04:23:26.037901Z"
    }
   },
   "outputs": [],
   "source": [
    "conversion_factor"
   ]
  },
  {
   "cell_type": "markdown",
   "metadata": {},
   "source": [
    "Mapping the conversion factor and filling remaining values with 1."
   ]
  },
  {
   "cell_type": "code",
   "execution_count": null,
   "metadata": {
    "ExecuteTime": {
     "end_time": "2019-11-01T04:23:26.234784Z",
     "start_time": "2019-11-01T04:23:26.116854Z"
    }
   },
   "outputs": [],
   "source": [
    "sqft_string['conversion_factor'] = (sqft_string['con_val']\n",
    "                                           .map(dict(zip(conversion_factor['unit']\n",
    "                                                         ,conversion_factor['conversion_factor']))).fillna(1))"
   ]
  },
  {
   "cell_type": "code",
   "execution_count": null,
   "metadata": {
    "ExecuteTime": {
     "end_time": "2019-11-01T04:23:26.353708Z",
     "start_time": "2019-11-01T04:23:26.237780Z"
    },
    "scrolled": true
   },
   "outputs": [],
   "source": [
    "sqft_string['after_conversion'] = sqft_string['num_val']*sqft_string['conversion_factor']\n",
    "\n",
    "sqft_string['after_conversion'] = sqft_string['after_conversion'].apply(lambda x: round(x, 2))\n",
    "\n",
    "sqft_string.head(10)"
   ]
  },
  {
   "cell_type": "code",
   "execution_count": null,
   "metadata": {
    "ExecuteTime": {
     "end_time": "2019-11-01T04:23:26.391684Z",
     "start_time": "2019-11-01T04:23:26.355707Z"
    }
   },
   "outputs": [],
   "source": [
    "string_val_dict = dict(zip(sqft_string['total_sqft'],sqft_string['after_conversion']))"
   ]
  },
  {
   "cell_type": "markdown",
   "metadata": {},
   "source": [
    "### Mapping Converted Rates with Original DF"
   ]
  },
  {
   "cell_type": "code",
   "execution_count": null,
   "metadata": {
    "ExecuteTime": {
     "end_time": "2019-11-01T04:23:26.471637Z",
     "start_time": "2019-11-01T04:23:26.394685Z"
    }
   },
   "outputs": [],
   "source": [
    "df['total_sqft_new'] = df['total_sqft'].map(string_val_dict)"
   ]
  },
  {
   "cell_type": "code",
   "execution_count": null,
   "metadata": {
    "ExecuteTime": {
     "end_time": "2019-11-01T04:23:27.428047Z",
     "start_time": "2019-11-01T04:23:26.474635Z"
    }
   },
   "outputs": [],
   "source": [
    "df['total_sqft'] = (df.apply(lambda row: row['total_sqft'] \n",
    "                             if np.isnan(row['total_sqft_new']) \n",
    "                             else row['total_sqft_new'],axis=1))"
   ]
  },
  {
   "cell_type": "code",
   "execution_count": null,
   "metadata": {
    "ExecuteTime": {
     "end_time": "2019-11-01T04:23:27.446039Z",
     "start_time": "2019-11-01T04:23:27.431044Z"
    }
   },
   "outputs": [],
   "source": [
    "df['total_sqft'] = df['total_sqft'].astype(float)\n",
    "\n",
    "df.drop(['total_sqft_new'], axis=1, inplace=True)"
   ]
  },
  {
   "cell_type": "code",
   "execution_count": null,
   "metadata": {
    "ExecuteTime": {
     "end_time": "2019-11-01T04:23:27.533983Z",
     "start_time": "2019-11-01T04:23:27.449039Z"
    },
    "scrolled": false
   },
   "outputs": [],
   "source": [
    "df['total_sqft'].isnull().sum()"
   ]
  },
  {
   "cell_type": "markdown",
   "metadata": {},
   "source": [
    "## Society"
   ]
  },
  {
   "cell_type": "code",
   "execution_count": null,
   "metadata": {
    "ExecuteTime": {
     "end_time": "2019-11-01T04:23:27.626925Z",
     "start_time": "2019-11-01T04:23:27.536979Z"
    }
   },
   "outputs": [],
   "source": [
    "df['society'].isnull().sum()"
   ]
  },
  {
   "cell_type": "code",
   "execution_count": null,
   "metadata": {
    "ExecuteTime": {
     "end_time": "2019-11-01T04:23:27.725865Z",
     "start_time": "2019-11-01T04:23:27.628923Z"
    },
    "scrolled": true
   },
   "outputs": [],
   "source": [
    "df[df['society'].isnull()].head()"
   ]
  },
  {
   "cell_type": "markdown",
   "metadata": {},
   "source": [
    "Here, just making a binary classification whether the House is in a Society or not, filling NaNs with zero and remaining with 1."
   ]
  },
  {
   "cell_type": "code",
   "execution_count": null,
   "metadata": {
    "ExecuteTime": {
     "end_time": "2019-11-01T04:23:27.815810Z",
     "start_time": "2019-11-01T04:23:27.728862Z"
    }
   },
   "outputs": [],
   "source": [
    "df.loc[(df['society'].isnull()), 'society']= 0\n",
    "\n",
    "df.loc[(df['society']!=0),'society'] = 1\n",
    "\n",
    "df['society'].value_counts()"
   ]
  },
  {
   "cell_type": "markdown",
   "metadata": {},
   "source": [
    "## Availability"
   ]
  },
  {
   "cell_type": "code",
   "execution_count": null,
   "metadata": {
    "ExecuteTime": {
     "end_time": "2019-11-01T04:23:27.888763Z",
     "start_time": "2019-11-01T04:23:27.818807Z"
    }
   },
   "outputs": [],
   "source": [
    "df['availability'].value_counts().head()"
   ]
  },
  {
   "cell_type": "markdown",
   "metadata": {},
   "source": [
    "In 'availability' column, we can broadly categorised the data into two ways:\n",
    "- \"Ready To Move\" or \"Immediate Possession\"\n",
    "- A future date\n",
    "\n",
    "Since, the year is not mentioned in these dates, hence we cannot utilise this column further.\n",
    "Therefore, categorising the data points as '1' for \"Ready To Move\" or \"Immediate Possession\" and \n",
    "'0' for the dates."
   ]
  },
  {
   "cell_type": "code",
   "execution_count": null,
   "metadata": {
    "ExecuteTime": {
     "end_time": "2019-11-01T04:23:27.988704Z",
     "start_time": "2019-11-01T04:23:27.890762Z"
    }
   },
   "outputs": [],
   "source": [
    "df['availability'].replace([\"Ready To Move\",\"Immediate Possession\"], 1, inplace=True)\n",
    "\n",
    "df.loc[(df['availability']!=1),'availability'] = 0\n",
    "\n",
    "df['availability'].value_counts()"
   ]
  },
  {
   "cell_type": "markdown",
   "metadata": {},
   "source": [
    "# Imputation - DAY 3"
   ]
  },
  {
   "cell_type": "code",
   "execution_count": null,
   "metadata": {
    "ExecuteTime": {
     "end_time": "2019-11-01T04:23:28.055663Z",
     "start_time": "2019-11-01T04:23:27.991701Z"
    }
   },
   "outputs": [],
   "source": [
    "df.isnull().sum()"
   ]
  },
  {
   "cell_type": "markdown",
   "metadata": {},
   "source": [
    "## Size"
   ]
  },
  {
   "cell_type": "code",
   "execution_count": null,
   "metadata": {
    "ExecuteTime": {
     "end_time": "2019-11-01T04:23:28.130614Z",
     "start_time": "2019-11-01T04:23:28.058658Z"
    },
    "scrolled": true
   },
   "outputs": [],
   "source": [
    "df[df['size'].isna()].head()"
   ]
  },
  {
   "cell_type": "markdown",
   "metadata": {},
   "source": [
    "To impute variable 'size' i.e. number of bedrooms, the variable 'total_sqft' is used. The 'total_sqft' is divided by 550(considering a generic factor per room in a house with hall and kitchen), and the roundup till the next integer."
   ]
  },
  {
   "cell_type": "code",
   "execution_count": null,
   "metadata": {
    "ExecuteTime": {
     "end_time": "2019-11-01T04:23:28.215563Z",
     "start_time": "2019-11-01T04:23:28.133613Z"
    }
   },
   "outputs": [],
   "source": [
    "df['size'] = df['size'].astype(float)"
   ]
  },
  {
   "cell_type": "code",
   "execution_count": null,
   "metadata": {
    "ExecuteTime": {
     "end_time": "2019-11-01T04:23:28.986088Z",
     "start_time": "2019-11-01T04:23:28.218563Z"
    },
    "scrolled": true
   },
   "outputs": [],
   "source": [
    "df['size'] = df.apply(lambda row: math.ceil(float(row['total_sqft']/550)) if np.isnan(row['size']) else row['size'], axis=1)"
   ]
  },
  {
   "cell_type": "code",
   "execution_count": null,
   "metadata": {
    "ExecuteTime": {
     "end_time": "2019-11-01T04:23:29.013077Z",
     "start_time": "2019-11-01T04:23:28.990088Z"
    }
   },
   "outputs": [],
   "source": [
    "df[df['size'].isna()]"
   ]
  },
  {
   "cell_type": "markdown",
   "metadata": {},
   "source": [
    "## Bath"
   ]
  },
  {
   "cell_type": "code",
   "execution_count": null,
   "metadata": {
    "ExecuteTime": {
     "end_time": "2019-11-01T04:23:29.107015Z",
     "start_time": "2019-11-01T04:23:29.017069Z"
    },
    "scrolled": true
   },
   "outputs": [],
   "source": [
    "df[df['bath'].isna()].head()"
   ]
  },
  {
   "cell_type": "code",
   "execution_count": null,
   "metadata": {
    "ExecuteTime": {
     "end_time": "2019-11-01T04:23:29.182966Z",
     "start_time": "2019-11-01T04:23:29.110011Z"
    }
   },
   "outputs": [],
   "source": [
    "df[['size','bath']].corr()"
   ]
  },
  {
   "cell_type": "markdown",
   "metadata": {},
   "source": [
    "As we can see that number of bedrooms and bathrooms are highly correlated, we will fill the NaNs in variable 'bath' with values of variable 'size'."
   ]
  },
  {
   "cell_type": "code",
   "execution_count": null,
   "metadata": {
    "ExecuteTime": {
     "end_time": "2019-11-01T04:23:29.968484Z",
     "start_time": "2019-11-01T04:23:29.185964Z"
    }
   },
   "outputs": [],
   "source": [
    "df['bath'] = df.apply(lambda row: row['size'] if np.isnan(row['bath']) else row['bath'], axis=1)"
   ]
  },
  {
   "cell_type": "markdown",
   "metadata": {},
   "source": [
    "## Balcony"
   ]
  },
  {
   "cell_type": "code",
   "execution_count": null,
   "metadata": {
    "ExecuteTime": {
     "end_time": "2019-11-01T04:23:29.994468Z",
     "start_time": "2019-11-01T04:23:29.971482Z"
    },
    "scrolled": false
   },
   "outputs": [],
   "source": [
    "df.groupby(['size']).agg({'balcony':['count','mean','median']})"
   ]
  },
  {
   "cell_type": "markdown",
   "metadata": {},
   "source": [
    "Looking at the mean and median of number of balconies grouped by number of bedrooms. We can infer, in general, that 2 or less than 2 bedrooms house has 1 balcony,  3 to 9 bedrooms house has 2 balconies, more than 9 bedrooms house has 3 or more balconies. We can impute these values with median, and for rooms where median is not available(16 to 19 rooms), filling NaNs with 4."
   ]
  },
  {
   "cell_type": "code",
   "execution_count": null,
   "metadata": {
    "ExecuteTime": {
     "end_time": "2019-11-01T04:23:30.097403Z",
     "start_time": "2019-11-01T04:23:29.998465Z"
    }
   },
   "outputs": [],
   "source": [
    "balcony = df.groupby(['size']).agg({'balcony':'median'}).reset_index()\n",
    "\n",
    "balcony['balcony'].fillna(4, inplace=True)\n",
    "\n",
    "balcony_dict = dict(zip(balcony['size'], balcony['balcony']))\n",
    "\n",
    "df['new_balcony'] = df[df['balcony'].isna()]['size'].map(balcony_dict)"
   ]
  },
  {
   "cell_type": "code",
   "execution_count": null,
   "metadata": {
    "ExecuteTime": {
     "end_time": "2019-11-01T04:23:30.941884Z",
     "start_time": "2019-11-01T04:23:30.100403Z"
    }
   },
   "outputs": [],
   "source": [
    "df['balcony'] = (df.apply(lambda row: row['new_balcony'] \n",
    "                          if np.isnan(row['balcony']) \n",
    "                          else row['balcony'], axis=1))"
   ]
  },
  {
   "cell_type": "code",
   "execution_count": null,
   "metadata": {
    "ExecuteTime": {
     "end_time": "2019-11-01T04:23:30.951877Z",
     "start_time": "2019-11-01T04:23:30.944883Z"
    }
   },
   "outputs": [],
   "source": [
    "df.drop(['new_balcony'], axis=1, inplace=True)"
   ]
  },
  {
   "cell_type": "code",
   "execution_count": null,
   "metadata": {
    "ExecuteTime": {
     "end_time": "2019-11-01T04:23:31.043825Z",
     "start_time": "2019-11-01T04:23:30.954879Z"
    },
    "scrolled": true
   },
   "outputs": [],
   "source": [
    "df['balcony'].isnull().sum()"
   ]
  },
  {
   "cell_type": "markdown",
   "metadata": {},
   "source": [
    "# Outlier Removal"
   ]
  },
  {
   "cell_type": "markdown",
   "metadata": {},
   "source": [
    "Checking the outliers in the training dataset and removing them from it. Removing outliers from 'total_sqft' first so it doesn't create any skewness in next step deriving any new feature.\n",
    "\n",
    "For this operation, splitting the data based on train and test and joining it back later."
   ]
  },
  {
   "cell_type": "code",
   "execution_count": null,
   "metadata": {
    "ExecuteTime": {
     "end_time": "2019-11-01T04:23:31.129773Z",
     "start_time": "2019-11-01T04:23:31.046820Z"
    }
   },
   "outputs": [],
   "source": [
    "train_df = df[df['data_category']=='train']\n",
    "test_df = df[df['data_category']=='test']"
   ]
  },
  {
   "cell_type": "code",
   "execution_count": null,
   "metadata": {
    "ExecuteTime": {
     "end_time": "2019-11-01T04:23:31.538520Z",
     "start_time": "2019-11-01T04:23:31.132765Z"
    }
   },
   "outputs": [],
   "source": [
    "plt.figure(figsize=(30,10))\n",
    "sns.boxplot(train_df['total_sqft'])\n",
    "plt.show()"
   ]
  },
  {
   "cell_type": "markdown",
   "metadata": {},
   "source": [
    "We can see that there are some outliers which are exobitant, hence we need to remove them. Setting a lower and upper limit to remove these outliers."
   ]
  },
  {
   "cell_type": "code",
   "execution_count": null,
   "metadata": {
    "ExecuteTime": {
     "end_time": "2019-11-01T04:23:31.550511Z",
     "start_time": "2019-11-01T04:23:31.541514Z"
    }
   },
   "outputs": [],
   "source": [
    "lower_limit = np.nanpercentile(train_df['total_sqft'],0.25)\n",
    "upper_limit = np.nanpercentile(train_df['total_sqft'],99.75)\n",
    "print(lower_limit)\n",
    "print(upper_limit)"
   ]
  },
  {
   "cell_type": "code",
   "execution_count": null,
   "metadata": {
    "ExecuteTime": {
     "end_time": "2019-11-01T04:23:31.667652Z",
     "start_time": "2019-11-01T04:23:31.553507Z"
    }
   },
   "outputs": [],
   "source": [
    "len(train_df)"
   ]
  },
  {
   "cell_type": "code",
   "execution_count": null,
   "metadata": {
    "ExecuteTime": {
     "end_time": "2019-11-01T04:23:31.744604Z",
     "start_time": "2019-11-01T04:23:31.670650Z"
    },
    "scrolled": true
   },
   "outputs": [],
   "source": [
    "train_df = train_df[train_df['total_sqft'].between(lower_limit, upper_limit)]"
   ]
  },
  {
   "cell_type": "code",
   "execution_count": null,
   "metadata": {
    "ExecuteTime": {
     "end_time": "2019-11-01T04:23:31.809566Z",
     "start_time": "2019-11-01T04:23:31.746604Z"
    }
   },
   "outputs": [],
   "source": [
    "len(train_df)"
   ]
  },
  {
   "cell_type": "markdown",
   "metadata": {},
   "source": [
    "So, we have removed 64 data points from training dataset."
   ]
  },
  {
   "cell_type": "code",
   "execution_count": null,
   "metadata": {
    "ExecuteTime": {
     "end_time": "2019-11-01T04:23:31.880520Z",
     "start_time": "2019-11-01T04:23:31.811564Z"
    }
   },
   "outputs": [],
   "source": [
    "df = pd.concat([train_df,test_df])"
   ]
  },
  {
   "cell_type": "markdown",
   "metadata": {},
   "source": [
    "# Deriving New Feature"
   ]
  },
  {
   "cell_type": "markdown",
   "metadata": {},
   "source": [
    "Pincodes, a categorical variable, with 128 distinct values will increase the number of columns with one-hot encoding. This will also increase the overall computational time for training the model. To solve this issue, we can optimise the model with a new numeric feature derived from 'location', 'area_type','society' and drop 'location' from the dataset later.\n",
    "\n",
    "This new feature will be derived from 'Training Data' only and will be common for both training and test data."
   ]
  },
  {
   "cell_type": "markdown",
   "metadata": {},
   "source": [
    "## Price Per Location - Combining Location, Society and Area Type"
   ]
  },
  {
   "cell_type": "code",
   "execution_count": null,
   "metadata": {
    "ExecuteTime": {
     "end_time": "2019-11-01T04:23:31.972466Z",
     "start_time": "2019-11-01T04:23:31.882519Z"
    }
   },
   "outputs": [],
   "source": [
    "price_per_loc = (df[df['data_category']=='train'].groupby(['area_type','location','society'])\n",
    "                 .agg({'total_sqft': 'sum','price':'sum'}).reset_index())\n",
    "\n",
    "price_per_loc['avg_price_per_loc'] = price_per_loc['price']/price_per_loc['total_sqft']"
   ]
  },
  {
   "cell_type": "code",
   "execution_count": null,
   "metadata": {
    "ExecuteTime": {
     "end_time": "2019-11-01T04:23:32.050416Z",
     "start_time": "2019-11-01T04:23:31.974465Z"
    }
   },
   "outputs": [],
   "source": [
    "price_per_loc.head()"
   ]
  },
  {
   "cell_type": "markdown",
   "metadata": {},
   "source": [
    "Merging this new column with original 'df'."
   ]
  },
  {
   "cell_type": "code",
   "execution_count": null,
   "metadata": {
    "ExecuteTime": {
     "end_time": "2019-11-01T04:23:32.151356Z",
     "start_time": "2019-11-01T04:23:32.054414Z"
    }
   },
   "outputs": [],
   "source": [
    "df = pd.merge(df,price_per_loc[['area_type','location', 'society','avg_price_per_loc']],\n",
    "                  on=['area_type','location', 'society'], how='left')"
   ]
  },
  {
   "cell_type": "code",
   "execution_count": null,
   "metadata": {
    "ExecuteTime": {
     "end_time": "2019-11-01T04:23:32.219207Z",
     "start_time": "2019-11-01T04:23:32.158352Z"
    }
   },
   "outputs": [],
   "source": [
    "df['avg_price_per_loc'].isnull().sum()"
   ]
  },
  {
   "cell_type": "markdown",
   "metadata": {},
   "source": [
    "## Price Per Location 2 - Combining Location and Society Only "
   ]
  },
  {
   "cell_type": "markdown",
   "metadata": {},
   "source": [
    "Since, there are 13 values in Test Data that not available to merge, we can create another variable 'avg_price_per_loc_2' from 'location' and 'society' only to fill NaNs."
   ]
  },
  {
   "cell_type": "code",
   "execution_count": null,
   "metadata": {
    "ExecuteTime": {
     "end_time": "2019-11-01T04:23:32.328135Z",
     "start_time": "2019-11-01T04:23:32.223200Z"
    }
   },
   "outputs": [],
   "source": [
    "price_per_loc_2 = (df[df['data_category']=='train'].groupby(['location','society'])\n",
    "                   .agg({'total_sqft': 'sum','price':'sum'}).reset_index())\n",
    "\n",
    "price_per_loc_2['avg_price_per_loc_2'] = price_per_loc_2['price']/price_per_loc_2['total_sqft']"
   ]
  },
  {
   "cell_type": "code",
   "execution_count": null,
   "metadata": {
    "ExecuteTime": {
     "end_time": "2019-11-01T04:23:32.387102Z",
     "start_time": "2019-11-01T04:23:32.332134Z"
    }
   },
   "outputs": [],
   "source": [
    "price_per_loc_2.head()"
   ]
  },
  {
   "cell_type": "code",
   "execution_count": null,
   "metadata": {
    "ExecuteTime": {
     "end_time": "2019-11-01T04:23:32.477046Z",
     "start_time": "2019-11-01T04:23:32.394098Z"
    }
   },
   "outputs": [],
   "source": [
    "df = pd.merge(df,price_per_loc_2[['location', 'society','avg_price_per_loc_2']],\n",
    "                  on=['location', 'society'], how='left')"
   ]
  },
  {
   "cell_type": "code",
   "execution_count": null,
   "metadata": {
    "ExecuteTime": {
     "end_time": "2019-11-01T04:23:33.257564Z",
     "start_time": "2019-11-01T04:23:32.480043Z"
    }
   },
   "outputs": [],
   "source": [
    "df['avg_price_per_loc'] = df.apply(lambda row: row['avg_price_per_loc_2'] if np.isnan(row['avg_price_per_loc']) else row['avg_price_per_loc'], axis=1)"
   ]
  },
  {
   "cell_type": "code",
   "execution_count": null,
   "metadata": {
    "ExecuteTime": {
     "end_time": "2019-11-01T04:23:33.270555Z",
     "start_time": "2019-11-01T04:23:33.261561Z"
    },
    "scrolled": true
   },
   "outputs": [],
   "source": [
    "df['avg_price_per_loc'].isnull().sum()"
   ]
  },
  {
   "cell_type": "markdown",
   "metadata": {},
   "source": [
    "## Price Per Location 3 - Average Price per SqFt for remaining null values"
   ]
  },
  {
   "cell_type": "markdown",
   "metadata": {
    "ExecuteTime": {
     "end_time": "2019-10-28T18:58:48.919192Z",
     "start_time": "2019-10-28T18:58:48.913196Z"
    }
   },
   "source": [
    "There are still three values we need to fill."
   ]
  },
  {
   "cell_type": "code",
   "execution_count": null,
   "metadata": {
    "ExecuteTime": {
     "end_time": "2019-11-01T04:23:33.392481Z",
     "start_time": "2019-11-01T04:23:33.273553Z"
    }
   },
   "outputs": [],
   "source": [
    "average_price = df[df['data_category']=='train']['price'].sum()/df[df['data_category']=='train']['total_sqft'].sum()"
   ]
  },
  {
   "cell_type": "code",
   "execution_count": null,
   "metadata": {
    "ExecuteTime": {
     "end_time": "2019-11-01T04:23:33.510409Z",
     "start_time": "2019-11-01T04:23:33.395481Z"
    }
   },
   "outputs": [],
   "source": [
    "df['avg_price_per_loc'].fillna(average_price, inplace=True)"
   ]
  },
  {
   "cell_type": "code",
   "execution_count": null,
   "metadata": {
    "ExecuteTime": {
     "end_time": "2019-11-01T04:23:34.418850Z",
     "start_time": "2019-11-01T04:23:33.512406Z"
    }
   },
   "outputs": [],
   "source": [
    "plt.figure(figsize=(30,10))\n",
    "df['avg_price_per_loc'].hist(bins=200)\n",
    "plt.show()"
   ]
  },
  {
   "cell_type": "code",
   "execution_count": null,
   "metadata": {
    "ExecuteTime": {
     "end_time": "2019-11-01T04:23:34.428843Z",
     "start_time": "2019-11-01T04:23:34.420848Z"
    }
   },
   "outputs": [],
   "source": [
    "df.drop(['location','avg_price_per_loc_2'],axis=1, inplace=True)"
   ]
  },
  {
   "cell_type": "code",
   "execution_count": null,
   "metadata": {
    "ExecuteTime": {
     "end_time": "2019-11-01T04:23:34.523783Z",
     "start_time": "2019-11-01T04:23:34.431840Z"
    }
   },
   "outputs": [],
   "source": [
    "df.head(5)"
   ]
  },
  {
   "cell_type": "markdown",
   "metadata": {
    "ExecuteTime": {
     "end_time": "2019-10-30T01:55:21.936625Z",
     "start_time": "2019-10-30T01:55:21.849676Z"
    },
    "scrolled": true
   },
   "source": [
    "Finally we have got a new feature which is created from variable 'location'."
   ]
  },
  {
   "cell_type": "markdown",
   "metadata": {},
   "source": [
    "# Checking the Distribution - DAY 4"
   ]
  },
  {
   "cell_type": "markdown",
   "metadata": {},
   "source": [
    "## Specifying data type to each variable"
   ]
  },
  {
   "cell_type": "code",
   "execution_count": null,
   "metadata": {
    "ExecuteTime": {
     "end_time": "2019-11-01T04:23:34.620725Z",
     "start_time": "2019-11-01T04:23:34.526784Z"
    }
   },
   "outputs": [],
   "source": [
    "df['area_type'] = pd.Categorical(df['area_type'])\n",
    "df[['size','total_sqft','bath','balcony','avg_price_per_loc','price']] = df[['size','total_sqft','bath','balcony','avg_price_per_loc','price']].apply(pd.to_numeric)\n",
    "\n",
    "df[['availability','society']]  = df[['availability','society']].astype(int)"
   ]
  },
  {
   "cell_type": "code",
   "execution_count": null,
   "metadata": {
    "ExecuteTime": {
     "end_time": "2019-11-01T04:23:34.702673Z",
     "start_time": "2019-11-01T04:23:34.623724Z"
    }
   },
   "outputs": [],
   "source": [
    "df = df[['area_type', 'availability', 'size', 'society', 'total_sqft', 'bath',\n",
    "       'balcony', 'avg_price_per_loc', 'price', 'data_category']]"
   ]
  },
  {
   "cell_type": "code",
   "execution_count": null,
   "metadata": {
    "ExecuteTime": {
     "end_time": "2019-11-01T04:23:34.785624Z",
     "start_time": "2019-11-01T04:23:34.705673Z"
    },
    "scrolled": true
   },
   "outputs": [],
   "source": [
    "df.head()"
   ]
  },
  {
   "cell_type": "markdown",
   "metadata": {},
   "source": [
    "## Total Sqft"
   ]
  },
  {
   "cell_type": "code",
   "execution_count": null,
   "metadata": {
    "ExecuteTime": {
     "end_time": "2019-11-01T04:23:35.528166Z",
     "start_time": "2019-11-01T04:23:34.788623Z"
    }
   },
   "outputs": [],
   "source": [
    "plt.figure(figsize=(30,10))\n",
    "df['total_sqft'].hist(bins=200)\n",
    "plt.show()"
   ]
  },
  {
   "cell_type": "markdown",
   "metadata": {},
   "source": [
    "The distribution is right skewed. Let's see if taking logrithmic value can remove this skewness."
   ]
  },
  {
   "cell_type": "code",
   "execution_count": null,
   "metadata": {
    "ExecuteTime": {
     "end_time": "2019-11-01T04:23:36.332672Z",
     "start_time": "2019-11-01T04:23:35.531165Z"
    }
   },
   "outputs": [],
   "source": [
    "plt.figure(figsize=(30,10))\n",
    "np.log(df['total_sqft']).hist(bins=200)\n",
    "plt.show()"
   ]
  },
  {
   "cell_type": "markdown",
   "metadata": {},
   "source": [
    "Perfect. The skewness has decreased significantly with logrithmic conversion."
   ]
  },
  {
   "cell_type": "code",
   "execution_count": null,
   "metadata": {
    "ExecuteTime": {
     "end_time": "2019-11-01T04:23:36.342665Z",
     "start_time": "2019-11-01T04:23:36.335669Z"
    }
   },
   "outputs": [],
   "source": [
    "df['total_sqft'] = np.log(df['total_sqft'])"
   ]
  },
  {
   "cell_type": "markdown",
   "metadata": {},
   "source": [
    "## Price"
   ]
  },
  {
   "cell_type": "markdown",
   "metadata": {},
   "source": [
    "Splitting the data to check for 'price' variable distribution."
   ]
  },
  {
   "cell_type": "code",
   "execution_count": null,
   "metadata": {
    "ExecuteTime": {
     "end_time": "2019-11-01T04:23:36.424615Z",
     "start_time": "2019-11-01T04:23:36.345661Z"
    }
   },
   "outputs": [],
   "source": [
    "train_df = df[df['data_category']=='train']\n",
    "train_df.drop(['data_category'], axis=1, inplace=True)\n",
    "len(train_df)"
   ]
  },
  {
   "cell_type": "code",
   "execution_count": null,
   "metadata": {
    "ExecuteTime": {
     "end_time": "2019-11-01T04:23:36.515557Z",
     "start_time": "2019-11-01T04:23:36.427612Z"
    }
   },
   "outputs": [],
   "source": [
    "test_df = df[df['data_category']=='test']\n",
    "test_df.drop(['data_category'], axis=1, inplace=True)\n",
    "len(test_df)"
   ]
  },
  {
   "cell_type": "code",
   "execution_count": null,
   "metadata": {
    "ExecuteTime": {
     "end_time": "2019-11-01T04:23:37.476967Z",
     "start_time": "2019-11-01T04:23:36.518557Z"
    }
   },
   "outputs": [],
   "source": [
    "plt.figure(figsize=(30,10))\n",
    "(train_df['price']).hist(bins=200)\n",
    "plt.show()"
   ]
  },
  {
   "cell_type": "markdown",
   "metadata": {},
   "source": [
    "Here also, the distribution is right skewed."
   ]
  },
  {
   "cell_type": "code",
   "execution_count": null,
   "metadata": {
    "ExecuteTime": {
     "end_time": "2019-11-01T04:23:38.265482Z",
     "start_time": "2019-11-01T04:23:37.480964Z"
    }
   },
   "outputs": [],
   "source": [
    "plt.figure(figsize=(30,10))\n",
    "np.log(train_df['price']).hist(bins=200)\n",
    "plt.show()"
   ]
  },
  {
   "cell_type": "code",
   "execution_count": null,
   "metadata": {
    "ExecuteTime": {
     "end_time": "2019-11-01T04:23:38.274477Z",
     "start_time": "2019-11-01T04:23:38.268483Z"
    }
   },
   "outputs": [],
   "source": [
    "train_df['price'] = np.log(train_df['price'])"
   ]
  },
  {
   "cell_type": "code",
   "execution_count": null,
   "metadata": {
    "ExecuteTime": {
     "end_time": "2019-11-01T04:23:38.378414Z",
     "start_time": "2019-11-01T04:23:38.276473Z"
    },
    "scrolled": true
   },
   "outputs": [],
   "source": [
    "train_df.dtypes"
   ]
  },
  {
   "cell_type": "markdown",
   "metadata": {},
   "source": [
    "# One-Hot Encoding"
   ]
  },
  {
   "cell_type": "code",
   "execution_count": null,
   "metadata": {
    "ExecuteTime": {
     "end_time": "2019-11-01T04:23:38.490343Z",
     "start_time": "2019-11-01T04:23:38.380411Z"
    }
   },
   "outputs": [],
   "source": [
    "main_train = pd.get_dummies(train_df)\n",
    "main_test = pd.get_dummies(test_df)"
   ]
  },
  {
   "cell_type": "code",
   "execution_count": null,
   "metadata": {
    "ExecuteTime": {
     "end_time": "2019-11-01T04:23:38.612270Z",
     "start_time": "2019-11-01T04:23:38.492342Z"
    },
    "scrolled": false
   },
   "outputs": [],
   "source": [
    "main_train.head(3)\n",
    "\n",
    "main_test.head(3)"
   ]
  },
  {
   "cell_type": "markdown",
   "metadata": {},
   "source": [
    "Saving file post-processing."
   ]
  },
  {
   "cell_type": "code",
   "execution_count": null,
   "metadata": {
    "ExecuteTime": {
     "end_time": "2019-11-01T04:23:38.974046Z",
     "start_time": "2019-11-01T04:23:38.616267Z"
    }
   },
   "outputs": [],
   "source": [
    "main_train.to_csv('../data/processed/train_df.csv', index=False)\n",
    "main_test.to_csv('../data/processed/test_df.csv', index=False)"
   ]
  },
  {
   "cell_type": "markdown",
   "metadata": {},
   "source": [
    "# Modeling"
   ]
  },
  {
   "cell_type": "markdown",
   "metadata": {},
   "source": [
    "## Import Models"
   ]
  },
  {
   "cell_type": "code",
   "execution_count": null,
   "metadata": {
    "ExecuteTime": {
     "end_time": "2019-11-01T04:23:39.265865Z",
     "start_time": "2019-11-01T04:23:38.977042Z"
    }
   },
   "outputs": [],
   "source": [
    "# Accuracy and Cross-Validation scores.\n",
    "#Import models from scikit learn module:\n",
    "\n",
    "import pandas as pd\n",
    "import numpy as np\n",
    "import matplotlib.pyplot as plt\n",
    "\n",
    "from sklearn.model_selection import train_test_split\n",
    "from sklearn.tree import DecisionTreeRegressor\n",
    "from sklearn.model_selection import cross_val_score   #For K-fold cross validation\n",
    "from sklearn.ensemble import RandomForestRegressor\n",
    "from xgboost import XGBRegressor\n",
    "from sklearn.tree import DecisionTreeRegressor\n",
    "from sklearn import datasets, linear_model, metrics\n",
    "from sklearn import model_selection\n",
    "from sklearn.metrics import mean_squared_error, make_scorer\n",
    "from math import sqrt\n",
    "from sklearn.metrics import mean_squared_error\n",
    "from lightgbm import LGBMRegressor\n",
    "\n",
    "from IPython.core.interactiveshell import InteractiveShell\n",
    "InteractiveShell.ast_node_interactivity = \"last\"\n",
    "\n",
    "import warnings\n",
    "warnings.filterwarnings('ignore')"
   ]
  },
  {
   "cell_type": "code",
   "execution_count": null,
   "metadata": {
    "ExecuteTime": {
     "end_time": "2019-11-01T04:23:39.320830Z",
     "start_time": "2019-11-01T04:23:39.268864Z"
    }
   },
   "outputs": [],
   "source": [
    "#read it back\n",
    "main_train=pd.read_csv(\"../data/processed/train_df.csv\")\n",
    "main_test=pd.read_csv(\"../data/processed/test_df.csv\")"
   ]
  },
  {
   "cell_type": "code",
   "execution_count": null,
   "metadata": {
    "ExecuteTime": {
     "end_time": "2019-11-01T04:23:39.419769Z",
     "start_time": "2019-11-01T04:23:39.323829Z"
    }
   },
   "outputs": [],
   "source": [
    "X = main_train.drop('price', axis=1)\n",
    "Y = main_train['price']"
   ]
  },
  {
   "cell_type": "markdown",
   "metadata": {},
   "source": [
    "## Train-Test Split"
   ]
  },
  {
   "cell_type": "code",
   "execution_count": null,
   "metadata": {
    "ExecuteTime": {
     "end_time": "2019-11-01T04:23:39.508715Z",
     "start_time": "2019-11-01T04:23:39.424768Z"
    }
   },
   "outputs": [],
   "source": [
    "X_train, X_test, y_train, y_test = train_test_split(X, Y, test_size=0.2)\n",
    "print (X_train.shape, y_train.shape)\n",
    "print (X_test.shape, y_test.shape)"
   ]
  },
  {
   "cell_type": "markdown",
   "metadata": {},
   "source": [
    "## Creating Custom Metric Function"
   ]
  },
  {
   "cell_type": "code",
   "execution_count": null,
   "metadata": {
    "ExecuteTime": {
     "end_time": "2019-11-01T04:23:39.583668Z",
     "start_time": "2019-11-01T04:23:39.513712Z"
    }
   },
   "outputs": [],
   "source": [
    "#Generic function for making a classification model and accessing performance:\n",
    "## How to create your own metric function and make it as a scorer object\n",
    "\n",
    "def mean_sq_error(y,y_pred):\n",
    "    return sqrt(mean_squared_error(y,y_pred=y_pred))\n",
    "\n",
    "rmse = make_scorer(mean_sq_error)\n",
    "\n",
    "\n",
    "def regression_model(model, data, predictors, outcome):\n",
    "    scores = cross_val_score(model, data[predictors],data[outcome],cv=5,scoring=rmse)\n",
    "    for i in range(len(scores)):\n",
    "        print(\"CV %s\"%i + \" Score:%s\"%\"{0:.5}\".format(scores[i]) )\n",
    "        \n",
    "    print (\"Average RMSE Cross-Validation Score : %s\" % \"{0:.3}\".format(np.mean(scores)))"
   ]
  },
  {
   "cell_type": "markdown",
   "metadata": {},
   "source": [
    "## Fitting Models"
   ]
  },
  {
   "cell_type": "code",
   "execution_count": null,
   "metadata": {
    "ExecuteTime": {
     "end_time": "2019-11-01T04:23:39.674612Z",
     "start_time": "2019-11-01T04:23:39.590667Z"
    }
   },
   "outputs": [],
   "source": [
    "all_variable=list(main_train)\n",
    "all_variable.remove('price')"
   ]
  },
  {
   "cell_type": "markdown",
   "metadata": {},
   "source": [
    "### Decision Tree"
   ]
  },
  {
   "cell_type": "code",
   "execution_count": null,
   "metadata": {
    "ExecuteTime": {
     "end_time": "2019-11-01T04:23:40.144325Z",
     "start_time": "2019-11-01T04:23:39.678611Z"
    }
   },
   "outputs": [],
   "source": [
    "# DecisionTreeRegressor\n",
    "outcome_var = 'price'\n",
    "model = DecisionTreeRegressor()\n",
    "predictor_var = all_variable\n",
    "regression_model(model, main_train, predictor_var, outcome_var)"
   ]
  },
  {
   "cell_type": "markdown",
   "metadata": {},
   "source": [
    "### Random Forest"
   ]
  },
  {
   "cell_type": "code",
   "execution_count": null,
   "metadata": {
    "ExecuteTime": {
     "end_time": "2019-11-01T04:24:00.184657Z",
     "start_time": "2019-11-01T04:23:40.148323Z"
    }
   },
   "outputs": [],
   "source": [
    "# Random Forest Regression\n",
    "outcome_var = 'price'\n",
    "model = RandomForestRegressor(n_estimators=200, random_state=0, n_jobs = -1)\n",
    "predictor_var = all_variable\n",
    "regression_model(model, main_train, predictor_var, outcome_var)"
   ]
  },
  {
   "cell_type": "markdown",
   "metadata": {},
   "source": [
    "### XGBoost"
   ]
  },
  {
   "cell_type": "code",
   "execution_count": null,
   "metadata": {
    "ExecuteTime": {
     "end_time": "2019-11-01T04:24:20.530132Z",
     "start_time": "2019-11-01T04:24:00.187654Z"
    }
   },
   "outputs": [],
   "source": [
    "# XGBoost Regressor\n",
    "outcome_var = 'price'\n",
    "model = XGBRegressor(n_estimators=540,random_state=0,n_jobs=-1)\n",
    "predictor_var = all_variable\n",
    "regression_model(model, main_train, predictor_var, outcome_var)"
   ]
  },
  {
   "cell_type": "markdown",
   "metadata": {},
   "source": [
    "We can see that all the ensemble models are giving similar cross validation score of ~0.29 without much hyper parameter tuning."
   ]
  },
  {
   "cell_type": "markdown",
   "metadata": {},
   "source": [
    "# Final Results"
   ]
  },
  {
   "cell_type": "markdown",
   "metadata": {},
   "source": [
    "Analyzing the results above, almost all models are giving similar rmse. We find that Random Forest model is performing best with least rmse of 0.292. So, we'll select the parameters of that model to train the final model to predict the test dataset."
   ]
  },
  {
   "cell_type": "code",
   "execution_count": null,
   "metadata": {
    "ExecuteTime": {
     "end_time": "2019-11-01T16:12:09.808127Z",
     "start_time": "2019-11-01T16:12:09.795136Z"
    }
   },
   "outputs": [],
   "source": [
    "RF = RandomForestRegressor(bootstrap=True,\n",
    "                           criterion='mse',\n",
    "                           max_depth=27,\n",
    "                           max_features='sqrt',\n",
    "                           max_leaf_nodes=None,\n",
    "                           min_impurity_decrease=0.0,\n",
    "                           min_impurity_split=None,\n",
    "                           min_samples_leaf=1,\n",
    "                           min_samples_split=5,\n",
    "                           min_weight_fraction_leaf=0.0,\n",
    "                           n_estimators=260,\n",
    "                           n_jobs=1,\n",
    "                           oob_score=False,\n",
    "                           random_state=None,\n",
    "                           verbose=0,\n",
    "                           warm_start=False)"
   ]
  },
  {
   "cell_type": "code",
   "execution_count": null,
   "metadata": {
    "ExecuteTime": {
     "end_time": "2019-11-01T16:32:36.871075Z",
     "start_time": "2019-11-01T16:32:36.862082Z"
    }
   },
   "outputs": [],
   "source": [
    "X_train = main_train.drop('price', axis=1)\n",
    "y_train = main_train['price']\n",
    "\n",
    "X_test = main_test.drop('price', axis=1)"
   ]
  },
  {
   "cell_type": "code",
   "execution_count": null,
   "metadata": {
    "ExecuteTime": {
     "end_time": "2019-11-01T16:33:34.162689Z",
     "start_time": "2019-11-01T16:33:30.167149Z"
    }
   },
   "outputs": [],
   "source": [
    "RF.fit(X_train, y_train)"
   ]
  },
  {
   "cell_type": "code",
   "execution_count": null,
   "metadata": {
    "ExecuteTime": {
     "end_time": "2019-11-01T16:35:56.026741Z",
     "start_time": "2019-11-01T16:35:55.890828Z"
    }
   },
   "outputs": [],
   "source": [
    "final_predictions = RF.predict(X_test)"
   ]
  },
  {
   "cell_type": "code",
   "execution_count": null,
   "metadata": {
    "ExecuteTime": {
     "end_time": "2019-11-01T20:22:45.772142Z",
     "start_time": "2019-11-01T20:22:45.754157Z"
    }
   },
   "outputs": [],
   "source": [
    "pred_df = pd.DataFrame({'log_price': final_predictions})\n",
    "\n",
    "pred_df['price'] = pred_df['log_price'].apply(lambda x: 2.71828**x)\n",
    "\n",
    "pred_df.head()"
   ]
  },
  {
   "cell_type": "markdown",
   "metadata": {},
   "source": [
    "-----------------------------------------------------End-----------------------------------------------------"
   ]
  }
 ],
 "metadata": {
  "kernelspec": {
   "display_name": "Python 3",
   "language": "python",
   "name": "python3"
  },
  "language_info": {
   "codemirror_mode": {
    "name": "ipython",
    "version": 3
   },
   "file_extension": ".py",
   "mimetype": "text/x-python",
   "name": "python",
   "nbconvert_exporter": "python",
   "pygments_lexer": "ipython3",
   "version": "3.8.5"
  },
  "latex_envs": {
   "LaTeX_envs_menu_present": true,
   "autoclose": false,
   "autocomplete": true,
   "bibliofile": "biblio.bib",
   "cite_by": "apalike",
   "current_citInitial": 1,
   "eqLabelWithNumbers": true,
   "eqNumInitial": 1,
   "hotkeys": {
    "equation": "Ctrl-E",
    "itemize": "Ctrl-I"
   },
   "labels_anchors": false,
   "latex_user_defs": false,
   "report_style_numbering": false,
   "user_envs_cfg": false
  },
  "toc": {
   "base_numbering": 1,
   "nav_menu": {},
   "number_sections": true,
   "sideBar": true,
   "skip_h1_title": false,
   "title_cell": "Table of Contents",
   "title_sidebar": "Contents",
   "toc_cell": false,
   "toc_position": {
    "height": "calc(100% - 180px)",
    "left": "10px",
    "top": "150px",
    "width": "313px"
   },
   "toc_section_display": true,
   "toc_window_display": false
  }
 },
 "nbformat": 4,
 "nbformat_minor": 2
}
